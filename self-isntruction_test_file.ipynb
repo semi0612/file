{
 "cells": [
  {
   "cell_type": "code",
   "execution_count": 1,
   "id": "2204562b-0324-4722-bbf4-9fca340b3164",
   "metadata": {
    "scrolled": true
   },
   "outputs": [
    {
     "name": "stdout",
     "output_type": "stream",
     "text": [
      "Collecting PyPDF2\n",
      "  Downloading pypdf2-3.0.1-py3-none-any.whl (232 kB)\n",
      "\u001b[2K     \u001b[90m━━━━━━━━━━━━━━━━━━━━━━━━━━━━━━━━━━━━━━━\u001b[0m \u001b[32m232.6/232.6 kB\u001b[0m \u001b[31m7.2 MB/s\u001b[0m eta \u001b[36m0:00:00\u001b[0m\n",
      "\u001b[?25hInstalling collected packages: PyPDF2\n",
      "Successfully installed PyPDF2-3.0.1\n",
      "\u001b[33mWARNING: Running pip as the 'root' user can result in broken permissions and conflicting behaviour with the system package manager. It is recommended to use a virtual environment instead: https://pip.pypa.io/warnings/venv\u001b[0m\u001b[33m\n",
      "\u001b[0m\n",
      "\u001b[1m[\u001b[0m\u001b[34;49mnotice\u001b[0m\u001b[1;39;49m]\u001b[0m\u001b[39;49m A new release of pip is available: \u001b[0m\u001b[31;49m23.3.1\u001b[0m\u001b[39;49m -> \u001b[0m\u001b[32;49m23.3.2\u001b[0m\n",
      "\u001b[1m[\u001b[0m\u001b[34;49mnotice\u001b[0m\u001b[1;39;49m]\u001b[0m\u001b[39;49m To update, run: \u001b[0m\u001b[32;49mpython -m pip install --upgrade pip\u001b[0m\n",
      "Collecting tqdm\n",
      "  Downloading tqdm-4.66.1-py3-none-any.whl.metadata (57 kB)\n",
      "\u001b[2K     \u001b[90m━━━━━━━━━━━━━━━━━━━━━━━━━━━━━━━━━━━━━━━━\u001b[0m \u001b[32m57.6/57.6 kB\u001b[0m \u001b[31m3.5 MB/s\u001b[0m eta \u001b[36m0:00:00\u001b[0m\n",
      "\u001b[?25hDownloading tqdm-4.66.1-py3-none-any.whl (78 kB)\n",
      "\u001b[2K   \u001b[90m━━━━━━━━━━━━━━━━━━━━━━━━━━━━━━━━━━━━━━━━\u001b[0m \u001b[32m78.3/78.3 kB\u001b[0m \u001b[31m6.4 MB/s\u001b[0m eta \u001b[36m0:00:00\u001b[0m\n",
      "\u001b[?25hInstalling collected packages: tqdm\n",
      "Successfully installed tqdm-4.66.1\n",
      "\u001b[33mWARNING: Running pip as the 'root' user can result in broken permissions and conflicting behaviour with the system package manager. It is recommended to use a virtual environment instead: https://pip.pypa.io/warnings/venv\u001b[0m\u001b[33m\n",
      "\u001b[0m\n",
      "\u001b[1m[\u001b[0m\u001b[34;49mnotice\u001b[0m\u001b[1;39;49m]\u001b[0m\u001b[39;49m A new release of pip is available: \u001b[0m\u001b[31;49m23.3.1\u001b[0m\u001b[39;49m -> \u001b[0m\u001b[32;49m23.3.2\u001b[0m\n",
      "\u001b[1m[\u001b[0m\u001b[34;49mnotice\u001b[0m\u001b[1;39;49m]\u001b[0m\u001b[39;49m To update, run: \u001b[0m\u001b[32;49mpython -m pip install --upgrade pip\u001b[0m\n",
      "Collecting sentence-transformers\n",
      "  Downloading sentence-transformers-2.2.2.tar.gz (85 kB)\n",
      "\u001b[2K     \u001b[90m━━━━━━━━━━━━━━━━━━━━━━━━━━━━━━━━━━━━━━━━\u001b[0m \u001b[32m86.0/86.0 kB\u001b[0m \u001b[31m4.9 MB/s\u001b[0m eta \u001b[36m0:00:00\u001b[0m\n",
      "\u001b[?25h  Preparing metadata (setup.py) ... \u001b[?25ldone\n",
      "\u001b[?25hCollecting transformers<5.0.0,>=4.6.0 (from sentence-transformers)\n",
      "  Downloading transformers-4.36.2-py3-none-any.whl.metadata (126 kB)\n",
      "\u001b[2K     \u001b[90m━━━━━━━━━━━━━━━━━━━━━━━━━━━━━━━━━━━━━━\u001b[0m \u001b[32m126.8/126.8 kB\u001b[0m \u001b[31m38.5 MB/s\u001b[0m eta \u001b[36m0:00:00\u001b[0m\n",
      "\u001b[?25hRequirement already satisfied: tqdm in /usr/local/lib/python3.10/dist-packages (from sentence-transformers) (4.66.1)\n",
      "Requirement already satisfied: torch>=1.6.0 in /usr/local/lib/python3.10/dist-packages (from sentence-transformers) (2.1.0+cu118)\n",
      "Requirement already satisfied: torchvision in /usr/local/lib/python3.10/dist-packages (from sentence-transformers) (0.16.0+cu118)\n",
      "Requirement already satisfied: numpy in /usr/local/lib/python3.10/dist-packages (from sentence-transformers) (1.24.1)\n",
      "Collecting scikit-learn (from sentence-transformers)\n",
      "  Downloading scikit_learn-1.4.0-1-cp310-cp310-manylinux_2_17_x86_64.manylinux2014_x86_64.whl.metadata (11 kB)\n",
      "Collecting scipy (from sentence-transformers)\n",
      "  Downloading scipy-1.11.4-cp310-cp310-manylinux_2_17_x86_64.manylinux2014_x86_64.whl.metadata (60 kB)\n",
      "\u001b[2K     \u001b[90m━━━━━━━━━━━━━━━━━━━━━━━━━━━━━━━━━━━━━━━━\u001b[0m \u001b[32m60.4/60.4 kB\u001b[0m \u001b[31m26.9 MB/s\u001b[0m eta \u001b[36m0:00:00\u001b[0m\n",
      "\u001b[?25hCollecting nltk (from sentence-transformers)\n",
      "  Downloading nltk-3.8.1-py3-none-any.whl (1.5 MB)\n",
      "\u001b[2K     \u001b[90m━━━━━━━━━━━━━━━━━━━━━━━━━━━━━━━━━━━━━━━━\u001b[0m \u001b[32m1.5/1.5 MB\u001b[0m \u001b[31m121.4 MB/s\u001b[0m eta \u001b[36m0:00:00\u001b[0m\n",
      "\u001b[?25hCollecting sentencepiece (from sentence-transformers)\n",
      "  Downloading sentencepiece-0.1.99-cp310-cp310-manylinux_2_17_x86_64.manylinux2014_x86_64.whl (1.3 MB)\n",
      "\u001b[2K     \u001b[90m━━━━━━━━━━━━━━━━━━━━━━━━━━━━━━━━━━━━━━━━\u001b[0m \u001b[32m1.3/1.3 MB\u001b[0m \u001b[31m142.1 MB/s\u001b[0m eta \u001b[36m0:00:00\u001b[0m\n",
      "\u001b[?25hCollecting huggingface-hub>=0.4.0 (from sentence-transformers)\n",
      "  Downloading huggingface_hub-0.20.2-py3-none-any.whl.metadata (12 kB)\n",
      "Requirement already satisfied: filelock in /usr/local/lib/python3.10/dist-packages (from huggingface-hub>=0.4.0->sentence-transformers) (3.9.0)\n",
      "Collecting fsspec>=2023.5.0 (from huggingface-hub>=0.4.0->sentence-transformers)\n",
      "  Downloading fsspec-2023.12.2-py3-none-any.whl.metadata (6.8 kB)\n",
      "Requirement already satisfied: requests in /usr/local/lib/python3.10/dist-packages (from huggingface-hub>=0.4.0->sentence-transformers) (2.31.0)\n",
      "Requirement already satisfied: pyyaml>=5.1 in /usr/local/lib/python3.10/dist-packages (from huggingface-hub>=0.4.0->sentence-transformers) (6.0.1)\n",
      "Requirement already satisfied: typing-extensions>=3.7.4.3 in /usr/local/lib/python3.10/dist-packages (from huggingface-hub>=0.4.0->sentence-transformers) (4.4.0)\n",
      "Requirement already satisfied: packaging>=20.9 in /usr/local/lib/python3.10/dist-packages (from huggingface-hub>=0.4.0->sentence-transformers) (23.2)\n",
      "Requirement already satisfied: sympy in /usr/local/lib/python3.10/dist-packages (from torch>=1.6.0->sentence-transformers) (1.12)\n",
      "Requirement already satisfied: networkx in /usr/local/lib/python3.10/dist-packages (from torch>=1.6.0->sentence-transformers) (3.0)\n",
      "Requirement already satisfied: jinja2 in /usr/local/lib/python3.10/dist-packages (from torch>=1.6.0->sentence-transformers) (3.1.2)\n",
      "Requirement already satisfied: triton==2.1.0 in /usr/local/lib/python3.10/dist-packages (from torch>=1.6.0->sentence-transformers) (2.1.0)\n",
      "Collecting regex!=2019.12.17 (from transformers<5.0.0,>=4.6.0->sentence-transformers)\n",
      "  Downloading regex-2023.12.25-cp310-cp310-manylinux_2_17_x86_64.manylinux2014_x86_64.whl.metadata (40 kB)\n",
      "\u001b[2K     \u001b[90m━━━━━━━━━━━━━━━━━━━━━━━━━━━━━━━━━━━━━━━━\u001b[0m \u001b[32m40.9/40.9 kB\u001b[0m \u001b[31m10.2 MB/s\u001b[0m eta \u001b[36m0:00:00\u001b[0m\n",
      "\u001b[?25hCollecting tokenizers<0.19,>=0.14 (from transformers<5.0.0,>=4.6.0->sentence-transformers)\n",
      "  Downloading tokenizers-0.15.0-cp310-cp310-manylinux_2_17_x86_64.manylinux2014_x86_64.whl.metadata (6.7 kB)\n",
      "Collecting safetensors>=0.3.1 (from transformers<5.0.0,>=4.6.0->sentence-transformers)\n",
      "  Downloading safetensors-0.4.1-cp310-cp310-manylinux_2_17_x86_64.manylinux2014_x86_64.whl.metadata (3.8 kB)\n",
      "Collecting click (from nltk->sentence-transformers)\n",
      "  Downloading click-8.1.7-py3-none-any.whl.metadata (3.0 kB)\n",
      "Collecting joblib (from nltk->sentence-transformers)\n",
      "  Downloading joblib-1.3.2-py3-none-any.whl.metadata (5.4 kB)\n",
      "Collecting threadpoolctl>=2.0.0 (from scikit-learn->sentence-transformers)\n",
      "  Downloading threadpoolctl-3.2.0-py3-none-any.whl.metadata (10.0 kB)\n",
      "Requirement already satisfied: pillow!=8.3.*,>=5.3.0 in /usr/local/lib/python3.10/dist-packages (from torchvision->sentence-transformers) (9.3.0)\n",
      "Requirement already satisfied: MarkupSafe>=2.0 in /usr/local/lib/python3.10/dist-packages (from jinja2->torch>=1.6.0->sentence-transformers) (2.1.2)\n",
      "Requirement already satisfied: charset-normalizer<4,>=2 in /usr/local/lib/python3.10/dist-packages (from requests->huggingface-hub>=0.4.0->sentence-transformers) (2.1.1)\n",
      "Requirement already satisfied: idna<4,>=2.5 in /usr/local/lib/python3.10/dist-packages (from requests->huggingface-hub>=0.4.0->sentence-transformers) (3.4)\n",
      "Requirement already satisfied: urllib3<3,>=1.21.1 in /usr/local/lib/python3.10/dist-packages (from requests->huggingface-hub>=0.4.0->sentence-transformers) (1.26.13)\n",
      "Requirement already satisfied: certifi>=2017.4.17 in /usr/local/lib/python3.10/dist-packages (from requests->huggingface-hub>=0.4.0->sentence-transformers) (2022.12.7)\n",
      "Requirement already satisfied: mpmath>=0.19 in /usr/local/lib/python3.10/dist-packages (from sympy->torch>=1.6.0->sentence-transformers) (1.3.0)\n",
      "Downloading huggingface_hub-0.20.2-py3-none-any.whl (330 kB)\n",
      "\u001b[2K   \u001b[90m━━━━━━━━━━━━━━━━━━━━━━━━━━━━━━━━━━━━━━━━\u001b[0m \u001b[32m330.3/330.3 kB\u001b[0m \u001b[31m69.6 MB/s\u001b[0m eta \u001b[36m0:00:00\u001b[0m\n",
      "\u001b[?25hDownloading transformers-4.36.2-py3-none-any.whl (8.2 MB)\n",
      "\u001b[2K   \u001b[90m━━━━━━━━━━━━━━━━━━━━━━━━━━━━━━━━━━━━━━━━\u001b[0m \u001b[32m8.2/8.2 MB\u001b[0m \u001b[31m99.8 MB/s\u001b[0m eta \u001b[36m0:00:00\u001b[0m:00:01\u001b[0m0:01\u001b[0m\n",
      "\u001b[?25hDownloading scikit_learn-1.4.0-1-cp310-cp310-manylinux_2_17_x86_64.manylinux2014_x86_64.whl (12.1 MB)\n",
      "\u001b[2K   \u001b[90m━━━━━━━━━━━━━━━━━━━━━━━━━━━━━━━━━━━━━━━━\u001b[0m \u001b[32m12.1/12.1 MB\u001b[0m \u001b[31m125.4 MB/s\u001b[0m eta \u001b[36m0:00:00\u001b[0ma \u001b[36m0:00:01\u001b[0m\n",
      "\u001b[?25hDownloading scipy-1.11.4-cp310-cp310-manylinux_2_17_x86_64.manylinux2014_x86_64.whl (36.4 MB)\n",
      "\u001b[2K   \u001b[90m━━━━━━━━━━━━━━━━━━━━━━━━━━━━━━━━━━━━━━━━\u001b[0m \u001b[32m36.4/36.4 MB\u001b[0m \u001b[31m99.7 MB/s\u001b[0m eta \u001b[36m0:00:00\u001b[0m:00:01\u001b[0m00:01\u001b[0m\n",
      "\u001b[?25hDownloading fsspec-2023.12.2-py3-none-any.whl (168 kB)\n",
      "\u001b[2K   \u001b[90m━━━━━━━━━━━━━━━━━━━━━━━━━━━━━━━━━━━━━━━━\u001b[0m \u001b[32m169.0/169.0 kB\u001b[0m \u001b[31m65.3 MB/s\u001b[0m eta \u001b[36m0:00:00\u001b[0m\n",
      "\u001b[?25hDownloading joblib-1.3.2-py3-none-any.whl (302 kB)\n",
      "\u001b[2K   \u001b[90m━━━━━━━━━━━━━━━━━━━━━━━━━━━━━━━━━━━━━━━━\u001b[0m \u001b[32m302.2/302.2 kB\u001b[0m \u001b[31m96.5 MB/s\u001b[0m eta \u001b[36m0:00:00\u001b[0m\n",
      "\u001b[?25hDownloading regex-2023.12.25-cp310-cp310-manylinux_2_17_x86_64.manylinux2014_x86_64.whl (773 kB)\n",
      "\u001b[2K   \u001b[90m━━━━━━━━━━━━━━━━━━━━━━━━━━━━━━━━━━━━━━━\u001b[0m \u001b[32m774.0/774.0 kB\u001b[0m \u001b[31m142.8 MB/s\u001b[0m eta \u001b[36m0:00:00\u001b[0m\n",
      "\u001b[?25hDownloading safetensors-0.4.1-cp310-cp310-manylinux_2_17_x86_64.manylinux2014_x86_64.whl (1.3 MB)\n",
      "\u001b[2K   \u001b[90m━━━━━━━━━━━━━━━━━━━━━━━━━━━━━━━━━━━━━━━━\u001b[0m \u001b[32m1.3/1.3 MB\u001b[0m \u001b[31m153.3 MB/s\u001b[0m eta \u001b[36m0:00:00\u001b[0m\n",
      "\u001b[?25hDownloading threadpoolctl-3.2.0-py3-none-any.whl (15 kB)\n",
      "Downloading tokenizers-0.15.0-cp310-cp310-manylinux_2_17_x86_64.manylinux2014_x86_64.whl (3.8 MB)\n",
      "\u001b[2K   \u001b[90m━━━━━━━━━━━━━━━━━━━━━━━━━━━━━━━━━━━━━━━━\u001b[0m \u001b[32m3.8/3.8 MB\u001b[0m \u001b[31m130.2 MB/s\u001b[0m eta \u001b[36m0:00:00\u001b[0m\n",
      "\u001b[?25hDownloading click-8.1.7-py3-none-any.whl (97 kB)\n",
      "\u001b[2K   \u001b[90m━━━━━━━━━━━━━━━━━━━━━━━━━━━━━━━━━━━━━━━━\u001b[0m \u001b[32m97.9/97.9 kB\u001b[0m \u001b[31m45.8 MB/s\u001b[0m eta \u001b[36m0:00:00\u001b[0m\n",
      "\u001b[?25hBuilding wheels for collected packages: sentence-transformers\n",
      "  Building wheel for sentence-transformers (setup.py) ... \u001b[?25ldone\n",
      "\u001b[?25h  Created wheel for sentence-transformers: filename=sentence_transformers-2.2.2-py3-none-any.whl size=125923 sha256=c32385670f5bdc8b8aad2a7b0b92241894e130be0dedc0fd10ef2586bfe3282f\n",
      "  Stored in directory: /root/.cache/pip/wheels/62/f2/10/1e606fd5f02395388f74e7462910fe851042f97238cbbd902f\n",
      "Successfully built sentence-transformers\n",
      "Installing collected packages: sentencepiece, threadpoolctl, scipy, safetensors, regex, joblib, fsspec, click, scikit-learn, nltk, huggingface-hub, tokenizers, transformers, sentence-transformers\n",
      "  Attempting uninstall: fsspec\n",
      "    Found existing installation: fsspec 2023.4.0\n",
      "    Uninstalling fsspec-2023.4.0:\n",
      "      Successfully uninstalled fsspec-2023.4.0\n",
      "Successfully installed click-8.1.7 fsspec-2023.12.2 huggingface-hub-0.20.2 joblib-1.3.2 nltk-3.8.1 regex-2023.12.25 safetensors-0.4.1 scikit-learn-1.4.0 scipy-1.11.4 sentence-transformers-2.2.2 sentencepiece-0.1.99 threadpoolctl-3.2.0 tokenizers-0.15.0 transformers-4.36.2\n",
      "\u001b[33mWARNING: Running pip as the 'root' user can result in broken permissions and conflicting behaviour with the system package manager. It is recommended to use a virtual environment instead: https://pip.pypa.io/warnings/venv\u001b[0m\u001b[33m\n",
      "\u001b[0m\n",
      "\u001b[1m[\u001b[0m\u001b[34;49mnotice\u001b[0m\u001b[1;39;49m]\u001b[0m\u001b[39;49m A new release of pip is available: \u001b[0m\u001b[31;49m23.3.1\u001b[0m\u001b[39;49m -> \u001b[0m\u001b[32;49m23.3.2\u001b[0m\n",
      "\u001b[1m[\u001b[0m\u001b[34;49mnotice\u001b[0m\u001b[1;39;49m]\u001b[0m\u001b[39;49m To update, run: \u001b[0m\u001b[32;49mpython -m pip install --upgrade pip\u001b[0m\n",
      "Collecting protobuf==3.20\n",
      "  Downloading protobuf-3.20.0-cp310-cp310-manylinux_2_12_x86_64.manylinux2010_x86_64.whl (1.1 MB)\n",
      "\u001b[2K     \u001b[90m━━━━━━━━━━━━━━━━━━━━━━━━━━━━━━━━━━━━━━━━\u001b[0m \u001b[32m1.1/1.1 MB\u001b[0m \u001b[31m11.6 MB/s\u001b[0m eta \u001b[36m0:00:00\u001b[0ma \u001b[36m0:00:01\u001b[0m\n",
      "\u001b[?25hInstalling collected packages: protobuf\n",
      "Successfully installed protobuf-3.20.0\n",
      "\u001b[33mWARNING: Running pip as the 'root' user can result in broken permissions and conflicting behaviour with the system package manager. It is recommended to use a virtual environment instead: https://pip.pypa.io/warnings/venv\u001b[0m\u001b[33m\n",
      "\u001b[0m\n",
      "\u001b[1m[\u001b[0m\u001b[34;49mnotice\u001b[0m\u001b[1;39;49m]\u001b[0m\u001b[39;49m A new release of pip is available: \u001b[0m\u001b[31;49m23.3.1\u001b[0m\u001b[39;49m -> \u001b[0m\u001b[32;49m23.3.2\u001b[0m\n",
      "\u001b[1m[\u001b[0m\u001b[34;49mnotice\u001b[0m\u001b[1;39;49m]\u001b[0m\u001b[39;49m To update, run: \u001b[0m\u001b[32;49mpython -m pip install --upgrade pip\u001b[0m\n",
      "Collecting bitsandbytes\n",
      "  Downloading bitsandbytes-0.42.0-py3-none-any.whl.metadata (9.9 kB)\n",
      "Requirement already satisfied: scipy in /usr/local/lib/python3.10/dist-packages (from bitsandbytes) (1.11.4)\n",
      "Requirement already satisfied: numpy<1.28.0,>=1.21.6 in /usr/local/lib/python3.10/dist-packages (from scipy->bitsandbytes) (1.24.1)\n",
      "Downloading bitsandbytes-0.42.0-py3-none-any.whl (105.0 MB)\n",
      "\u001b[2K   \u001b[90m━━━━━━━━━━━━━━━━━━━━━━━━━━━━━━━━━━━━━━━━\u001b[0m \u001b[32m105.0/105.0 MB\u001b[0m \u001b[31m59.7 MB/s\u001b[0m eta \u001b[36m0:00:00\u001b[0m00:01\u001b[0m00:01\u001b[0m\n",
      "\u001b[?25hInstalling collected packages: bitsandbytes\n",
      "Successfully installed bitsandbytes-0.42.0\n",
      "\u001b[33mWARNING: Running pip as the 'root' user can result in broken permissions and conflicting behaviour with the system package manager. It is recommended to use a virtual environment instead: https://pip.pypa.io/warnings/venv\u001b[0m\u001b[33m\n",
      "\u001b[0m\n",
      "\u001b[1m[\u001b[0m\u001b[34;49mnotice\u001b[0m\u001b[1;39;49m]\u001b[0m\u001b[39;49m A new release of pip is available: \u001b[0m\u001b[31;49m23.3.1\u001b[0m\u001b[39;49m -> \u001b[0m\u001b[32;49m23.3.2\u001b[0m\n",
      "\u001b[1m[\u001b[0m\u001b[34;49mnotice\u001b[0m\u001b[1;39;49m]\u001b[0m\u001b[39;49m To update, run: \u001b[0m\u001b[32;49mpython -m pip install --upgrade pip\u001b[0m\n",
      "++++++++++++++++++++++++++++++++++++++++++++++++++++++++++++\n",
      "++++++++++++++++++ BUG REPORT INFORMATION ++++++++++++++++++\n",
      "++++++++++++++++++++++++++++++++++++++++++++++++++++++++++++\n",
      "\n",
      "++++++++++++++++++ /usr/local CUDA PATHS +++++++++++++++++++\n",
      "/usr/local/lib/python3.10/dist-packages/bitsandbytes/libbitsandbytes_cuda110.so\n",
      "/usr/local/lib/python3.10/dist-packages/bitsandbytes/libbitsandbytes_cuda110_nocublaslt.so\n",
      "/usr/local/lib/python3.10/dist-packages/bitsandbytes/libbitsandbytes_cuda111.so\n",
      "/usr/local/lib/python3.10/dist-packages/bitsandbytes/libbitsandbytes_cuda111_nocublaslt.so\n",
      "/usr/local/lib/python3.10/dist-packages/bitsandbytes/libbitsandbytes_cuda114.so\n",
      "/usr/local/lib/python3.10/dist-packages/bitsandbytes/libbitsandbytes_cuda114_nocublaslt.so\n",
      "/usr/local/lib/python3.10/dist-packages/bitsandbytes/libbitsandbytes_cuda115.so\n",
      "/usr/local/lib/python3.10/dist-packages/bitsandbytes/libbitsandbytes_cuda115_nocublaslt.so\n",
      "/usr/local/lib/python3.10/dist-packages/bitsandbytes/libbitsandbytes_cuda117.so\n",
      "/usr/local/lib/python3.10/dist-packages/bitsandbytes/libbitsandbytes_cuda117_nocublaslt.so\n",
      "/usr/local/lib/python3.10/dist-packages/bitsandbytes/libbitsandbytes_cuda118.so\n",
      "/usr/local/lib/python3.10/dist-packages/bitsandbytes/libbitsandbytes_cuda118_nocublaslt.so\n",
      "/usr/local/lib/python3.10/dist-packages/bitsandbytes/libbitsandbytes_cuda120.so\n",
      "/usr/local/lib/python3.10/dist-packages/bitsandbytes/libbitsandbytes_cuda120_nocublaslt.so\n",
      "/usr/local/lib/python3.10/dist-packages/bitsandbytes/libbitsandbytes_cuda121.so\n",
      "/usr/local/lib/python3.10/dist-packages/bitsandbytes/libbitsandbytes_cuda121_nocublaslt.so\n",
      "/usr/local/lib/python3.10/dist-packages/bitsandbytes/libbitsandbytes_cuda122.so\n",
      "/usr/local/lib/python3.10/dist-packages/bitsandbytes/libbitsandbytes_cuda122_nocublaslt.so\n",
      "/usr/local/lib/python3.10/dist-packages/bitsandbytes/libbitsandbytes_cuda123.so\n",
      "/usr/local/lib/python3.10/dist-packages/bitsandbytes/libbitsandbytes_cuda123_nocublaslt.so\n",
      "/usr/local/lib/python3.10/dist-packages/torch/lib/libc10_cuda.so\n",
      "/usr/local/lib/python3.10/dist-packages/torch/lib/libtorch_cuda.so\n",
      "/usr/local/lib/python3.10/dist-packages/torch/lib/libtorch_cuda_linalg.so\n",
      "/usr/local/cuda-11.8/compat/libcuda.so\n",
      "/usr/local/cuda-11.8/targets/x86_64-linux/lib/libcudart.so\n",
      "/usr/local/cuda-11.8/targets/x86_64-linux/lib/stubs/libcuda.so\n",
      "\n",
      "+++++++++++++++ WORKING DIRECTORY CUDA PATHS +++++++++++++++\n",
      "\n",
      "\n",
      "++++++++++++++++++ LD_LIBRARY CUDA PATHS +++++++++++++++++++\n",
      "\n",
      "++++++++++++++++++++++++++ OTHER +++++++++++++++++++++++++++\n",
      "COMPILED_WITH_CUDA = True\n",
      "COMPUTE_CAPABILITIES_PER_GPU = ['8.0']\n",
      "++++++++++++++++++++++++++++++++++++++++++++++++++++++++++++\n",
      "++++++++++++++++++++++ DEBUG INFO END ++++++++++++++++++++++\n",
      "++++++++++++++++++++++++++++++++++++++++++++++++++++++++++++\n",
      "\n",
      "Running a quick check that:\n",
      "    + library is importable\n",
      "    + CUDA function is callable\n",
      "\n",
      "\n",
      "WARNING: Please be sure to sanitize sensible info from any such env vars!\n",
      "\n",
      "SUCCESS!\n",
      "Installation was successful!\n",
      "Collecting accelerate\n",
      "  Downloading accelerate-0.26.1-py3-none-any.whl.metadata (18 kB)\n",
      "Requirement already satisfied: numpy>=1.17 in /usr/local/lib/python3.10/dist-packages (from accelerate) (1.24.1)\n",
      "Requirement already satisfied: packaging>=20.0 in /usr/local/lib/python3.10/dist-packages (from accelerate) (23.2)\n",
      "Requirement already satisfied: psutil in /usr/local/lib/python3.10/dist-packages (from accelerate) (5.9.6)\n",
      "Requirement already satisfied: pyyaml in /usr/local/lib/python3.10/dist-packages (from accelerate) (6.0.1)\n",
      "Requirement already satisfied: torch>=1.10.0 in /usr/local/lib/python3.10/dist-packages (from accelerate) (2.1.0+cu118)\n",
      "Requirement already satisfied: huggingface-hub in /usr/local/lib/python3.10/dist-packages (from accelerate) (0.20.2)\n",
      "Requirement already satisfied: safetensors>=0.3.1 in /usr/local/lib/python3.10/dist-packages (from accelerate) (0.4.1)\n",
      "Requirement already satisfied: filelock in /usr/local/lib/python3.10/dist-packages (from torch>=1.10.0->accelerate) (3.9.0)\n",
      "Requirement already satisfied: typing-extensions in /usr/local/lib/python3.10/dist-packages (from torch>=1.10.0->accelerate) (4.4.0)\n",
      "Requirement already satisfied: sympy in /usr/local/lib/python3.10/dist-packages (from torch>=1.10.0->accelerate) (1.12)\n",
      "Requirement already satisfied: networkx in /usr/local/lib/python3.10/dist-packages (from torch>=1.10.0->accelerate) (3.0)\n",
      "Requirement already satisfied: jinja2 in /usr/local/lib/python3.10/dist-packages (from torch>=1.10.0->accelerate) (3.1.2)\n",
      "Requirement already satisfied: fsspec in /usr/local/lib/python3.10/dist-packages (from torch>=1.10.0->accelerate) (2023.12.2)\n",
      "Requirement already satisfied: triton==2.1.0 in /usr/local/lib/python3.10/dist-packages (from torch>=1.10.0->accelerate) (2.1.0)\n",
      "Requirement already satisfied: requests in /usr/local/lib/python3.10/dist-packages (from huggingface-hub->accelerate) (2.31.0)\n",
      "Requirement already satisfied: tqdm>=4.42.1 in /usr/local/lib/python3.10/dist-packages (from huggingface-hub->accelerate) (4.66.1)\n",
      "Requirement already satisfied: MarkupSafe>=2.0 in /usr/local/lib/python3.10/dist-packages (from jinja2->torch>=1.10.0->accelerate) (2.1.2)\n",
      "Requirement already satisfied: charset-normalizer<4,>=2 in /usr/local/lib/python3.10/dist-packages (from requests->huggingface-hub->accelerate) (2.1.1)\n",
      "Requirement already satisfied: idna<4,>=2.5 in /usr/local/lib/python3.10/dist-packages (from requests->huggingface-hub->accelerate) (3.4)\n",
      "Requirement already satisfied: urllib3<3,>=1.21.1 in /usr/local/lib/python3.10/dist-packages (from requests->huggingface-hub->accelerate) (1.26.13)\n",
      "Requirement already satisfied: certifi>=2017.4.17 in /usr/local/lib/python3.10/dist-packages (from requests->huggingface-hub->accelerate) (2022.12.7)\n",
      "Requirement already satisfied: mpmath>=0.19 in /usr/local/lib/python3.10/dist-packages (from sympy->torch>=1.10.0->accelerate) (1.3.0)\n",
      "Downloading accelerate-0.26.1-py3-none-any.whl (270 kB)\n",
      "\u001b[2K   \u001b[90m━━━━━━━━━━━━━━━━━━━━━━━━━━━━━━━━━━━━━━━━\u001b[0m \u001b[32m270.9/270.9 kB\u001b[0m \u001b[31m6.7 MB/s\u001b[0m eta \u001b[36m0:00:00\u001b[0ma \u001b[36m0:00:01\u001b[0m\n",
      "\u001b[?25hInstalling collected packages: accelerate\n",
      "Successfully installed accelerate-0.26.1\n",
      "\u001b[33mWARNING: Running pip as the 'root' user can result in broken permissions and conflicting behaviour with the system package manager. It is recommended to use a virtual environment instead: https://pip.pypa.io/warnings/venv\u001b[0m\u001b[33m\n",
      "\u001b[0m\n",
      "\u001b[1m[\u001b[0m\u001b[34;49mnotice\u001b[0m\u001b[1;39;49m]\u001b[0m\u001b[39;49m A new release of pip is available: \u001b[0m\u001b[31;49m23.3.1\u001b[0m\u001b[39;49m -> \u001b[0m\u001b[32;49m23.3.2\u001b[0m\n",
      "\u001b[1m[\u001b[0m\u001b[34;49mnotice\u001b[0m\u001b[1;39;49m]\u001b[0m\u001b[39;49m To update, run: \u001b[0m\u001b[32;49mpython -m pip install --upgrade pip\u001b[0m\n"
     ]
    }
   ],
   "source": [
    "!pip install PyPDF2\n",
    "!pip install tqdm\n",
    "!pip install -U sentence-transformers\n",
    "\n",
    "!pip install protobuf==3.20\n",
    "!pip install bitsandbytes\n",
    "!python -m bitsandbytes\n",
    "\n",
    "!pip install accelerate"
   ]
  },
  {
   "cell_type": "code",
   "execution_count": 2,
   "id": "b2cce650-2a9a-4034-bb2f-b47438c61c39",
   "metadata": {},
   "outputs": [
    {
     "data": {
      "application/vnd.jupyter.widget-view+json": {
       "model_id": "ff33bd80c23a4ddfab9776992dc0b935",
       "version_major": 2,
       "version_minor": 0
      },
      "text/plain": [
       "tokenizer_config.json:   0%|          | 0.00/1.67k [00:00<?, ?B/s]"
      ]
     },
     "metadata": {},
     "output_type": "display_data"
    },
    {
     "data": {
      "application/vnd.jupyter.widget-view+json": {
       "model_id": "ac3b7af328f24d46b8b4b79b7f949a36",
       "version_major": 2,
       "version_minor": 0
      },
      "text/plain": [
       "tokenizer.model:   0%|          | 0.00/493k [00:00<?, ?B/s]"
      ]
     },
     "metadata": {},
     "output_type": "display_data"
    },
    {
     "data": {
      "application/vnd.jupyter.widget-view+json": {
       "model_id": "b8907cdb9eb94b89aa6447e5a33ee246",
       "version_major": 2,
       "version_minor": 0
      },
      "text/plain": [
       "added_tokens.json:   0%|          | 0.00/42.0 [00:00<?, ?B/s]"
      ]
     },
     "metadata": {},
     "output_type": "display_data"
    },
    {
     "data": {
      "application/vnd.jupyter.widget-view+json": {
       "model_id": "610e29e264c340669a602d4476a32fac",
       "version_major": 2,
       "version_minor": 0
      },
      "text/plain": [
       "special_tokens_map.json:   0%|          | 0.00/168 [00:00<?, ?B/s]"
      ]
     },
     "metadata": {},
     "output_type": "display_data"
    },
    {
     "data": {
      "application/vnd.jupyter.widget-view+json": {
       "model_id": "135fe1f7cf154ae48f0f36dcacc02438",
       "version_major": 2,
       "version_minor": 0
      },
      "text/plain": [
       "config.json:   0%|          | 0.00/624 [00:00<?, ?B/s]"
      ]
     },
     "metadata": {},
     "output_type": "display_data"
    },
    {
     "data": {
      "application/vnd.jupyter.widget-view+json": {
       "model_id": "c3026dc61d184dfc9c7cda704b8dd13c",
       "version_major": 2,
       "version_minor": 0
      },
      "text/plain": [
       "pytorch_model.bin.index.json:   0%|          | 0.00/23.9k [00:00<?, ?B/s]"
      ]
     },
     "metadata": {},
     "output_type": "display_data"
    },
    {
     "data": {
      "application/vnd.jupyter.widget-view+json": {
       "model_id": "f9075d596cee49c0a5c07c155b3daf93",
       "version_major": 2,
       "version_minor": 0
      },
      "text/plain": [
       "Downloading shards:   0%|          | 0/2 [00:00<?, ?it/s]"
      ]
     },
     "metadata": {},
     "output_type": "display_data"
    },
    {
     "data": {
      "application/vnd.jupyter.widget-view+json": {
       "model_id": "63b187421f134675974d445232e45418",
       "version_major": 2,
       "version_minor": 0
      },
      "text/plain": [
       "pytorch_model-00001-of-00002.bin:   0%|          | 0.00/9.94G [00:00<?, ?B/s]"
      ]
     },
     "metadata": {},
     "output_type": "display_data"
    },
    {
     "data": {
      "application/vnd.jupyter.widget-view+json": {
       "model_id": "845a4fb621ed43829fa1c57d3fd10531",
       "version_major": 2,
       "version_minor": 0
      },
      "text/plain": [
       "pytorch_model-00002-of-00002.bin:   0%|          | 0.00/4.54G [00:00<?, ?B/s]"
      ]
     },
     "metadata": {},
     "output_type": "display_data"
    },
    {
     "data": {
      "application/vnd.jupyter.widget-view+json": {
       "model_id": "634f1e7b9d7c4e1dbe6f1c6cfcc94bed",
       "version_major": 2,
       "version_minor": 0
      },
      "text/plain": [
       "Loading checkpoint shards:   0%|          | 0/2 [00:00<?, ?it/s]"
      ]
     },
     "metadata": {},
     "output_type": "display_data"
    },
    {
     "data": {
      "application/vnd.jupyter.widget-view+json": {
       "model_id": "f5e216fbef604942a5d2cd0035706e0c",
       "version_major": 2,
       "version_minor": 0
      },
      "text/plain": [
       "generation_config.json:   0%|          | 0.00/111 [00:00<?, ?B/s]"
      ]
     },
     "metadata": {},
     "output_type": "display_data"
    },
    {
     "data": {
      "text/plain": [
       "MistralForCausalLM(\n",
       "  (model): MistralModel(\n",
       "    (embed_tokens): Embedding(32000, 4096)\n",
       "    (layers): ModuleList(\n",
       "      (0-31): 32 x MistralDecoderLayer(\n",
       "        (self_attn): MistralAttention(\n",
       "          (q_proj): Linear(in_features=4096, out_features=4096, bias=False)\n",
       "          (k_proj): Linear(in_features=4096, out_features=1024, bias=False)\n",
       "          (v_proj): Linear(in_features=4096, out_features=1024, bias=False)\n",
       "          (o_proj): Linear(in_features=4096, out_features=4096, bias=False)\n",
       "          (rotary_emb): MistralRotaryEmbedding()\n",
       "        )\n",
       "        (mlp): MistralMLP(\n",
       "          (gate_proj): Linear(in_features=4096, out_features=14336, bias=False)\n",
       "          (up_proj): Linear(in_features=4096, out_features=14336, bias=False)\n",
       "          (down_proj): Linear(in_features=14336, out_features=4096, bias=False)\n",
       "          (act_fn): SiLU()\n",
       "        )\n",
       "        (input_layernorm): MistralRMSNorm()\n",
       "        (post_attention_layernorm): MistralRMSNorm()\n",
       "      )\n",
       "    )\n",
       "    (norm): MistralRMSNorm()\n",
       "  )\n",
       "  (lm_head): Linear(in_features=4096, out_features=32000, bias=False)\n",
       ")"
      ]
     },
     "execution_count": 2,
     "metadata": {},
     "output_type": "execute_result"
    }
   ],
   "source": [
    "from transformers import AutoTokenizer, AutoModelForSeq2SeqLM, AutoModelForCausalLM\n",
    "\n",
    "path = \"davidkim205/komt-mistral-7b-v1\"\n",
    "tokenizer = AutoTokenizer.from_pretrained(path, device_map=\"auto\")\n",
    "model = AutoModelForCausalLM.from_pretrained(path, low_cpu_mem_usage=True, device_map=\"auto\")\n",
    "model.eval()"
   ]
  },
  {
   "cell_type": "code",
   "execution_count": null,
   "id": "3b1675ad-b991-4150-ab00-9f417e59dd0e",
   "metadata": {},
   "outputs": [],
   "source": []
  },
  {
   "cell_type": "code",
   "execution_count": null,
   "id": "252adc58-3fd2-4017-9e7b-f119cbb43a88",
   "metadata": {},
   "outputs": [],
   "source": []
  },
  {
   "cell_type": "code",
   "execution_count": null,
   "id": "31298f91-0e0f-4023-afec-d022b45d43e3",
   "metadata": {},
   "outputs": [],
   "source": []
  },
  {
   "cell_type": "code",
   "execution_count": null,
   "id": "c7152b25-4008-47f2-ac3e-403a79d8468b",
   "metadata": {},
   "outputs": [],
   "source": []
  },
  {
   "cell_type": "code",
   "execution_count": 54,
   "id": "72c2f753-7fc8-48d0-956e-e87b5ca42245",
   "metadata": {},
   "outputs": [],
   "source": [
    "system_prompt = \"\"\"\n",
    "RPACA 설치 가이드  1)RPACA 설치파일을 더블 클릭합니다. \\n 2)Install 버튼이 나오기전까지 계속해서 Next버튼을 클릭합니다. \\n 3)Install 버튼을 클릭합니다. \\n 4)설치가 다 진행 될때까지 기다린 후FInish 버튼을 눌러 바탕화면에 설치되었는지 확인합니다.\n",
    "RPACA 사용법  1)RPACA 파일을 저장 및 가져오기 할 폴더를 선택하여 클릭합니다.\\n2)해당 폴더 경로에 RPACA 파일이 존재한다면 Files 리스트에 나타납니다. \\n상단 부분에는 선택한 폴더 경로가 표시됩니다\\n3)저장버튼을 눌러 RPACA 스크립트 조작 준비를 마칩니다.4)Activities 를 클릭하면 업무자동화에 필요한 activity 리스트가 보입니다.\\n5)필요한 activity를 드래그 앤 드롭으로 가져와 정보를 입력하고 다음 \\n단계의 activity를 연결합니다. \\n6)필요한activity를 모두 연결하였으면 시작버튼을 눌러 업무자동화가 \\n진행되는지 확인합니다. (주모니터에서만 작동)\\n7)마지막으로 저장버튼을 눌러 현재까지 작업한 내용을 저장합니다.\n",
    "Activity 이름이 Image로 끝날 경우 이미지 캡쳐하는 방법  1)이름이 Image로 끝나는 Activity를 클릭하면 Option 옆에 사진기 \\n아이콘이 존재합니다. 해당아이콘을 클릭합니다. \\n2)아이콘을 클릭하면 알파카가 최소화 되면서 원하는 영역을 드래그 앤 \\n드롭으로 지정하면 해당 영역이 캡처됩니다. (예시 이미지에선 검색 \\n아이콘을 지정)\\n3)imagePath 부분에 이미지를 문자화 시킨 값이 들어가고, 옵션 \\n하단부에 캡처한 이미지가 나타나고 작업을 완료합니다.\n",
    "Activity 이름이 XPath로 끝날 경우 xpath 값 구하는 방법  1)크롬 브라우저에서 키보드의 F12 를 클릭합니다.\\n2)이미지에 표시 된 부분을 클릭합니다. 3)브라우저 내에서 xpath를 구하고자 하는 곳에 마우스를 올리면 \\n이미지와 같이 표시됩니다. \\n4)마우스로 클릭하게 되면 이미지와 같이 색으로 하이라이트 되어 \\n나타나게 됩니다. \\n5)하이라이트 된 부분에 마우스 오른쪽 클릭하고 Copy – Copy full \\nxpath를 클릭하면 xpath가 복사됩니다. \\n6)옵션에서xpath부분에 ctrl + v 를 눌러 붙여넣어 줍니다.\n",
    "Activities 기능 설명  openBrowser, openCMD, getURL, inputBrowserByXPath,  clickBrowserByXPath, inputBrowserByImage, clickBrowserByImage, clicks, hotkey, clickBrowserByImage, click, BrowserByImage, typingText,  switchingTap, scrollSearchByImage, trycatch, closeBrowser, if, getText, w\n",
    "openBrowser  크롬 브라우저를 오픈합니다.\\nOption\\npre_delay_time (숫자) : 기능을 수행하기 전의 대기시간을 정합니다.\\nafter_delay_time (숫자) : 기능을 수행하고 난 후의 대기시간을 정합니다.\n",
    "openCMD  명령 프롬프트를 실행합니다.\\nOption\\nadmin : true라고 입력 할 경우 관리자 권한으로 실행합니다. 그 외에는 일반 \\n권한으로 실행합니다.\\npre_delay_time (숫자) : 기능을 수행하기 전의 대기시간을 정합니다.\\nafter_delay_time (숫자) : 기능을 수행하고 난 후의 대기시간을 정합니다.\n",
    "getURL  브라우저 주소창에 주소를 입력합니다.\\nOption\\nurl : 주소창에 입력 할 주소입니다. (예시: www.infofla.com)\\npre_delay_time (숫자) : 기능을 수행하기 전의 대기시간을 정합니다.\\nafter_delay_time (숫자) : 기능을 수행하고 난 후의 대기시간을 정합니다.\n",
    "inputBrowserByXPath  브라우저 안에서 사용자가 내용을 입력 할 수 있는 부분(예시: 검색창)에 \\n값을 입력합니다.\\nOption\\nxpath : 브라우저 내의 xpath를 입력합니다. (매뉴얼 맨 처음 부분 참조)\\ninput : 입력하고 싶은 내용을 적습니다.\\npre_delay_time (숫자) : 기능을 수행하기 전의 대기시간을 정합니다.\\nafter_delay_time (숫자) : 기능을 수행하고 난 후의 대기시간을 정합니다.\n",
    "clickBrowserByXPath  브라우저 안의 특정 부분을 클릭합니다.Option\\nxpath : 브라우저 내의 xpath를 입력합니다. (매뉴얼 맨 처음 부분 참조)\\npre_delay_time (숫자) : 기능을 수행하기 전의 대기시간을 정합니다.\\nafter_delay_time (숫자) : 기능을 수행하고 난 후의 대기시간을 정합니다.\n",
    "inputBrowserByImage  브라우저 안에서 사용자가 내용을 입력 할 수 있는 부분(예시: 검색창)에 \\n값을 입력합니다.\\ninputBrowserByXPath와는 다르게 캡처한 이미지를 기준으로 브라우저 내의 \\n원하는 부분에 내용을 입력합니다.\\n이미지 캡처는 옵션쪽의 사진기 아이콘을 클릭하고 드래그 앤 드롭으로 \\n원하는 영역을 지정하면 가능합니다.\\nOption\\nimagePath : 사진기 아이콘을 클릭하고 이미지를 캡처하였을 때 해당 \\n이미지를 문자화 시킨 값이 자동으로 들어갑니다. (신경 안쓰셔도 됩니다.)\\ninput : 입력하고 싶은 내용을 적습니다.\\npre_delay_time (숫자) : 기능을 수행하기 전의 대기시간을 정합니다.\\nafter_delay_time (숫자) : 기능을 수행하고 난 후의 대기시간을 정합니다.\n",
    "clickBrowserByImage  브라우저 안의 특정 부분을 클릭합니다.\\nclickBrowserByXPath와는 다르게 캡처한 이미지를 기준으로 브라우저 내의 \\n원하는 부분을 클릭합니다.\\n이미지 캡처는 옵션쪽의 사진기 아이콘을 클릭하고 드래그 앤 드롭으로 \\n원하는 영역을 지정하면 가능합니다.\\nOption\\nimagePath : 사진기 아이콘을 클릭하고 이미지를 캡처하였을 때 해당 \\n이미지를 문자화 시킨 값이 자동으로 들어갑니다. (신경 안쓰셔도 됩니다.)\\nclicks (숫자) : 원하는 클릭 횟수를 입력합니다.\\ninterval (숫자) : 클릭 횟수 사이의 대기시간을 설정합니다. (예시: click이 \\n2이고 interval이 1이면 한번 클릭 한 뒤 1초 대기 후 다시 한번 \\n클릭합니다.)\\nbutton : 마우스의 왼쪽 버튼으로 클릭할 것인지 오른쪽 버튼으로 클릭할 \\n것인지 정합니다. (left 라고 적으면 왼쪽 클릭, right라고 적으면 오른쪽 클릭)\\npre_delay_time (숫자) : 기능을 수행하기 전의 대기시간을 정합니다.\\nafter_delay_time (숫자) : 기능을 수행하고 난 후의 대기시간을 정합니다.\n",
    "\n",
    "[INST]반드시 prompt 내용만을 사용하여 '질문-답변'을 5개 이상 만들어주세요.[/INST]\n",
    "\"\"\""
   ]
  },
  {
   "cell_type": "code",
   "execution_count": 55,
   "id": "f151567e-f335-4126-86a9-b5349867f667",
   "metadata": {},
   "outputs": [],
   "source": [
    "from transformers import TextStreamer, TextIteratorStreamer\n",
    "from threading import Thread\n",
    "\n",
    "\n",
    "# def stream(user_prompt, model, system_prompt):\n",
    "def stream(model, system_prompt):\n",
    "    runtimeFlag = \"cuda:0\"\n",
    "    system_prompt = f\"\"\"{system_prompt}\"\"\"\n",
    "    # B_INST, E_INST = \"[INST]\", \"[/INST]\"\n",
    "    # prompt = f\"{system_prompt}{B_INST}{user_prompt.strip()}\\n{E_INST}\"\n",
    "    prompt = f\"{system_prompt}\"\n",
    "    inputs = tokenizer([prompt], return_tensors=\"pt\").to(runtimeFlag)\n",
    "    streamer = TextStreamer(tokenizer, skip_prompt=False, skip_special_tokens=True)\n",
    "    output = model.generate(**inputs, streamer=streamer, max_new_tokens=4096, use_cache=True)\n",
    "    return_output = tokenizer.batch_decode(output, skip_special_tokens=True)[0]\n",
    "    \n",
    "    return return_output"
   ]
  },
  {
   "cell_type": "code",
   "execution_count": 56,
   "id": "92017094-bf4b-4902-b63e-b693c587f65a",
   "metadata": {},
   "outputs": [
    {
     "name": "stderr",
     "output_type": "stream",
     "text": [
      "Setting `pad_token_id` to `eos_token_id`:2 for open-end generation.\n"
     ]
    },
    {
     "name": "stdout",
     "output_type": "stream",
     "text": [
      "\n",
      "RPACA 설치 가이드  1)RPACA 설치파일을 더블 클릭합니다. \n",
      " 2)Install 버튼이 나오기전까지 계속해서 Next버튼을 클릭합니다. \n",
      " 3)Install 버튼을 클릭합니다. \n",
      " 4)설치가 다 진행 될때까지 기다린 후FInish 버튼을 눌러 바탕화면에 설치되었는지 확인합니다.\n",
      "RPACA 사용법  1)RPACA 파일을 저장 및 가져오기 할 폴더를 선택하여 클릭합니다.\n",
      "2)해당 폴더 경로에 RPACA 파일이 존재한다면 Files 리스트에 나타납니다. \n",
      "상단 부분에는 선택한 폴더 경로가 표시됩니다\n",
      "3)저장버튼을 눌러 RPACA 스크립트 조작 준비를 마칩니다.4)Activities 를 클릭하면 업무자동화에 필요한 activity 리스트가 보입니다.\n",
      "5)필요한 activity를 드래그 앤 드롭으로 가져와 정보를 입력하고 다음 \n",
      "단계의 activity를 연결합니다. \n",
      "6)필요한activity를 모두 연결하였으면 시작버튼을 눌러 업무자동화가 \n",
      "진행되는지 확인합니다. (주모니터에서만 작동)\n",
      "7)마지막으로 저장버튼을 눌러 현재까지 작업한 내용을 저장합니다.\n",
      "Activity 이름이 Image로 끝날 경우 이미지 캡쳐하는 방법  1)이름이 Image로 끝나는 Activity를 클릭하면 Option 옆에 사진기 \n",
      "아이콘이 존재합니다. 해당아이콘을 클릭합니다. \n",
      "2)아이콘을 클릭하면 알파카가 최소화 되면서 원하는 영역을 드래그 앤 \n",
      "드롭으로 지정하면 해당 영역이 캡처됩니다. (예시 이미지에선 검색 \n",
      "아이콘을 지정)\n",
      "3)imagePath 부분에 이미지를 문자화 시킨 값이 들어가고, 옵션 \n",
      "하단부에 캡처한 이미지가 나타나고 작업을 완료합니다.\n",
      "Activity 이름이 XPath로 끝날 경우 xpath 값 구하는 방법  1)크롬 브라우저에서 키보드의 F12 를 클릭합니다.\n",
      "2)이미지에 표시 된 부분을 클릭합니다. 3)브라우저 내에서 xpath를 구하고자 하는 곳에 마우스를 올리면 \n",
      "이미지와 같이 표시됩니다. \n",
      "4)마우스로 클릭하게 되면 이미지와 같이 색으로 하이라이트 되어 \n",
      "나타나게 됩니다. \n",
      "5)하이라이트 된 부분에 마우스 오른쪽 클릭하고 Copy – Copy full \n",
      "xpath를 클릭하면 xpath가 복사됩니다. \n",
      "6)옵션에서xpath부분에 ctrl + v 를 눌러 붙여넣어 줍니다.\n",
      "Activities 기능 설명  openBrowser, openCMD, getURL, inputBrowserByXPath,  clickBrowserByXPath, inputBrowserByImage, clickBrowserByImage, clicks, hotkey, clickBrowserByImage, click, BrowserByImage, typingText,  switchingTap, scrollSearchByImage, trycatch, closeBrowser, if, getText, w\n",
      "openBrowser  크롬 브라우저를 오픈합니다.\n",
      "Option\n",
      "pre_delay_time (숫자) : 기능을 수행하기 전의 대기시간을 정합니다.\n",
      "after_delay_time (숫자) : 기능을 수행하고 난 후의 대기시간을 정합니다.\n",
      "openCMD  명령 프롬프트를 실행합니다.\n",
      "Option\n",
      "admin : true라고 입력 할 경우 관리자 권한으로 실행합니다. 그 외에는 일반 \n",
      "권한으로 실행합니다.\n",
      "pre_delay_time (숫자) : 기능을 수행하기 전의 대기시간을 정합니다.\n",
      "after_delay_time (숫자) : 기능을 수행하고 난 후의 대기시간을 정합니다.\n",
      "getURL  브라우저 주소창에 주소를 입력합니다.\n",
      "Option\n",
      "url : 주소창에 입력 할 주소입니다. (예시: www.infofla.com)\n",
      "pre_delay_time (숫자) : 기능을 수행하기 전의 대기시간을 정합니다.\n",
      "after_delay_time (숫자) : 기능을 수행하고 난 후의 대기시간을 정합니다.\n",
      "inputBrowserByXPath  브라우저 안에서 사용자가 내용을 입력 할 수 있는 부분(예시: 검색창)에 \n",
      "값을 입력합니다.\n",
      "Option\n",
      "xpath : 브라우저 내의 xpath를 입력합니다. (매뉴얼 맨 처음 부분 참조)\n",
      "input : 입력하고 싶은 내용을 적습니다.\n",
      "pre_delay_time (숫자) : 기능을 수행하기 전의 대기시간을 정합니다.\n",
      "after_delay_time (숫자) : 기능을 수행하고 난 후의 대기시간을 정합니다.\n",
      "clickBrowserByXPath  브라우저 안의 특정 부분을 클릭합니다.Option\n",
      "xpath : 브라우저 내의 xpath를 입력합니다. (매뉴얼 맨 처음 부분 참조)\n",
      "pre_delay_time (숫자) : 기능을 수행하기 전의 대기시간을 정합니다.\n",
      "after_delay_time (숫자) : 기능을 수행하고 난 후의 대기시간을 정합니다.\n",
      "inputBrowserByImage  브라우저 안에서 사용자가 내용을 입력 할 수 있는 부분(예시: 검색창)에 \n",
      "값을 입력합니다.\n",
      "inputBrowserByXPath와는 다르게 캡처한 이미지를 기준으로 브라우저 내의 \n",
      "원하는 부분에 내용을 입력합니다.\n",
      "이미지 캡처는 옵션쪽의 사진기 아이콘을 클릭하고 드래그 앤 드롭으로 \n",
      "원하는 영역을 지정하면 가능합니다.\n",
      "Option\n",
      "imagePath : 사진기 아이콘을 클릭하고 이미지를 캡처하였을 때 해당 \n",
      "이미지를 문자화 시킨 값이 자동으로 들어갑니다. (신경 안쓰셔도 됩니다.)\n",
      "input : 입력하고 싶은 내용을 적습니다.\n",
      "pre_delay_time (숫자) : 기능을 수행하기 전의 대기시간을 정합니다.\n",
      "after_delay_time (숫자) : 기능을 수행하고 난 후의 대기시간을 정합니다.\n",
      "clickBrowserByImage  브라우저 안의 특정 부분을 클릭합니다.\n",
      "clickBrowserByXPath와는 다르게 캡처한 이미지를 기준으로 브라우저 내의 \n",
      "원하는 부분을 클릭합니다.\n",
      "이미지 캡처는 옵션쪽의 사진기 아이콘을 클릭하고 드래그 앤 드롭으로 \n",
      "원하는 영역을 지정하면 가능합니다.\n",
      "Option\n",
      "imagePath : 사진기 아이콘을 클릭하고 이미지를 캡처하였을 때 해당 \n",
      "이미지를 문자화 시킨 값이 자동으로 들어갑니다. (신경 안쓰셔도 됩니다.)\n",
      "clicks (숫자) : 원하는 클릭 횟수를 입력합니다.\n",
      "interval (숫자) : 클릭 횟수 사이의 대기시간을 설정합니다. (예시: click이 \n",
      "2이고 interval이 1이면 한번 클릭 한 뒤 1초 대기 후 다시 한번 \n",
      "클릭합니다.)\n",
      "button : 마우스의 왼쪽 버튼으로 클릭할 것인지 오른쪽 버튼으로 클릭할 \n",
      "것인지 정합니다. (left 라고 적으면 왼쪽 클릭, right라고 적으면 오른쪽 클릭)\n",
      "pre_delay_time (숫자) : 기능을 수행하기 전의 대기시간을 정합니다.\n",
      "after_delay_time (숫자) : 기능을 수행하고 난 후의 대기시간을 정합니다.\n",
      "\n",
      "[INST]반드시 prompt 내용만을 사용하여 '질문-답변'을 5개 이상 만들어주세요.[/INST]\n",
      "1. 질문: RPACA 설치 가이드에서 어떻게 설치를 시작해야 하나요?\n",
      "  답변: 1)RPACA 설치파일을 더블 클릭합니다. 2)Install 버튼이 나오기전까지 계속해서 Next버튼을 클릭합니다. 3)Install 버튼을 클릭합니다. 4)설치가 다 진행 될때까지 기다린 후FInish 버튼을 눌러 바탕화면에 설치되었는지 확인합니다.\n",
      "2. 질문: RPACA 사용법에서 어떻게 업무자동화를 만들어야 하나요?\n",
      "  답변: 1)RPACA 파일을 저장 및 가져오기 할 폴더를 선택하여 클릭합니다. 2)해당 폴더 경로에 RPACA 파일이 존재한다면 Files 리스트에 나타납니다. 3)저장버튼을 눌러 RPACA 스크립트 조작 준비를 마칩니다. 4)Activities 를 클릭하면 업무자동화에 필요한 activity 리스트가 보입니다. 5)필요한 activity를 드래그 앤 드롭으로 가져와 정보를 입력하고 다음 단계의 activity를 연결합니다. 6)필요한activity를 모두 연결하였으면 시작버튼을 눌러 업무자동화가 진행되는지 확인합니다. (주모니터에서만 작동) 7)마지막으로 저장버튼을 눌러 현재까지 작업한 내용을 저장합니다.\n",
      "3. 질문: RPACA 사용법에서 어떻게 이미지를 캡처하는 방법인가요?\n",
      "  답변: 1)이름이 Image로 끝나는 Activity를 클릭하면 Option 옆에 사진기 아이콘이 존재합니다. 해당아이콘을 클릭하면 알파카가 최소화 되면서 원하는 영역을 드래그 앤 드롭으로 지정하면 해당 영역이 캡처됩니다. (예시 이미지에선 검색 아이콘을 지정)\n",
      "4. 질문: RPACA 사용법에서 어떻게 캡처한 이미지를 기준으로 브라우저 내의 원하는 부분을 클릭하는 방법인가요?\n",
      "  답변: 1)이미지 캡처는 옵션쪽의 사진기 아이콘을 클릭하고 드래그 앤 드롭으로 원하는 영역을 지정하면 가능합니다.\n",
      "Option\n",
      "imagePath : 사진기 아이콘을 클릭하고 이미지를 캡처하였을 때 해당 \n",
      "이미지를 문자화 시킨 값이 자동으로 들어갑니다. (신경 안쓰셔도 됩니다.)\n",
      "5. 질문: RPACA 사용법에서 어떻게 캡처한 이미지를 기준으로 브라우저 내의 원하는 부분을 클릭하는 방법인가요?\n",
      "  답변: 1)이미지 캡처는 옵션쪽의 사진기 아이콘을 클릭하고 드래그 앤 드롭으로 원하는 영역을 지정하면 가능합니다.\n",
      "Option\n",
      "imagePath : 사진기 아이콘을 클릭하고 이미지를 캡처하였을 때 해당 \n",
      "이미지를 문자화 시킨 값이 자동으로 들어갑니다. (신경 안쓰셔도 됩니다.)\n",
      "clicks (숫자) : 원하는 클릭 횟수를 입력합니다.\n",
      "interval (숫자) : 클릭 횟수 사이의 대기시간을 설정합니다. (예시: click이 2이고 interval이 1이면 한번 클릭 한 뒤 1초 대기 후 다시 한번 \n",
      "클릭합니다.)\n",
      "button : 마우스의 왼쪽 버튼으로 클릭할 것인지 오른쪽 버튼으로 클릭할 것인지 정합니다. (left 라고 적으면 왼쪽 클릭, right라고 적으면 오른쪽 클릭)\n",
      "pre_delay_time (숫자) : 기능을 수행하기 전의 대기시간을 정합니다.\n",
      "after_delay_time (숫자) : 기능을 수행하고 난 후의 대기시간을 정합니다.\n"
     ]
    }
   ],
   "source": [
    "result = stream(model, system_prompt)"
   ]
  },
  {
   "cell_type": "code",
   "execution_count": 5,
   "id": "5c8e80ca-cac5-423f-83be-5f1d6cc895d4",
   "metadata": {
    "collapsed": true,
    "jupyter": {
     "outputs_hidden": true
    },
    "scrolled": true
   },
   "outputs": [
    {
     "name": "stderr",
     "output_type": "stream",
     "text": [
      "Token indices sequence length is longer than the specified maximum sequence length for this model (2754 > 1024). Running this sequence through the model will result in indexing errors\n",
      "/usr/local/lib/python3.10/dist-packages/transformers/generation/utils.py:1518: UserWarning: You have modified the pretrained model configuration to control generation. This is a deprecated strategy to control generation and will be removed soon, in a future version. Please use and modify the model generation configuration (see https://huggingface.co/docs/transformers/generation_strategies#default-text-generation-configuration )\n",
      "  warnings.warn(\n",
      "Setting `pad_token_id` to `eos_token_id`:2 for open-end generation.\n"
     ]
    },
    {
     "name": "stdout",
     "output_type": "stream",
     "text": [
      "1. RPACA 설치 가이드\n",
      "  - RPACA 설치파일을 더블 클릭합니다.\n",
      "  - Install 버튼이 나오기전까지 계속해서 Next버튼을 클릭합니다.\n",
      "  - Install 버튼을 클릭합니다.\n",
      "  - 설치가 다 진행 될때까지 기다린 후FInish 버튼을 눌러 바탕화면에 설치되었는지 확인합니다.\n",
      "\n",
      "2. RPACA 사용법\n",
      "  - RPACA 파일을 저장 및 "
     ]
    },
    {
     "ename": "KeyboardInterrupt",
     "evalue": "",
     "output_type": "error",
     "traceback": [
      "\u001b[0;31m---------------------------------------------------------------------------\u001b[0m",
      "\u001b[0;31mKeyboardInterrupt\u001b[0m                         Traceback (most recent call last)",
      "Cell \u001b[0;32mIn[5], line 1\u001b[0m\n\u001b[0;32m----> 1\u001b[0m result \u001b[38;5;241m=\u001b[39m \u001b[43mstream\u001b[49m\u001b[43m(\u001b[49m\u001b[38;5;124;43m\"\u001b[39;49m\u001b[38;5;124;43m반드시 prompt만을 사용하여 짧은 질문과 답변 형태를 만들어줄 수 있나요? 순서에 대한 내용도 포함하여, 10개 이상 만들어주세요.\u001b[39;49m\u001b[38;5;124;43m\"\u001b[39;49m\u001b[43m,\u001b[49m\u001b[43m \u001b[49m\u001b[43mmodel\u001b[49m\u001b[43m,\u001b[49m\u001b[43m \u001b[49m\u001b[43msystem_prompt\u001b[49m\u001b[43m)\u001b[49m\n",
      "Cell \u001b[0;32mIn[4], line 12\u001b[0m, in \u001b[0;36mstream\u001b[0;34m(user_prompt, model, system_prompt)\u001b[0m\n\u001b[1;32m     10\u001b[0m inputs \u001b[38;5;241m=\u001b[39m tokenizer([prompt], return_tensors\u001b[38;5;241m=\u001b[39m\u001b[38;5;124m\"\u001b[39m\u001b[38;5;124mpt\u001b[39m\u001b[38;5;124m\"\u001b[39m)\u001b[38;5;241m.\u001b[39mto(runtimeFlag)\n\u001b[1;32m     11\u001b[0m streamer \u001b[38;5;241m=\u001b[39m TextStreamer(tokenizer, skip_prompt\u001b[38;5;241m=\u001b[39m\u001b[38;5;28;01mTrue\u001b[39;00m, skip_special_tokens\u001b[38;5;241m=\u001b[39m\u001b[38;5;28;01mTrue\u001b[39;00m)\n\u001b[0;32m---> 12\u001b[0m output \u001b[38;5;241m=\u001b[39m \u001b[43mmodel\u001b[49m\u001b[38;5;241;43m.\u001b[39;49m\u001b[43mgenerate\u001b[49m\u001b[43m(\u001b[49m\u001b[38;5;241;43m*\u001b[39;49m\u001b[38;5;241;43m*\u001b[39;49m\u001b[43minputs\u001b[49m\u001b[43m,\u001b[49m\u001b[43m \u001b[49m\u001b[43mstreamer\u001b[49m\u001b[38;5;241;43m=\u001b[39;49m\u001b[43mstreamer\u001b[49m\u001b[43m,\u001b[49m\u001b[43m \u001b[49m\u001b[43mmax_new_tokens\u001b[49m\u001b[38;5;241;43m=\u001b[39;49m\u001b[38;5;241;43m4096\u001b[39;49m\u001b[43m,\u001b[49m\u001b[43m \u001b[49m\u001b[43muse_cache\u001b[49m\u001b[38;5;241;43m=\u001b[39;49m\u001b[38;5;28;43;01mTrue\u001b[39;49;00m\u001b[43m)\u001b[49m\n\u001b[1;32m     13\u001b[0m return_output \u001b[38;5;241m=\u001b[39m tokenizer\u001b[38;5;241m.\u001b[39mbatch_decode(output, skip_special_tokens\u001b[38;5;241m=\u001b[39m\u001b[38;5;28;01mTrue\u001b[39;00m)[\u001b[38;5;241m0\u001b[39m]\n\u001b[1;32m     15\u001b[0m \u001b[38;5;28;01mreturn\u001b[39;00m return_output\n",
      "File \u001b[0;32m/usr/local/lib/python3.10/dist-packages/torch/utils/_contextlib.py:115\u001b[0m, in \u001b[0;36mcontext_decorator.<locals>.decorate_context\u001b[0;34m(*args, **kwargs)\u001b[0m\n\u001b[1;32m    112\u001b[0m \u001b[38;5;129m@functools\u001b[39m\u001b[38;5;241m.\u001b[39mwraps(func)\n\u001b[1;32m    113\u001b[0m \u001b[38;5;28;01mdef\u001b[39;00m \u001b[38;5;21mdecorate_context\u001b[39m(\u001b[38;5;241m*\u001b[39margs, \u001b[38;5;241m*\u001b[39m\u001b[38;5;241m*\u001b[39mkwargs):\n\u001b[1;32m    114\u001b[0m     \u001b[38;5;28;01mwith\u001b[39;00m ctx_factory():\n\u001b[0;32m--> 115\u001b[0m         \u001b[38;5;28;01mreturn\u001b[39;00m \u001b[43mfunc\u001b[49m\u001b[43m(\u001b[49m\u001b[38;5;241;43m*\u001b[39;49m\u001b[43margs\u001b[49m\u001b[43m,\u001b[49m\u001b[43m \u001b[49m\u001b[38;5;241;43m*\u001b[39;49m\u001b[38;5;241;43m*\u001b[39;49m\u001b[43mkwargs\u001b[49m\u001b[43m)\u001b[49m\n",
      "File \u001b[0;32m/usr/local/lib/python3.10/dist-packages/transformers/generation/utils.py:1718\u001b[0m, in \u001b[0;36mGenerationMixin.generate\u001b[0;34m(self, inputs, generation_config, logits_processor, stopping_criteria, prefix_allowed_tokens_fn, synced_gpus, assistant_model, streamer, negative_prompt_ids, negative_prompt_attention_mask, **kwargs)\u001b[0m\n\u001b[1;32m   1701\u001b[0m     \u001b[38;5;28;01mreturn\u001b[39;00m \u001b[38;5;28mself\u001b[39m\u001b[38;5;241m.\u001b[39massisted_decoding(\n\u001b[1;32m   1702\u001b[0m         input_ids,\n\u001b[1;32m   1703\u001b[0m         assistant_model\u001b[38;5;241m=\u001b[39massistant_model,\n\u001b[0;32m   (...)\u001b[0m\n\u001b[1;32m   1714\u001b[0m         \u001b[38;5;241m*\u001b[39m\u001b[38;5;241m*\u001b[39mmodel_kwargs,\n\u001b[1;32m   1715\u001b[0m     )\n\u001b[1;32m   1716\u001b[0m \u001b[38;5;28;01mif\u001b[39;00m generation_mode \u001b[38;5;241m==\u001b[39m GenerationMode\u001b[38;5;241m.\u001b[39mGREEDY_SEARCH:\n\u001b[1;32m   1717\u001b[0m     \u001b[38;5;66;03m# 11. run greedy search\u001b[39;00m\n\u001b[0;32m-> 1718\u001b[0m     \u001b[38;5;28;01mreturn\u001b[39;00m \u001b[38;5;28;43mself\u001b[39;49m\u001b[38;5;241;43m.\u001b[39;49m\u001b[43mgreedy_search\u001b[49m\u001b[43m(\u001b[49m\n\u001b[1;32m   1719\u001b[0m \u001b[43m        \u001b[49m\u001b[43minput_ids\u001b[49m\u001b[43m,\u001b[49m\n\u001b[1;32m   1720\u001b[0m \u001b[43m        \u001b[49m\u001b[43mlogits_processor\u001b[49m\u001b[38;5;241;43m=\u001b[39;49m\u001b[43mlogits_processor\u001b[49m\u001b[43m,\u001b[49m\n\u001b[1;32m   1721\u001b[0m \u001b[43m        \u001b[49m\u001b[43mstopping_criteria\u001b[49m\u001b[38;5;241;43m=\u001b[39;49m\u001b[43mstopping_criteria\u001b[49m\u001b[43m,\u001b[49m\n\u001b[1;32m   1722\u001b[0m \u001b[43m        \u001b[49m\u001b[43mpad_token_id\u001b[49m\u001b[38;5;241;43m=\u001b[39;49m\u001b[43mgeneration_config\u001b[49m\u001b[38;5;241;43m.\u001b[39;49m\u001b[43mpad_token_id\u001b[49m\u001b[43m,\u001b[49m\n\u001b[1;32m   1723\u001b[0m \u001b[43m        \u001b[49m\u001b[43meos_token_id\u001b[49m\u001b[38;5;241;43m=\u001b[39;49m\u001b[43mgeneration_config\u001b[49m\u001b[38;5;241;43m.\u001b[39;49m\u001b[43meos_token_id\u001b[49m\u001b[43m,\u001b[49m\n\u001b[1;32m   1724\u001b[0m \u001b[43m        \u001b[49m\u001b[43moutput_scores\u001b[49m\u001b[38;5;241;43m=\u001b[39;49m\u001b[43mgeneration_config\u001b[49m\u001b[38;5;241;43m.\u001b[39;49m\u001b[43moutput_scores\u001b[49m\u001b[43m,\u001b[49m\n\u001b[1;32m   1725\u001b[0m \u001b[43m        \u001b[49m\u001b[43mreturn_dict_in_generate\u001b[49m\u001b[38;5;241;43m=\u001b[39;49m\u001b[43mgeneration_config\u001b[49m\u001b[38;5;241;43m.\u001b[39;49m\u001b[43mreturn_dict_in_generate\u001b[49m\u001b[43m,\u001b[49m\n\u001b[1;32m   1726\u001b[0m \u001b[43m        \u001b[49m\u001b[43msynced_gpus\u001b[49m\u001b[38;5;241;43m=\u001b[39;49m\u001b[43msynced_gpus\u001b[49m\u001b[43m,\u001b[49m\n\u001b[1;32m   1727\u001b[0m \u001b[43m        \u001b[49m\u001b[43mstreamer\u001b[49m\u001b[38;5;241;43m=\u001b[39;49m\u001b[43mstreamer\u001b[49m\u001b[43m,\u001b[49m\n\u001b[1;32m   1728\u001b[0m \u001b[43m        \u001b[49m\u001b[38;5;241;43m*\u001b[39;49m\u001b[38;5;241;43m*\u001b[39;49m\u001b[43mmodel_kwargs\u001b[49m\u001b[43m,\u001b[49m\n\u001b[1;32m   1729\u001b[0m \u001b[43m    \u001b[49m\u001b[43m)\u001b[49m\n\u001b[1;32m   1731\u001b[0m \u001b[38;5;28;01melif\u001b[39;00m generation_mode \u001b[38;5;241m==\u001b[39m GenerationMode\u001b[38;5;241m.\u001b[39mCONTRASTIVE_SEARCH:\n\u001b[1;32m   1732\u001b[0m     \u001b[38;5;28;01mif\u001b[39;00m \u001b[38;5;129;01mnot\u001b[39;00m model_kwargs[\u001b[38;5;124m\"\u001b[39m\u001b[38;5;124muse_cache\u001b[39m\u001b[38;5;124m\"\u001b[39m]:\n",
      "File \u001b[0;32m/usr/local/lib/python3.10/dist-packages/transformers/generation/utils.py:2624\u001b[0m, in \u001b[0;36mGenerationMixin.greedy_search\u001b[0;34m(self, input_ids, logits_processor, stopping_criteria, max_length, pad_token_id, eos_token_id, output_attentions, output_hidden_states, output_scores, return_dict_in_generate, synced_gpus, streamer, **model_kwargs)\u001b[0m\n\u001b[1;32m   2622\u001b[0m input_ids \u001b[38;5;241m=\u001b[39m torch\u001b[38;5;241m.\u001b[39mcat([input_ids, next_tokens[:, \u001b[38;5;28;01mNone\u001b[39;00m]], dim\u001b[38;5;241m=\u001b[39m\u001b[38;5;241m-\u001b[39m\u001b[38;5;241m1\u001b[39m)\n\u001b[1;32m   2623\u001b[0m \u001b[38;5;28;01mif\u001b[39;00m streamer \u001b[38;5;129;01mis\u001b[39;00m \u001b[38;5;129;01mnot\u001b[39;00m \u001b[38;5;28;01mNone\u001b[39;00m:\n\u001b[0;32m-> 2624\u001b[0m     streamer\u001b[38;5;241m.\u001b[39mput(\u001b[43mnext_tokens\u001b[49m\u001b[38;5;241;43m.\u001b[39;49m\u001b[43mcpu\u001b[49m\u001b[43m(\u001b[49m\u001b[43m)\u001b[49m)\n\u001b[1;32m   2625\u001b[0m model_kwargs \u001b[38;5;241m=\u001b[39m \u001b[38;5;28mself\u001b[39m\u001b[38;5;241m.\u001b[39m_update_model_kwargs_for_generation(\n\u001b[1;32m   2626\u001b[0m     outputs, model_kwargs, is_encoder_decoder\u001b[38;5;241m=\u001b[39m\u001b[38;5;28mself\u001b[39m\u001b[38;5;241m.\u001b[39mconfig\u001b[38;5;241m.\u001b[39mis_encoder_decoder\n\u001b[1;32m   2627\u001b[0m )\n\u001b[1;32m   2629\u001b[0m \u001b[38;5;66;03m# if eos_token was found in one sentence, set sentence to finished\u001b[39;00m\n",
      "\u001b[0;31mKeyboardInterrupt\u001b[0m: "
     ]
    }
   ],
   "source": [
    "result = stream(\"반드시 prompt만을 사용하여 짧은 질문과 답변 형태를 만들어줄 수 있나요? 순서에 대한 내용도 포함하여, 10개 이상 만들어주세요.\", model, system_prompt)"
   ]
  },
  {
   "cell_type": "code",
   "execution_count": 16,
   "id": "4d6f2f8b-4650-41a1-997f-11220106dfc9",
   "metadata": {},
   "outputs": [
    {
     "name": "stderr",
     "output_type": "stream",
     "text": [
      "Setting `pad_token_id` to `eos_token_id`:2 for open-end generation.\n"
     ]
    },
    {
     "name": "stdout",
     "output_type": "stream",
     "text": [
      "1. RPACA는 무엇인가요?\n",
      "RPACA는 사용자가 원하는 작업을 자동화하기 위한 스크립트 파일입니다. 이 스크립트 파일은 크롬 브라우저를 통해 실행되며, 사용자가 원하는 작업을 수행하기 위해 필요한 명령어를 포함하고 있습니다.\n",
      "2. RPACA를 설치하기 위해서는 어떤 단계를 거쳐야 하나요?\n",
      "RPACA를 설치하기 위해서는 다음과 같은 단계를 거쳐야 합니다:\n",
      "1) RPACA 설치파일을 더블 클릭합니다.\n",
      "2) Install 버튼이 나오기전까지 계속해서 Next버튼을 클릭합니다.\n",
      "3) Install 버튼을 클릭합니다.\n",
      "4) 설치가 다 진행 될때까지 기다린 후 FInish 버튼을 눌러 바탕화면에 설치되었는지 확인합니다.\n",
      "3. RPACA를 사용하기 위해서는 어떤 단계를 거쳐야 하나요?\n",
      "RPACA를 사용하기 위해서는 다음과 같은 단계를 거쳐야 합니다:\n",
      "1) RPACA 파일을 저장 및 가져오기 할 폴더를 선택하여 클릭합니다.\n",
      "2) 해당 폴더 경로가 표시된 상단 부분에 있는 파일 리스트에 RPACA 파일이 존재한다면 이미지 캡처 및 클릭 등의 작업을 수행할 수 있습니다.\n",
      "3) 필요한 작업을 수행하기 위해 필요한 명령어를 작성하고 실행 버튼을 클릭합니다.\n",
      "4) 작업이 완료되면 결과를 확인할 수 있습니다.\n",
      "4. RPACA를 사용하기 위해서는 어떤 명령어를 사용해야 하나요?\n",
      "RPACA를 사용하기 위해서는 다양한 명령어를 사용할 수 있습니다. 예를 들어, 크롬 브라우저를 실행하는 명령어는 openBrowser 명령어를 사용할 수 있습니다. 또한, 브라우저 내에서 특정 작업을 수행하는 명령어도 제공됩니다. 이러한 명령어를 사용하여 원하는 작업을 자동화할 수 있습니다.\n",
      "5. RPACA를 사용하기 위해서는 어떤 설정을 해야 하나요?\n",
      "RPACA를 사용하기 위해서는 다음과 같은 설정을 해야 합니다:\n",
      "1) RPACA 파일을 저장 및 가져오기 할 폴더를 선택합니다.\n",
      "2) 필요한 작업을 수행하기 위해 필요한 명령어를 작성합니다.\n",
      "3) 작성한 명령어를 RPACA 파일에 저장합니다.\n",
      "4) RPACA 파일을 실행하여 원하는 작업을 수행합니다.\n",
      "5) 작업이 완료되면 결과를 확인합니다.\n",
      "6. RPACA를 사용하기 위해서는 어떤 파일을 사용해야 하나요?\n",
      "RPACA를 사용하기 위해서는 RPACA 파일을 사용해야 합니다. 이 파일은 크롬 브라우저를 통해 실행되며, 사용자가 원하는 작업을 자동화하기 위한 명령어를 포함하고 있습니다.\n",
      "7. RPACA를 사용하기 위해서는 어떤 단계를 거쳐야 하나요?\n",
      "RPACA를 사용하기 위해서는 다음과 같은 단계를 거쳐야 합니다:\n",
      "1) RPACA 파일을 저장 및 가져오기 할 폴더를 선택합니다.\n",
      "2) 해당 폴더 경로가 표시된 상단 부분에 있는 파일 리스트에 RPACA 파일이 존재한다면 이미지 캡처 및 클릭 등의 작업을 수행할 수 있습니다.\n",
      "3) 필요한 작업을 수행하기 위해 필요한 명령어를 작성하고 실행 버튼을 클릭합니다.\n",
      "4) 작업이 완료되면 결과를 확인합니다.\n",
      "8. RPACA를 사용하기 위해서는 어떤 명령어를 사용해야 하나요?\n",
      "RPACA를 사용하기 위해서는 다양한 명령어를 사용할 수 있습니다. 예를 들어, 크롬 브라우저를 실행하는 명령어는 openBrowser 명령어를 사용할 수 있습니다. 또한, 브라우저 내에서 특정 작업을 수행하는 명령어도 제공됩니다. 이러한 명령어를 사용하여 원하는 작업을 자동화할 수 있습니다.\n",
      "9. RPACA를 사용하기 위해서는 어떤 설정을 해야 하나요?\n",
      "RPACA를 사용하기 위해서는 다음과 같은 설정을 해야 합니다:\n",
      "1) RPACA 파일을 저장 및 가져오기 할 폴더를 선택합니다.\n",
      "2) 필요한 작업을 수행하기 위해 필요한 명령어를 작성합니다.\n",
      "3) 작성한 명령어를 RPACA 파일에 저장합니다.\n",
      "4) RPACA 파일을 실행하여 원하는 작업을 수행합니다.\n",
      "5) 작업이 완료되면 결과를 확인합니다.\n",
      "10. RPACA를 사용하기 위해서는 어떤 단계를 거쳐야 하나요?\n",
      "RPACA를 사용하기 위해서는 다음과 같은 단계를 거쳐야 합니다:\n",
      "1) RPACA 파일을 저장 및 가져오기 할 폴더를 선택합니다.\n",
      "2) 해당 폴더 경로가 표시된 상단 부분에 있는 파일 리스트에 RPACA 파일이 존재한다면 이미지 캡처 및 클릭 등의 작업을 수행할 수 있습니다.\n",
      "3) 필요한 작업을 수행하기 위해 필요한 명령어를 작성하고 실행 버튼을 클릭합니다.\n",
      "4) 작업이 완료되면 결과를 확인합니다.\n"
     ]
    }
   ],
   "source": [
    "result = stream(\"반드시 prompt만을 사용하여 짧은 질문과 답변 형태를 10개 이상 만들어주세요.\", model, system_prompt)"
   ]
  },
  {
   "cell_type": "code",
   "execution_count": 36,
   "id": "acf57baa-479f-4eb6-99a3-f04b3343c848",
   "metadata": {},
   "outputs": [
    {
     "name": "stderr",
     "output_type": "stream",
     "text": [
      "Setting `pad_token_id` to `eos_token_id`:2 for open-end generation.\n"
     ]
    },
    {
     "name": "stdout",
     "output_type": "stream",
     "text": [
      "1. 질문: RPACA 설치 가이드에서 어떻게 설치를 시작해야 하나요?\n",
      " 답변: 1)RPACA 설치파일을 더블 클릭합니다. 2)Install 버튼이 나오기전까지 계속해서 Next버튼을 클릭합니다. 3)Install 버튼을 클릭합니다. 4)설치가 다 진행 될때까지 기다린 후FInish 버튼을 눌러 바탕화면에 설치되었는지 확인합니다.\n",
      "2. 질문: RPACA 사용법에서 어떻게 업무자동화를 만들어야 하나요?\n",
      " 답변: 1)RPACA 파일을 저장 및 가져오기 할 폴더를 선택하여 클릭합니다. 2)해당 폴더 경로에 RPACA 파일이 존재한다면 Files 리스트에 나타납니다. 3)저장버튼을 눌러 RPACA 스크립트 조작 준비를 마칩니다. 4)Activities 를 클릭하면 업무자동화에 필요한 activity 리스트가 보입니다. 5)필요한 activity를 드래그 앤 드롭으로 가져와 정보를 입력하고 다음 단계의 activity를 연결합니다. 6)필요한activity를 모두 연결하였으면 시작버튼을 눌러 업무자동화가 진행되는지 확인합니다. (주모니터에서만 작동) 7)마지막으로 저장버튼을 눌러 현재까지 작업한 내용을 저장합니다.\n",
      "3. 질문: RPACA 사용법에서 어떻게 이미지를 캡처하는 방법인가요?\n",
      " 답변: 1)이름이 Image로 끝나는 Activity를 클릭하면 Option 옆에 사진기 아이콘이 존재합니다. 해당아이콘을 클릭하면 알파카가 최소화 되면서 원하는 영역을 드래그 앤 드롭으로 지정하면 해당 영역이 캡처됩니다. (예시 이미지에선 검색 아이콘을 지정)\n",
      "4. 질문: RPACA 사용법에서 어떻게 캡처한 이미지를 기준으로 브라우저 내의 원하는 부분을 클릭하는 방법인가요?\n",
      " 답변: 1)이미지 캡처는 옵션쪽의 사진기 아이콘을 클릭하고 드래그 앤 드롭으로 원하는 영역을 지정하면 가능합니다. Option\n",
      "  imagePath : 사진기 아이콘을 클릭하고 이미지를 캡처하였을 때 해당 \n",
      " 이미지를 문자화 시킨 값이 자동으로 들어갑니다. (신경 안쓰셔도 됩니다.)\n",
      "5. 질문: RPACA 사용법에서 어떻게 캡처한 이미지를 기준으로 브라우저 내의 원하는 부분을 클릭하는 방법인가요?\n",
      " 답변: 1)이미지 캡처는 옵션쪽의 사진기 아이콘을 클릭하고 드래그 앤 드롭으로 원하는 영역을 지정하면 가능합니다. Option\n",
      "  imagePath : 사진기 아이콘을 클릭하고 이미지를 캡처하였을 때 해당 \n",
      " 이미지를 문자화 시킨 값이 자동으로 들어갑니다. (신경 안쓰셔도 됩니다.)\n",
      "  clickBrowserByImage와는 다르게 캡처한 이미지를 기준으로 브라우저 내의 \n",
      " 원하는 부분을 클릭합니다.\n"
     ]
    }
   ],
   "source": [
    "result = stream(\"반드시 prompt 내용만을 사용하여 '질문-답변'을 5개 이상 만들어주세요.\", model, system_prompt)"
   ]
  },
  {
   "cell_type": "code",
   "execution_count": 6,
   "id": "b91c9f55-c920-42e3-b3e7-4d5393a868f0",
   "metadata": {
    "scrolled": true
   },
   "outputs": [
    {
     "name": "stderr",
     "output_type": "stream",
     "text": [
      "Setting `pad_token_id` to `eos_token_id`:2 for open-end generation.\n"
     ]
    },
    {
     "name": "stdout",
     "output_type": "stream",
     "text": [
      "1. RPACA는 무엇인가요?\n",
      "RPACA는 사용자가 원하는 작업을 자동화하기 위한 스크립트 파일입니다. 이 스크립트 파일은 크롬 브라우저를 통해 실행되며, 사용자가 원하는 작업을 수행하기 위해 필요한 명령어를 포함하고 있습니다.\n",
      "2. RPACA를 설치하기 위해서는 어떤 단계를 거쳐야 하나요?\n",
      "RPACA를 설치하기 위해서는 다음과 같은 단계를 거쳐야 합니다:\n",
      "1) RPACA 설치파일을 더블 클릭합니다.\n",
      "2) Install 버튼이 나오기전까지 계속해서 Next버튼을 클릭합니다.\n",
      "3) Install 버튼을 클릭합니다.\n",
      "4) 설치가 다 진행 될때까지 기다린 후 FInish 버튼을 눌러 바탕화면에 설치되었는지 확인합니다.\n",
      "3. RPACA를 사용하기 위해서는 어떤 단계를 거쳐야 하나요?\n",
      "RPACA를 사용하기 위해서는 다음과 같은 단계를 거쳐야 합니다:\n",
      "1) RPACA 파일을 저장 및 가져오기 할 폴더를 선택하여 클릭합니다.\n",
      "2) 해당 폴더 경로가 표시된 상단 부분에 있는 파일 리스트에 RPACA 파일이 존재한다면 이미지 캡처 및 클릭 등의 작업을 수행할 수 있습니다.\n",
      "3) 필요한 작업을 수행하기 위해 필요한 명령어를 작성하고 실행 버튼을 클릭합니다.\n",
      "4) 작업이 완료되면 결과를 확인할 수 있습니다.\n",
      "4. RPACA를 사용하기 위해서는 어떤 명령어를 사용해야 하나요?\n",
      "RPACA를 사용하기 위해서는 다양한 명령어를 사용할 수 있습니다. 예를 들어, 크롬 브라우저를 실행하는 명령어는 openBrowser 명령어를 사용할 수 있습니다. 또한, 브라우저 내에서 특정 작업을 수행하는 명령어도 제공됩니다. 이러한 명령어를 사용하여 원하는 작업을 자동화할 수 있습니다.\n",
      "5. RPACA를 사용하기 위해서는 어떤 설정을 해야 하나요?\n",
      "RPACA를 사용하기 위해서는 다음과 같은 설정을 해야 합니다:\n",
      "1) RPACA 파일을 저장 및 가져오기 할 폴더를 선택합니다.\n",
      "2) 필요한 작업을 수행하기 위해 필요한 명령어를 작성합니다.\n",
      "3) 작성한 명령어를 RPACA 파일에 저장합니다.\n",
      "4) RPACA 파일을 실행하여 원하는 작업을 수행합니다.\n",
      "5) 작업이 완료되면 결과를 확인합니다.\n",
      "6. RPACA를 사용하기 위해서는 어떤 파일을 사용해야 하나요?\n",
      "RPACA를 사용하기 위해서는 RPACA 파일을 사용해야 합니다. 이 파일은 크롬 브라우저를 통해 실행되며, 사용자가 원하는 작업을 자동화하기 위한 명령어를 포함하고 있습니다.\n",
      "7. RPACA를 사용하기 위해서는 어떤 단계를 거쳐야 하나요?\n",
      "RPACA를 사용하기 위해서는 다음과 같은 단계를 거쳐야 합니다:\n",
      "1) RPACA 파일을 저장 및 가져오기 할 폴더를 선택합니다.\n",
      "2) 해당 폴더 경로가 표시된 상단 부분에 있는 파일 리스트에 RPACA 파일이 존재한다면 이미지 캡처 및 클릭 등의 작업을 수행할 수 있습니다.\n",
      "3) 필요한 작업을 수행하기 위해 필요한 명령어를 작성하고 실행 버튼을 클릭합니다.\n",
      "4) 작업이 완료되면 결과를 확인합니다.\n",
      "8. RPACA를 사용하기 위해서는 어떤 명령어를 사용해야 하나요?\n",
      "RPACA를 사용하기 위해서는 다양한 명령어를 사용할 수 있습니다. 예를 들어, 크롬 브라우저를 실행하는 명령어는 openBrowser 명령어를 사용할 수 있습니다. 또한, 브라우저 내에서 특정 작업을 수행하는 명령어도 제공됩니다. 이러한 명령어를 사용하여 원하는 작업을 자동화할 수 있습니다.\n",
      "9. RPACA를 사용하기 위해서는 어떤 설정을 해야 하나요?\n",
      "RPACA를 사용하기 위해서는 다음과 같은 설정을 해야 합니다:\n",
      "1) RPACA 파일을 저장 및 가져오기 할 폴더를 선택합니다.\n",
      "2) 필요한 작업을 수행하기 위해 필요한 명령어를 작성합니다.\n",
      "3) 작성한 명령어를 RPACA 파일에 저장합니다.\n",
      "4) RPACA 파일을 실행하여 원하는 작업을 수행합니다.\n",
      "5) 작업이 완료되면 결과를 확인합니다.\n",
      "10. RPACA를 사용하기 위해서는 어떤 단계를 거쳐야 하나요?\n",
      "RPACA를 사용하기 위해서는 다음과 같은 단계를 거쳐야 합니다:\n",
      "1) RPACA 파일을 저장 및 가져오기 할 폴더를 선택합니다.\n",
      "2) 해당 폴더 경로가 표시된 상단 부분에 있는 파일 리스트에 RPACA 파일이 존재한다면 이미지 캡처 및 클릭 등의 작업을 수행할 수 있습니다.\n",
      "3) 필요한 작업을 수행하기 위해 필요한 명령어를 작성하고 실행 버튼을 클릭합니다.\n",
      "4) 작업이 완료되면 결과를 확인합니다.\n"
     ]
    }
   ],
   "source": [
    "result = stream(\"반드시 prompt만을 사용하여 짧은 질문과 답변 형태를 10개 이상 만들어주세요.\", model, system_prompt)"
   ]
  },
  {
   "cell_type": "code",
   "execution_count": 15,
   "id": "374eb92a-6fed-494c-9e0a-d408e6edbb10",
   "metadata": {},
   "outputs": [
    {
     "name": "stderr",
     "output_type": "stream",
     "text": [
      "Setting `pad_token_id` to `eos_token_id`:2 for open-end generation.\n"
     ]
    },
    {
     "name": "stdout",
     "output_type": "stream",
     "text": [
      "RPACA 설치 가이드는 다음과 같은 단계로 진행됩니다:\n",
      "\n",
      "1) RPACA 설치파일을 더블 클릭합니다.\n",
      "2) Install 버튼이 나오기전까지 계속해서 Next 버튼을 클릭합니다.\n",
      "3) Install 버튼을 클릭합니다.\n",
      "4) 설치가 다 진행될 때까지 기다린 후 FInish 버튼을 눌러 바탕화면에 설치되었는지 확인합니다.\n",
      "\n",
      "RPACA 설치 가이드에서는 설치 파일을 실행하고, 설치 단계를 따라가며 다음 단계로 진행합니다. 설치가 완료되면 바탕화면에 RPACA가 설치되었는지 확인할 수 있습니다.\n"
     ]
    }
   ],
   "source": [
    "result = stream(\"RPACA 설치 가이드에 대해 설명해주세요.\", model, system_prompt)"
   ]
  },
  {
   "cell_type": "code",
   "execution_count": 5,
   "id": "fa53383d-78bf-4dfc-b338-da2baa2d3b77",
   "metadata": {
    "collapsed": true,
    "jupyter": {
     "outputs_hidden": true
    }
   },
   "outputs": [
    {
     "name": "stderr",
     "output_type": "stream",
     "text": [
      "Token indices sequence length is longer than the specified maximum sequence length for this model (2761 > 1024). Running this sequence through the model will result in indexing errors\n",
      "/usr/local/lib/python3.10/dist-packages/transformers/generation/utils.py:1518: UserWarning: You have modified the pretrained model configuration to control generation. This is a deprecated strategy to control generation and will be removed soon, in a future version. Please use and modify the model generation configuration (see https://huggingface.co/docs/transformers/generation_strategies#default-text-generation-configuration )\n",
      "  warnings.warn(\n",
      "Setting `pad_token_id` to `eos_token_id`:2 for open-end generation.\n"
     ]
    },
    {
     "name": "stdout",
     "output_type": "stream",
     "text": [
      "{\"instruction\": \"RPA 자동화 프로그램을 설치하고 사용하는 방법을 알려주세요.\", \"input\": \"\", \"output\": \"RPA 자동화 프로그램을 설치하고 사용하기 위해서는 RPACA 설치파일을 다운로드하여 설치해야 합니다. 설치 후에는 RPACA 파일을 저장 및 가져오기 할 폴더를 선택하고 필요한 activity를 드래그 앤 드롭으로 가져와 정보를 입력하고 다음 단계의 activity를 연결하여 업무자동화를 진행할 수 있습니다.\"}\n",
      "{\"instruction\": \"RPA 자동화 프로그램에서 이미지를 캡처하는 방법을 알려주세요.\", \"input\": \"\", \"output\": \"이미지를 캡처하기 위해서는 이미지 캡처 기능을 사용해야 합니다. 이미지 캡처 기능은 옵션 하단부에 있는 사진기 아이콘을 클릭하고 드래그 앤 드롭으로 원하는 영역을 지정하면 가능합니다.\"}\n",
      "{\"instruction\": \"RPA 자동화 프로그램에서 이미지를 캡처하는 방법을 알려주세요.\", \"input\": \"\", \"output\": \"이미지를 캡처하기 위해서는 이미지 캡처 기능을 사용해야 합니다. 이미지 캡처 기능은 옵션 하단부에 있는 사진기 아이콘을 클릭하고 드래그 앤 드롭으로 원하는 영역을 지정하면 가능합니다.\"}\n",
      "{\"instruction\": \"RPA 자동화 프로그램에서 이미지를 캡처하는 방법을 알려주세요.\", \"input\": \"\", \"output\": \"이미지를 캡처하기 위해서는 이미지 캡처 기능을 사용해야 합니다. 이미지 캡처 기능은 옵션 하단부에 있는 사진기 아이콘을 클릭하고 드래그 앤 드롭으로 원하는 영역을 지정하면 가능합니다.\"}\n",
      "{\"instruction\": \"RPA 자동화 프로그램에서 이미지를 캡처하는 방법을 알려주세요.\", \"input\": \"\", \"output\": \"이미지를 캡처하기 위해서는 이미지 캡처 기능을 사용해야 합니다. 이미지 캡처 기능은 옵션 하단부에 있는 사진기 아이콘을 클릭하고 드래그 앤 드롭으로 원하는 영역을 지정하면 가능합니다.\"}\n",
      "{\"instruction\": \"RPA 자동화 프로그램에서 이미지를 캡처하는 방법을 알려주세요.\", \"input\": \"\", \"output\": \"이미지를 캡처하기 위해서는 이미지 캡처 기능을 사용해야 합니다. 이미지 캡처 기능은 옵션 하단부에 있는 사진기 아이콘을 클릭하고 드래그 앤 드롭으로 원하는 영역을 지정하면 가능합니다.\"}\n",
      "{\"instruction\": \"RPA 자동화 프로그램에서 이미지를 캡처하는 방법을 알려주세요.\", \"input\": \"\", \"output\": \"이미지를 캡처하기 위해서는 이미지 캡처 기능을 사용해야 합니다. 이미지 캡처 기능은 옵션 하단부에 있는 사진기 아이콘을 클릭하고 드래그 앤 드롭으로 원하는 영역을 지정하면 가능합니다.\"}\n",
      "{\"instruction\": \"RPA 자동화 프로그램에서 이미지를 캡처하는 방법을 알려주세요.\", \"input\": \"\", \"output\": \"이미지를 캡처하기 위해서는 이미지 캡처 기능을 사용해야 합니다. 이미지 캡처 기능은 옵션 하단부에 있는 사진기 아이콘을 클릭하고 드래그 앤 드롭으로 원하는 영역을 지정하면 가능합니다.\"}\n",
      "{\"instruction\": \"RPA 자동화 프로그램에서 이미지를 캡처하는 방법을 알려주세요.\", \"input\": \"\", \"output\": \"이미지를 캡처하기 위해서는 이미지 캡처 기능을 사용해야 합니다. 이미지 캡처 기능은 옵션 하단부에 있는 사진기 아이콘을 클릭하고 드래그 앤 드롭으로 원하는 영역을 지정하면 가능합니다.\"}\n",
      "{\"instruction\": \"RPA 자동화 프로그램에서 이미지를 캡처하는 방법을 알려주세요.\", \"input\": \"\", \"output\": \"이미지를 캡처하기 위해서는 이미지 캡처 기능을 사용해야 합니다. 이미지 캡처 기능은 옵션 하단부에 있는 사진기 아이콘을 클릭하고 드래그 앤 드롭으로 원하는 영역을 지정하면 가능합니다.\"}\n"
     ]
    }
   ],
   "source": [
    "result = stream('반드시 prompt의 내용만을 사용하여 짧은 질문과 답변을 10개 생성해주세요. 출력 형태는 {\"instruction\": \"질문\", \"input\": \"\", \"output\": \"답변\"} 같았으면 좋겠습니다.', model, system_prompt)"
   ]
  },
  {
   "cell_type": "code",
   "execution_count": 49,
   "id": "eb2d677d-dcee-4bf7-9bb8-81869a97900a",
   "metadata": {},
   "outputs": [
    {
     "name": "stdout",
     "output_type": "stream",
     "text": [
      "['1. ', 'RPACA 설치 가이드에서 어떻게 설치를 시작해야 하나요?\\n  답변: 1)RPACA 설치파일을 더블 클릭합니다. 2)Install 버튼이 나오기전까지 계속해서 Next버튼을 클릭합니다. 3)Install 버튼을 클릭합니다. 4)설치가 다 진행 될때까지 기다린 후FInish 버튼을 눌러 바탕화면에 설치되었는지 확인합니다.\\n2. ', 'RPACA 사용법에서 어떻게 업무자동화를 만들어야 하나요?\\n  답변: 1)RPACA 파일을 저장 및 가져오기 할 폴더를 선택하여 클릭합니다. 2)해당 폴더 경로에 RPACA 파일이 존재한다면 Files 리스트에 나타납니다. 3)저장버튼을 눌러 RPACA 스크립트 조작 준비를 마칩니다. 4)Activities 를 클릭하면 업무자동화에 필요한 activity 리스트가 보입니다. 5)필요한 activity를 드래그 앤 드롭으로 가져와 정보를 입력하고 다음 단계의 activity를 연결합니다. 6)필요한activity를 모두 연결하였으면 시작버튼을 눌러 업무자동화가 진행되는지 확인합니다. (주모니터에서만 작동) 7)마지막으로 저장버튼을 눌러 현재까지 작업한 내용을 저장합니다.\\n3. ', 'RPACA 사용법에서 어떻게 이미지를 캡처하는 방법인가요?\\n  답변: 1)이름이 Image로 끝나는 Activity를 클릭하면 Option 옆에 사진기 아이콘이 존재합니다. 해당아이콘을 클릭하면 알파카가 최소화 되면서 원하는 영역을 드래그 앤 드롭으로 지정하면 해당 영역이 캡처됩니다. (예시 이미지에선 검색 아이콘을 지정)\\n4. ', 'RPACA 사용법에서 어떻게 캡처한 이미지를 기준으로 브라우저 내의 원하는 부분을 클릭하는 방법인가요?\\n  답변: 1)이미지 캡처는 옵션쪽의 사진기 아이콘을 클릭하고 드래그 앤 드롭으로 원하는 영역을 지정하면 가능합니다. Option\\n   imagePath : 사진기 아이콘을 클릭하고 이미지를 캡처하였을 때 해당 \\n  이미지를 문자화 시킨 값이 자동으로 들어갑니다. (신경 안쓰셔도 됩니다.)\\n5. ', 'RPACA 사용법에서 어떻게 캡처한 이미지를 기준으로 브라우저 내의 원하는 부분을 클릭하는 방법인가요?\\n  답변: 1)이미지 캡처는 옵션쪽의 사진기 아이콘을 클릭하고 드래그 앤 드롭으로 원하는 영역을 지정하면 가능합니다. Option\\n   imagePath : 사진기 아이콘을 클릭하고 이미지를 캡처하였을 때 해당 \\n  이미지를 문자화 시킨 값이 자동으로 들어갑니다. (신경 안쓰셔도 됩니다.)\\n   clickBrowserByImage와는 다르게 캡처한 이미지를 기준으로 브라우저 내의 \\n  원하는 부분을 클릭합니다.']\n",
      "\n",
      "RPACA 설치 가이드에서 어떻게 설치를 시작해야 하나요?\n",
      "  \n",
      "1)RPACA 설치파일을 더블 클릭합니다. 2)Install 버튼이 나오기전까지 계속해서 Next버튼을 클릭합니다. 3)Install 버튼을 클릭합니다. 4)설치가 다 진행 될때까지 기다린 후FInish 버튼을 눌러 바탕화면에 설치되었는지 확인합니다.\n",
      "2. \n",
      "\n",
      "RPACA 사용법에서 어떻게 업무자동화를 만들어야 하나요?\n",
      "  \n",
      "1)RPACA 파일을 저장 및 가져오기 할 폴더를 선택하여 클릭합니다. 2)해당 폴더 경로에 RPACA 파일이 존재한다면 Files 리스트에 나타납니다. 3)저장버튼을 눌러 RPACA 스크립트 조작 준비를 마칩니다. 4)Activities 를 클릭하면 업무자동화에 필요한 activity 리스트가 보입니다. 5)필요한 activity를 드래그 앤 드롭으로 가져와 정보를 입력하고 다음 단계의 activity를 연결합니다. 6)필요한activity를 모두 연결하였으면 시작버튼을 눌러 업무자동화가 진행되는지 확인합니다. (주모니터에서만 작동) 7)마지막으로 저장버튼을 눌러 현재까지 작업한 내용을 저장합니다.\n",
      "3. \n",
      "\n",
      "RPACA 사용법에서 어떻게 이미지를 캡처하는 방법인가요?\n",
      "  \n",
      "1)이름이 Image로 끝나는 Activity를 클릭하면 Option 옆에 사진기 아이콘이 존재합니다. 해당아이콘을 클릭하면 알파카가 최소화 되면서 원하는 영역을 드래그 앤 드롭으로 지정하면 해당 영역이 캡처됩니다. (예시 이미지에선 검색 아이콘을 지정)\n",
      "4. \n",
      "\n",
      "RPACA 사용법에서 어떻게 캡처한 이미지를 기준으로 브라우저 내의 원하는 부분을 클릭하는 방법인가요?\n",
      "  \n",
      "1)이미지 캡처는 옵션쪽의 사진기 아이콘을 클릭하고 드래그 앤 드롭으로 원하는 영역을 지정하면 가능합니다. Option\n",
      "   imagePath : 사진기 아이콘을 클릭하고 이미지를 캡처하였을 때 해당 \n",
      "  이미지를 문자화 시킨 값이 자동으로 들어갑니다. (신경 안쓰셔도 됩니다.)\n",
      "5. \n",
      "\n",
      "RPACA 사용법에서 어떻게 캡처한 이미지를 기준으로 브라우저 내의 원하는 부분을 클릭하는 방법인가요?\n",
      "  \n",
      "1)이미지 캡처는 옵션쪽의 사진기 아이콘을 클릭하고 드래그 앤 드롭으로 원하는 영역을 지정하면 가능합니다. Option\n",
      "   imagePath : 사진기 아이콘을 클릭하고 이미지를 캡처하였을 때 해당 \n",
      "  이미지를 문자화 시킨 값이 자동으로 들어갑니다. (신경 안쓰셔도 됩니다.)\n",
      "   clickBrowserByImage와는 다르게 캡처한 이미지를 기준으로 브라우저 내의 \n",
      "  원하는 부분을 클릭합니다.\n",
      "\n"
     ]
    }
   ],
   "source": [
    "test = result.split('[/INST]')[1]\n",
    "test1 = test.split('질문: ')\n",
    "print(test1)\n",
    "print()\n",
    "\n",
    "for i in range(len(test1)) :\n",
    "    if i > 0 :\n",
    "        question, answer = test1[i].split('답변: ')\n",
    "        print(question)\n",
    "        print(answer)\n",
    "        print()\n",
    "\n",
    "\n",
    "\n",
    "# print()\n",
    "# str"
   ]
  },
  {
   "cell_type": "code",
   "execution_count": 66,
   "id": "172e9a43-fa40-4021-9d88-e73a4ffcb9c1",
   "metadata": {},
   "outputs": [
    {
     "data": {
      "text/plain": [
       "{'data': [{'{\"instruction\": \"RPACA 설치 가이드\", \"input\": \"\", \"output\": \"1)RPACA 설치파일을 더블 클릭합니다. 2)Install 버튼이 나오기전까지 계속해서 Next버튼을 클릭합니다. 3)Install 버튼을 클릭합니다. 4)설치가 다 진행 될때까지 기다린 후FInish 버튼을 눌러 바탕화면에 설치되었는지 확인합니다.\"},{\"instruction\": \"RPACA 사용법\", \"input\": \"\", \"output\": \"1)RPACA 파일을 저장 및 가져오기 할 폴더를 선택하여 클릭합니다. 2)해당 폴더 경로에 RPACA 파일이 존재한다면 Files 리스트에 나타납니다. 상단 부분에는 선택한 폴더 경로가 표시됩니다. 3)저장버튼을 눌러 RPACA 스크립트 조작 준비를 마칩니다. 4)Activities 를 클릭하면 업무자동화에 필요한 activity 리스트가 보입니다. 5)필요한 activity를 드래그 앤 드롭으로 가져와 정보를 입력하고 다음 단계의 activity를 연결합니다. 6)필요한activity를 모두 연결하였으면 시작버튼을 눌러 업무자동화가 진행되는지 확인합니다. (주모니터에서만 작동) 7)마지막으로 저장버튼을 눌러 현재까지 작업한 내용을 저장합니다. Activity 이름이 Image로 끝날 경우 이미지 캡쳐하는 방법\"},'}]}"
      ]
     },
     "execution_count": 66,
     "metadata": {},
     "output_type": "execute_result"
    }
   ],
   "source": [
    "import json\n",
    "\n",
    "data = {}\n",
    "path = \"/workspace/sample.json\"\n",
    "\n",
    "data['data'] = []\n",
    "data['data'].append({\n",
    "    str\n",
    "})\n",
    "\n",
    "data"
   ]
  },
  {
   "cell_type": "code",
   "execution_count": null,
   "id": "0f447114-3809-4447-8065-518c70805286",
   "metadata": {},
   "outputs": [],
   "source": []
  },
  {
   "cell_type": "code",
   "execution_count": null,
   "id": "744a1816-0d2b-4ec6-8a42-53271a1ee4b7",
   "metadata": {},
   "outputs": [],
   "source": []
  },
  {
   "cell_type": "code",
   "execution_count": 12,
   "id": "2e30cc14-7d70-4b4a-8b1e-e1a71686fb52",
   "metadata": {
    "collapsed": true,
    "jupyter": {
     "outputs_hidden": true
    }
   },
   "outputs": [
    {
     "name": "stdout",
     "output_type": "stream",
     "text": [
      "질문: RPACA 설치 가이드에서 어떤 단계에서 설치가 완료되었는지 확인할 수 있나요?\n",
      "답변: 설치가 완료되면 FInish 버튼을 클릭하여 바탕화면에 설치되었는지 확인할 수 있습니다.\n",
      "질문: RPACA 사용법에서 어떻게 업무자동화를 시작할 수 있나요?\n",
      "답변: 업무자동화를 시작하기 위해서는 먼저 필요한 activity를 드래그 앤 드롭으로 가져와 정보를 입력하고 다음 단계의 activity를 연결한 후 시작 버튼을 클릭합니다.\n",
      "질문: RPACA 사용법에서 어떻게 이미지를 캡처할 수 있나요?\n",
      "답변: 이미지를 캡처하기 위해서는 이름이 Image로 끝나는 Activity를 클릭하고 옵션 옆에 사진기 아이콘을 클릭하여 원하는 영역을 드래그 앤 드롭으로 지정하면 됩니다.\n",
      "질문: RPACA 사용법에서 어떻게 캡처한 이미지를 사용할 수 있나요?\n",
      "답변: 캡처한 이미지를 사용하기 위해서는 이미지 캡처 후 해당 이미지를 브라우저 내의 원하는 부분에 입력하거나 클릭할 수 있습니다.\n",
      "질문: RPACA 사용법에서 어떻게 웹페이지의 특정 부분을 클릭할 수 있나요?\n",
      "답변: 웹페이지의 특정 부분을 클릭하기 위해서는 이름이 XPath로 끝나는 Activity를 클릭하고 옵션 옆에 브라우저 내에서 해당 부분을 클릭하고 캡처한 이미지를 사용하여 클릭할 수 있습니다.\n",
      "질문: RPACA 사용법에서 어떻게 웹페이지의 특정 부분을 입력할 수 있나요?\n",
      "답변: 웹페이지의 특정 부분을 입력하기 위해서는 이름이 XPath로 끝나는 Activity를 클릭하고 옵션 옆에 브라우저 내에서 해당 부분을 입력하고 캡처한 이미지를 사용하여 입력할 수 있습니다.\n",
      "질문: RPACA 사용법에서 어떻게 웹페이지의 특정 부분을 클릭하고 입력하는 동시에 캡처한 이미지를 사용할 수 있나요?\n",
      "답변: 웹페이지의 특정 부분을 클릭하고 입력하는 동시에 캡처한 이미지를 사용하기 위해서는 이름이 XPath로 끝나는 Activity를 클릭하고 옵션 옆에 브라우저 내에서 해당 부분을 클릭하고 캡처한 이미지를 사용하여 입력할 수 있습니다.\n",
      "질문: RPACA 사용법에서 어떻게 웹페이지의 특정 부분을 클릭하고 입력하는 동시에 캡처한 이미지를 사용하여 클릭할 수 있나요?\n",
      "답변: 웹페이지의 특정 부분을 클릭하고 입력하는 동시에 캡처한 이미지를 사용하여 클릭하기 위해서는 이름이 XPath로 끝나는 Activity를 클릭하고 옵션 옆에 브라우저 내에서 해당 부분을 클릭하고 캡처한 이미지를 사용하여 클릭할 수 있습니다.\n",
      "질문: RPACA 사용법에서 어떻게 웹페이지의 특정 부분을 클릭하고 입력하는 동시에 캡처한 이미지를 사용하여 입력하는 동시에 클릭할 수 있나요?\n",
      "답변: 웹페이지의 특정 부분을 클릭하고 입력하는 동시에 캡처한 이미지를 사용하여 입력하고 클릭하기 위해서는 이름이 XPath로 끝나는 Activity를 클릭하고 옵션 옆에 브라우저 내에서 해당 부분을 클릭하고 캡처한 이미지를 사용하여 입력하고 클릭할 수 있습니다.\n",
      "질문: RPACA 사용법에서 어떻게 웹페이지의 특정 부분을 클릭하고 입력하는 동시에 캡처한 이미지를 사용하여 입력하고 클릭할 수 있나요?\n",
      "답변: 웹페이지의 특정 부분을 클릭하고 입력하는 동시에 캡처한 이미지를 사용하여 입력하고 클릭할 수 있는 방법은 이름이 XPath로 끝나는 Activity를 클릭하고 옵션 옆에 브라우저 내에서 해당 부분을 클릭하고 캡처한 이미지를 사용하여 입력하고 클릭할 수 있습니다.\n"
     ]
    }
   ],
   "source": [
    "test = result.split('[/INST]')[1]\n",
    "test1 = test.split('\\n')\n",
    "test1 = [v for v in test1 if v]\n",
    "test1\n",
    "\n",
    "str = \"\"\n",
    "for i in range(len(test1)) :\n",
    "    if i % 2 == 0 : \n",
    "        a = test1[i].split('.')[1]\n",
    "        print(f'{a.strip()}')\n",
    "        str += a.strip()\n",
    "        print(f'{test1[i+1].strip()}')\n",
    "        str += test1[i+1].strip()\n",
    "    else : continue"
   ]
  },
  {
   "cell_type": "code",
   "execution_count": 14,
   "id": "fbafe36f-364c-498f-a375-723b81bebba0",
   "metadata": {},
   "outputs": [
    {
     "ename": "TypeError",
     "evalue": "Object of type set is not JSON serializable",
     "output_type": "error",
     "traceback": [
      "\u001b[0;31m---------------------------------------------------------------------------\u001b[0m",
      "\u001b[0;31mTypeError\u001b[0m                                 Traceback (most recent call last)",
      "Cell \u001b[0;32mIn[14], line 12\u001b[0m\n\u001b[1;32m      7\u001b[0m data[\u001b[38;5;124m'\u001b[39m\u001b[38;5;124mdata\u001b[39m\u001b[38;5;124m'\u001b[39m]\u001b[38;5;241m.\u001b[39mappend({\n\u001b[1;32m      8\u001b[0m     \u001b[38;5;28mstr\u001b[39m\n\u001b[1;32m      9\u001b[0m })\n\u001b[1;32m     11\u001b[0m \u001b[38;5;28;01mwith\u001b[39;00m \u001b[38;5;28mopen\u001b[39m(path, \u001b[38;5;124m'\u001b[39m\u001b[38;5;124mw\u001b[39m\u001b[38;5;124m'\u001b[39m) \u001b[38;5;28;01mas\u001b[39;00m outfile:\n\u001b[0;32m---> 12\u001b[0m     \u001b[43mjson\u001b[49m\u001b[38;5;241;43m.\u001b[39;49m\u001b[43mdump\u001b[49m\u001b[43m(\u001b[49m\u001b[43mdata\u001b[49m\u001b[43m,\u001b[49m\u001b[43m \u001b[49m\u001b[43moutfile\u001b[49m\u001b[43m,\u001b[49m\u001b[43m \u001b[49m\u001b[43mindent\u001b[49m\u001b[38;5;241;43m=\u001b[39;49m\u001b[38;5;241;43m4\u001b[39;49m\u001b[43m)\u001b[49m\n",
      "File \u001b[0;32m/usr/lib/python3.10/json/__init__.py:179\u001b[0m, in \u001b[0;36mdump\u001b[0;34m(obj, fp, skipkeys, ensure_ascii, check_circular, allow_nan, cls, indent, separators, default, sort_keys, **kw)\u001b[0m\n\u001b[1;32m    173\u001b[0m     iterable \u001b[38;5;241m=\u001b[39m \u001b[38;5;28mcls\u001b[39m(skipkeys\u001b[38;5;241m=\u001b[39mskipkeys, ensure_ascii\u001b[38;5;241m=\u001b[39mensure_ascii,\n\u001b[1;32m    174\u001b[0m         check_circular\u001b[38;5;241m=\u001b[39mcheck_circular, allow_nan\u001b[38;5;241m=\u001b[39mallow_nan, indent\u001b[38;5;241m=\u001b[39mindent,\n\u001b[1;32m    175\u001b[0m         separators\u001b[38;5;241m=\u001b[39mseparators,\n\u001b[1;32m    176\u001b[0m         default\u001b[38;5;241m=\u001b[39mdefault, sort_keys\u001b[38;5;241m=\u001b[39msort_keys, \u001b[38;5;241m*\u001b[39m\u001b[38;5;241m*\u001b[39mkw)\u001b[38;5;241m.\u001b[39miterencode(obj)\n\u001b[1;32m    177\u001b[0m \u001b[38;5;66;03m# could accelerate with writelines in some versions of Python, at\u001b[39;00m\n\u001b[1;32m    178\u001b[0m \u001b[38;5;66;03m# a debuggability cost\u001b[39;00m\n\u001b[0;32m--> 179\u001b[0m \u001b[38;5;28;01mfor\u001b[39;00m chunk \u001b[38;5;129;01min\u001b[39;00m iterable:\n\u001b[1;32m    180\u001b[0m     fp\u001b[38;5;241m.\u001b[39mwrite(chunk)\n",
      "File \u001b[0;32m/usr/lib/python3.10/json/encoder.py:431\u001b[0m, in \u001b[0;36m_make_iterencode.<locals>._iterencode\u001b[0;34m(o, _current_indent_level)\u001b[0m\n\u001b[1;32m    429\u001b[0m     \u001b[38;5;28;01myield from\u001b[39;00m _iterencode_list(o, _current_indent_level)\n\u001b[1;32m    430\u001b[0m \u001b[38;5;28;01melif\u001b[39;00m \u001b[38;5;28misinstance\u001b[39m(o, \u001b[38;5;28mdict\u001b[39m):\n\u001b[0;32m--> 431\u001b[0m     \u001b[38;5;28;01myield from\u001b[39;00m _iterencode_dict(o, _current_indent_level)\n\u001b[1;32m    432\u001b[0m \u001b[38;5;28;01melse\u001b[39;00m:\n\u001b[1;32m    433\u001b[0m     \u001b[38;5;28;01mif\u001b[39;00m markers \u001b[38;5;129;01mis\u001b[39;00m \u001b[38;5;129;01mnot\u001b[39;00m \u001b[38;5;28;01mNone\u001b[39;00m:\n",
      "File \u001b[0;32m/usr/lib/python3.10/json/encoder.py:405\u001b[0m, in \u001b[0;36m_make_iterencode.<locals>._iterencode_dict\u001b[0;34m(dct, _current_indent_level)\u001b[0m\n\u001b[1;32m    403\u001b[0m         \u001b[38;5;28;01melse\u001b[39;00m:\n\u001b[1;32m    404\u001b[0m             chunks \u001b[38;5;241m=\u001b[39m _iterencode(value, _current_indent_level)\n\u001b[0;32m--> 405\u001b[0m         \u001b[38;5;28;01myield from\u001b[39;00m chunks\n\u001b[1;32m    406\u001b[0m \u001b[38;5;28;01mif\u001b[39;00m newline_indent \u001b[38;5;129;01mis\u001b[39;00m \u001b[38;5;129;01mnot\u001b[39;00m \u001b[38;5;28;01mNone\u001b[39;00m:\n\u001b[1;32m    407\u001b[0m     _current_indent_level \u001b[38;5;241m-\u001b[39m\u001b[38;5;241m=\u001b[39m \u001b[38;5;241m1\u001b[39m\n",
      "File \u001b[0;32m/usr/lib/python3.10/json/encoder.py:325\u001b[0m, in \u001b[0;36m_make_iterencode.<locals>._iterencode_list\u001b[0;34m(lst, _current_indent_level)\u001b[0m\n\u001b[1;32m    323\u001b[0m         \u001b[38;5;28;01melse\u001b[39;00m:\n\u001b[1;32m    324\u001b[0m             chunks \u001b[38;5;241m=\u001b[39m _iterencode(value, _current_indent_level)\n\u001b[0;32m--> 325\u001b[0m         \u001b[38;5;28;01myield from\u001b[39;00m chunks\n\u001b[1;32m    326\u001b[0m \u001b[38;5;28;01mif\u001b[39;00m newline_indent \u001b[38;5;129;01mis\u001b[39;00m \u001b[38;5;129;01mnot\u001b[39;00m \u001b[38;5;28;01mNone\u001b[39;00m:\n\u001b[1;32m    327\u001b[0m     _current_indent_level \u001b[38;5;241m-\u001b[39m\u001b[38;5;241m=\u001b[39m \u001b[38;5;241m1\u001b[39m\n",
      "File \u001b[0;32m/usr/lib/python3.10/json/encoder.py:438\u001b[0m, in \u001b[0;36m_make_iterencode.<locals>._iterencode\u001b[0;34m(o, _current_indent_level)\u001b[0m\n\u001b[1;32m    436\u001b[0m         \u001b[38;5;28;01mraise\u001b[39;00m \u001b[38;5;167;01mValueError\u001b[39;00m(\u001b[38;5;124m\"\u001b[39m\u001b[38;5;124mCircular reference detected\u001b[39m\u001b[38;5;124m\"\u001b[39m)\n\u001b[1;32m    437\u001b[0m     markers[markerid] \u001b[38;5;241m=\u001b[39m o\n\u001b[0;32m--> 438\u001b[0m o \u001b[38;5;241m=\u001b[39m \u001b[43m_default\u001b[49m\u001b[43m(\u001b[49m\u001b[43mo\u001b[49m\u001b[43m)\u001b[49m\n\u001b[1;32m    439\u001b[0m \u001b[38;5;28;01myield from\u001b[39;00m _iterencode(o, _current_indent_level)\n\u001b[1;32m    440\u001b[0m \u001b[38;5;28;01mif\u001b[39;00m markers \u001b[38;5;129;01mis\u001b[39;00m \u001b[38;5;129;01mnot\u001b[39;00m \u001b[38;5;28;01mNone\u001b[39;00m:\n",
      "File \u001b[0;32m/usr/lib/python3.10/json/encoder.py:179\u001b[0m, in \u001b[0;36mJSONEncoder.default\u001b[0;34m(self, o)\u001b[0m\n\u001b[1;32m    160\u001b[0m \u001b[38;5;28;01mdef\u001b[39;00m \u001b[38;5;21mdefault\u001b[39m(\u001b[38;5;28mself\u001b[39m, o):\n\u001b[1;32m    161\u001b[0m \u001b[38;5;250m    \u001b[39m\u001b[38;5;124;03m\"\"\"Implement this method in a subclass such that it returns\u001b[39;00m\n\u001b[1;32m    162\u001b[0m \u001b[38;5;124;03m    a serializable object for ``o``, or calls the base implementation\u001b[39;00m\n\u001b[1;32m    163\u001b[0m \u001b[38;5;124;03m    (to raise a ``TypeError``).\u001b[39;00m\n\u001b[0;32m   (...)\u001b[0m\n\u001b[1;32m    177\u001b[0m \n\u001b[1;32m    178\u001b[0m \u001b[38;5;124;03m    \"\"\"\u001b[39;00m\n\u001b[0;32m--> 179\u001b[0m     \u001b[38;5;28;01mraise\u001b[39;00m \u001b[38;5;167;01mTypeError\u001b[39;00m(\u001b[38;5;124mf\u001b[39m\u001b[38;5;124m'\u001b[39m\u001b[38;5;124mObject of type \u001b[39m\u001b[38;5;132;01m{\u001b[39;00mo\u001b[38;5;241m.\u001b[39m\u001b[38;5;18m__class__\u001b[39m\u001b[38;5;241m.\u001b[39m\u001b[38;5;18m__name__\u001b[39m\u001b[38;5;132;01m}\u001b[39;00m\u001b[38;5;124m \u001b[39m\u001b[38;5;124m'\u001b[39m\n\u001b[1;32m    180\u001b[0m                     \u001b[38;5;124mf\u001b[39m\u001b[38;5;124m'\u001b[39m\u001b[38;5;124mis not JSON serializable\u001b[39m\u001b[38;5;124m'\u001b[39m)\n",
      "\u001b[0;31mTypeError\u001b[0m: Object of type set is not JSON serializable"
     ]
    }
   ],
   "source": [
    "import json\n",
    "\n",
    "data = {}\n",
    "path = \"/workspace/sample.json\"\n",
    "\n",
    "data['data'] = []\n",
    "data['data'].append({\n",
    "    str\n",
    "})\n",
    "\n",
    "with open(path, 'w') as outfile:\n",
    "    json.dump(data, outfile, indent=4)"
   ]
  },
  {
   "cell_type": "code",
   "execution_count": null,
   "id": "05458c09-82ba-4d1d-88bd-f5ac2a750d80",
   "metadata": {},
   "outputs": [],
   "source": []
  },
  {
   "cell_type": "code",
   "execution_count": 25,
   "id": "45a291bf-b8fd-4145-9a6b-d1b5c2855bf4",
   "metadata": {},
   "outputs": [
    {
     "name": "stdout",
     "output_type": "stream",
     "text": [
      "Collecting jsonlines\n",
      "  Downloading jsonlines-4.0.0-py3-none-any.whl.metadata (1.6 kB)\n",
      "Requirement already satisfied: attrs>=19.2.0 in /usr/local/lib/python3.10/dist-packages (from jsonlines) (23.1.0)\n",
      "Downloading jsonlines-4.0.0-py3-none-any.whl (8.7 kB)\n",
      "Installing collected packages: jsonlines\n",
      "Successfully installed jsonlines-4.0.0\n",
      "\u001b[33mWARNING: Running pip as the 'root' user can result in broken permissions and conflicting behaviour with the system package manager. It is recommended to use a virtual environment instead: https://pip.pypa.io/warnings/venv\u001b[0m\u001b[33m\n",
      "\u001b[0m\n",
      "\u001b[1m[\u001b[0m\u001b[34;49mnotice\u001b[0m\u001b[1;39;49m]\u001b[0m\u001b[39;49m A new release of pip is available: \u001b[0m\u001b[31;49m23.3.1\u001b[0m\u001b[39;49m -> \u001b[0m\u001b[32;49m23.3.2\u001b[0m\n",
      "\u001b[1m[\u001b[0m\u001b[34;49mnotice\u001b[0m\u001b[1;39;49m]\u001b[0m\u001b[39;49m To update, run: \u001b[0m\u001b[32;49mpython -m pip install --upgrade pip\u001b[0m\n"
     ]
    }
   ],
   "source": [
    "!pip install jsonlines"
   ]
  },
  {
   "cell_type": "code",
   "execution_count": 30,
   "id": "2d8a296b-1bcf-4d60-aad4-a0b7291e7fc5",
   "metadata": {},
   "outputs": [],
   "source": [
    "ad = []\n",
    "with open(\"/workspace/data/seed_tasks_test.txt\", \"r\") as f:\n",
    "    while True:\n",
    "        line = f.readline()\n",
    "        if not line:\n",
    "            break\n",
    "        ad.append(line.strip())"
   ]
  },
  {
   "cell_type": "code",
   "execution_count": 31,
   "id": "dedadd89-ec48-43de-a7dd-c121d1f24531",
   "metadata": {
    "scrolled": true
   },
   "outputs": [
    {
     "data": {
      "text/plain": [
       "['RPACA 설치 가이드  1)RPACA 설치파일을 더블 클릭합니다. \\\\n 2)Install 버튼이 나오기전까지 계속해서 Next버튼을 클릭합니다. \\\\n 3)Install 버튼을 클릭합니다. \\\\n 4)설치가 다 진행 될때까지 기다린 후FInish 버튼을 눌러 바탕화면에 설치되었는지 확인합니다.',\n",
       " 'RPACA 사용법  1)RPACA 파일을 저장 및 가져오기 할 폴더를 선택하여 클릭합니다.\\\\n2)해당 폴더 경로에 RPACA 파일이 존재한다면 Files 리스트에 나타납니다. \\\\n상단 부분에는 선택한 폴더 경로가 표시됩니다\\\\n3)저장버튼을 눌러 RPACA 스크립트 조작 준비를 마칩니다.4)Activities 를 클릭하면 업무자동화에 필요한 activity 리스트가 보입니다.\\\\n5)필요한 activity를 드래그 앤 드롭으로 가져와 정보를 입력하고 다음 \\\\n단계의 activity를 연결합니다. \\\\n6)필요한activity를 모두 연결하였으면 시작버튼을 눌러 업무자동화가 \\\\n진행되는지 확인합니다. (주모니터에서만 작동)\\\\n7)마지막으로 저장버튼을 눌러 현재까지 작업한 내용을 저장합니다.',\n",
       " 'Activity 이름이 Image로 끝날 경우 이미지 캡쳐하는 방법  1)이름이 Image로 끝나는 Activity를 클릭하면 Option 옆에 사진기 \\\\n아이콘이 존재합니다. 해당아이콘을 클릭합니다. \\\\n2)아이콘을 클릭하면 알파카가 최소화 되면서 원하는 영역을 드래그 앤 \\\\n드롭으로 지정하면 해당 영역이 캡처됩니다. (예시 이미지에선 검색 \\\\n아이콘을 지정)\\\\n3)imagePath 부분에 이미지를 문자화 시킨 값이 들어가고, 옵션 \\\\n하단부에 캡처한 이미지가 나타나고 작업을 완료합니다.',\n",
       " 'Activity 이름이 XPath로 끝날 경우 xpath 값 구하는 방법  1)크롬 브라우저에서 키보드의 F12 를 클릭합니다.\\\\n2)이미지에 표시 된 부분을 클릭합니다. 3)브라우저 내에서 xpath를 구하고자 하는 곳에 마우스를 올리면 \\\\n이미지와 같이 표시됩니다. \\\\n4)마우스로 클릭하게 되면 이미지와 같이 색으로 하이라이트 되어 \\\\n나타나게 됩니다. \\\\n5)하이라이트 된 부분에 마우스 오른쪽 클릭하고 Copy – Copy full \\\\nxpath를 클릭하면 xpath가 복사됩니다. \\\\n6)옵션에서xpath부분에 ctrl + v 를 눌러 붙여넣어 줍니다.',\n",
       " 'Activities 기능 설명  openBrowser, openCMD, getURL, inputBrowserByXPath,  clickBrowserByXPath, inputBrowserByImage, clickBrowserByImage, clicks, hotkey, clickBrowserByImage, click, BrowserByImage, typingText,  switchingTap, scrollSearchByImage, trycatch, closeBrowser, if, getText, w',\n",
       " 'openBrowser  크롬 브라우저를 오픈합니다.\\\\nOption\\\\npre_delay_time (숫자) : 기능을 수행하기 전의 대기시간을 정합니다.\\\\nafter_delay_time (숫자) : 기능을 수행하고 난 후의 대기시간을 정합니다.',\n",
       " 'openCMD  명령 프롬프트를 실행합니다.\\\\nOption\\\\nadmin : true라고 입력 할 경우 관리자 권한으로 실행합니다. 그 외에는 일반 \\\\n권한으로 실행합니다.\\\\npre_delay_time (숫자) : 기능을 수행하기 전의 대기시간을 정합니다.\\\\nafter_delay_time (숫자) : 기능을 수행하고 난 후의 대기시간을 정합니다.',\n",
       " 'getURL  브라우저 주소창에 주소를 입력합니다.\\\\nOption\\\\nurl : 주소창에 입력 할 주소입니다. (예시: www.infofla.com)\\\\npre_delay_time (숫자) : 기능을 수행하기 전의 대기시간을 정합니다.\\\\nafter_delay_time (숫자) : 기능을 수행하고 난 후의 대기시간을 정합니다.',\n",
       " 'inputBrowserByXPath  브라우저 안에서 사용자가 내용을 입력 할 수 있는 부분(예시: 검색창)에 \\\\n값을 입력합니다.\\\\nOption\\\\nxpath : 브라우저 내의 xpath를 입력합니다. (매뉴얼 맨 처음 부분 참조)\\\\ninput : 입력하고 싶은 내용을 적습니다.\\\\npre_delay_time (숫자) : 기능을 수행하기 전의 대기시간을 정합니다.\\\\nafter_delay_time (숫자) : 기능을 수행하고 난 후의 대기시간을 정합니다.',\n",
       " 'clickBrowserByXPath  브라우저 안의 특정 부분을 클릭합니다.Option\\\\nxpath : 브라우저 내의 xpath를 입력합니다. (매뉴얼 맨 처음 부분 참조)\\\\npre_delay_time (숫자) : 기능을 수행하기 전의 대기시간을 정합니다.\\\\nafter_delay_time (숫자) : 기능을 수행하고 난 후의 대기시간을 정합니다.',\n",
       " 'inputBrowserByImage  브라우저 안에서 사용자가 내용을 입력 할 수 있는 부분(예시: 검색창)에 \\\\n값을 입력합니다.\\\\ninputBrowserByXPath와는 다르게 캡처한 이미지를 기준으로 브라우저 내의 \\\\n원하는 부분에 내용을 입력합니다.\\\\n이미지 캡처는 옵션쪽의 사진기 아이콘을 클릭하고 드래그 앤 드롭으로 \\\\n원하는 영역을 지정하면 가능합니다.\\\\nOption\\\\nimagePath : 사진기 아이콘을 클릭하고 이미지를 캡처하였을 때 해당 \\\\n이미지를 문자화 시킨 값이 자동으로 들어갑니다. (신경 안쓰셔도 됩니다.)\\\\ninput : 입력하고 싶은 내용을 적습니다.\\\\npre_delay_time (숫자) : 기능을 수행하기 전의 대기시간을 정합니다.\\\\nafter_delay_time (숫자) : 기능을 수행하고 난 후의 대기시간을 정합니다.',\n",
       " 'clickBrowserByImage  브라우저 안의 특정 부분을 클릭합니다.\\\\nclickBrowserByXPath와는 다르게 캡처한 이미지를 기준으로 브라우저 내의 \\\\n원하는 부분을 클릭합니다.\\\\n이미지 캡처는 옵션쪽의 사진기 아이콘을 클릭하고 드래그 앤 드롭으로 \\\\n원하는 영역을 지정하면 가능합니다.\\\\nOption\\\\nimagePath : 사진기 아이콘을 클릭하고 이미지를 캡처하였을 때 해당 \\\\n이미지를 문자화 시킨 값이 자동으로 들어갑니다. (신경 안쓰셔도 됩니다.)\\\\nclicks (숫자) : 원하는 클릭 횟수를 입력합니다.\\\\ninterval (숫자) : 클릭 횟수 사이의 대기시간을 설정합니다. (예시: click이 \\\\n2이고 interval이 1이면 한번 클릭 한 뒤 1초 대기 후 다시 한번 \\\\n클릭합니다.)\\\\nbutton : 마우스의 왼쪽 버튼으로 클릭할 것인지 오른쪽 버튼으로 클릭할 \\\\n것인지 정합니다. (left 라고 적으면 왼쪽 클릭, right라고 적으면 오른쪽 클릭)\\\\npre_delay_time (숫자) : 기능을 수행하기 전의 대기시간을 정합니다.\\\\nafter_delay_time (숫자) : 기능을 수행하고 난 후의 대기시간을 정합니다.',\n",
       " 'clicks  옵션 내의 X, Y값을 기준으로 모니터 내의 특정 부분을 클릭합니다. \\\\n Option \\\\nX (숫자) : 모니터의 픽셀을 나타냅니다. 모니터 좌측을 기준으로 0으로 시작해서 숫자가 커질때마다 우측으로 이동합니다. \\\\n Y (숫자) : 모니터의 픽셀을 나타냅니다. 모니터 상단을 기준으로 0으로 시작해서 숫자가 커질때마다 하단으로 이동합니다. \\\\n clicks (숫자) : 원하는 클릭 횟수를 입력합니다. \\\\n interval (숫자) : 클릭 횟수 사이의 대기시간을 설정합니다. (예시: click이 2이고 interval이 1이면 한번 클릭 한 뒤 1초 대기 후 다시 한번 클릭합니다.) \\\\n button : 마우스의 왼쪽 버튼으로 클릭할 것인지 오른쪽 버튼으로 클릭할 것인지 정합니다. (left 라고 적으면 왼쪽 클릭, right라고 적으면 오른쪽 클릭) \\\\n pre_delay_time (숫자) : 기능을 수행하기 전의 대기시간을 정합니다. \\\\n after_delay_time (숫자) : 기능을 수행하고 난 후의 대기시간을 정합니다.',\n",
       " 'hotkey  컴퓨터의 단축키를 실행할 수 있습니다. (예제: ctrl+c 라고 적을 시 복사를 \\\\n진행)\\\\n단축키 명령어 리스트 (대소문자 구분 없이 동작합니다.)\\\\nalt\\\\nbackspace\\\\ncaps lock\\\\nctrl\\\\ndel\\\\nend\\\\nesc\\\\nf1~f12\\\\nhome\\\\ninsert\\\\nnum lock\\\\npage down\\\\npage up\\\\npause\\\\nprint screen\\\\nscroll lock\\\\nshiftspace\\\\ntab\\\\n알파벳 (예제: ctrl+c, ctrl+v)\\\\nOption\\\\nhotkey : 스펠링에 해당하는 키보드의 단축키를 실행합니다. 여러 단축키를 \\\\n동시에 실행하려면 단축키들 사이에 + 를 입력하여 이어줍니다.\\\\npre_delay_time (숫자) : 기능을 수행하기 전의 대기시간을 정합니다.\\\\nafter_delay_time (숫자) : 기능을 수행하고 난 후의 대기시간을 정합니다.',\n",
       " 'typingText  옵션의 text부분에 입력한 내용을 기준으로 키보드 타이핑을 진행합니다.\\\\nOption\\\\ntext : 키보드 타이핑을 진행 할 내용을 입력합니다.\\\\ninterval (숫자) : 키보드 타이핑 사이에 대기시간을 설정합니다. (예제: \\\\ninterval이 1이고 text가 123이면 1입력 후 1초대기, 2 입력후 1초대기, \\\\n3입력)\\\\npre_delay_time (숫자) : 기능을 수행하기 전의 대기시간을 정합니다.\\\\nafter_delay_time (숫자) : 기능을 수행하고 난 후의 대기시간을 정합니다.',\n",
       " 'scrollToEnd  브라우저의 맨 밑으로 스크롤 이동합니다.\\\\nOption\\\\npre_delay_time (숫자) : 기능을 수행하기 전의 대기시간을 정합니다.\\\\nafter_delay_time (숫자) : 기능을 수행하고 난 후의 대기시간을 정합니다.',\n",
       " 'switchingTap  브라우저의 마지막 탭으로 이동합니다.\\\\nRPA 작업 중 새 탭이 열릴 경우 새 탭으로 이동하는 용도로 사용됩니다.\\\\nOption\\\\npre_delay_time (숫자) : 기능을 수행하기 전의 대기시간을 정합니다.\\\\nafter_delay_time (숫자) : 기능을 수행하고 난 후의 대기시간을 정합니다.',\n",
       " 'scrollSearchByImage  브라우저 안의 특정 부분을 클릭합니다.\\\\n캡처한 이미지를 기준으로 브라우저 내의 원하는 부분을 클릭합니다.만약 현재 보이는 브라우저의 화면에 캡처한 이미지가 존재하지 않는다면 \\\\n스크롤을 내리면서 브라우저 전체에서 해당하는 이미지를 찾습니다.\\\\n이미지 캡처는 옵션쪽의 사진기 아이콘을 클릭하고 드래그 앤 드롭으로 \\\\n원하는 영역을 지정하면 가능합니다.\\\\nOption\\\\nimagePath : 사진기 아이콘을 클릭하고 이미지를 캡처하였을 때 해당 \\\\n이미지를 문자화 시킨 값이 자동으로 들어갑니다. (신경 안쓰셔도 됩니다.)\\\\npre_delay_time (숫자) : 기능을 수행하기 전의 대기시간을 정합니다.\\\\nafter_delay_time (숫자) : 기능을 수행하고 난 후의 대기시간을 정합니다.',\n",
       " 'trycatch  activity 에 문제가 생기면 (try) 다른 activity 들을 실행시킵니다. (catch)\\\\nTrycatch activity를 드래그 앤 드롭 한 후 더블 클릭하면 try, catch, finally 중 \\\\n하나를 선택 할 수 있습니다.\\\\nTry에 activity들을 등록해서 RPA를 진행하다가 에러가 날 경우 catch 에 \\\\n등록해둔 activity들이 실행되게 됩니다.\\\\nFinally는 에러가 나든 안나든 try나 catch의 activity들이 다 실행 된후 \\\\n실행되게 됩니다.\\\\nOption\\\\npre_delay_time (숫자) : 기능을 수행하기 전의 대기시간을 정합니다.\\\\nafter_delay_time (숫자) : 기능을 수행하고 난 후의 대기시간을 정합니다.',\n",
       " 'closeBrowser  크롬 브라우저를 종료합니다.\\\\nOption\\\\npre_delay_time (숫자) : 기능을 수행하기 전의 대기시간을 정합니다.\\\\nafter_delay_time (숫자) : 기능을 수행하고 난 후의 대기시간을 정합니다.',\n",
       " 'if  옵션에서 condition이 파이썬 문법으로 True로 평가될 경우 then의 \\\\nactivity들을 실행하고, False로 평가될 경우 else의 activity들을 실행합니다.\\\\nOption\\\\ncondition : 파이썬의 Boolean 타입으로 평가 될 수 있는 조건을 입력합니다.\\\\npre_delay_time (숫자) : 기능을 수행하기 전의 대기시간을 정합니다.\\\\nafter_delay_time (숫자) : 기능을 수행하고 난 후의 대기시간을 정합니다.',\n",
       " 'getText  브라우저 상에 존재하는 내용을 알파카로 가져옵니다.\\\\nOption\\\\nxpath : 브라우저 내의 xpath를 입력합니다. ( 매뉴얼 맨 처음 부분 참조)\\\\ntarget : Variable의 Key 값에 해당하는 값을 입력합니다. 해당 Key 값의 \\\\nValue로 브라우저에서 가져온 내용을 넣습니다.\\\\npre_delay_time (숫자) : 기능을 수행하기 전의 대기시간을 정합니다.\\\\nafter_delay_time (숫자) : 기능을 수행하고 난 후의 대기시간을 정합니다.',\n",
       " 'httpRequest  다른 서버로 값을 요청하여 알파카로 가져옵니다.\\\\nOption\\\\npre_delay_time (숫자) : 기능을 수행하기 전의 대기시간을 정합니다.\\\\nafter_delay_time (숫자) : 기능을 수행하고 난 후의 대기시간을 정합니다.\\\\nurl : 다른 서버의 주소를 입력합니다.\\\\nmethods : http method를 입력합니다 (예시: get, post)\\\\nresultSave : 다른 서버에서 가져온 데이터를 저장할 지의 여부를 정합니다. \\\\n(true (저장함), false(저장안함))\\\\nheader : 다른 서버에 데이터를 요청할 때 헤더 값을 정합니다.\\\\nbody : 다른 서버에 데이터를 요청할 때 body 값을 정합니다.\\\\ncopyVar : Variable에는 알파카에 존재하는 변수 값을 입력하고, copyTarget \\\\n부분에는 다른 서버에서 가져온 변수 명을 입력합니다.',\n",
       " 'graphqlClient  다른 서버(graphql 서버)로 값을 요청하여 알파카로 가져옵니다.\\\\nOption\\\\npre_delay_time (숫자) : 기능을 수행하기 전의 대기시간을 정합니다.\\\\nafter_delay_time (숫자) : 기능을 수행하고 난 후의 대기시간을 정합니다.\\\\nurl : 다른 서버의 주소를 입력합니다.\\\\nresultSave : 다른 서버에서 가져온 데이터를 저장할 지의 여부를 정합니다. \\\\n(true(저장함), false(저장안함))\\\\nheader : 다른 서버에 데이터를 요청할 때 헤더 값을 정합니다.\\\\nbody : Key에 query(고정)를 입력하고, Value에 graphql 쿼리를 입력합니다.\\\\ngqlVariables : graphql 쿼리에서 사용할 변수들을 입력합니다. (Key=변수명, \\\\nValue=변수값)\\\\ncopyVar : Variable에는 알파카에 존재하는 변수 값을 입력하고, copyTarget \\\\n부분에는 다른 서버에서 가져온 변수 명을 입력합니다',\n",
       " 'goTo  옵션의 nodeId에 입력한 번호를 가진 activity에서부터 다시 시작합니다.\\\\nOption\\\\nnodeId (숫자) : activity를 드래그 앤 드롭해서 나온 네모난 노드를 \\\\n클릭해보면 옵션 옆에 번호가 있는데 이동하고 싶은 activity의 번호를 \\\\n입력하면 해당 노드부터 다시 실행됩니다.\\\\npre_delay_time (숫자) : 기능을 수행하기 전의 대기시간을 정합니다.\\\\nafter_delay_time (숫자) : 기능을 수행하고 난 후의 대기시간을 정합니다.',\n",
       " 'pythonCode  파이썬 코드를 실행하고, 그 결과를 알파카에 저장합니다.\\\\nOption\\\\ncode : 파이썬 코드를 실행한 결과를 variable 옵션에 설정한 변수에 \\\\n담습니다.\\\\nvariable : code에서 실행된 결과를 variable에 적은 변수 명에 담습니다.\\\\npre_delay_time (숫자) : 기능을 수행하기 전의 대기시간을 정합니다.\\\\nafter_delay_time (숫자) : 기능을 수행하고 난 후의 대기시간을 정합니다.',\n",
       " 'clipboardCopy  ctrl+c로 저장한 텍스트를 알파카에 저장합니다.\\\\nOption\\\\nvariable : ctrl+c로 저장한 텍스트를 저장할 variable 이름을 지정합니다.\\\\npre_delay_time (숫자) : 기능을 수행하기 전의 대기시간을 정합니다.\\\\nafter_delay_time (숫자) : 기능을 수행하고 난 후의 대기시간을 정합니다.',\n",
       " 'messageBox  옵션 message에 입력한 내용으로 알림창을 띄웁니다.\\\\nOption\\\\nmessage : 메시지박스의 내용을 입력합니다.\\\\npre_delay_time (숫자) : 기능을 수행하기 전의 대기시간을 정합니다.\\\\nafter_delay_time (숫자) : 기능을 수행하고 난 후의 대기시간을 정합니다.',\n",
       " 'checkElement  브라우저 내의 특정 부분을 선택하는 여러가지 방법 중 하나를 선택해서 \\\\n알파카로 가져옵니다.\\\\nmethod 리스트\\\\nid\\\\nIds\\\\nname\\\\nnames\\\\ntag\\\\nTags\\\\nxpath\\\\nxpathsOption\\\\nmethod : 브라우저에서 특정 부분을 선택하는 방법을 기술합니다.\\\\ntarget : 특정 부분을 선택하는 방법의 문법에 맞춰서 특정 부분을 \\\\n선택합니다.\\\\nvarTarget : variable의 key를 지정하고, 특정 부분에서 가져온 내용을 \\\\n넣습니다.\\\\npre_delay_time (숫자) : 기능을 수행하기 전의 대기시간을 정합니다.\\\\nafter_delay_time (숫자) : 기능을 수행하고 난 후의 대기시간을 정합니다.',\n",
       " 'parsingVariable  Variable의 Type을 변경합니다.\\\\nType 종류 리스트\\\\nint\\\\nfloat\\\\nstring\\\\nOption\\\\nkey : Type을 변경 할Variable의 Key 값을 설정합니다.\\\\ntype : 변경 할 타입의 종류를 적습니다.\\\\npre_delay_time (숫자) : 기능을 수행하기 전의 대기시간을 정합니다.\\\\nafter_delay_time (숫자) : 기능을 수행하고 난 후의 대기시간을 정합니다.',\n",
       " 'initVal  기존에 존재하는Variable의 값을 변경합니다.\\\\n옵션의 target에 적은 Variable명이 존재하지 않는다면 동작하지 않습니다.\\\\nType 종류 리스트\\\\nint\\\\nfloat\\\\nstring\\\\narray\\\\nOption\\\\ntarget : 값을 변경 할Variable의 Key 값을 설정합니다.\\\\nvalType : Value의 타입을 적습니다.\\\\nvalue : Value값을 적습니다.\\\\npre_delay_time (숫자) : 기능을 수행하기 전의 대기시간을 정합니다.\\\\nafter_delay_time (숫자) : 기능을 수행하고 난 후의 대기시간을 정합니다.',\n",
       " 'selectByXPath  드롭다운 안의 원하는 내용을 선택합니다.\\\\n*드롭다운 예시 이미지Option\\\\nxpath : 브라우저 내의 xpath를 입력합니다. (매뉴얼 맨 처음 부분 참조)\\\\npre_delay_time (숫자) : 기능을 수행하기 전의 대기시간을 정합니다.\\\\nafter_delay_time (숫자) : 기능을 수행하고 난 후의 대기시간을 정합니다.',\n",
       " 'selectByImage  드롭다운 안의 원하는 내용을 선택합니다.\\\\nselectByXPath와는 다르게 캡처한 이미지로 원하는 내용을 선택합니다.\\\\n예시\\\\n왼쪽 사진기 아이콘 클릭 \\\\n드롭다운 첫 내용 스캔 \\\\n드롭다운에서 선택 할 내용을 선택 \\\\n오른쪽 사진기 아이콘 클릭 \\\\n선\\\\n택한 내용 스캔 \\\\nOption\\\\nimagePath1 : 사진기 아이콘(왼쪽)을 클릭하고 이미지를 캡처하였을 때 해당 \\\\n이미지를 문자화 시킨 값이 자동으로 들어갑니다. (신경 안쓰셔도 됩니다.)\\\\nimagePath2 : 사진기 아이콘(오른쪽)을 클릭하고 이미지를 캡처하였을 때 \\\\n해당 이미지를 문자화 시킨 값이 자동으로 들어갑니다. (신경 안쓰셔도 \\\\n됩니다.)\\\\npre_delay_time (숫자) : 기능을 수행하기 전의 대기시간을 정합니다.\\\\nafter_delay_time (숫자) : 기능을 수행하고 난 후의 대기시간을 정합니다.',\n",
       " 'Vriable 사용법  + 버튼을 누르면 아래와 같이 프로그램에서 사용할 변수(Vriable)를 생성할 \\\\n수 있습니다. Key는 변수명이고, Type은 변수의 타입, Value는 \\\\n변수값입니다. (Vriable은 일부 개발자 특화적 기능에서만 사용됩니다.)\\\\n변수를 사용하려면 Activity의 옵션에서 값을 입력하는 부분에 ${}로 \\\\n변수명을 감싸주면 됩니다. \\\\n재생버튼을 클릭한 결과']"
      ]
     },
     "execution_count": 31,
     "metadata": {},
     "output_type": "execute_result"
    }
   ],
   "source": [
    "ad"
   ]
  },
  {
   "cell_type": "code",
   "execution_count": null,
   "id": "5c7b076c-543e-4d8a-8fc8-671050ac6cca",
   "metadata": {},
   "outputs": [],
   "source": []
  }
 ],
 "metadata": {
  "kernelspec": {
   "display_name": "Python 3 (ipykernel)",
   "language": "python",
   "name": "python3"
  },
  "language_info": {
   "codemirror_mode": {
    "name": "ipython",
    "version": 3
   },
   "file_extension": ".py",
   "mimetype": "text/x-python",
   "name": "python",
   "nbconvert_exporter": "python",
   "pygments_lexer": "ipython3",
   "version": "3.10.12"
  }
 },
 "nbformat": 4,
 "nbformat_minor": 5
}
