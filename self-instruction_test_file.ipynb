{
 "cells": [
  {
   "cell_type": "code",
   "execution_count": 10,
   "id": "39b0d157-0d3d-4639-8659-02f32a87b03f",
   "metadata": {
    "collapsed": true,
    "jupyter": {
     "outputs_hidden": true
    },
    "scrolled": true
   },
   "outputs": [
    {
     "name": "stderr",
     "output_type": "stream",
     "text": [
      "huggingface/tokenizers: The current process just got forked, after parallelism has already been used. Disabling parallelism to avoid deadlocks...\n",
      "To disable this warning, you can either:\n",
      "\t- Avoid using `tokenizers` before the fork if possible\n",
      "\t- Explicitly set the environment variable TOKENIZERS_PARALLELISM=(true | false)\n"
     ]
    },
    {
     "name": "stdout",
     "output_type": "stream",
     "text": [
      "Requirement already satisfied: PyPDF2 in /usr/local/lib/python3.10/dist-packages (3.0.1)\n",
      "\u001b[33mWARNING: Running pip as the 'root' user can result in broken permissions and conflicting behaviour with the system package manager. It is recommended to use a virtual environment instead: https://pip.pypa.io/warnings/venv\u001b[0m\u001b[33m\n",
      "\u001b[0m\n",
      "\u001b[1m[\u001b[0m\u001b[34;49mnotice\u001b[0m\u001b[1;39;49m]\u001b[0m\u001b[39;49m A new release of pip is available: \u001b[0m\u001b[31;49m23.3.1\u001b[0m\u001b[39;49m -> \u001b[0m\u001b[32;49m23.3.2\u001b[0m\n",
      "\u001b[1m[\u001b[0m\u001b[34;49mnotice\u001b[0m\u001b[1;39;49m]\u001b[0m\u001b[39;49m To update, run: \u001b[0m\u001b[32;49mpython -m pip install --upgrade pip\u001b[0m\n"
     ]
    },
    {
     "name": "stderr",
     "output_type": "stream",
     "text": [
      "huggingface/tokenizers: The current process just got forked, after parallelism has already been used. Disabling parallelism to avoid deadlocks...\n",
      "To disable this warning, you can either:\n",
      "\t- Avoid using `tokenizers` before the fork if possible\n",
      "\t- Explicitly set the environment variable TOKENIZERS_PARALLELISM=(true | false)\n"
     ]
    },
    {
     "name": "stdout",
     "output_type": "stream",
     "text": [
      "Requirement already satisfied: tqdm in /usr/local/lib/python3.10/dist-packages (4.66.1)\n",
      "\u001b[33mWARNING: Running pip as the 'root' user can result in broken permissions and conflicting behaviour with the system package manager. It is recommended to use a virtual environment instead: https://pip.pypa.io/warnings/venv\u001b[0m\u001b[33m\n",
      "\u001b[0m\n",
      "\u001b[1m[\u001b[0m\u001b[34;49mnotice\u001b[0m\u001b[1;39;49m]\u001b[0m\u001b[39;49m A new release of pip is available: \u001b[0m\u001b[31;49m23.3.1\u001b[0m\u001b[39;49m -> \u001b[0m\u001b[32;49m23.3.2\u001b[0m\n",
      "\u001b[1m[\u001b[0m\u001b[34;49mnotice\u001b[0m\u001b[1;39;49m]\u001b[0m\u001b[39;49m To update, run: \u001b[0m\u001b[32;49mpython -m pip install --upgrade pip\u001b[0m\n"
     ]
    },
    {
     "name": "stderr",
     "output_type": "stream",
     "text": [
      "huggingface/tokenizers: The current process just got forked, after parallelism has already been used. Disabling parallelism to avoid deadlocks...\n",
      "To disable this warning, you can either:\n",
      "\t- Avoid using `tokenizers` before the fork if possible\n",
      "\t- Explicitly set the environment variable TOKENIZERS_PARALLELISM=(true | false)\n"
     ]
    },
    {
     "name": "stdout",
     "output_type": "stream",
     "text": [
      "Requirement already satisfied: sentence-transformers in /usr/local/lib/python3.10/dist-packages (2.2.2)\n",
      "Requirement already satisfied: transformers<5.0.0,>=4.6.0 in /usr/local/lib/python3.10/dist-packages (from sentence-transformers) (4.37.0)\n",
      "Requirement already satisfied: tqdm in /usr/local/lib/python3.10/dist-packages (from sentence-transformers) (4.66.1)\n",
      "Requirement already satisfied: torch>=1.6.0 in /usr/local/lib/python3.10/dist-packages (from sentence-transformers) (2.1.0+cu118)\n",
      "Requirement already satisfied: torchvision in /usr/local/lib/python3.10/dist-packages (from sentence-transformers) (0.16.0+cu118)\n",
      "Requirement already satisfied: numpy in /usr/local/lib/python3.10/dist-packages (from sentence-transformers) (1.24.1)\n",
      "Requirement already satisfied: scikit-learn in /usr/local/lib/python3.10/dist-packages (from sentence-transformers) (1.4.0)\n",
      "Requirement already satisfied: scipy in /usr/local/lib/python3.10/dist-packages (from sentence-transformers) (1.12.0)\n",
      "Requirement already satisfied: nltk in /usr/local/lib/python3.10/dist-packages (from sentence-transformers) (3.8.1)\n",
      "Requirement already satisfied: sentencepiece in /usr/local/lib/python3.10/dist-packages (from sentence-transformers) (0.1.99)\n",
      "Requirement already satisfied: huggingface-hub>=0.4.0 in /usr/local/lib/python3.10/dist-packages (from sentence-transformers) (0.20.3)\n",
      "Requirement already satisfied: filelock in /usr/local/lib/python3.10/dist-packages (from huggingface-hub>=0.4.0->sentence-transformers) (3.9.0)\n",
      "Requirement already satisfied: fsspec>=2023.5.0 in /usr/local/lib/python3.10/dist-packages (from huggingface-hub>=0.4.0->sentence-transformers) (2023.12.2)\n",
      "Requirement already satisfied: requests in /usr/local/lib/python3.10/dist-packages (from huggingface-hub>=0.4.0->sentence-transformers) (2.31.0)\n",
      "Requirement already satisfied: pyyaml>=5.1 in /usr/local/lib/python3.10/dist-packages (from huggingface-hub>=0.4.0->sentence-transformers) (6.0.1)\n",
      "Requirement already satisfied: typing-extensions>=3.7.4.3 in /usr/local/lib/python3.10/dist-packages (from huggingface-hub>=0.4.0->sentence-transformers) (4.4.0)\n",
      "Requirement already satisfied: packaging>=20.9 in /usr/local/lib/python3.10/dist-packages (from huggingface-hub>=0.4.0->sentence-transformers) (23.2)\n",
      "Requirement already satisfied: sympy in /usr/local/lib/python3.10/dist-packages (from torch>=1.6.0->sentence-transformers) (1.12)\n",
      "Requirement already satisfied: networkx in /usr/local/lib/python3.10/dist-packages (from torch>=1.6.0->sentence-transformers) (3.0)\n",
      "Requirement already satisfied: jinja2 in /usr/local/lib/python3.10/dist-packages (from torch>=1.6.0->sentence-transformers) (3.1.2)\n",
      "Requirement already satisfied: triton==2.1.0 in /usr/local/lib/python3.10/dist-packages (from torch>=1.6.0->sentence-transformers) (2.1.0)\n",
      "Requirement already satisfied: regex!=2019.12.17 in /usr/local/lib/python3.10/dist-packages (from transformers<5.0.0,>=4.6.0->sentence-transformers) (2023.12.25)\n",
      "Requirement already satisfied: tokenizers<0.19,>=0.14 in /usr/local/lib/python3.10/dist-packages (from transformers<5.0.0,>=4.6.0->sentence-transformers) (0.15.1)\n",
      "Requirement already satisfied: safetensors>=0.3.1 in /usr/local/lib/python3.10/dist-packages (from transformers<5.0.0,>=4.6.0->sentence-transformers) (0.4.2)\n",
      "Requirement already satisfied: click in /usr/local/lib/python3.10/dist-packages (from nltk->sentence-transformers) (8.1.7)\n",
      "Requirement already satisfied: joblib in /usr/local/lib/python3.10/dist-packages (from nltk->sentence-transformers) (1.3.2)\n",
      "Requirement already satisfied: threadpoolctl>=2.0.0 in /usr/local/lib/python3.10/dist-packages (from scikit-learn->sentence-transformers) (3.2.0)\n",
      "Requirement already satisfied: pillow!=8.3.*,>=5.3.0 in /usr/local/lib/python3.10/dist-packages (from torchvision->sentence-transformers) (9.3.0)\n",
      "Requirement already satisfied: MarkupSafe>=2.0 in /usr/local/lib/python3.10/dist-packages (from jinja2->torch>=1.6.0->sentence-transformers) (2.1.2)\n",
      "Requirement already satisfied: charset-normalizer<4,>=2 in /usr/local/lib/python3.10/dist-packages (from requests->huggingface-hub>=0.4.0->sentence-transformers) (2.1.1)\n",
      "Requirement already satisfied: idna<4,>=2.5 in /usr/local/lib/python3.10/dist-packages (from requests->huggingface-hub>=0.4.0->sentence-transformers) (3.4)\n",
      "Requirement already satisfied: urllib3<3,>=1.21.1 in /usr/local/lib/python3.10/dist-packages (from requests->huggingface-hub>=0.4.0->sentence-transformers) (1.26.13)\n",
      "Requirement already satisfied: certifi>=2017.4.17 in /usr/local/lib/python3.10/dist-packages (from requests->huggingface-hub>=0.4.0->sentence-transformers) (2022.12.7)\n",
      "Requirement already satisfied: mpmath>=0.19 in /usr/local/lib/python3.10/dist-packages (from sympy->torch>=1.6.0->sentence-transformers) (1.3.0)\n",
      "\u001b[33mWARNING: Running pip as the 'root' user can result in broken permissions and conflicting behaviour with the system package manager. It is recommended to use a virtual environment instead: https://pip.pypa.io/warnings/venv\u001b[0m\u001b[33m\n",
      "\u001b[0m\n",
      "\u001b[1m[\u001b[0m\u001b[34;49mnotice\u001b[0m\u001b[1;39;49m]\u001b[0m\u001b[39;49m A new release of pip is available: \u001b[0m\u001b[31;49m23.3.1\u001b[0m\u001b[39;49m -> \u001b[0m\u001b[32;49m23.3.2\u001b[0m\n",
      "\u001b[1m[\u001b[0m\u001b[34;49mnotice\u001b[0m\u001b[1;39;49m]\u001b[0m\u001b[39;49m To update, run: \u001b[0m\u001b[32;49mpython -m pip install --upgrade pip\u001b[0m\n"
     ]
    },
    {
     "name": "stderr",
     "output_type": "stream",
     "text": [
      "huggingface/tokenizers: The current process just got forked, after parallelism has already been used. Disabling parallelism to avoid deadlocks...\n",
      "To disable this warning, you can either:\n",
      "\t- Avoid using `tokenizers` before the fork if possible\n",
      "\t- Explicitly set the environment variable TOKENIZERS_PARALLELISM=(true | false)\n"
     ]
    },
    {
     "name": "stdout",
     "output_type": "stream",
     "text": [
      "Requirement already satisfied: protobuf==3.20 in /usr/local/lib/python3.10/dist-packages (3.20.0)\n",
      "\u001b[33mWARNING: Running pip as the 'root' user can result in broken permissions and conflicting behaviour with the system package manager. It is recommended to use a virtual environment instead: https://pip.pypa.io/warnings/venv\u001b[0m\u001b[33m\n",
      "\u001b[0m\n",
      "\u001b[1m[\u001b[0m\u001b[34;49mnotice\u001b[0m\u001b[1;39;49m]\u001b[0m\u001b[39;49m A new release of pip is available: \u001b[0m\u001b[31;49m23.3.1\u001b[0m\u001b[39;49m -> \u001b[0m\u001b[32;49m23.3.2\u001b[0m\n",
      "\u001b[1m[\u001b[0m\u001b[34;49mnotice\u001b[0m\u001b[1;39;49m]\u001b[0m\u001b[39;49m To update, run: \u001b[0m\u001b[32;49mpython -m pip install --upgrade pip\u001b[0m\n"
     ]
    },
    {
     "name": "stderr",
     "output_type": "stream",
     "text": [
      "huggingface/tokenizers: The current process just got forked, after parallelism has already been used. Disabling parallelism to avoid deadlocks...\n",
      "To disable this warning, you can either:\n",
      "\t- Avoid using `tokenizers` before the fork if possible\n",
      "\t- Explicitly set the environment variable TOKENIZERS_PARALLELISM=(true | false)\n"
     ]
    },
    {
     "name": "stdout",
     "output_type": "stream",
     "text": [
      "Requirement already satisfied: bitsandbytes in /usr/local/lib/python3.10/dist-packages (0.42.0)\n",
      "Requirement already satisfied: scipy in /usr/local/lib/python3.10/dist-packages (from bitsandbytes) (1.12.0)\n",
      "Requirement already satisfied: numpy<1.29.0,>=1.22.4 in /usr/local/lib/python3.10/dist-packages (from scipy->bitsandbytes) (1.24.1)\n",
      "\u001b[33mWARNING: Running pip as the 'root' user can result in broken permissions and conflicting behaviour with the system package manager. It is recommended to use a virtual environment instead: https://pip.pypa.io/warnings/venv\u001b[0m\u001b[33m\n",
      "\u001b[0m\n",
      "\u001b[1m[\u001b[0m\u001b[34;49mnotice\u001b[0m\u001b[1;39;49m]\u001b[0m\u001b[39;49m A new release of pip is available: \u001b[0m\u001b[31;49m23.3.1\u001b[0m\u001b[39;49m -> \u001b[0m\u001b[32;49m23.3.2\u001b[0m\n",
      "\u001b[1m[\u001b[0m\u001b[34;49mnotice\u001b[0m\u001b[1;39;49m]\u001b[0m\u001b[39;49m To update, run: \u001b[0m\u001b[32;49mpython -m pip install --upgrade pip\u001b[0m\n"
     ]
    },
    {
     "name": "stderr",
     "output_type": "stream",
     "text": [
      "huggingface/tokenizers: The current process just got forked, after parallelism has already been used. Disabling parallelism to avoid deadlocks...\n",
      "To disable this warning, you can either:\n",
      "\t- Avoid using `tokenizers` before the fork if possible\n",
      "\t- Explicitly set the environment variable TOKENIZERS_PARALLELISM=(true | false)\n"
     ]
    },
    {
     "name": "stdout",
     "output_type": "stream",
     "text": [
      "++++++++++++++++++++++++++++++++++++++++++++++++++++++++++++\n",
      "++++++++++++++++++ BUG REPORT INFORMATION ++++++++++++++++++\n",
      "++++++++++++++++++++++++++++++++++++++++++++++++++++++++++++\n",
      "\n",
      "++++++++++++++++++ /usr/local CUDA PATHS +++++++++++++++++++\n",
      "/usr/local/lib/python3.10/dist-packages/bitsandbytes/libbitsandbytes_cuda110.so\n",
      "/usr/local/lib/python3.10/dist-packages/bitsandbytes/libbitsandbytes_cuda110_nocublaslt.so\n",
      "/usr/local/lib/python3.10/dist-packages/bitsandbytes/libbitsandbytes_cuda111.so\n",
      "/usr/local/lib/python3.10/dist-packages/bitsandbytes/libbitsandbytes_cuda111_nocublaslt.so\n",
      "/usr/local/lib/python3.10/dist-packages/bitsandbytes/libbitsandbytes_cuda114.so\n",
      "/usr/local/lib/python3.10/dist-packages/bitsandbytes/libbitsandbytes_cuda114_nocublaslt.so\n",
      "/usr/local/lib/python3.10/dist-packages/bitsandbytes/libbitsandbytes_cuda115.so\n",
      "/usr/local/lib/python3.10/dist-packages/bitsandbytes/libbitsandbytes_cuda115_nocublaslt.so\n",
      "/usr/local/lib/python3.10/dist-packages/bitsandbytes/libbitsandbytes_cuda117.so\n",
      "/usr/local/lib/python3.10/dist-packages/bitsandbytes/libbitsandbytes_cuda117_nocublaslt.so\n",
      "/usr/local/lib/python3.10/dist-packages/bitsandbytes/libbitsandbytes_cuda118.so\n",
      "/usr/local/lib/python3.10/dist-packages/bitsandbytes/libbitsandbytes_cuda118_nocublaslt.so\n",
      "/usr/local/lib/python3.10/dist-packages/bitsandbytes/libbitsandbytes_cuda120.so\n",
      "/usr/local/lib/python3.10/dist-packages/bitsandbytes/libbitsandbytes_cuda120_nocublaslt.so\n",
      "/usr/local/lib/python3.10/dist-packages/bitsandbytes/libbitsandbytes_cuda121.so\n",
      "/usr/local/lib/python3.10/dist-packages/bitsandbytes/libbitsandbytes_cuda121_nocublaslt.so\n",
      "/usr/local/lib/python3.10/dist-packages/bitsandbytes/libbitsandbytes_cuda122.so\n",
      "/usr/local/lib/python3.10/dist-packages/bitsandbytes/libbitsandbytes_cuda122_nocublaslt.so\n",
      "/usr/local/lib/python3.10/dist-packages/bitsandbytes/libbitsandbytes_cuda123.so\n",
      "/usr/local/lib/python3.10/dist-packages/bitsandbytes/libbitsandbytes_cuda123_nocublaslt.so\n",
      "/usr/local/lib/python3.10/dist-packages/torch/lib/libc10_cuda.so\n",
      "/usr/local/lib/python3.10/dist-packages/torch/lib/libtorch_cuda.so\n",
      "/usr/local/lib/python3.10/dist-packages/torch/lib/libtorch_cuda_linalg.so\n",
      "/usr/local/cuda-11.8/compat/libcuda.so\n",
      "/usr/local/cuda-11.8/targets/x86_64-linux/lib/libcudart.so\n",
      "/usr/local/cuda-11.8/targets/x86_64-linux/lib/stubs/libcuda.so\n",
      "\n",
      "+++++++++++++++ WORKING DIRECTORY CUDA PATHS +++++++++++++++\n",
      "\n",
      "\n",
      "++++++++++++++++++ LD_LIBRARY CUDA PATHS +++++++++++++++++++\n",
      "\n",
      "++++++++++++++++++++++++++ OTHER +++++++++++++++++++++++++++\n",
      "COMPILED_WITH_CUDA = True\n",
      "COMPUTE_CAPABILITIES_PER_GPU = ['8.0']\n",
      "++++++++++++++++++++++++++++++++++++++++++++++++++++++++++++\n",
      "++++++++++++++++++++++ DEBUG INFO END ++++++++++++++++++++++\n",
      "++++++++++++++++++++++++++++++++++++++++++++++++++++++++++++\n",
      "\n",
      "Running a quick check that:\n",
      "    + library is importable\n",
      "    + CUDA function is callable\n",
      "\n",
      "\n",
      "WARNING: Please be sure to sanitize sensible info from any such env vars!\n",
      "\n",
      "SUCCESS!\n",
      "Installation was successful!\n"
     ]
    },
    {
     "name": "stderr",
     "output_type": "stream",
     "text": [
      "huggingface/tokenizers: The current process just got forked, after parallelism has already been used. Disabling parallelism to avoid deadlocks...\n",
      "To disable this warning, you can either:\n",
      "\t- Avoid using `tokenizers` before the fork if possible\n",
      "\t- Explicitly set the environment variable TOKENIZERS_PARALLELISM=(true | false)\n"
     ]
    },
    {
     "name": "stdout",
     "output_type": "stream",
     "text": [
      "Requirement already satisfied: accelerate in /usr/local/lib/python3.10/dist-packages (0.26.1)\n",
      "Requirement already satisfied: numpy>=1.17 in /usr/local/lib/python3.10/dist-packages (from accelerate) (1.24.1)\n",
      "Requirement already satisfied: packaging>=20.0 in /usr/local/lib/python3.10/dist-packages (from accelerate) (23.2)\n",
      "Requirement already satisfied: psutil in /usr/local/lib/python3.10/dist-packages (from accelerate) (5.9.6)\n",
      "Requirement already satisfied: pyyaml in /usr/local/lib/python3.10/dist-packages (from accelerate) (6.0.1)\n",
      "Requirement already satisfied: torch>=1.10.0 in /usr/local/lib/python3.10/dist-packages (from accelerate) (2.1.0+cu118)\n",
      "Requirement already satisfied: huggingface-hub in /usr/local/lib/python3.10/dist-packages (from accelerate) (0.20.3)\n",
      "Requirement already satisfied: safetensors>=0.3.1 in /usr/local/lib/python3.10/dist-packages (from accelerate) (0.4.2)\n",
      "Requirement already satisfied: filelock in /usr/local/lib/python3.10/dist-packages (from torch>=1.10.0->accelerate) (3.9.0)\n",
      "Requirement already satisfied: typing-extensions in /usr/local/lib/python3.10/dist-packages (from torch>=1.10.0->accelerate) (4.4.0)\n",
      "Requirement already satisfied: sympy in /usr/local/lib/python3.10/dist-packages (from torch>=1.10.0->accelerate) (1.12)\n",
      "Requirement already satisfied: networkx in /usr/local/lib/python3.10/dist-packages (from torch>=1.10.0->accelerate) (3.0)\n",
      "Requirement already satisfied: jinja2 in /usr/local/lib/python3.10/dist-packages (from torch>=1.10.0->accelerate) (3.1.2)\n",
      "Requirement already satisfied: fsspec in /usr/local/lib/python3.10/dist-packages (from torch>=1.10.0->accelerate) (2023.12.2)\n",
      "Requirement already satisfied: triton==2.1.0 in /usr/local/lib/python3.10/dist-packages (from torch>=1.10.0->accelerate) (2.1.0)\n",
      "Requirement already satisfied: requests in /usr/local/lib/python3.10/dist-packages (from huggingface-hub->accelerate) (2.31.0)\n",
      "Requirement already satisfied: tqdm>=4.42.1 in /usr/local/lib/python3.10/dist-packages (from huggingface-hub->accelerate) (4.66.1)\n",
      "Requirement already satisfied: MarkupSafe>=2.0 in /usr/local/lib/python3.10/dist-packages (from jinja2->torch>=1.10.0->accelerate) (2.1.2)\n",
      "Requirement already satisfied: charset-normalizer<4,>=2 in /usr/local/lib/python3.10/dist-packages (from requests->huggingface-hub->accelerate) (2.1.1)\n",
      "Requirement already satisfied: idna<4,>=2.5 in /usr/local/lib/python3.10/dist-packages (from requests->huggingface-hub->accelerate) (3.4)\n",
      "Requirement already satisfied: urllib3<3,>=1.21.1 in /usr/local/lib/python3.10/dist-packages (from requests->huggingface-hub->accelerate) (1.26.13)\n",
      "Requirement already satisfied: certifi>=2017.4.17 in /usr/local/lib/python3.10/dist-packages (from requests->huggingface-hub->accelerate) (2022.12.7)\n",
      "Requirement already satisfied: mpmath>=0.19 in /usr/local/lib/python3.10/dist-packages (from sympy->torch>=1.10.0->accelerate) (1.3.0)\n",
      "\u001b[33mWARNING: Running pip as the 'root' user can result in broken permissions and conflicting behaviour with the system package manager. It is recommended to use a virtual environment instead: https://pip.pypa.io/warnings/venv\u001b[0m\u001b[33m\n",
      "\u001b[0m\n",
      "\u001b[1m[\u001b[0m\u001b[34;49mnotice\u001b[0m\u001b[1;39;49m]\u001b[0m\u001b[39;49m A new release of pip is available: \u001b[0m\u001b[31;49m23.3.1\u001b[0m\u001b[39;49m -> \u001b[0m\u001b[32;49m23.3.2\u001b[0m\n",
      "\u001b[1m[\u001b[0m\u001b[34;49mnotice\u001b[0m\u001b[1;39;49m]\u001b[0m\u001b[39;49m To update, run: \u001b[0m\u001b[32;49mpython -m pip install --upgrade pip\u001b[0m\n"
     ]
    },
    {
     "name": "stderr",
     "output_type": "stream",
     "text": [
      "huggingface/tokenizers: The current process just got forked, after parallelism has already been used. Disabling parallelism to avoid deadlocks...\n",
      "To disable this warning, you can either:\n",
      "\t- Avoid using `tokenizers` before the fork if possible\n",
      "\t- Explicitly set the environment variable TOKENIZERS_PARALLELISM=(true | false)\n"
     ]
    },
    {
     "name": "stdout",
     "output_type": "stream",
     "text": [
      "Requirement already satisfied: utils in /usr/local/lib/python3.10/dist-packages (1.0.2)\n",
      "\u001b[33mWARNING: Running pip as the 'root' user can result in broken permissions and conflicting behaviour with the system package manager. It is recommended to use a virtual environment instead: https://pip.pypa.io/warnings/venv\u001b[0m\u001b[33m\n",
      "\u001b[0m\n",
      "\u001b[1m[\u001b[0m\u001b[34;49mnotice\u001b[0m\u001b[1;39;49m]\u001b[0m\u001b[39;49m A new release of pip is available: \u001b[0m\u001b[31;49m23.3.1\u001b[0m\u001b[39;49m -> \u001b[0m\u001b[32;49m23.3.2\u001b[0m\n",
      "\u001b[1m[\u001b[0m\u001b[34;49mnotice\u001b[0m\u001b[1;39;49m]\u001b[0m\u001b[39;49m To update, run: \u001b[0m\u001b[32;49mpython -m pip install --upgrade pip\u001b[0m\n"
     ]
    }
   ],
   "source": [
    "!pip install PyPDF2\n",
    "!pip install tqdm\n",
    "!pip install -U sentence-transformers\n",
    "\n",
    "!pip install protobuf==3.20\n",
    "!pip install bitsandbytes\n",
    "!python -m bitsandbytes\n",
    "\n",
    "!pip install accelerate\n",
    "\n",
    "!pip install utils"
   ]
  },
  {
   "cell_type": "code",
   "execution_count": 2,
   "id": "4804e26d-6218-46a2-ab8c-1882bd216691",
   "metadata": {},
   "outputs": [
    {
     "data": {
      "application/vnd.jupyter.widget-view+json": {
       "model_id": "2103bfcc50ba4f7d92313065f79033b8",
       "version_major": 2,
       "version_minor": 0
      },
      "text/plain": [
       "tokenizer_config.json:   0%|          | 0.00/1.67k [00:00<?, ?B/s]"
      ]
     },
     "metadata": {},
     "output_type": "display_data"
    },
    {
     "data": {
      "application/vnd.jupyter.widget-view+json": {
       "model_id": "65f95f2d9e594027b456eb807f7dfb5c",
       "version_major": 2,
       "version_minor": 0
      },
      "text/plain": [
       "tokenizer.model:   0%|          | 0.00/493k [00:00<?, ?B/s]"
      ]
     },
     "metadata": {},
     "output_type": "display_data"
    },
    {
     "data": {
      "application/vnd.jupyter.widget-view+json": {
       "model_id": "ed70c33675724790a916277bd5682ed4",
       "version_major": 2,
       "version_minor": 0
      },
      "text/plain": [
       "added_tokens.json:   0%|          | 0.00/42.0 [00:00<?, ?B/s]"
      ]
     },
     "metadata": {},
     "output_type": "display_data"
    },
    {
     "data": {
      "application/vnd.jupyter.widget-view+json": {
       "model_id": "e1fe4b834e26413bb98a53304cbad52c",
       "version_major": 2,
       "version_minor": 0
      },
      "text/plain": [
       "special_tokens_map.json:   0%|          | 0.00/168 [00:00<?, ?B/s]"
      ]
     },
     "metadata": {},
     "output_type": "display_data"
    },
    {
     "data": {
      "application/vnd.jupyter.widget-view+json": {
       "model_id": "ff40399b32dd434e9c0b6d6ed139a716",
       "version_major": 2,
       "version_minor": 0
      },
      "text/plain": [
       "config.json:   0%|          | 0.00/624 [00:00<?, ?B/s]"
      ]
     },
     "metadata": {},
     "output_type": "display_data"
    },
    {
     "data": {
      "application/vnd.jupyter.widget-view+json": {
       "model_id": "7158b2b3fd84436e91f27ea875ce4789",
       "version_major": 2,
       "version_minor": 0
      },
      "text/plain": [
       "pytorch_model.bin.index.json:   0%|          | 0.00/23.9k [00:00<?, ?B/s]"
      ]
     },
     "metadata": {},
     "output_type": "display_data"
    },
    {
     "data": {
      "application/vnd.jupyter.widget-view+json": {
       "model_id": "3da280e6166340509bad4484f3a43192",
       "version_major": 2,
       "version_minor": 0
      },
      "text/plain": [
       "Downloading shards:   0%|          | 0/2 [00:00<?, ?it/s]"
      ]
     },
     "metadata": {},
     "output_type": "display_data"
    },
    {
     "data": {
      "application/vnd.jupyter.widget-view+json": {
       "model_id": "fb5e0552cc904d749ae6ca3804ce7ebd",
       "version_major": 2,
       "version_minor": 0
      },
      "text/plain": [
       "pytorch_model-00001-of-00002.bin:   0%|          | 0.00/9.94G [00:00<?, ?B/s]"
      ]
     },
     "metadata": {},
     "output_type": "display_data"
    },
    {
     "data": {
      "application/vnd.jupyter.widget-view+json": {
       "model_id": "387081529cb249f8bd00caa30d98fc3c",
       "version_major": 2,
       "version_minor": 0
      },
      "text/plain": [
       "pytorch_model-00002-of-00002.bin:   0%|          | 0.00/4.54G [00:00<?, ?B/s]"
      ]
     },
     "metadata": {},
     "output_type": "display_data"
    },
    {
     "data": {
      "application/vnd.jupyter.widget-view+json": {
       "model_id": "b344f4dc0942468b9f52499be536ef22",
       "version_major": 2,
       "version_minor": 0
      },
      "text/plain": [
       "Loading checkpoint shards:   0%|          | 0/2 [00:00<?, ?it/s]"
      ]
     },
     "metadata": {},
     "output_type": "display_data"
    },
    {
     "name": "stderr",
     "output_type": "stream",
     "text": [
      "/usr/local/lib/python3.10/dist-packages/torch/_utils.py:831: UserWarning: TypedStorage is deprecated. It will be removed in the future and UntypedStorage will be the only storage class. This should only matter to you if you are using storages directly.  To access UntypedStorage directly, use tensor.untyped_storage() instead of tensor.storage()\n",
      "  return self.fget.__get__(instance, owner)()\n"
     ]
    },
    {
     "data": {
      "application/vnd.jupyter.widget-view+json": {
       "model_id": "544d763a7a6a4053911762ef092181e5",
       "version_major": 2,
       "version_minor": 0
      },
      "text/plain": [
       "generation_config.json:   0%|          | 0.00/111 [00:00<?, ?B/s]"
      ]
     },
     "metadata": {},
     "output_type": "display_data"
    }
   ],
   "source": [
    "from transformers import AutoTokenizer, AutoModelForSeq2SeqLM, AutoModelForCausalLM\n",
    "\n",
    "path = \"davidkim205/komt-mistral-7b-v1\"\n",
    "tokenizer = AutoTokenizer.from_pretrained(path, device_map=\"auto\")\n",
    "model = AutoModelForCausalLM.from_pretrained(path, low_cpu_mem_usage=True, device_map=\"auto\")"
   ]
  },
  {
   "cell_type": "code",
   "execution_count": 3,
   "id": "c61d51a5-eeaf-4f38-b989-3ed1101bd139",
   "metadata": {},
   "outputs": [],
   "source": [
    "def model_prompt(prompt_instructions):\n",
    "    # your_prompt = \"[INST] 반드시 prompt의 내용만을 사용하여 '질문-답변'을 10개 이상 만들어주세요. [/INST]\"\n",
    "    your_prompt = \"[INST] 반드시 prompt 내용만을 사용하여 짧은 '질문과 답변'을 10개 이상, '질문: , 답변:' 형태로 만들어주세요. [/INST]\"\n",
    "    system_prompt = \"\"\n",
    "    \n",
    "    for idx, task_dict in enumerate(prompt_instructions):\n",
    "        (instruction, output) = task_dict[\"instruction\"], task_dict[\"output\"]\n",
    "        system_prompt += instruction + output\n",
    "\n",
    "    system_prompt = f\"\"\"{system_prompt}\"\"\"\n",
    "    prompt = f\"{system_prompt}\\n {your_prompt}\"\n",
    "    inputs = tokenizer([prompt], return_tensors=\"pt\").to(\"cuda:0\")\n",
    "\n",
    "    # streamer = TextStreamer(tokenizer, skip_prompt=True, skip_special_tokens=True)\n",
    "    # output = model.generate(**inputs, streamer=streamer, max_new_tokens=4096, use_cache=True)\n",
    "    # return_output = tokenizer.batch_decode(output, skip_special_tokens=True)[0]\n",
    "\n",
    "    output = model.generate(**inputs, max_new_tokens=4096, use_cache=True)\n",
    "    result = tokenizer.batch_decode(output, skip_special_tokens=True)[0]\n",
    "\n",
    "    # 최종적으로는 [생성 조건 + 사람의 생성한 instruction]을 활용하여 5개의 task를 생성하는 프롬프트 작성\n",
    "    return result"
   ]
  },
  {
   "cell_type": "code",
   "execution_count": 4,
   "id": "3e35ff91-3052-4fcb-b4ca-ce8b60490926",
   "metadata": {},
   "outputs": [],
   "source": [
    "def re_formation(result) :\n",
    "    # li = []\n",
    "    instructions = []\n",
    "    \n",
    "    text_split = result.split('[/INST]')[1]\n",
    "    text_split = text_split.split('질문: ')\n",
    "\n",
    "    for i in range(len(text_split)) : \n",
    "        try :\n",
    "            if i > 0 :\n",
    "                question_, answer_ = text_split[i].split('답변: ')\n",
    "                # li.append(f'{question_} $-$- {answer_}')\n",
    "                instructions.append({\"instruction\": question_, \"input\": \"\", \"output\": answer_})\n",
    "        except :\n",
    "            pass\n",
    "\n",
    "    return instructions"
   ]
  },
  {
   "cell_type": "code",
   "execution_count": 29,
   "id": "3c12702d-37ad-4259-92a3-f8c88d9ff49f",
   "metadata": {},
   "outputs": [],
   "source": [
    "# def score_compare(model_out) :\n",
    "#     for i in range(len(model_out)) : \n",
    "#         for j in range(len(model_out)) :\n",
    "#             if j == i :\n",
    "#                 continue\n",
    "#             else :\n",
    "#                 test = rouge.get_scores(model_out[i], model_out[j], avg=True)\n",
    "#                 print(f'{model_out[i]} ⇆ {model_out[j]} : \\n{test}\\n')\n",
    "                \n",
    "#                 if test['rouge-1']['r'] >= 0.9 :\n",
    "#                     print('----------------------')\n",
    "#                 else :\n",
    "#                     continue"
   ]
  },
  {
   "cell_type": "code",
   "execution_count": 11,
   "id": "29f01fa9-c8f6-4921-a3b9-9f1f109d5100",
   "metadata": {
    "scrolled": true
   },
   "outputs": [],
   "source": [
    "import os, utils\n",
    "import json, tqdm, random, time, re\n",
    "# from rouge_score import rouge_scorer\n",
    "\n",
    "def generate_instruction_following_data(seed_tasks_path, output_dir, num_prompt_instructions, count):\n",
    "    seed_tasks = [json.loads(l) for l in open(seed_tasks_path, \"r\", encoding='utf-8')]\n",
    "\n",
    "    seed_instruction_data = [\n",
    "        {\"instruction\": t[\"instruction\"], \"input\": t[\"instances\"][0][\"input\"], \"output\": t[\"instances\"][0][\"output\"]}\n",
    "        for t in seed_tasks\n",
    "    ]\n",
    "    # print(seed_instruction_data)\n",
    "    print(f\"Loaded {len(seed_instruction_data)} human-written seed instructions\")\n",
    "\n",
    "    os.makedirs(output_dir, exist_ok=True)\n",
    "    request_idx = 0\n",
    "\n",
    "    # 결과값 뽑아낼 json 파일 생성\n",
    "    machine_instruction_data = []\n",
    "    if os.path.exists(os.path.join(output_dir, \"output.json\")):\n",
    "        machine_instruction_data = utils.jload(os.path.join(output_dir, \"output.json\"))\n",
    "        print(f\"Loaded {len(machine_instruction_data)} machine-generated instructions\")\n",
    "\n",
    "    # 유사도\n",
    "    # scorer = rouge_scorer.RougeScorer([\"rougeL\"], use_stemmer=False)\n",
    "\n",
    "    # # 이하 문장 생성\n",
    "    # # 진행도 확인할 수 있는 bar 생성\n",
    "    # progress_bar = tqdm.tqdm(total=10)\n",
    "    # if machine_instruction_data:\n",
    "    #     progress_bar.update(len(machine_instruction_data))\n",
    "\n",
    "    corr_batch_inputs = []\n",
    "    # while len(machine_instruction_data) < 10:\n",
    "    while len(corr_batch_inputs) <= count :\n",
    "        request_idx += 1\n",
    "        batch_inputs = []\n",
    "        output_instruct = []\n",
    "        \n",
    "        # request_batch_size만큼 숫자의 프롬프트 문구를 생성\n",
    "        for _ in range(3):\n",
    "\n",
    "            # 사람이 생성한 instruction 셋(seed_instruction_data)에서 랜덤하게 num_prompt_instructions 수만큼 뽑는다.\n",
    "            prompt_instructions = random.sample(seed_instruction_data, num_prompt_instructions)\n",
    "            # print(f\"prompt_instructions : \\n {prompt_instructions}\\n\")\n",
    "\n",
    "            # model에서 생성해 가져오는 부분\n",
    "            ############################################################################################################################\n",
    "            # 걸리는 시간 체크\n",
    "            request_start = time.time()\n",
    "\n",
    "            # [생성 조건 + 사람의 생성한 instruction]을 결합해서 최대 30개의 task를 생성하는 프롬프트 작성하는 함수\n",
    "            output = model_prompt(prompt_instructions)\n",
    "            # print(f\"output : \\n {output}\\n\")\n",
    "            re_output = re_formation(output)\n",
    "            batch_inputs += re_output\n",
    "                \n",
    "            request_duration = time.time() - request_start\n",
    "            print(f\"request_duration : {request_duration}\")\n",
    "            ###########################################################################################################################\n",
    "\n",
    "            # 생성했으니 instruction 끼리 비교하여 버리는 작업을 해야함\n",
    "            # output_instruct += [i['instruction'] for i in batch_inputs]\n",
    "            \n",
    "        # print(f\"output_instruct : {output_instruct}\\n\")\n",
    "        # print(f'batch_inputs : \\n{batch_inputs}\\n\\n')\n",
    "        \n",
    "        # 사람이 작성한 instruction과 machine이 작성한 instruction만을 모아서 저장\n",
    "        # all_instructions = [d[\"instruction\"] for d in seed_instruction_data] + output_instruct\n",
    "        # print(f'all_instructions : {all_instructions}')\n",
    "    \n",
    "        # 저장된 instrcution data를 tokenizer\n",
    "        # 원본 self-instruction의 경우에는 ROUGE score을 사용하여 유사도 비교를 하고 있으나\n",
    "        # 한국어의 경우에는 유사도 비교가 제대로 되지 않음(ex. '한글'과 '한글은'의 유사도를 0으로 봄)\n",
    "        # 따라서 다른 비교 방식이 필요\n",
    "        ## all_instruction_tokens = [scorer._tokenizer.tokenize(inst) for inst in all_instructions]\n",
    "        \n",
    "        # instruction 끼리 비교하여 버리는 작업\n",
    "        corr_batch_inputs += list({v['instruction']:v for v in batch_inputs}.values())\n",
    "        print(len(corr_batch_inputs))\n",
    "        # test_out = corr_batch_inputs+seed_tasks\n",
    "\n",
    "    with open(f'{output_dir}/test3.json', 'w') as f :\n",
    "        json.dump(corr_batch_inputs, f)                        "
   ]
  },
  {
   "cell_type": "code",
   "execution_count": null,
   "id": "9fe3753e-a45a-4fbd-9611-7a1ba01df010",
   "metadata": {
    "scrolled": true
   },
   "outputs": [
    {
     "name": "stderr",
     "output_type": "stream",
     "text": [
      "Setting `pad_token_id` to `eos_token_id`:2 for open-end generation.\n"
     ]
    },
    {
     "name": "stdout",
     "output_type": "stream",
     "text": [
      "Loaded 34 human-written seed instructions\n"
     ]
    },
    {
     "name": "stderr",
     "output_type": "stream",
     "text": [
      "Setting `pad_token_id` to `eos_token_id`:2 for open-end generation.\n"
     ]
    },
    {
     "name": "stdout",
     "output_type": "stream",
     "text": [
      "request_duration : 22.52386236190796\n"
     ]
    },
    {
     "name": "stderr",
     "output_type": "stream",
     "text": [
      "Setting `pad_token_id` to `eos_token_id`:2 for open-end generation.\n"
     ]
    },
    {
     "name": "stdout",
     "output_type": "stream",
     "text": [
      "request_duration : 10.497653245925903\n"
     ]
    },
    {
     "name": "stderr",
     "output_type": "stream",
     "text": [
      "Setting `pad_token_id` to `eos_token_id`:2 for open-end generation.\n"
     ]
    },
    {
     "name": "stdout",
     "output_type": "stream",
     "text": [
      "request_duration : 119.90366387367249\n",
      "7\n"
     ]
    },
    {
     "name": "stderr",
     "output_type": "stream",
     "text": [
      "Setting `pad_token_id` to `eos_token_id`:2 for open-end generation.\n"
     ]
    },
    {
     "name": "stdout",
     "output_type": "stream",
     "text": [
      "request_duration : 9.748142957687378\n"
     ]
    },
    {
     "name": "stderr",
     "output_type": "stream",
     "text": [
      "Setting `pad_token_id` to `eos_token_id`:2 for open-end generation.\n"
     ]
    },
    {
     "name": "stdout",
     "output_type": "stream",
     "text": [
      "request_duration : 29.301307916641235\n"
     ]
    },
    {
     "name": "stderr",
     "output_type": "stream",
     "text": [
      "Setting `pad_token_id` to `eos_token_id`:2 for open-end generation.\n"
     ]
    },
    {
     "name": "stdout",
     "output_type": "stream",
     "text": [
      "request_duration : 8.963738441467285\n",
      "14\n"
     ]
    },
    {
     "name": "stderr",
     "output_type": "stream",
     "text": [
      "Setting `pad_token_id` to `eos_token_id`:2 for open-end generation.\n"
     ]
    },
    {
     "name": "stdout",
     "output_type": "stream",
     "text": [
      "request_duration : 7.442534446716309\n"
     ]
    },
    {
     "name": "stderr",
     "output_type": "stream",
     "text": [
      "Setting `pad_token_id` to `eos_token_id`:2 for open-end generation.\n"
     ]
    },
    {
     "name": "stdout",
     "output_type": "stream",
     "text": [
      "request_duration : 5.2614805698394775\n"
     ]
    },
    {
     "name": "stderr",
     "output_type": "stream",
     "text": [
      "Setting `pad_token_id` to `eos_token_id`:2 for open-end generation.\n"
     ]
    },
    {
     "name": "stdout",
     "output_type": "stream",
     "text": [
      "request_duration : 21.971477031707764\n",
      "21\n"
     ]
    },
    {
     "name": "stderr",
     "output_type": "stream",
     "text": [
      "Setting `pad_token_id` to `eos_token_id`:2 for open-end generation.\n"
     ]
    },
    {
     "name": "stdout",
     "output_type": "stream",
     "text": [
      "request_duration : 135.97453832626343\n"
     ]
    },
    {
     "name": "stderr",
     "output_type": "stream",
     "text": [
      "Setting `pad_token_id` to `eos_token_id`:2 for open-end generation.\n"
     ]
    },
    {
     "name": "stdout",
     "output_type": "stream",
     "text": [
      "request_duration : 8.898115158081055\n"
     ]
    },
    {
     "name": "stderr",
     "output_type": "stream",
     "text": [
      "Setting `pad_token_id` to `eos_token_id`:2 for open-end generation.\n"
     ]
    },
    {
     "name": "stdout",
     "output_type": "stream",
     "text": [
      "request_duration : 136.32189345359802\n",
      "25\n"
     ]
    },
    {
     "name": "stderr",
     "output_type": "stream",
     "text": [
      "Setting `pad_token_id` to `eos_token_id`:2 for open-end generation.\n"
     ]
    },
    {
     "name": "stdout",
     "output_type": "stream",
     "text": [
      "request_duration : 17.37704610824585\n"
     ]
    },
    {
     "name": "stderr",
     "output_type": "stream",
     "text": [
      "Setting `pad_token_id` to `eos_token_id`:2 for open-end generation.\n"
     ]
    },
    {
     "name": "stdout",
     "output_type": "stream",
     "text": [
      "request_duration : 10.572009801864624\n"
     ]
    },
    {
     "name": "stderr",
     "output_type": "stream",
     "text": [
      "Setting `pad_token_id` to `eos_token_id`:2 for open-end generation.\n"
     ]
    },
    {
     "name": "stdout",
     "output_type": "stream",
     "text": [
      "request_duration : 5.575995922088623\n",
      "27\n"
     ]
    },
    {
     "name": "stderr",
     "output_type": "stream",
     "text": [
      "Setting `pad_token_id` to `eos_token_id`:2 for open-end generation.\n"
     ]
    },
    {
     "name": "stdout",
     "output_type": "stream",
     "text": [
      "request_duration : 67.78961515426636\n"
     ]
    },
    {
     "name": "stderr",
     "output_type": "stream",
     "text": [
      "Setting `pad_token_id` to `eos_token_id`:2 for open-end generation.\n"
     ]
    },
    {
     "name": "stdout",
     "output_type": "stream",
     "text": [
      "request_duration : 134.62955975532532\n"
     ]
    },
    {
     "name": "stderr",
     "output_type": "stream",
     "text": [
      "Setting `pad_token_id` to `eos_token_id`:2 for open-end generation.\n"
     ]
    },
    {
     "name": "stdout",
     "output_type": "stream",
     "text": [
      "request_duration : 13.975279092788696\n",
      "38\n"
     ]
    },
    {
     "name": "stderr",
     "output_type": "stream",
     "text": [
      "Setting `pad_token_id` to `eos_token_id`:2 for open-end generation.\n"
     ]
    },
    {
     "name": "stdout",
     "output_type": "stream",
     "text": [
      "request_duration : 22.020469188690186\n"
     ]
    },
    {
     "name": "stderr",
     "output_type": "stream",
     "text": [
      "Setting `pad_token_id` to `eos_token_id`:2 for open-end generation.\n"
     ]
    },
    {
     "name": "stdout",
     "output_type": "stream",
     "text": [
      "request_duration : 22.81061100959778\n"
     ]
    },
    {
     "name": "stderr",
     "output_type": "stream",
     "text": [
      "Setting `pad_token_id` to `eos_token_id`:2 for open-end generation.\n"
     ]
    },
    {
     "name": "stdout",
     "output_type": "stream",
     "text": [
      "request_duration : 11.418263673782349\n",
      "44\n"
     ]
    },
    {
     "name": "stderr",
     "output_type": "stream",
     "text": [
      "Setting `pad_token_id` to `eos_token_id`:2 for open-end generation.\n"
     ]
    },
    {
     "name": "stdout",
     "output_type": "stream",
     "text": [
      "request_duration : 19.316858053207397\n"
     ]
    },
    {
     "name": "stderr",
     "output_type": "stream",
     "text": [
      "Setting `pad_token_id` to `eos_token_id`:2 for open-end generation.\n"
     ]
    },
    {
     "name": "stdout",
     "output_type": "stream",
     "text": [
      "request_duration : 69.76029205322266\n"
     ]
    },
    {
     "name": "stderr",
     "output_type": "stream",
     "text": [
      "Setting `pad_token_id` to `eos_token_id`:2 for open-end generation.\n"
     ]
    },
    {
     "name": "stdout",
     "output_type": "stream",
     "text": [
      "request_duration : 13.19877290725708\n",
      "53\n"
     ]
    },
    {
     "name": "stderr",
     "output_type": "stream",
     "text": [
      "Setting `pad_token_id` to `eos_token_id`:2 for open-end generation.\n"
     ]
    },
    {
     "name": "stdout",
     "output_type": "stream",
     "text": [
      "request_duration : 20.65126895904541\n"
     ]
    },
    {
     "name": "stderr",
     "output_type": "stream",
     "text": [
      "Setting `pad_token_id` to `eos_token_id`:2 for open-end generation.\n"
     ]
    },
    {
     "name": "stdout",
     "output_type": "stream",
     "text": [
      "request_duration : 133.9403851032257\n"
     ]
    },
    {
     "name": "stderr",
     "output_type": "stream",
     "text": [
      "Setting `pad_token_id` to `eos_token_id`:2 for open-end generation.\n"
     ]
    },
    {
     "name": "stdout",
     "output_type": "stream",
     "text": [
      "request_duration : 140.21517992019653\n",
      "60\n"
     ]
    },
    {
     "name": "stderr",
     "output_type": "stream",
     "text": [
      "Setting `pad_token_id` to `eos_token_id`:2 for open-end generation.\n"
     ]
    },
    {
     "name": "stdout",
     "output_type": "stream",
     "text": [
      "request_duration : 8.761211156845093\n"
     ]
    },
    {
     "name": "stderr",
     "output_type": "stream",
     "text": [
      "Setting `pad_token_id` to `eos_token_id`:2 for open-end generation.\n"
     ]
    },
    {
     "name": "stdout",
     "output_type": "stream",
     "text": [
      "request_duration : 6.445385932922363\n"
     ]
    },
    {
     "name": "stderr",
     "output_type": "stream",
     "text": [
      "Setting `pad_token_id` to `eos_token_id`:2 for open-end generation.\n"
     ]
    },
    {
     "name": "stdout",
     "output_type": "stream",
     "text": [
      "request_duration : 18.75019073486328\n",
      "66\n"
     ]
    },
    {
     "name": "stderr",
     "output_type": "stream",
     "text": [
      "Setting `pad_token_id` to `eos_token_id`:2 for open-end generation.\n"
     ]
    },
    {
     "name": "stdout",
     "output_type": "stream",
     "text": [
      "request_duration : 15.773471355438232\n"
     ]
    },
    {
     "name": "stderr",
     "output_type": "stream",
     "text": [
      "Setting `pad_token_id` to `eos_token_id`:2 for open-end generation.\n"
     ]
    },
    {
     "name": "stdout",
     "output_type": "stream",
     "text": [
      "request_duration : 134.17345142364502\n"
     ]
    },
    {
     "name": "stderr",
     "output_type": "stream",
     "text": [
      "Setting `pad_token_id` to `eos_token_id`:2 for open-end generation.\n"
     ]
    },
    {
     "name": "stdout",
     "output_type": "stream",
     "text": [
      "request_duration : 8.509414911270142\n",
      "74\n"
     ]
    },
    {
     "name": "stderr",
     "output_type": "stream",
     "text": [
      "Setting `pad_token_id` to `eos_token_id`:2 for open-end generation.\n"
     ]
    },
    {
     "name": "stdout",
     "output_type": "stream",
     "text": [
      "request_duration : 7.780977725982666\n"
     ]
    },
    {
     "name": "stderr",
     "output_type": "stream",
     "text": [
      "Setting `pad_token_id` to `eos_token_id`:2 for open-end generation.\n"
     ]
    },
    {
     "name": "stdout",
     "output_type": "stream",
     "text": [
      "request_duration : 12.084277868270874\n"
     ]
    },
    {
     "name": "stderr",
     "output_type": "stream",
     "text": [
      "Setting `pad_token_id` to `eos_token_id`:2 for open-end generation.\n"
     ]
    },
    {
     "name": "stdout",
     "output_type": "stream",
     "text": [
      "request_duration : 9.213652610778809\n",
      "76\n"
     ]
    },
    {
     "name": "stderr",
     "output_type": "stream",
     "text": [
      "Setting `pad_token_id` to `eos_token_id`:2 for open-end generation.\n"
     ]
    },
    {
     "name": "stdout",
     "output_type": "stream",
     "text": [
      "request_duration : 57.37273716926575\n"
     ]
    },
    {
     "name": "stderr",
     "output_type": "stream",
     "text": [
      "Setting `pad_token_id` to `eos_token_id`:2 for open-end generation.\n"
     ]
    },
    {
     "name": "stdout",
     "output_type": "stream",
     "text": [
      "request_duration : 136.46399211883545\n"
     ]
    },
    {
     "name": "stderr",
     "output_type": "stream",
     "text": [
      "Setting `pad_token_id` to `eos_token_id`:2 for open-end generation.\n"
     ]
    },
    {
     "name": "stdout",
     "output_type": "stream",
     "text": [
      "request_duration : 13.638281106948853\n",
      "81\n"
     ]
    },
    {
     "name": "stderr",
     "output_type": "stream",
     "text": [
      "Setting `pad_token_id` to `eos_token_id`:2 for open-end generation.\n"
     ]
    },
    {
     "name": "stdout",
     "output_type": "stream",
     "text": [
      "request_duration : 4.555965423583984\n"
     ]
    },
    {
     "name": "stderr",
     "output_type": "stream",
     "text": [
      "Setting `pad_token_id` to `eos_token_id`:2 for open-end generation.\n"
     ]
    },
    {
     "name": "stdout",
     "output_type": "stream",
     "text": [
      "request_duration : 140.25584959983826\n"
     ]
    },
    {
     "name": "stderr",
     "output_type": "stream",
     "text": [
      "Setting `pad_token_id` to `eos_token_id`:2 for open-end generation.\n"
     ]
    },
    {
     "name": "stdout",
     "output_type": "stream",
     "text": [
      "request_duration : 9.219719886779785\n",
      "84\n"
     ]
    },
    {
     "name": "stderr",
     "output_type": "stream",
     "text": [
      "Setting `pad_token_id` to `eos_token_id`:2 for open-end generation.\n"
     ]
    },
    {
     "name": "stdout",
     "output_type": "stream",
     "text": [
      "request_duration : 53.4254686832428\n"
     ]
    },
    {
     "name": "stderr",
     "output_type": "stream",
     "text": [
      "Setting `pad_token_id` to `eos_token_id`:2 for open-end generation.\n"
     ]
    },
    {
     "name": "stdout",
     "output_type": "stream",
     "text": [
      "request_duration : 4.564040184020996\n"
     ]
    },
    {
     "name": "stderr",
     "output_type": "stream",
     "text": [
      "Setting `pad_token_id` to `eos_token_id`:2 for open-end generation.\n"
     ]
    },
    {
     "name": "stdout",
     "output_type": "stream",
     "text": [
      "request_duration : 13.296926975250244\n",
      "86\n"
     ]
    },
    {
     "name": "stderr",
     "output_type": "stream",
     "text": [
      "Setting `pad_token_id` to `eos_token_id`:2 for open-end generation.\n"
     ]
    },
    {
     "name": "stdout",
     "output_type": "stream",
     "text": [
      "request_duration : 138.7029070854187\n"
     ]
    },
    {
     "name": "stderr",
     "output_type": "stream",
     "text": [
      "Setting `pad_token_id` to `eos_token_id`:2 for open-end generation.\n"
     ]
    },
    {
     "name": "stdout",
     "output_type": "stream",
     "text": [
      "request_duration : 7.5052642822265625\n"
     ]
    },
    {
     "name": "stderr",
     "output_type": "stream",
     "text": [
      "Setting `pad_token_id` to `eos_token_id`:2 for open-end generation.\n"
     ]
    },
    {
     "name": "stdout",
     "output_type": "stream",
     "text": [
      "request_duration : 10.23188591003418\n",
      "91\n"
     ]
    },
    {
     "name": "stderr",
     "output_type": "stream",
     "text": [
      "Setting `pad_token_id` to `eos_token_id`:2 for open-end generation.\n"
     ]
    },
    {
     "name": "stdout",
     "output_type": "stream",
     "text": [
      "request_duration : 93.48983120918274\n"
     ]
    },
    {
     "name": "stderr",
     "output_type": "stream",
     "text": [
      "Setting `pad_token_id` to `eos_token_id`:2 for open-end generation.\n"
     ]
    },
    {
     "name": "stdout",
     "output_type": "stream",
     "text": [
      "request_duration : 133.40556073188782\n"
     ]
    },
    {
     "name": "stderr",
     "output_type": "stream",
     "text": [
      "Setting `pad_token_id` to `eos_token_id`:2 for open-end generation.\n"
     ]
    },
    {
     "name": "stdout",
     "output_type": "stream",
     "text": [
      "request_duration : 135.69933986663818\n",
      "103\n"
     ]
    },
    {
     "name": "stderr",
     "output_type": "stream",
     "text": [
      "Setting `pad_token_id` to `eos_token_id`:2 for open-end generation.\n"
     ]
    },
    {
     "name": "stdout",
     "output_type": "stream",
     "text": [
      "request_duration : 15.39912724494934\n"
     ]
    },
    {
     "name": "stderr",
     "output_type": "stream",
     "text": [
      "Setting `pad_token_id` to `eos_token_id`:2 for open-end generation.\n"
     ]
    },
    {
     "name": "stdout",
     "output_type": "stream",
     "text": [
      "request_duration : 135.12319684028625\n"
     ]
    },
    {
     "name": "stderr",
     "output_type": "stream",
     "text": [
      "Setting `pad_token_id` to `eos_token_id`:2 for open-end generation.\n"
     ]
    },
    {
     "name": "stdout",
     "output_type": "stream",
     "text": [
      "request_duration : 7.125796794891357\n",
      "119\n"
     ]
    },
    {
     "name": "stderr",
     "output_type": "stream",
     "text": [
      "Setting `pad_token_id` to `eos_token_id`:2 for open-end generation.\n"
     ]
    },
    {
     "name": "stdout",
     "output_type": "stream",
     "text": [
      "request_duration : 8.3473379611969\n"
     ]
    },
    {
     "name": "stderr",
     "output_type": "stream",
     "text": [
      "Setting `pad_token_id` to `eos_token_id`:2 for open-end generation.\n"
     ]
    },
    {
     "name": "stdout",
     "output_type": "stream",
     "text": [
      "request_duration : 12.084994554519653\n"
     ]
    },
    {
     "name": "stderr",
     "output_type": "stream",
     "text": [
      "Setting `pad_token_id` to `eos_token_id`:2 for open-end generation.\n"
     ]
    },
    {
     "name": "stdout",
     "output_type": "stream",
     "text": [
      "request_duration : 5.788328647613525\n",
      "122\n"
     ]
    },
    {
     "name": "stderr",
     "output_type": "stream",
     "text": [
      "Setting `pad_token_id` to `eos_token_id`:2 for open-end generation.\n"
     ]
    },
    {
     "name": "stdout",
     "output_type": "stream",
     "text": [
      "request_duration : 13.122049808502197\n"
     ]
    },
    {
     "name": "stderr",
     "output_type": "stream",
     "text": [
      "Setting `pad_token_id` to `eos_token_id`:2 for open-end generation.\n"
     ]
    },
    {
     "name": "stdout",
     "output_type": "stream",
     "text": [
      "request_duration : 11.913026571273804\n"
     ]
    },
    {
     "name": "stderr",
     "output_type": "stream",
     "text": [
      "Setting `pad_token_id` to `eos_token_id`:2 for open-end generation.\n"
     ]
    },
    {
     "name": "stdout",
     "output_type": "stream",
     "text": [
      "request_duration : 7.660312652587891\n",
      "125\n"
     ]
    },
    {
     "name": "stderr",
     "output_type": "stream",
     "text": [
      "Setting `pad_token_id` to `eos_token_id`:2 for open-end generation.\n"
     ]
    },
    {
     "name": "stdout",
     "output_type": "stream",
     "text": [
      "request_duration : 68.46240639686584\n"
     ]
    },
    {
     "name": "stderr",
     "output_type": "stream",
     "text": [
      "Setting `pad_token_id` to `eos_token_id`:2 for open-end generation.\n"
     ]
    },
    {
     "name": "stdout",
     "output_type": "stream",
     "text": [
      "request_duration : 135.4931137561798\n"
     ]
    },
    {
     "name": "stderr",
     "output_type": "stream",
     "text": [
      "Setting `pad_token_id` to `eos_token_id`:2 for open-end generation.\n"
     ]
    },
    {
     "name": "stdout",
     "output_type": "stream",
     "text": [
      "request_duration : 64.591543674469\n",
      "133\n"
     ]
    },
    {
     "name": "stderr",
     "output_type": "stream",
     "text": [
      "Setting `pad_token_id` to `eos_token_id`:2 for open-end generation.\n"
     ]
    },
    {
     "name": "stdout",
     "output_type": "stream",
     "text": [
      "request_duration : 12.539160966873169\n"
     ]
    },
    {
     "name": "stderr",
     "output_type": "stream",
     "text": [
      "Setting `pad_token_id` to `eos_token_id`:2 for open-end generation.\n"
     ]
    },
    {
     "name": "stdout",
     "output_type": "stream",
     "text": [
      "request_duration : 9.090961694717407\n"
     ]
    },
    {
     "name": "stderr",
     "output_type": "stream",
     "text": [
      "Setting `pad_token_id` to `eos_token_id`:2 for open-end generation.\n"
     ]
    },
    {
     "name": "stdout",
     "output_type": "stream",
     "text": [
      "request_duration : 6.834441184997559\n",
      "136\n"
     ]
    },
    {
     "name": "stderr",
     "output_type": "stream",
     "text": [
      "Setting `pad_token_id` to `eos_token_id`:2 for open-end generation.\n"
     ]
    },
    {
     "name": "stdout",
     "output_type": "stream",
     "text": [
      "request_duration : 4.38957405090332\n"
     ]
    },
    {
     "name": "stderr",
     "output_type": "stream",
     "text": [
      "Setting `pad_token_id` to `eos_token_id`:2 for open-end generation.\n"
     ]
    },
    {
     "name": "stdout",
     "output_type": "stream",
     "text": [
      "request_duration : 135.16163563728333\n"
     ]
    },
    {
     "name": "stderr",
     "output_type": "stream",
     "text": [
      "Setting `pad_token_id` to `eos_token_id`:2 for open-end generation.\n"
     ]
    },
    {
     "name": "stdout",
     "output_type": "stream",
     "text": [
      "request_duration : 135.23502707481384\n",
      "142\n"
     ]
    },
    {
     "name": "stderr",
     "output_type": "stream",
     "text": [
      "Setting `pad_token_id` to `eos_token_id`:2 for open-end generation.\n"
     ]
    },
    {
     "name": "stdout",
     "output_type": "stream",
     "text": [
      "request_duration : 6.678248643875122\n"
     ]
    },
    {
     "name": "stderr",
     "output_type": "stream",
     "text": [
      "Setting `pad_token_id` to `eos_token_id`:2 for open-end generation.\n"
     ]
    },
    {
     "name": "stdout",
     "output_type": "stream",
     "text": [
      "request_duration : 18.192245721817017\n"
     ]
    },
    {
     "name": "stderr",
     "output_type": "stream",
     "text": [
      "Setting `pad_token_id` to `eos_token_id`:2 for open-end generation.\n"
     ]
    },
    {
     "name": "stdout",
     "output_type": "stream",
     "text": [
      "request_duration : 6.980808973312378\n",
      "144\n"
     ]
    },
    {
     "name": "stderr",
     "output_type": "stream",
     "text": [
      "Setting `pad_token_id` to `eos_token_id`:2 for open-end generation.\n"
     ]
    },
    {
     "name": "stdout",
     "output_type": "stream",
     "text": [
      "request_duration : 5.312578916549683\n"
     ]
    },
    {
     "name": "stderr",
     "output_type": "stream",
     "text": [
      "Setting `pad_token_id` to `eos_token_id`:2 for open-end generation.\n"
     ]
    },
    {
     "name": "stdout",
     "output_type": "stream",
     "text": [
      "request_duration : 12.156492710113525\n"
     ]
    },
    {
     "name": "stderr",
     "output_type": "stream",
     "text": [
      "Setting `pad_token_id` to `eos_token_id`:2 for open-end generation.\n"
     ]
    },
    {
     "name": "stdout",
     "output_type": "stream",
     "text": [
      "request_duration : 8.169865608215332\n",
      "146\n"
     ]
    },
    {
     "name": "stderr",
     "output_type": "stream",
     "text": [
      "Setting `pad_token_id` to `eos_token_id`:2 for open-end generation.\n"
     ]
    },
    {
     "name": "stdout",
     "output_type": "stream",
     "text": [
      "request_duration : 135.9680483341217\n"
     ]
    },
    {
     "name": "stderr",
     "output_type": "stream",
     "text": [
      "Setting `pad_token_id` to `eos_token_id`:2 for open-end generation.\n"
     ]
    },
    {
     "name": "stdout",
     "output_type": "stream",
     "text": [
      "request_duration : 64.08260774612427\n"
     ]
    },
    {
     "name": "stderr",
     "output_type": "stream",
     "text": [
      "Setting `pad_token_id` to `eos_token_id`:2 for open-end generation.\n"
     ]
    },
    {
     "name": "stdout",
     "output_type": "stream",
     "text": [
      "request_duration : 4.018226623535156\n",
      "157\n"
     ]
    },
    {
     "name": "stderr",
     "output_type": "stream",
     "text": [
      "Setting `pad_token_id` to `eos_token_id`:2 for open-end generation.\n"
     ]
    },
    {
     "name": "stdout",
     "output_type": "stream",
     "text": [
      "request_duration : 5.877337694168091\n"
     ]
    },
    {
     "name": "stderr",
     "output_type": "stream",
     "text": [
      "Setting `pad_token_id` to `eos_token_id`:2 for open-end generation.\n"
     ]
    },
    {
     "name": "stdout",
     "output_type": "stream",
     "text": [
      "request_duration : 8.792595863342285\n"
     ]
    },
    {
     "name": "stderr",
     "output_type": "stream",
     "text": [
      "Setting `pad_token_id` to `eos_token_id`:2 for open-end generation.\n"
     ]
    },
    {
     "name": "stdout",
     "output_type": "stream",
     "text": [
      "request_duration : 34.75834035873413\n",
      "161\n"
     ]
    },
    {
     "name": "stderr",
     "output_type": "stream",
     "text": [
      "Setting `pad_token_id` to `eos_token_id`:2 for open-end generation.\n"
     ]
    },
    {
     "name": "stdout",
     "output_type": "stream",
     "text": [
      "request_duration : 24.383808851242065\n"
     ]
    },
    {
     "name": "stderr",
     "output_type": "stream",
     "text": [
      "Setting `pad_token_id` to `eos_token_id`:2 for open-end generation.\n"
     ]
    },
    {
     "name": "stdout",
     "output_type": "stream",
     "text": [
      "request_duration : 51.405096769332886\n"
     ]
    },
    {
     "name": "stderr",
     "output_type": "stream",
     "text": [
      "Setting `pad_token_id` to `eos_token_id`:2 for open-end generation.\n"
     ]
    },
    {
     "name": "stdout",
     "output_type": "stream",
     "text": [
      "request_duration : 7.837131977081299\n",
      "167\n"
     ]
    },
    {
     "name": "stderr",
     "output_type": "stream",
     "text": [
      "Setting `pad_token_id` to `eos_token_id`:2 for open-end generation.\n"
     ]
    },
    {
     "name": "stdout",
     "output_type": "stream",
     "text": [
      "request_duration : 28.27529525756836\n"
     ]
    },
    {
     "name": "stderr",
     "output_type": "stream",
     "text": [
      "Setting `pad_token_id` to `eos_token_id`:2 for open-end generation.\n"
     ]
    },
    {
     "name": "stdout",
     "output_type": "stream",
     "text": [
      "request_duration : 96.52896046638489\n"
     ]
    },
    {
     "name": "stderr",
     "output_type": "stream",
     "text": [
      "Setting `pad_token_id` to `eos_token_id`:2 for open-end generation.\n"
     ]
    },
    {
     "name": "stdout",
     "output_type": "stream",
     "text": [
      "request_duration : 137.27766966819763\n",
      "181\n"
     ]
    },
    {
     "name": "stderr",
     "output_type": "stream",
     "text": [
      "Setting `pad_token_id` to `eos_token_id`:2 for open-end generation.\n"
     ]
    },
    {
     "name": "stdout",
     "output_type": "stream",
     "text": [
      "request_duration : 80.1538667678833\n"
     ]
    },
    {
     "name": "stderr",
     "output_type": "stream",
     "text": [
      "Setting `pad_token_id` to `eos_token_id`:2 for open-end generation.\n"
     ]
    },
    {
     "name": "stdout",
     "output_type": "stream",
     "text": [
      "request_duration : 6.811312913894653\n"
     ]
    },
    {
     "name": "stderr",
     "output_type": "stream",
     "text": [
      "Setting `pad_token_id` to `eos_token_id`:2 for open-end generation.\n"
     ]
    },
    {
     "name": "stdout",
     "output_type": "stream",
     "text": [
      "request_duration : 27.171051025390625\n",
      "189\n"
     ]
    },
    {
     "name": "stderr",
     "output_type": "stream",
     "text": [
      "Setting `pad_token_id` to `eos_token_id`:2 for open-end generation.\n"
     ]
    },
    {
     "name": "stdout",
     "output_type": "stream",
     "text": [
      "request_duration : 6.582110404968262\n"
     ]
    },
    {
     "name": "stderr",
     "output_type": "stream",
     "text": [
      "Setting `pad_token_id` to `eos_token_id`:2 for open-end generation.\n"
     ]
    },
    {
     "name": "stdout",
     "output_type": "stream",
     "text": [
      "request_duration : 10.445305585861206\n"
     ]
    },
    {
     "name": "stderr",
     "output_type": "stream",
     "text": [
      "Setting `pad_token_id` to `eos_token_id`:2 for open-end generation.\n"
     ]
    },
    {
     "name": "stdout",
     "output_type": "stream",
     "text": [
      "request_duration : 22.47269558906555\n",
      "196\n"
     ]
    },
    {
     "name": "stderr",
     "output_type": "stream",
     "text": [
      "Setting `pad_token_id` to `eos_token_id`:2 for open-end generation.\n"
     ]
    },
    {
     "name": "stdout",
     "output_type": "stream",
     "text": [
      "request_duration : 20.053977489471436\n"
     ]
    },
    {
     "name": "stderr",
     "output_type": "stream",
     "text": [
      "Setting `pad_token_id` to `eos_token_id`:2 for open-end generation.\n"
     ]
    },
    {
     "name": "stdout",
     "output_type": "stream",
     "text": [
      "request_duration : 10.806017637252808\n"
     ]
    },
    {
     "name": "stderr",
     "output_type": "stream",
     "text": [
      "Setting `pad_token_id` to `eos_token_id`:2 for open-end generation.\n"
     ]
    },
    {
     "name": "stdout",
     "output_type": "stream",
     "text": [
      "request_duration : 13.678457498550415\n",
      "202\n"
     ]
    },
    {
     "name": "stderr",
     "output_type": "stream",
     "text": [
      "Setting `pad_token_id` to `eos_token_id`:2 for open-end generation.\n"
     ]
    },
    {
     "name": "stdout",
     "output_type": "stream",
     "text": [
      "request_duration : 136.4781458377838\n"
     ]
    },
    {
     "name": "stderr",
     "output_type": "stream",
     "text": [
      "Setting `pad_token_id` to `eos_token_id`:2 for open-end generation.\n"
     ]
    },
    {
     "name": "stdout",
     "output_type": "stream",
     "text": [
      "request_duration : 8.20940351486206\n"
     ]
    },
    {
     "name": "stderr",
     "output_type": "stream",
     "text": [
      "Setting `pad_token_id` to `eos_token_id`:2 for open-end generation.\n"
     ]
    },
    {
     "name": "stdout",
     "output_type": "stream",
     "text": [
      "request_duration : 135.48749327659607\n",
      "220\n"
     ]
    },
    {
     "name": "stderr",
     "output_type": "stream",
     "text": [
      "Setting `pad_token_id` to `eos_token_id`:2 for open-end generation.\n"
     ]
    },
    {
     "name": "stdout",
     "output_type": "stream",
     "text": [
      "request_duration : 18.033533096313477\n"
     ]
    },
    {
     "name": "stderr",
     "output_type": "stream",
     "text": [
      "Setting `pad_token_id` to `eos_token_id`:2 for open-end generation.\n"
     ]
    },
    {
     "name": "stdout",
     "output_type": "stream",
     "text": [
      "request_duration : 7.502501964569092\n"
     ]
    },
    {
     "name": "stderr",
     "output_type": "stream",
     "text": [
      "Setting `pad_token_id` to `eos_token_id`:2 for open-end generation.\n"
     ]
    },
    {
     "name": "stdout",
     "output_type": "stream",
     "text": [
      "request_duration : 30.16067671775818\n",
      "230\n"
     ]
    },
    {
     "name": "stderr",
     "output_type": "stream",
     "text": [
      "Setting `pad_token_id` to `eos_token_id`:2 for open-end generation.\n"
     ]
    },
    {
     "name": "stdout",
     "output_type": "stream",
     "text": [
      "request_duration : 134.7517397403717\n"
     ]
    },
    {
     "name": "stderr",
     "output_type": "stream",
     "text": [
      "Setting `pad_token_id` to `eos_token_id`:2 for open-end generation.\n"
     ]
    },
    {
     "name": "stdout",
     "output_type": "stream",
     "text": [
      "request_duration : 36.62647867202759\n"
     ]
    },
    {
     "name": "stderr",
     "output_type": "stream",
     "text": [
      "Setting `pad_token_id` to `eos_token_id`:2 for open-end generation.\n"
     ]
    },
    {
     "name": "stdout",
     "output_type": "stream",
     "text": [
      "request_duration : 17.73715305328369\n",
      "234\n"
     ]
    },
    {
     "name": "stderr",
     "output_type": "stream",
     "text": [
      "Setting `pad_token_id` to `eos_token_id`:2 for open-end generation.\n"
     ]
    },
    {
     "name": "stdout",
     "output_type": "stream",
     "text": [
      "request_duration : 4.726254940032959\n"
     ]
    },
    {
     "name": "stderr",
     "output_type": "stream",
     "text": [
      "Setting `pad_token_id` to `eos_token_id`:2 for open-end generation.\n"
     ]
    },
    {
     "name": "stdout",
     "output_type": "stream",
     "text": [
      "request_duration : 24.6583890914917\n"
     ]
    },
    {
     "name": "stderr",
     "output_type": "stream",
     "text": [
      "Setting `pad_token_id` to `eos_token_id`:2 for open-end generation.\n"
     ]
    },
    {
     "name": "stdout",
     "output_type": "stream",
     "text": [
      "request_duration : 44.787073850631714\n",
      "245\n"
     ]
    },
    {
     "name": "stderr",
     "output_type": "stream",
     "text": [
      "Setting `pad_token_id` to `eos_token_id`:2 for open-end generation.\n"
     ]
    },
    {
     "name": "stdout",
     "output_type": "stream",
     "text": [
      "request_duration : 9.909193992614746\n"
     ]
    },
    {
     "name": "stderr",
     "output_type": "stream",
     "text": [
      "Setting `pad_token_id` to `eos_token_id`:2 for open-end generation.\n"
     ]
    },
    {
     "name": "stdout",
     "output_type": "stream",
     "text": [
      "request_duration : 22.445319175720215\n"
     ]
    },
    {
     "name": "stderr",
     "output_type": "stream",
     "text": [
      "Setting `pad_token_id` to `eos_token_id`:2 for open-end generation.\n"
     ]
    },
    {
     "name": "stdout",
     "output_type": "stream",
     "text": [
      "request_duration : 10.303461074829102\n",
      "247\n"
     ]
    },
    {
     "name": "stderr",
     "output_type": "stream",
     "text": [
      "Setting `pad_token_id` to `eos_token_id`:2 for open-end generation.\n"
     ]
    },
    {
     "name": "stdout",
     "output_type": "stream",
     "text": [
      "request_duration : 21.695651292800903\n"
     ]
    },
    {
     "name": "stderr",
     "output_type": "stream",
     "text": [
      "Setting `pad_token_id` to `eos_token_id`:2 for open-end generation.\n"
     ]
    },
    {
     "name": "stdout",
     "output_type": "stream",
     "text": [
      "request_duration : 140.468923330307\n"
     ]
    },
    {
     "name": "stderr",
     "output_type": "stream",
     "text": [
      "Setting `pad_token_id` to `eos_token_id`:2 for open-end generation.\n"
     ]
    },
    {
     "name": "stdout",
     "output_type": "stream",
     "text": [
      "request_duration : 7.007288455963135\n",
      "257\n"
     ]
    },
    {
     "name": "stderr",
     "output_type": "stream",
     "text": [
      "Setting `pad_token_id` to `eos_token_id`:2 for open-end generation.\n"
     ]
    },
    {
     "name": "stdout",
     "output_type": "stream",
     "text": [
      "request_duration : 56.218576431274414\n"
     ]
    },
    {
     "name": "stderr",
     "output_type": "stream",
     "text": [
      "Setting `pad_token_id` to `eos_token_id`:2 for open-end generation.\n"
     ]
    },
    {
     "name": "stdout",
     "output_type": "stream",
     "text": [
      "request_duration : 19.166244745254517\n"
     ]
    },
    {
     "name": "stderr",
     "output_type": "stream",
     "text": [
      "Setting `pad_token_id` to `eos_token_id`:2 for open-end generation.\n"
     ]
    },
    {
     "name": "stdout",
     "output_type": "stream",
     "text": [
      "request_duration : 11.313509702682495\n",
      "270\n"
     ]
    },
    {
     "name": "stderr",
     "output_type": "stream",
     "text": [
      "Setting `pad_token_id` to `eos_token_id`:2 for open-end generation.\n"
     ]
    },
    {
     "name": "stdout",
     "output_type": "stream",
     "text": [
      "request_duration : 139.33772540092468\n"
     ]
    },
    {
     "name": "stderr",
     "output_type": "stream",
     "text": [
      "Setting `pad_token_id` to `eos_token_id`:2 for open-end generation.\n"
     ]
    },
    {
     "name": "stdout",
     "output_type": "stream",
     "text": [
      "request_duration : 28.99135661125183\n"
     ]
    },
    {
     "name": "stderr",
     "output_type": "stream",
     "text": [
      "Setting `pad_token_id` to `eos_token_id`:2 for open-end generation.\n"
     ]
    },
    {
     "name": "stdout",
     "output_type": "stream",
     "text": [
      "request_duration : 30.1786789894104\n",
      "287\n"
     ]
    },
    {
     "name": "stderr",
     "output_type": "stream",
     "text": [
      "Setting `pad_token_id` to `eos_token_id`:2 for open-end generation.\n"
     ]
    },
    {
     "name": "stdout",
     "output_type": "stream",
     "text": [
      "request_duration : 30.98904299736023\n"
     ]
    },
    {
     "name": "stderr",
     "output_type": "stream",
     "text": [
      "Setting `pad_token_id` to `eos_token_id`:2 for open-end generation.\n"
     ]
    },
    {
     "name": "stdout",
     "output_type": "stream",
     "text": [
      "request_duration : 138.25112223625183\n"
     ]
    },
    {
     "name": "stderr",
     "output_type": "stream",
     "text": [
      "Setting `pad_token_id` to `eos_token_id`:2 for open-end generation.\n"
     ]
    },
    {
     "name": "stdout",
     "output_type": "stream",
     "text": [
      "request_duration : 9.51628065109253\n",
      "295\n"
     ]
    },
    {
     "name": "stderr",
     "output_type": "stream",
     "text": [
      "Setting `pad_token_id` to `eos_token_id`:2 for open-end generation.\n"
     ]
    },
    {
     "name": "stdout",
     "output_type": "stream",
     "text": [
      "request_duration : 12.871121406555176\n"
     ]
    },
    {
     "name": "stderr",
     "output_type": "stream",
     "text": [
      "Setting `pad_token_id` to `eos_token_id`:2 for open-end generation.\n"
     ]
    },
    {
     "name": "stdout",
     "output_type": "stream",
     "text": [
      "request_duration : 15.041971921920776\n"
     ]
    },
    {
     "name": "stderr",
     "output_type": "stream",
     "text": [
      "Setting `pad_token_id` to `eos_token_id`:2 for open-end generation.\n"
     ]
    },
    {
     "name": "stdout",
     "output_type": "stream",
     "text": [
      "request_duration : 9.868524551391602\n",
      "296\n"
     ]
    },
    {
     "name": "stderr",
     "output_type": "stream",
     "text": [
      "Setting `pad_token_id` to `eos_token_id`:2 for open-end generation.\n"
     ]
    },
    {
     "name": "stdout",
     "output_type": "stream",
     "text": [
      "request_duration : 3.8951668739318848\n"
     ]
    },
    {
     "name": "stderr",
     "output_type": "stream",
     "text": [
      "Setting `pad_token_id` to `eos_token_id`:2 for open-end generation.\n"
     ]
    },
    {
     "name": "stdout",
     "output_type": "stream",
     "text": [
      "request_duration : 18.408984184265137\n"
     ]
    },
    {
     "name": "stderr",
     "output_type": "stream",
     "text": [
      "Setting `pad_token_id` to `eos_token_id`:2 for open-end generation.\n"
     ]
    },
    {
     "name": "stdout",
     "output_type": "stream",
     "text": [
      "request_duration : 136.4503939151764\n",
      "302\n"
     ]
    },
    {
     "name": "stderr",
     "output_type": "stream",
     "text": [
      "Setting `pad_token_id` to `eos_token_id`:2 for open-end generation.\n"
     ]
    },
    {
     "name": "stdout",
     "output_type": "stream",
     "text": [
      "request_duration : 12.574910640716553\n"
     ]
    },
    {
     "name": "stderr",
     "output_type": "stream",
     "text": [
      "Setting `pad_token_id` to `eos_token_id`:2 for open-end generation.\n"
     ]
    },
    {
     "name": "stdout",
     "output_type": "stream",
     "text": [
      "request_duration : 7.1379640102386475\n"
     ]
    },
    {
     "name": "stderr",
     "output_type": "stream",
     "text": [
      "Setting `pad_token_id` to `eos_token_id`:2 for open-end generation.\n"
     ]
    },
    {
     "name": "stdout",
     "output_type": "stream",
     "text": [
      "request_duration : 93.49939441680908\n",
      "306\n"
     ]
    },
    {
     "name": "stderr",
     "output_type": "stream",
     "text": [
      "Setting `pad_token_id` to `eos_token_id`:2 for open-end generation.\n"
     ]
    },
    {
     "name": "stdout",
     "output_type": "stream",
     "text": [
      "request_duration : 43.01958155632019\n"
     ]
    },
    {
     "name": "stderr",
     "output_type": "stream",
     "text": [
      "Setting `pad_token_id` to `eos_token_id`:2 for open-end generation.\n"
     ]
    },
    {
     "name": "stdout",
     "output_type": "stream",
     "text": [
      "request_duration : 134.1901626586914\n"
     ]
    },
    {
     "name": "stderr",
     "output_type": "stream",
     "text": [
      "Setting `pad_token_id` to `eos_token_id`:2 for open-end generation.\n"
     ]
    },
    {
     "name": "stdout",
     "output_type": "stream",
     "text": [
      "request_duration : 13.700290203094482\n",
      "318\n"
     ]
    },
    {
     "name": "stderr",
     "output_type": "stream",
     "text": [
      "Setting `pad_token_id` to `eos_token_id`:2 for open-end generation.\n"
     ]
    },
    {
     "name": "stdout",
     "output_type": "stream",
     "text": [
      "request_duration : 18.65545678138733\n"
     ]
    },
    {
     "name": "stderr",
     "output_type": "stream",
     "text": [
      "Setting `pad_token_id` to `eos_token_id`:2 for open-end generation.\n"
     ]
    },
    {
     "name": "stdout",
     "output_type": "stream",
     "text": [
      "request_duration : 13.00929045677185\n"
     ]
    },
    {
     "name": "stderr",
     "output_type": "stream",
     "text": [
      "Setting `pad_token_id` to `eos_token_id`:2 for open-end generation.\n"
     ]
    },
    {
     "name": "stdout",
     "output_type": "stream",
     "text": [
      "request_duration : 26.387015104293823\n",
      "321\n"
     ]
    },
    {
     "name": "stderr",
     "output_type": "stream",
     "text": [
      "Setting `pad_token_id` to `eos_token_id`:2 for open-end generation.\n"
     ]
    },
    {
     "name": "stdout",
     "output_type": "stream",
     "text": [
      "request_duration : 6.475476026535034\n"
     ]
    },
    {
     "name": "stderr",
     "output_type": "stream",
     "text": [
      "Setting `pad_token_id` to `eos_token_id`:2 for open-end generation.\n"
     ]
    },
    {
     "name": "stdout",
     "output_type": "stream",
     "text": [
      "request_duration : 134.92389559745789\n"
     ]
    },
    {
     "name": "stderr",
     "output_type": "stream",
     "text": [
      "Setting `pad_token_id` to `eos_token_id`:2 for open-end generation.\n"
     ]
    },
    {
     "name": "stdout",
     "output_type": "stream",
     "text": [
      "request_duration : 80.98221564292908\n",
      "333\n"
     ]
    },
    {
     "name": "stderr",
     "output_type": "stream",
     "text": [
      "Setting `pad_token_id` to `eos_token_id`:2 for open-end generation.\n"
     ]
    },
    {
     "name": "stdout",
     "output_type": "stream",
     "text": [
      "request_duration : 28.329826593399048\n"
     ]
    },
    {
     "name": "stderr",
     "output_type": "stream",
     "text": [
      "Setting `pad_token_id` to `eos_token_id`:2 for open-end generation.\n"
     ]
    },
    {
     "name": "stdout",
     "output_type": "stream",
     "text": [
      "request_duration : 59.77509927749634\n"
     ]
    },
    {
     "name": "stderr",
     "output_type": "stream",
     "text": [
      "Setting `pad_token_id` to `eos_token_id`:2 for open-end generation.\n"
     ]
    },
    {
     "name": "stdout",
     "output_type": "stream",
     "text": [
      "request_duration : 16.021653175354004\n",
      "349\n"
     ]
    },
    {
     "name": "stderr",
     "output_type": "stream",
     "text": [
      "Setting `pad_token_id` to `eos_token_id`:2 for open-end generation.\n"
     ]
    },
    {
     "name": "stdout",
     "output_type": "stream",
     "text": [
      "request_duration : 7.647928476333618\n"
     ]
    },
    {
     "name": "stderr",
     "output_type": "stream",
     "text": [
      "Setting `pad_token_id` to `eos_token_id`:2 for open-end generation.\n"
     ]
    },
    {
     "name": "stdout",
     "output_type": "stream",
     "text": [
      "request_duration : 76.03428196907043\n"
     ]
    },
    {
     "name": "stderr",
     "output_type": "stream",
     "text": [
      "Setting `pad_token_id` to `eos_token_id`:2 for open-end generation.\n"
     ]
    },
    {
     "name": "stdout",
     "output_type": "stream",
     "text": [
      "request_duration : 9.884738206863403\n",
      "351\n"
     ]
    },
    {
     "name": "stderr",
     "output_type": "stream",
     "text": [
      "Setting `pad_token_id` to `eos_token_id`:2 for open-end generation.\n"
     ]
    },
    {
     "name": "stdout",
     "output_type": "stream",
     "text": [
      "request_duration : 13.881638288497925\n"
     ]
    },
    {
     "name": "stderr",
     "output_type": "stream",
     "text": [
      "Setting `pad_token_id` to `eos_token_id`:2 for open-end generation.\n"
     ]
    },
    {
     "name": "stdout",
     "output_type": "stream",
     "text": [
      "request_duration : 20.21407699584961\n"
     ]
    },
    {
     "name": "stderr",
     "output_type": "stream",
     "text": [
      "Setting `pad_token_id` to `eos_token_id`:2 for open-end generation.\n"
     ]
    },
    {
     "name": "stdout",
     "output_type": "stream",
     "text": [
      "request_duration : 136.17070722579956\n",
      "362\n"
     ]
    },
    {
     "name": "stderr",
     "output_type": "stream",
     "text": [
      "Setting `pad_token_id` to `eos_token_id`:2 for open-end generation.\n"
     ]
    },
    {
     "name": "stdout",
     "output_type": "stream",
     "text": [
      "request_duration : 5.361223459243774\n"
     ]
    },
    {
     "name": "stderr",
     "output_type": "stream",
     "text": [
      "Setting `pad_token_id` to `eos_token_id`:2 for open-end generation.\n"
     ]
    },
    {
     "name": "stdout",
     "output_type": "stream",
     "text": [
      "request_duration : 9.71917462348938\n"
     ]
    },
    {
     "name": "stderr",
     "output_type": "stream",
     "text": [
      "Setting `pad_token_id` to `eos_token_id`:2 for open-end generation.\n"
     ]
    },
    {
     "name": "stdout",
     "output_type": "stream",
     "text": [
      "request_duration : 8.641968727111816\n",
      "364\n"
     ]
    },
    {
     "name": "stderr",
     "output_type": "stream",
     "text": [
      "Setting `pad_token_id` to `eos_token_id`:2 for open-end generation.\n"
     ]
    },
    {
     "name": "stdout",
     "output_type": "stream",
     "text": [
      "request_duration : 7.2626307010650635\n"
     ]
    },
    {
     "name": "stderr",
     "output_type": "stream",
     "text": [
      "Setting `pad_token_id` to `eos_token_id`:2 for open-end generation.\n"
     ]
    },
    {
     "name": "stdout",
     "output_type": "stream",
     "text": [
      "request_duration : 8.196792125701904\n"
     ]
    },
    {
     "name": "stderr",
     "output_type": "stream",
     "text": [
      "Setting `pad_token_id` to `eos_token_id`:2 for open-end generation.\n"
     ]
    },
    {
     "name": "stdout",
     "output_type": "stream",
     "text": [
      "request_duration : 80.36352229118347\n",
      "366\n"
     ]
    },
    {
     "name": "stderr",
     "output_type": "stream",
     "text": [
      "Setting `pad_token_id` to `eos_token_id`:2 for open-end generation.\n"
     ]
    },
    {
     "name": "stdout",
     "output_type": "stream",
     "text": [
      "request_duration : 7.760796546936035\n"
     ]
    },
    {
     "name": "stderr",
     "output_type": "stream",
     "text": [
      "Setting `pad_token_id` to `eos_token_id`:2 for open-end generation.\n"
     ]
    },
    {
     "name": "stdout",
     "output_type": "stream",
     "text": [
      "request_duration : 12.298264265060425\n"
     ]
    },
    {
     "name": "stderr",
     "output_type": "stream",
     "text": [
      "Setting `pad_token_id` to `eos_token_id`:2 for open-end generation.\n"
     ]
    },
    {
     "name": "stdout",
     "output_type": "stream",
     "text": [
      "request_duration : 25.500041246414185\n",
      "373\n"
     ]
    },
    {
     "name": "stderr",
     "output_type": "stream",
     "text": [
      "Setting `pad_token_id` to `eos_token_id`:2 for open-end generation.\n"
     ]
    },
    {
     "name": "stdout",
     "output_type": "stream",
     "text": [
      "request_duration : 134.2780692577362\n"
     ]
    },
    {
     "name": "stderr",
     "output_type": "stream",
     "text": [
      "Setting `pad_token_id` to `eos_token_id`:2 for open-end generation.\n"
     ]
    },
    {
     "name": "stdout",
     "output_type": "stream",
     "text": [
      "request_duration : 62.466917276382446\n"
     ]
    },
    {
     "name": "stderr",
     "output_type": "stream",
     "text": [
      "Setting `pad_token_id` to `eos_token_id`:2 for open-end generation.\n"
     ]
    },
    {
     "name": "stdout",
     "output_type": "stream",
     "text": [
      "request_duration : 16.392398834228516\n",
      "385\n"
     ]
    },
    {
     "name": "stderr",
     "output_type": "stream",
     "text": [
      "Setting `pad_token_id` to `eos_token_id`:2 for open-end generation.\n"
     ]
    },
    {
     "name": "stdout",
     "output_type": "stream",
     "text": [
      "request_duration : 8.462223768234253\n"
     ]
    },
    {
     "name": "stderr",
     "output_type": "stream",
     "text": [
      "Setting `pad_token_id` to `eos_token_id`:2 for open-end generation.\n"
     ]
    },
    {
     "name": "stdout",
     "output_type": "stream",
     "text": [
      "request_duration : 11.526733160018921\n"
     ]
    },
    {
     "name": "stderr",
     "output_type": "stream",
     "text": [
      "Setting `pad_token_id` to `eos_token_id`:2 for open-end generation.\n"
     ]
    },
    {
     "name": "stdout",
     "output_type": "stream",
     "text": [
      "request_duration : 28.577138900756836\n",
      "387\n"
     ]
    },
    {
     "name": "stderr",
     "output_type": "stream",
     "text": [
      "Setting `pad_token_id` to `eos_token_id`:2 for open-end generation.\n"
     ]
    },
    {
     "name": "stdout",
     "output_type": "stream",
     "text": [
      "request_duration : 133.5251452922821\n"
     ]
    },
    {
     "name": "stderr",
     "output_type": "stream",
     "text": [
      "Setting `pad_token_id` to `eos_token_id`:2 for open-end generation.\n"
     ]
    },
    {
     "name": "stdout",
     "output_type": "stream",
     "text": [
      "request_duration : 6.635115385055542\n"
     ]
    },
    {
     "name": "stderr",
     "output_type": "stream",
     "text": [
      "Setting `pad_token_id` to `eos_token_id`:2 for open-end generation.\n"
     ]
    },
    {
     "name": "stdout",
     "output_type": "stream",
     "text": [
      "request_duration : 77.67218685150146\n",
      "399\n"
     ]
    },
    {
     "name": "stderr",
     "output_type": "stream",
     "text": [
      "Setting `pad_token_id` to `eos_token_id`:2 for open-end generation.\n"
     ]
    },
    {
     "name": "stdout",
     "output_type": "stream",
     "text": [
      "request_duration : 8.003822088241577\n"
     ]
    },
    {
     "name": "stderr",
     "output_type": "stream",
     "text": [
      "Setting `pad_token_id` to `eos_token_id`:2 for open-end generation.\n"
     ]
    },
    {
     "name": "stdout",
     "output_type": "stream",
     "text": [
      "request_duration : 52.84625291824341\n"
     ]
    },
    {
     "name": "stderr",
     "output_type": "stream",
     "text": [
      "Setting `pad_token_id` to `eos_token_id`:2 for open-end generation.\n"
     ]
    },
    {
     "name": "stdout",
     "output_type": "stream",
     "text": [
      "request_duration : 9.127171277999878\n",
      "408\n"
     ]
    },
    {
     "name": "stderr",
     "output_type": "stream",
     "text": [
      "Setting `pad_token_id` to `eos_token_id`:2 for open-end generation.\n"
     ]
    },
    {
     "name": "stdout",
     "output_type": "stream",
     "text": [
      "request_duration : 130.35681772232056\n"
     ]
    },
    {
     "name": "stderr",
     "output_type": "stream",
     "text": [
      "Setting `pad_token_id` to `eos_token_id`:2 for open-end generation.\n"
     ]
    },
    {
     "name": "stdout",
     "output_type": "stream",
     "text": [
      "request_duration : 9.864962339401245\n"
     ]
    },
    {
     "name": "stderr",
     "output_type": "stream",
     "text": [
      "Setting `pad_token_id` to `eos_token_id`:2 for open-end generation.\n"
     ]
    },
    {
     "name": "stdout",
     "output_type": "stream",
     "text": [
      "request_duration : 34.14420771598816\n",
      "417\n"
     ]
    },
    {
     "name": "stderr",
     "output_type": "stream",
     "text": [
      "Setting `pad_token_id` to `eos_token_id`:2 for open-end generation.\n"
     ]
    },
    {
     "name": "stdout",
     "output_type": "stream",
     "text": [
      "request_duration : 8.511248111724854\n"
     ]
    },
    {
     "name": "stderr",
     "output_type": "stream",
     "text": [
      "Setting `pad_token_id` to `eos_token_id`:2 for open-end generation.\n"
     ]
    },
    {
     "name": "stdout",
     "output_type": "stream",
     "text": [
      "request_duration : 14.158000230789185\n"
     ]
    },
    {
     "name": "stderr",
     "output_type": "stream",
     "text": [
      "Setting `pad_token_id` to `eos_token_id`:2 for open-end generation.\n"
     ]
    },
    {
     "name": "stdout",
     "output_type": "stream",
     "text": [
      "request_duration : 138.30009150505066\n",
      "420\n"
     ]
    },
    {
     "name": "stderr",
     "output_type": "stream",
     "text": [
      "Setting `pad_token_id` to `eos_token_id`:2 for open-end generation.\n"
     ]
    },
    {
     "name": "stdout",
     "output_type": "stream",
     "text": [
      "request_duration : 10.55812406539917\n"
     ]
    },
    {
     "name": "stderr",
     "output_type": "stream",
     "text": [
      "Setting `pad_token_id` to `eos_token_id`:2 for open-end generation.\n"
     ]
    },
    {
     "name": "stdout",
     "output_type": "stream",
     "text": [
      "request_duration : 132.64103293418884\n"
     ]
    },
    {
     "name": "stderr",
     "output_type": "stream",
     "text": [
      "Setting `pad_token_id` to `eos_token_id`:2 for open-end generation.\n"
     ]
    },
    {
     "name": "stdout",
     "output_type": "stream",
     "text": [
      "request_duration : 28.097875833511353\n",
      "428\n"
     ]
    },
    {
     "name": "stderr",
     "output_type": "stream",
     "text": [
      "Setting `pad_token_id` to `eos_token_id`:2 for open-end generation.\n"
     ]
    },
    {
     "name": "stdout",
     "output_type": "stream",
     "text": [
      "request_duration : 137.85000371932983\n"
     ]
    },
    {
     "name": "stderr",
     "output_type": "stream",
     "text": [
      "Setting `pad_token_id` to `eos_token_id`:2 for open-end generation.\n"
     ]
    },
    {
     "name": "stdout",
     "output_type": "stream",
     "text": [
      "request_duration : 10.364811658859253\n"
     ]
    },
    {
     "name": "stderr",
     "output_type": "stream",
     "text": [
      "Setting `pad_token_id` to `eos_token_id`:2 for open-end generation.\n"
     ]
    },
    {
     "name": "stdout",
     "output_type": "stream",
     "text": [
      "request_duration : 9.794623851776123\n",
      "430\n"
     ]
    },
    {
     "name": "stderr",
     "output_type": "stream",
     "text": [
      "Setting `pad_token_id` to `eos_token_id`:2 for open-end generation.\n"
     ]
    },
    {
     "name": "stdout",
     "output_type": "stream",
     "text": [
      "request_duration : 14.895318508148193\n"
     ]
    },
    {
     "name": "stderr",
     "output_type": "stream",
     "text": [
      "Setting `pad_token_id` to `eos_token_id`:2 for open-end generation.\n"
     ]
    },
    {
     "name": "stdout",
     "output_type": "stream",
     "text": [
      "request_duration : 9.95026969909668\n"
     ]
    },
    {
     "name": "stderr",
     "output_type": "stream",
     "text": [
      "Setting `pad_token_id` to `eos_token_id`:2 for open-end generation.\n"
     ]
    },
    {
     "name": "stdout",
     "output_type": "stream",
     "text": [
      "request_duration : 137.76488518714905\n",
      "433\n"
     ]
    },
    {
     "name": "stderr",
     "output_type": "stream",
     "text": [
      "Setting `pad_token_id` to `eos_token_id`:2 for open-end generation.\n"
     ]
    },
    {
     "name": "stdout",
     "output_type": "stream",
     "text": [
      "request_duration : 62.37478184700012\n"
     ]
    },
    {
     "name": "stderr",
     "output_type": "stream",
     "text": [
      "Setting `pad_token_id` to `eos_token_id`:2 for open-end generation.\n"
     ]
    },
    {
     "name": "stdout",
     "output_type": "stream",
     "text": [
      "request_duration : 28.565619230270386\n"
     ]
    },
    {
     "name": "stderr",
     "output_type": "stream",
     "text": [
      "Setting `pad_token_id` to `eos_token_id`:2 for open-end generation.\n"
     ]
    },
    {
     "name": "stdout",
     "output_type": "stream",
     "text": [
      "request_duration : 28.387606620788574\n",
      "451\n"
     ]
    },
    {
     "name": "stderr",
     "output_type": "stream",
     "text": [
      "Setting `pad_token_id` to `eos_token_id`:2 for open-end generation.\n"
     ]
    },
    {
     "name": "stdout",
     "output_type": "stream",
     "text": [
      "request_duration : 63.438212156295776\n"
     ]
    },
    {
     "name": "stderr",
     "output_type": "stream",
     "text": [
      "Setting `pad_token_id` to `eos_token_id`:2 for open-end generation.\n"
     ]
    },
    {
     "name": "stdout",
     "output_type": "stream",
     "text": [
      "request_duration : 11.548859119415283\n"
     ]
    },
    {
     "name": "stderr",
     "output_type": "stream",
     "text": [
      "Setting `pad_token_id` to `eos_token_id`:2 for open-end generation.\n"
     ]
    },
    {
     "name": "stdout",
     "output_type": "stream",
     "text": [
      "request_duration : 89.64598250389099\n",
      "465\n"
     ]
    },
    {
     "name": "stderr",
     "output_type": "stream",
     "text": [
      "Setting `pad_token_id` to `eos_token_id`:2 for open-end generation.\n"
     ]
    },
    {
     "name": "stdout",
     "output_type": "stream",
     "text": [
      "request_duration : 13.025227308273315\n"
     ]
    },
    {
     "name": "stderr",
     "output_type": "stream",
     "text": [
      "Setting `pad_token_id` to `eos_token_id`:2 for open-end generation.\n"
     ]
    },
    {
     "name": "stdout",
     "output_type": "stream",
     "text": [
      "request_duration : 13.934379816055298\n"
     ]
    },
    {
     "name": "stderr",
     "output_type": "stream",
     "text": [
      "Setting `pad_token_id` to `eos_token_id`:2 for open-end generation.\n"
     ]
    },
    {
     "name": "stdout",
     "output_type": "stream",
     "text": [
      "request_duration : 30.611712217330933\n",
      "468\n"
     ]
    },
    {
     "name": "stderr",
     "output_type": "stream",
     "text": [
      "Setting `pad_token_id` to `eos_token_id`:2 for open-end generation.\n"
     ]
    },
    {
     "name": "stdout",
     "output_type": "stream",
     "text": [
      "request_duration : 5.668538331985474\n"
     ]
    },
    {
     "name": "stderr",
     "output_type": "stream",
     "text": [
      "Setting `pad_token_id` to `eos_token_id`:2 for open-end generation.\n"
     ]
    },
    {
     "name": "stdout",
     "output_type": "stream",
     "text": [
      "request_duration : 11.443170309066772\n"
     ]
    },
    {
     "name": "stderr",
     "output_type": "stream",
     "text": [
      "Setting `pad_token_id` to `eos_token_id`:2 for open-end generation.\n"
     ]
    },
    {
     "name": "stdout",
     "output_type": "stream",
     "text": [
      "request_duration : 6.309954404830933\n",
      "471\n"
     ]
    },
    {
     "name": "stderr",
     "output_type": "stream",
     "text": [
      "Setting `pad_token_id` to `eos_token_id`:2 for open-end generation.\n"
     ]
    },
    {
     "name": "stdout",
     "output_type": "stream",
     "text": [
      "request_duration : 11.897699117660522\n"
     ]
    },
    {
     "name": "stderr",
     "output_type": "stream",
     "text": [
      "Setting `pad_token_id` to `eos_token_id`:2 for open-end generation.\n"
     ]
    },
    {
     "name": "stdout",
     "output_type": "stream",
     "text": [
      "request_duration : 3.682067394256592\n"
     ]
    },
    {
     "name": "stderr",
     "output_type": "stream",
     "text": [
      "Setting `pad_token_id` to `eos_token_id`:2 for open-end generation.\n"
     ]
    },
    {
     "name": "stdout",
     "output_type": "stream",
     "text": [
      "request_duration : 13.874374628067017\n",
      "474\n"
     ]
    },
    {
     "name": "stderr",
     "output_type": "stream",
     "text": [
      "Setting `pad_token_id` to `eos_token_id`:2 for open-end generation.\n"
     ]
    },
    {
     "name": "stdout",
     "output_type": "stream",
     "text": [
      "request_duration : 23.755136013031006\n"
     ]
    },
    {
     "name": "stderr",
     "output_type": "stream",
     "text": [
      "Setting `pad_token_id` to `eos_token_id`:2 for open-end generation.\n"
     ]
    },
    {
     "name": "stdout",
     "output_type": "stream",
     "text": [
      "request_duration : 50.603113889694214\n"
     ]
    },
    {
     "name": "stderr",
     "output_type": "stream",
     "text": [
      "Setting `pad_token_id` to `eos_token_id`:2 for open-end generation.\n"
     ]
    },
    {
     "name": "stdout",
     "output_type": "stream",
     "text": [
      "request_duration : 40.250876665115356\n",
      "476\n"
     ]
    },
    {
     "name": "stderr",
     "output_type": "stream",
     "text": [
      "Setting `pad_token_id` to `eos_token_id`:2 for open-end generation.\n"
     ]
    },
    {
     "name": "stdout",
     "output_type": "stream",
     "text": [
      "request_duration : 133.9658558368683\n"
     ]
    },
    {
     "name": "stderr",
     "output_type": "stream",
     "text": [
      "Setting `pad_token_id` to `eos_token_id`:2 for open-end generation.\n"
     ]
    },
    {
     "name": "stdout",
     "output_type": "stream",
     "text": [
      "request_duration : 4.390191316604614\n"
     ]
    },
    {
     "name": "stderr",
     "output_type": "stream",
     "text": [
      "Setting `pad_token_id` to `eos_token_id`:2 for open-end generation.\n"
     ]
    },
    {
     "name": "stdout",
     "output_type": "stream",
     "text": [
      "request_duration : 14.81076455116272\n",
      "479\n"
     ]
    },
    {
     "name": "stderr",
     "output_type": "stream",
     "text": [
      "Setting `pad_token_id` to `eos_token_id`:2 for open-end generation.\n"
     ]
    },
    {
     "name": "stdout",
     "output_type": "stream",
     "text": [
      "request_duration : 48.03856325149536\n"
     ]
    },
    {
     "name": "stderr",
     "output_type": "stream",
     "text": [
      "Setting `pad_token_id` to `eos_token_id`:2 for open-end generation.\n"
     ]
    },
    {
     "name": "stdout",
     "output_type": "stream",
     "text": [
      "request_duration : 132.97366642951965\n"
     ]
    },
    {
     "name": "stderr",
     "output_type": "stream",
     "text": [
      "Setting `pad_token_id` to `eos_token_id`:2 for open-end generation.\n"
     ]
    },
    {
     "name": "stdout",
     "output_type": "stream",
     "text": [
      "request_duration : 8.541831493377686\n",
      "485\n"
     ]
    },
    {
     "name": "stderr",
     "output_type": "stream",
     "text": [
      "Setting `pad_token_id` to `eos_token_id`:2 for open-end generation.\n"
     ]
    },
    {
     "name": "stdout",
     "output_type": "stream",
     "text": [
      "request_duration : 136.6964385509491\n"
     ]
    },
    {
     "name": "stderr",
     "output_type": "stream",
     "text": [
      "Setting `pad_token_id` to `eos_token_id`:2 for open-end generation.\n"
     ]
    },
    {
     "name": "stdout",
     "output_type": "stream",
     "text": [
      "request_duration : 7.898254156112671\n"
     ]
    },
    {
     "name": "stderr",
     "output_type": "stream",
     "text": [
      "Setting `pad_token_id` to `eos_token_id`:2 for open-end generation.\n"
     ]
    },
    {
     "name": "stdout",
     "output_type": "stream",
     "text": [
      "request_duration : 5.959737062454224\n",
      "490\n"
     ]
    },
    {
     "name": "stderr",
     "output_type": "stream",
     "text": [
      "Setting `pad_token_id` to `eos_token_id`:2 for open-end generation.\n"
     ]
    },
    {
     "name": "stdout",
     "output_type": "stream",
     "text": [
      "request_duration : 134.21300172805786\n"
     ]
    },
    {
     "name": "stderr",
     "output_type": "stream",
     "text": [
      "Setting `pad_token_id` to `eos_token_id`:2 for open-end generation.\n"
     ]
    },
    {
     "name": "stdout",
     "output_type": "stream",
     "text": [
      "request_duration : 29.244463443756104\n"
     ]
    },
    {
     "name": "stderr",
     "output_type": "stream",
     "text": [
      "Setting `pad_token_id` to `eos_token_id`:2 for open-end generation.\n"
     ]
    },
    {
     "name": "stdout",
     "output_type": "stream",
     "text": [
      "request_duration : 4.517451047897339\n",
      "501\n"
     ]
    },
    {
     "name": "stderr",
     "output_type": "stream",
     "text": [
      "Setting `pad_token_id` to `eos_token_id`:2 for open-end generation.\n"
     ]
    },
    {
     "name": "stdout",
     "output_type": "stream",
     "text": [
      "request_duration : 12.262167930603027\n"
     ]
    },
    {
     "name": "stderr",
     "output_type": "stream",
     "text": [
      "Setting `pad_token_id` to `eos_token_id`:2 for open-end generation.\n"
     ]
    },
    {
     "name": "stdout",
     "output_type": "stream",
     "text": [
      "request_duration : 136.79165506362915\n"
     ]
    },
    {
     "name": "stderr",
     "output_type": "stream",
     "text": [
      "Setting `pad_token_id` to `eos_token_id`:2 for open-end generation.\n"
     ]
    },
    {
     "name": "stdout",
     "output_type": "stream",
     "text": [
      "request_duration : 5.739501953125\n",
      "512\n"
     ]
    },
    {
     "name": "stderr",
     "output_type": "stream",
     "text": [
      "Setting `pad_token_id` to `eos_token_id`:2 for open-end generation.\n"
     ]
    },
    {
     "name": "stdout",
     "output_type": "stream",
     "text": [
      "request_duration : 10.242658376693726\n"
     ]
    },
    {
     "name": "stderr",
     "output_type": "stream",
     "text": [
      "Setting `pad_token_id` to `eos_token_id`:2 for open-end generation.\n"
     ]
    },
    {
     "name": "stdout",
     "output_type": "stream",
     "text": [
      "request_duration : 135.56349515914917\n"
     ]
    },
    {
     "name": "stderr",
     "output_type": "stream",
     "text": [
      "Setting `pad_token_id` to `eos_token_id`:2 for open-end generation.\n"
     ]
    },
    {
     "name": "stdout",
     "output_type": "stream",
     "text": [
      "request_duration : 48.147618532180786\n",
      "515\n"
     ]
    },
    {
     "name": "stderr",
     "output_type": "stream",
     "text": [
      "Setting `pad_token_id` to `eos_token_id`:2 for open-end generation.\n"
     ]
    },
    {
     "name": "stdout",
     "output_type": "stream",
     "text": [
      "request_duration : 5.098858594894409\n"
     ]
    },
    {
     "name": "stderr",
     "output_type": "stream",
     "text": [
      "Setting `pad_token_id` to `eos_token_id`:2 for open-end generation.\n"
     ]
    },
    {
     "name": "stdout",
     "output_type": "stream",
     "text": [
      "request_duration : 34.99825119972229\n"
     ]
    },
    {
     "name": "stderr",
     "output_type": "stream",
     "text": [
      "Setting `pad_token_id` to `eos_token_id`:2 for open-end generation.\n"
     ]
    },
    {
     "name": "stdout",
     "output_type": "stream",
     "text": [
      "request_duration : 137.33557057380676\n",
      "526\n"
     ]
    },
    {
     "name": "stderr",
     "output_type": "stream",
     "text": [
      "Setting `pad_token_id` to `eos_token_id`:2 for open-end generation.\n"
     ]
    },
    {
     "name": "stdout",
     "output_type": "stream",
     "text": [
      "request_duration : 88.69877004623413\n"
     ]
    },
    {
     "name": "stderr",
     "output_type": "stream",
     "text": [
      "Setting `pad_token_id` to `eos_token_id`:2 for open-end generation.\n"
     ]
    },
    {
     "name": "stdout",
     "output_type": "stream",
     "text": [
      "request_duration : 37.10204482078552\n"
     ]
    },
    {
     "name": "stderr",
     "output_type": "stream",
     "text": [
      "Setting `pad_token_id` to `eos_token_id`:2 for open-end generation.\n"
     ]
    },
    {
     "name": "stdout",
     "output_type": "stream",
     "text": [
      "request_duration : 76.8827736377716\n",
      "545\n"
     ]
    },
    {
     "name": "stderr",
     "output_type": "stream",
     "text": [
      "Setting `pad_token_id` to `eos_token_id`:2 for open-end generation.\n"
     ]
    },
    {
     "name": "stdout",
     "output_type": "stream",
     "text": [
      "request_duration : 7.572539806365967\n"
     ]
    },
    {
     "name": "stderr",
     "output_type": "stream",
     "text": [
      "Setting `pad_token_id` to `eos_token_id`:2 for open-end generation.\n"
     ]
    },
    {
     "name": "stdout",
     "output_type": "stream",
     "text": [
      "request_duration : 53.16617727279663\n"
     ]
    },
    {
     "name": "stderr",
     "output_type": "stream",
     "text": [
      "Setting `pad_token_id` to `eos_token_id`:2 for open-end generation.\n"
     ]
    },
    {
     "name": "stdout",
     "output_type": "stream",
     "text": [
      "request_duration : 135.70867323875427\n",
      "548\n"
     ]
    },
    {
     "name": "stderr",
     "output_type": "stream",
     "text": [
      "Setting `pad_token_id` to `eos_token_id`:2 for open-end generation.\n"
     ]
    },
    {
     "name": "stdout",
     "output_type": "stream",
     "text": [
      "request_duration : 136.98459100723267\n"
     ]
    },
    {
     "name": "stderr",
     "output_type": "stream",
     "text": [
      "Setting `pad_token_id` to `eos_token_id`:2 for open-end generation.\n"
     ]
    },
    {
     "name": "stdout",
     "output_type": "stream",
     "text": [
      "request_duration : 6.31608510017395\n"
     ]
    },
    {
     "name": "stderr",
     "output_type": "stream",
     "text": [
      "Setting `pad_token_id` to `eos_token_id`:2 for open-end generation.\n"
     ]
    },
    {
     "name": "stdout",
     "output_type": "stream",
     "text": [
      "request_duration : 14.720240354537964\n",
      "552\n"
     ]
    },
    {
     "name": "stderr",
     "output_type": "stream",
     "text": [
      "Setting `pad_token_id` to `eos_token_id`:2 for open-end generation.\n"
     ]
    },
    {
     "name": "stdout",
     "output_type": "stream",
     "text": [
      "request_duration : 134.78442692756653\n"
     ]
    },
    {
     "name": "stderr",
     "output_type": "stream",
     "text": [
      "Setting `pad_token_id` to `eos_token_id`:2 for open-end generation.\n"
     ]
    },
    {
     "name": "stdout",
     "output_type": "stream",
     "text": [
      "request_duration : 4.19792628288269\n"
     ]
    },
    {
     "name": "stderr",
     "output_type": "stream",
     "text": [
      "Setting `pad_token_id` to `eos_token_id`:2 for open-end generation.\n"
     ]
    },
    {
     "name": "stdout",
     "output_type": "stream",
     "text": [
      "request_duration : 27.576931953430176\n",
      "558\n"
     ]
    },
    {
     "name": "stderr",
     "output_type": "stream",
     "text": [
      "Setting `pad_token_id` to `eos_token_id`:2 for open-end generation.\n"
     ]
    },
    {
     "name": "stdout",
     "output_type": "stream",
     "text": [
      "request_duration : 10.284629821777344\n"
     ]
    },
    {
     "name": "stderr",
     "output_type": "stream",
     "text": [
      "Setting `pad_token_id` to `eos_token_id`:2 for open-end generation.\n"
     ]
    },
    {
     "name": "stdout",
     "output_type": "stream",
     "text": [
      "request_duration : 44.649340867996216\n"
     ]
    },
    {
     "name": "stderr",
     "output_type": "stream",
     "text": [
      "Setting `pad_token_id` to `eos_token_id`:2 for open-end generation.\n"
     ]
    },
    {
     "name": "stdout",
     "output_type": "stream",
     "text": [
      "request_duration : 8.525564908981323\n",
      "567\n"
     ]
    },
    {
     "name": "stderr",
     "output_type": "stream",
     "text": [
      "Setting `pad_token_id` to `eos_token_id`:2 for open-end generation.\n"
     ]
    },
    {
     "name": "stdout",
     "output_type": "stream",
     "text": [
      "request_duration : 6.926496267318726\n"
     ]
    },
    {
     "name": "stderr",
     "output_type": "stream",
     "text": [
      "Setting `pad_token_id` to `eos_token_id`:2 for open-end generation.\n"
     ]
    },
    {
     "name": "stdout",
     "output_type": "stream",
     "text": [
      "request_duration : 6.689477205276489\n"
     ]
    },
    {
     "name": "stderr",
     "output_type": "stream",
     "text": [
      "Setting `pad_token_id` to `eos_token_id`:2 for open-end generation.\n"
     ]
    },
    {
     "name": "stdout",
     "output_type": "stream",
     "text": [
      "request_duration : 11.270249128341675\n",
      "570\n"
     ]
    },
    {
     "name": "stderr",
     "output_type": "stream",
     "text": [
      "Setting `pad_token_id` to `eos_token_id`:2 for open-end generation.\n"
     ]
    },
    {
     "name": "stdout",
     "output_type": "stream",
     "text": [
      "request_duration : 13.67525577545166\n"
     ]
    },
    {
     "name": "stderr",
     "output_type": "stream",
     "text": [
      "Setting `pad_token_id` to `eos_token_id`:2 for open-end generation.\n"
     ]
    },
    {
     "name": "stdout",
     "output_type": "stream",
     "text": [
      "request_duration : 9.62532663345337\n"
     ]
    },
    {
     "name": "stderr",
     "output_type": "stream",
     "text": [
      "Setting `pad_token_id` to `eos_token_id`:2 for open-end generation.\n"
     ]
    },
    {
     "name": "stdout",
     "output_type": "stream",
     "text": [
      "request_duration : 9.648055076599121\n",
      "572\n"
     ]
    },
    {
     "name": "stderr",
     "output_type": "stream",
     "text": [
      "Setting `pad_token_id` to `eos_token_id`:2 for open-end generation.\n"
     ]
    },
    {
     "name": "stdout",
     "output_type": "stream",
     "text": [
      "request_duration : 136.5217626094818\n"
     ]
    },
    {
     "name": "stderr",
     "output_type": "stream",
     "text": [
      "Setting `pad_token_id` to `eos_token_id`:2 for open-end generation.\n"
     ]
    },
    {
     "name": "stdout",
     "output_type": "stream",
     "text": [
      "request_duration : 9.892854690551758\n"
     ]
    },
    {
     "name": "stderr",
     "output_type": "stream",
     "text": [
      "Setting `pad_token_id` to `eos_token_id`:2 for open-end generation.\n"
     ]
    },
    {
     "name": "stdout",
     "output_type": "stream",
     "text": [
      "request_duration : 141.2865912914276\n",
      "578\n"
     ]
    },
    {
     "name": "stderr",
     "output_type": "stream",
     "text": [
      "Setting `pad_token_id` to `eos_token_id`:2 for open-end generation.\n"
     ]
    },
    {
     "name": "stdout",
     "output_type": "stream",
     "text": [
      "request_duration : 25.54174518585205\n"
     ]
    },
    {
     "name": "stderr",
     "output_type": "stream",
     "text": [
      "Setting `pad_token_id` to `eos_token_id`:2 for open-end generation.\n"
     ]
    },
    {
     "name": "stdout",
     "output_type": "stream",
     "text": [
      "request_duration : 47.00097703933716\n"
     ]
    },
    {
     "name": "stderr",
     "output_type": "stream",
     "text": [
      "Setting `pad_token_id` to `eos_token_id`:2 for open-end generation.\n"
     ]
    },
    {
     "name": "stdout",
     "output_type": "stream",
     "text": [
      "request_duration : 9.386270999908447\n",
      "592\n"
     ]
    },
    {
     "name": "stderr",
     "output_type": "stream",
     "text": [
      "Setting `pad_token_id` to `eos_token_id`:2 for open-end generation.\n"
     ]
    },
    {
     "name": "stdout",
     "output_type": "stream",
     "text": [
      "request_duration : 24.74269437789917\n"
     ]
    },
    {
     "name": "stderr",
     "output_type": "stream",
     "text": [
      "Setting `pad_token_id` to `eos_token_id`:2 for open-end generation.\n"
     ]
    },
    {
     "name": "stdout",
     "output_type": "stream",
     "text": [
      "request_duration : 10.322714805603027\n"
     ]
    },
    {
     "name": "stderr",
     "output_type": "stream",
     "text": [
      "Setting `pad_token_id` to `eos_token_id`:2 for open-end generation.\n"
     ]
    },
    {
     "name": "stdout",
     "output_type": "stream",
     "text": [
      "request_duration : 135.77177786827087\n",
      "599\n"
     ]
    },
    {
     "name": "stderr",
     "output_type": "stream",
     "text": [
      "Setting `pad_token_id` to `eos_token_id`:2 for open-end generation.\n"
     ]
    },
    {
     "name": "stdout",
     "output_type": "stream",
     "text": [
      "request_duration : 7.907183885574341\n"
     ]
    },
    {
     "name": "stderr",
     "output_type": "stream",
     "text": [
      "Setting `pad_token_id` to `eos_token_id`:2 for open-end generation.\n"
     ]
    },
    {
     "name": "stdout",
     "output_type": "stream",
     "text": [
      "request_duration : 10.128304481506348\n"
     ]
    },
    {
     "name": "stderr",
     "output_type": "stream",
     "text": [
      "Setting `pad_token_id` to `eos_token_id`:2 for open-end generation.\n"
     ]
    },
    {
     "name": "stdout",
     "output_type": "stream",
     "text": [
      "request_duration : 9.354350566864014\n",
      "602\n"
     ]
    },
    {
     "name": "stderr",
     "output_type": "stream",
     "text": [
      "Setting `pad_token_id` to `eos_token_id`:2 for open-end generation.\n"
     ]
    },
    {
     "name": "stdout",
     "output_type": "stream",
     "text": [
      "request_duration : 133.74299097061157\n"
     ]
    },
    {
     "name": "stderr",
     "output_type": "stream",
     "text": [
      "Setting `pad_token_id` to `eos_token_id`:2 for open-end generation.\n"
     ]
    },
    {
     "name": "stdout",
     "output_type": "stream",
     "text": [
      "request_duration : 134.54696249961853\n"
     ]
    },
    {
     "name": "stderr",
     "output_type": "stream",
     "text": [
      "Setting `pad_token_id` to `eos_token_id`:2 for open-end generation.\n"
     ]
    },
    {
     "name": "stdout",
     "output_type": "stream",
     "text": [
      "request_duration : 15.568412065505981\n",
      "610\n"
     ]
    },
    {
     "name": "stderr",
     "output_type": "stream",
     "text": [
      "Setting `pad_token_id` to `eos_token_id`:2 for open-end generation.\n"
     ]
    },
    {
     "name": "stdout",
     "output_type": "stream",
     "text": [
      "request_duration : 8.866412878036499\n"
     ]
    },
    {
     "name": "stderr",
     "output_type": "stream",
     "text": [
      "Setting `pad_token_id` to `eos_token_id`:2 for open-end generation.\n"
     ]
    },
    {
     "name": "stdout",
     "output_type": "stream",
     "text": [
      "request_duration : 134.84307527542114\n"
     ]
    },
    {
     "name": "stderr",
     "output_type": "stream",
     "text": [
      "Setting `pad_token_id` to `eos_token_id`:2 for open-end generation.\n"
     ]
    },
    {
     "name": "stdout",
     "output_type": "stream",
     "text": [
      "request_duration : 9.426489114761353\n",
      "614\n"
     ]
    },
    {
     "name": "stderr",
     "output_type": "stream",
     "text": [
      "Setting `pad_token_id` to `eos_token_id`:2 for open-end generation.\n"
     ]
    },
    {
     "name": "stdout",
     "output_type": "stream",
     "text": [
      "request_duration : 9.481383085250854\n"
     ]
    },
    {
     "name": "stderr",
     "output_type": "stream",
     "text": [
      "Setting `pad_token_id` to `eos_token_id`:2 for open-end generation.\n"
     ]
    },
    {
     "name": "stdout",
     "output_type": "stream",
     "text": [
      "request_duration : 10.065504550933838\n"
     ]
    },
    {
     "name": "stderr",
     "output_type": "stream",
     "text": [
      "Setting `pad_token_id` to `eos_token_id`:2 for open-end generation.\n"
     ]
    },
    {
     "name": "stdout",
     "output_type": "stream",
     "text": [
      "request_duration : 34.56579637527466\n",
      "615\n"
     ]
    },
    {
     "name": "stderr",
     "output_type": "stream",
     "text": [
      "Setting `pad_token_id` to `eos_token_id`:2 for open-end generation.\n"
     ]
    },
    {
     "name": "stdout",
     "output_type": "stream",
     "text": [
      "request_duration : 11.730865001678467\n"
     ]
    },
    {
     "name": "stderr",
     "output_type": "stream",
     "text": [
      "Setting `pad_token_id` to `eos_token_id`:2 for open-end generation.\n"
     ]
    },
    {
     "name": "stdout",
     "output_type": "stream",
     "text": [
      "request_duration : 18.640190601348877\n"
     ]
    },
    {
     "name": "stderr",
     "output_type": "stream",
     "text": [
      "Setting `pad_token_id` to `eos_token_id`:2 for open-end generation.\n"
     ]
    },
    {
     "name": "stdout",
     "output_type": "stream",
     "text": [
      "request_duration : 12.252306699752808\n",
      "616\n"
     ]
    },
    {
     "name": "stderr",
     "output_type": "stream",
     "text": [
      "Setting `pad_token_id` to `eos_token_id`:2 for open-end generation.\n"
     ]
    },
    {
     "name": "stdout",
     "output_type": "stream",
     "text": [
      "request_duration : 11.70307993888855\n"
     ]
    },
    {
     "name": "stderr",
     "output_type": "stream",
     "text": [
      "Setting `pad_token_id` to `eos_token_id`:2 for open-end generation.\n"
     ]
    },
    {
     "name": "stdout",
     "output_type": "stream",
     "text": [
      "request_duration : 11.291207075119019\n"
     ]
    },
    {
     "name": "stderr",
     "output_type": "stream",
     "text": [
      "Setting `pad_token_id` to `eos_token_id`:2 for open-end generation.\n"
     ]
    },
    {
     "name": "stdout",
     "output_type": "stream",
     "text": [
      "request_duration : 9.058465957641602\n",
      "618\n"
     ]
    },
    {
     "name": "stderr",
     "output_type": "stream",
     "text": [
      "Setting `pad_token_id` to `eos_token_id`:2 for open-end generation.\n"
     ]
    },
    {
     "name": "stdout",
     "output_type": "stream",
     "text": [
      "request_duration : 8.289875745773315\n"
     ]
    },
    {
     "name": "stderr",
     "output_type": "stream",
     "text": [
      "Setting `pad_token_id` to `eos_token_id`:2 for open-end generation.\n"
     ]
    },
    {
     "name": "stdout",
     "output_type": "stream",
     "text": [
      "request_duration : 11.36705732345581\n"
     ]
    },
    {
     "name": "stderr",
     "output_type": "stream",
     "text": [
      "Setting `pad_token_id` to `eos_token_id`:2 for open-end generation.\n"
     ]
    },
    {
     "name": "stdout",
     "output_type": "stream",
     "text": [
      "request_duration : 12.070816993713379\n",
      "620\n"
     ]
    },
    {
     "name": "stderr",
     "output_type": "stream",
     "text": [
      "Setting `pad_token_id` to `eos_token_id`:2 for open-end generation.\n"
     ]
    },
    {
     "name": "stdout",
     "output_type": "stream",
     "text": [
      "request_duration : 11.573538780212402\n"
     ]
    },
    {
     "name": "stderr",
     "output_type": "stream",
     "text": [
      "Setting `pad_token_id` to `eos_token_id`:2 for open-end generation.\n"
     ]
    },
    {
     "name": "stdout",
     "output_type": "stream",
     "text": [
      "request_duration : 133.3297438621521\n"
     ]
    },
    {
     "name": "stderr",
     "output_type": "stream",
     "text": [
      "Setting `pad_token_id` to `eos_token_id`:2 for open-end generation.\n"
     ]
    },
    {
     "name": "stdout",
     "output_type": "stream",
     "text": [
      "request_duration : 138.806489944458\n",
      "629\n"
     ]
    },
    {
     "name": "stderr",
     "output_type": "stream",
     "text": [
      "Setting `pad_token_id` to `eos_token_id`:2 for open-end generation.\n"
     ]
    },
    {
     "name": "stdout",
     "output_type": "stream",
     "text": [
      "request_duration : 9.586703062057495\n"
     ]
    },
    {
     "name": "stderr",
     "output_type": "stream",
     "text": [
      "Setting `pad_token_id` to `eos_token_id`:2 for open-end generation.\n"
     ]
    },
    {
     "name": "stdout",
     "output_type": "stream",
     "text": [
      "request_duration : 93.09176921844482\n"
     ]
    },
    {
     "name": "stderr",
     "output_type": "stream",
     "text": [
      "Setting `pad_token_id` to `eos_token_id`:2 for open-end generation.\n"
     ]
    },
    {
     "name": "stdout",
     "output_type": "stream",
     "text": [
      "request_duration : 12.09135127067566\n",
      "637\n"
     ]
    },
    {
     "name": "stderr",
     "output_type": "stream",
     "text": [
      "Setting `pad_token_id` to `eos_token_id`:2 for open-end generation.\n"
     ]
    },
    {
     "name": "stdout",
     "output_type": "stream",
     "text": [
      "request_duration : 7.4157280921936035\n"
     ]
    },
    {
     "name": "stderr",
     "output_type": "stream",
     "text": [
      "Setting `pad_token_id` to `eos_token_id`:2 for open-end generation.\n"
     ]
    },
    {
     "name": "stdout",
     "output_type": "stream",
     "text": [
      "request_duration : 132.9302363395691\n"
     ]
    },
    {
     "name": "stderr",
     "output_type": "stream",
     "text": [
      "Setting `pad_token_id` to `eos_token_id`:2 for open-end generation.\n"
     ]
    },
    {
     "name": "stdout",
     "output_type": "stream",
     "text": [
      "request_duration : 18.65964365005493\n",
      "646\n"
     ]
    },
    {
     "name": "stderr",
     "output_type": "stream",
     "text": [
      "Setting `pad_token_id` to `eos_token_id`:2 for open-end generation.\n"
     ]
    },
    {
     "name": "stdout",
     "output_type": "stream",
     "text": [
      "request_duration : 138.91638898849487\n"
     ]
    },
    {
     "name": "stderr",
     "output_type": "stream",
     "text": [
      "Setting `pad_token_id` to `eos_token_id`:2 for open-end generation.\n"
     ]
    },
    {
     "name": "stdout",
     "output_type": "stream",
     "text": [
      "request_duration : 6.4501447677612305\n"
     ]
    },
    {
     "name": "stderr",
     "output_type": "stream",
     "text": [
      "Setting `pad_token_id` to `eos_token_id`:2 for open-end generation.\n"
     ]
    },
    {
     "name": "stdout",
     "output_type": "stream",
     "text": [
      "request_duration : 19.916300296783447\n",
      "649\n"
     ]
    },
    {
     "name": "stderr",
     "output_type": "stream",
     "text": [
      "Setting `pad_token_id` to `eos_token_id`:2 for open-end generation.\n"
     ]
    },
    {
     "name": "stdout",
     "output_type": "stream",
     "text": [
      "request_duration : 6.670945167541504\n"
     ]
    },
    {
     "name": "stderr",
     "output_type": "stream",
     "text": [
      "Setting `pad_token_id` to `eos_token_id`:2 for open-end generation.\n"
     ]
    },
    {
     "name": "stdout",
     "output_type": "stream",
     "text": [
      "request_duration : 8.826442003250122\n"
     ]
    },
    {
     "name": "stderr",
     "output_type": "stream",
     "text": [
      "Setting `pad_token_id` to `eos_token_id`:2 for open-end generation.\n"
     ]
    },
    {
     "name": "stdout",
     "output_type": "stream",
     "text": [
      "request_duration : 9.586611032485962\n",
      "651\n"
     ]
    },
    {
     "name": "stderr",
     "output_type": "stream",
     "text": [
      "Setting `pad_token_id` to `eos_token_id`:2 for open-end generation.\n"
     ]
    },
    {
     "name": "stdout",
     "output_type": "stream",
     "text": [
      "request_duration : 14.278547048568726\n"
     ]
    },
    {
     "name": "stderr",
     "output_type": "stream",
     "text": [
      "Setting `pad_token_id` to `eos_token_id`:2 for open-end generation.\n"
     ]
    },
    {
     "name": "stdout",
     "output_type": "stream",
     "text": [
      "request_duration : 135.4004771709442\n"
     ]
    },
    {
     "name": "stderr",
     "output_type": "stream",
     "text": [
      "Setting `pad_token_id` to `eos_token_id`:2 for open-end generation.\n"
     ]
    },
    {
     "name": "stdout",
     "output_type": "stream",
     "text": [
      "request_duration : 8.148880004882812\n",
      "662\n"
     ]
    },
    {
     "name": "stderr",
     "output_type": "stream",
     "text": [
      "Setting `pad_token_id` to `eos_token_id`:2 for open-end generation.\n"
     ]
    },
    {
     "name": "stdout",
     "output_type": "stream",
     "text": [
      "request_duration : 143.10294127464294\n"
     ]
    },
    {
     "name": "stderr",
     "output_type": "stream",
     "text": [
      "Setting `pad_token_id` to `eos_token_id`:2 for open-end generation.\n"
     ]
    },
    {
     "name": "stdout",
     "output_type": "stream",
     "text": [
      "request_duration : 26.34341335296631\n"
     ]
    },
    {
     "name": "stderr",
     "output_type": "stream",
     "text": [
      "Setting `pad_token_id` to `eos_token_id`:2 for open-end generation.\n"
     ]
    },
    {
     "name": "stdout",
     "output_type": "stream",
     "text": [
      "request_duration : 9.598166704177856\n",
      "669\n"
     ]
    },
    {
     "name": "stderr",
     "output_type": "stream",
     "text": [
      "Setting `pad_token_id` to `eos_token_id`:2 for open-end generation.\n"
     ]
    },
    {
     "name": "stdout",
     "output_type": "stream",
     "text": [
      "request_duration : 8.615848541259766\n"
     ]
    },
    {
     "name": "stderr",
     "output_type": "stream",
     "text": [
      "Setting `pad_token_id` to `eos_token_id`:2 for open-end generation.\n"
     ]
    },
    {
     "name": "stdout",
     "output_type": "stream",
     "text": [
      "request_duration : 58.751378536224365\n"
     ]
    },
    {
     "name": "stderr",
     "output_type": "stream",
     "text": [
      "Setting `pad_token_id` to `eos_token_id`:2 for open-end generation.\n"
     ]
    },
    {
     "name": "stdout",
     "output_type": "stream",
     "text": [
      "request_duration : 25.847642183303833\n",
      "690\n"
     ]
    },
    {
     "name": "stderr",
     "output_type": "stream",
     "text": [
      "Setting `pad_token_id` to `eos_token_id`:2 for open-end generation.\n"
     ]
    },
    {
     "name": "stdout",
     "output_type": "stream",
     "text": [
      "request_duration : 24.002728700637817\n"
     ]
    },
    {
     "name": "stderr",
     "output_type": "stream",
     "text": [
      "Setting `pad_token_id` to `eos_token_id`:2 for open-end generation.\n"
     ]
    },
    {
     "name": "stdout",
     "output_type": "stream",
     "text": [
      "request_duration : 6.710538387298584\n"
     ]
    },
    {
     "name": "stderr",
     "output_type": "stream",
     "text": [
      "Setting `pad_token_id` to `eos_token_id`:2 for open-end generation.\n"
     ]
    },
    {
     "name": "stdout",
     "output_type": "stream",
     "text": [
      "request_duration : 5.759876728057861\n",
      "699\n"
     ]
    },
    {
     "name": "stderr",
     "output_type": "stream",
     "text": [
      "Setting `pad_token_id` to `eos_token_id`:2 for open-end generation.\n"
     ]
    },
    {
     "name": "stdout",
     "output_type": "stream",
     "text": [
      "request_duration : 27.454920053482056\n"
     ]
    },
    {
     "name": "stderr",
     "output_type": "stream",
     "text": [
      "Setting `pad_token_id` to `eos_token_id`:2 for open-end generation.\n"
     ]
    },
    {
     "name": "stdout",
     "output_type": "stream",
     "text": [
      "request_duration : 77.23700618743896\n"
     ]
    },
    {
     "name": "stderr",
     "output_type": "stream",
     "text": [
      "Setting `pad_token_id` to `eos_token_id`:2 for open-end generation.\n"
     ]
    },
    {
     "name": "stdout",
     "output_type": "stream",
     "text": [
      "request_duration : 9.296711206436157\n",
      "701\n"
     ]
    },
    {
     "name": "stderr",
     "output_type": "stream",
     "text": [
      "Setting `pad_token_id` to `eos_token_id`:2 for open-end generation.\n"
     ]
    },
    {
     "name": "stdout",
     "output_type": "stream",
     "text": [
      "request_duration : 6.301797389984131\n"
     ]
    },
    {
     "name": "stderr",
     "output_type": "stream",
     "text": [
      "Setting `pad_token_id` to `eos_token_id`:2 for open-end generation.\n"
     ]
    },
    {
     "name": "stdout",
     "output_type": "stream",
     "text": [
      "request_duration : 22.795703649520874\n"
     ]
    },
    {
     "name": "stderr",
     "output_type": "stream",
     "text": [
      "Setting `pad_token_id` to `eos_token_id`:2 for open-end generation.\n"
     ]
    },
    {
     "name": "stdout",
     "output_type": "stream",
     "text": [
      "request_duration : 84.24984073638916\n",
      "709\n"
     ]
    },
    {
     "name": "stderr",
     "output_type": "stream",
     "text": [
      "Setting `pad_token_id` to `eos_token_id`:2 for open-end generation.\n"
     ]
    },
    {
     "name": "stdout",
     "output_type": "stream",
     "text": [
      "request_duration : 8.684601068496704\n"
     ]
    },
    {
     "name": "stderr",
     "output_type": "stream",
     "text": [
      "Setting `pad_token_id` to `eos_token_id`:2 for open-end generation.\n"
     ]
    },
    {
     "name": "stdout",
     "output_type": "stream",
     "text": [
      "request_duration : 32.145363092422485\n"
     ]
    },
    {
     "name": "stderr",
     "output_type": "stream",
     "text": [
      "Setting `pad_token_id` to `eos_token_id`:2 for open-end generation.\n"
     ]
    },
    {
     "name": "stdout",
     "output_type": "stream",
     "text": [
      "request_duration : 37.72366285324097\n",
      "723\n"
     ]
    },
    {
     "name": "stderr",
     "output_type": "stream",
     "text": [
      "Setting `pad_token_id` to `eos_token_id`:2 for open-end generation.\n"
     ]
    },
    {
     "name": "stdout",
     "output_type": "stream",
     "text": [
      "request_duration : 10.410571813583374\n"
     ]
    },
    {
     "name": "stderr",
     "output_type": "stream",
     "text": [
      "Setting `pad_token_id` to `eos_token_id`:2 for open-end generation.\n"
     ]
    },
    {
     "name": "stdout",
     "output_type": "stream",
     "text": [
      "request_duration : 23.38886308670044\n"
     ]
    },
    {
     "name": "stderr",
     "output_type": "stream",
     "text": [
      "Setting `pad_token_id` to `eos_token_id`:2 for open-end generation.\n"
     ]
    },
    {
     "name": "stdout",
     "output_type": "stream",
     "text": [
      "request_duration : 9.844748258590698\n",
      "730\n"
     ]
    },
    {
     "name": "stderr",
     "output_type": "stream",
     "text": [
      "Setting `pad_token_id` to `eos_token_id`:2 for open-end generation.\n"
     ]
    },
    {
     "name": "stdout",
     "output_type": "stream",
     "text": [
      "request_duration : 9.408731937408447\n"
     ]
    },
    {
     "name": "stderr",
     "output_type": "stream",
     "text": [
      "Setting `pad_token_id` to `eos_token_id`:2 for open-end generation.\n"
     ]
    },
    {
     "name": "stdout",
     "output_type": "stream",
     "text": [
      "request_duration : 16.062345266342163\n"
     ]
    },
    {
     "name": "stderr",
     "output_type": "stream",
     "text": [
      "Setting `pad_token_id` to `eos_token_id`:2 for open-end generation.\n"
     ]
    },
    {
     "name": "stdout",
     "output_type": "stream",
     "text": [
      "request_duration : 14.638974905014038\n",
      "737\n"
     ]
    },
    {
     "name": "stderr",
     "output_type": "stream",
     "text": [
      "Setting `pad_token_id` to `eos_token_id`:2 for open-end generation.\n"
     ]
    },
    {
     "name": "stdout",
     "output_type": "stream",
     "text": [
      "request_duration : 7.511640310287476\n"
     ]
    },
    {
     "name": "stderr",
     "output_type": "stream",
     "text": [
      "Setting `pad_token_id` to `eos_token_id`:2 for open-end generation.\n"
     ]
    },
    {
     "name": "stdout",
     "output_type": "stream",
     "text": [
      "request_duration : 8.111709833145142\n"
     ]
    },
    {
     "name": "stderr",
     "output_type": "stream",
     "text": [
      "Setting `pad_token_id` to `eos_token_id`:2 for open-end generation.\n"
     ]
    },
    {
     "name": "stdout",
     "output_type": "stream",
     "text": [
      "request_duration : 8.075733661651611\n",
      "739\n"
     ]
    },
    {
     "name": "stderr",
     "output_type": "stream",
     "text": [
      "Setting `pad_token_id` to `eos_token_id`:2 for open-end generation.\n"
     ]
    },
    {
     "name": "stdout",
     "output_type": "stream",
     "text": [
      "request_duration : 136.8608226776123\n"
     ]
    },
    {
     "name": "stderr",
     "output_type": "stream",
     "text": [
      "Setting `pad_token_id` to `eos_token_id`:2 for open-end generation.\n"
     ]
    },
    {
     "name": "stdout",
     "output_type": "stream",
     "text": [
      "request_duration : 137.6278133392334\n"
     ]
    },
    {
     "name": "stderr",
     "output_type": "stream",
     "text": [
      "Setting `pad_token_id` to `eos_token_id`:2 for open-end generation.\n"
     ]
    },
    {
     "name": "stdout",
     "output_type": "stream",
     "text": [
      "request_duration : 8.322572469711304\n",
      "747\n"
     ]
    },
    {
     "name": "stderr",
     "output_type": "stream",
     "text": [
      "Setting `pad_token_id` to `eos_token_id`:2 for open-end generation.\n"
     ]
    },
    {
     "name": "stdout",
     "output_type": "stream",
     "text": [
      "request_duration : 13.225996971130371\n"
     ]
    },
    {
     "name": "stderr",
     "output_type": "stream",
     "text": [
      "Setting `pad_token_id` to `eos_token_id`:2 for open-end generation.\n"
     ]
    },
    {
     "name": "stdout",
     "output_type": "stream",
     "text": [
      "request_duration : 121.45443630218506\n"
     ]
    },
    {
     "name": "stderr",
     "output_type": "stream",
     "text": [
      "Setting `pad_token_id` to `eos_token_id`:2 for open-end generation.\n"
     ]
    },
    {
     "name": "stdout",
     "output_type": "stream",
     "text": [
      "request_duration : 8.393499612808228\n",
      "757\n"
     ]
    },
    {
     "name": "stderr",
     "output_type": "stream",
     "text": [
      "Setting `pad_token_id` to `eos_token_id`:2 for open-end generation.\n"
     ]
    },
    {
     "name": "stdout",
     "output_type": "stream",
     "text": [
      "request_duration : 9.130128145217896\n"
     ]
    },
    {
     "name": "stderr",
     "output_type": "stream",
     "text": [
      "Setting `pad_token_id` to `eos_token_id`:2 for open-end generation.\n"
     ]
    },
    {
     "name": "stdout",
     "output_type": "stream",
     "text": [
      "request_duration : 137.90223264694214\n"
     ]
    },
    {
     "name": "stderr",
     "output_type": "stream",
     "text": [
      "Setting `pad_token_id` to `eos_token_id`:2 for open-end generation.\n"
     ]
    },
    {
     "name": "stdout",
     "output_type": "stream",
     "text": [
      "request_duration : 5.080413103103638\n",
      "764\n"
     ]
    },
    {
     "name": "stderr",
     "output_type": "stream",
     "text": [
      "Setting `pad_token_id` to `eos_token_id`:2 for open-end generation.\n"
     ]
    },
    {
     "name": "stdout",
     "output_type": "stream",
     "text": [
      "request_duration : 6.28326416015625\n"
     ]
    },
    {
     "name": "stderr",
     "output_type": "stream",
     "text": [
      "Setting `pad_token_id` to `eos_token_id`:2 for open-end generation.\n"
     ]
    },
    {
     "name": "stdout",
     "output_type": "stream",
     "text": [
      "request_duration : 8.865631818771362\n"
     ]
    },
    {
     "name": "stderr",
     "output_type": "stream",
     "text": [
      "Setting `pad_token_id` to `eos_token_id`:2 for open-end generation.\n"
     ]
    },
    {
     "name": "stdout",
     "output_type": "stream",
     "text": [
      "request_duration : 9.069659948348999\n",
      "766\n"
     ]
    },
    {
     "name": "stderr",
     "output_type": "stream",
     "text": [
      "Setting `pad_token_id` to `eos_token_id`:2 for open-end generation.\n"
     ]
    },
    {
     "name": "stdout",
     "output_type": "stream",
     "text": [
      "request_duration : 9.818576335906982\n"
     ]
    },
    {
     "name": "stderr",
     "output_type": "stream",
     "text": [
      "Setting `pad_token_id` to `eos_token_id`:2 for open-end generation.\n"
     ]
    },
    {
     "name": "stdout",
     "output_type": "stream",
     "text": [
      "request_duration : 137.98070812225342\n"
     ]
    },
    {
     "name": "stderr",
     "output_type": "stream",
     "text": [
      "Setting `pad_token_id` to `eos_token_id`:2 for open-end generation.\n"
     ]
    },
    {
     "name": "stdout",
     "output_type": "stream",
     "text": [
      "request_duration : 14.339335918426514\n",
      "770\n"
     ]
    },
    {
     "name": "stderr",
     "output_type": "stream",
     "text": [
      "Setting `pad_token_id` to `eos_token_id`:2 for open-end generation.\n"
     ]
    },
    {
     "name": "stdout",
     "output_type": "stream",
     "text": [
      "request_duration : 24.60881471633911\n"
     ]
    },
    {
     "name": "stderr",
     "output_type": "stream",
     "text": [
      "Setting `pad_token_id` to `eos_token_id`:2 for open-end generation.\n"
     ]
    },
    {
     "name": "stdout",
     "output_type": "stream",
     "text": [
      "request_duration : 53.4143500328064\n"
     ]
    },
    {
     "name": "stderr",
     "output_type": "stream",
     "text": [
      "Setting `pad_token_id` to `eos_token_id`:2 for open-end generation.\n"
     ]
    },
    {
     "name": "stdout",
     "output_type": "stream",
     "text": [
      "request_duration : 137.30039501190186\n",
      "778\n"
     ]
    },
    {
     "name": "stderr",
     "output_type": "stream",
     "text": [
      "Setting `pad_token_id` to `eos_token_id`:2 for open-end generation.\n"
     ]
    },
    {
     "name": "stdout",
     "output_type": "stream",
     "text": [
      "request_duration : 28.99121356010437\n"
     ]
    },
    {
     "name": "stderr",
     "output_type": "stream",
     "text": [
      "Setting `pad_token_id` to `eos_token_id`:2 for open-end generation.\n"
     ]
    },
    {
     "name": "stdout",
     "output_type": "stream",
     "text": [
      "request_duration : 135.58894848823547\n"
     ]
    },
    {
     "name": "stderr",
     "output_type": "stream",
     "text": [
      "Setting `pad_token_id` to `eos_token_id`:2 for open-end generation.\n"
     ]
    },
    {
     "name": "stdout",
     "output_type": "stream",
     "text": [
      "request_duration : 14.683951616287231\n",
      "785\n"
     ]
    },
    {
     "name": "stderr",
     "output_type": "stream",
     "text": [
      "Setting `pad_token_id` to `eos_token_id`:2 for open-end generation.\n"
     ]
    },
    {
     "name": "stdout",
     "output_type": "stream",
     "text": [
      "request_duration : 86.45680046081543\n"
     ]
    },
    {
     "name": "stderr",
     "output_type": "stream",
     "text": [
      "Setting `pad_token_id` to `eos_token_id`:2 for open-end generation.\n"
     ]
    },
    {
     "name": "stdout",
     "output_type": "stream",
     "text": [
      "request_duration : 9.35610818862915\n"
     ]
    },
    {
     "name": "stderr",
     "output_type": "stream",
     "text": [
      "Setting `pad_token_id` to `eos_token_id`:2 for open-end generation.\n"
     ]
    },
    {
     "name": "stdout",
     "output_type": "stream",
     "text": [
      "request_duration : 135.5583140850067\n",
      "791\n"
     ]
    },
    {
     "name": "stderr",
     "output_type": "stream",
     "text": [
      "Setting `pad_token_id` to `eos_token_id`:2 for open-end generation.\n"
     ]
    },
    {
     "name": "stdout",
     "output_type": "stream",
     "text": [
      "request_duration : 4.147918939590454\n"
     ]
    },
    {
     "name": "stderr",
     "output_type": "stream",
     "text": [
      "Setting `pad_token_id` to `eos_token_id`:2 for open-end generation.\n"
     ]
    },
    {
     "name": "stdout",
     "output_type": "stream",
     "text": [
      "request_duration : 16.699896335601807\n"
     ]
    },
    {
     "name": "stderr",
     "output_type": "stream",
     "text": [
      "Setting `pad_token_id` to `eos_token_id`:2 for open-end generation.\n"
     ]
    },
    {
     "name": "stdout",
     "output_type": "stream",
     "text": [
      "request_duration : 23.759143829345703\n",
      "802\n"
     ]
    },
    {
     "name": "stderr",
     "output_type": "stream",
     "text": [
      "Setting `pad_token_id` to `eos_token_id`:2 for open-end generation.\n"
     ]
    },
    {
     "name": "stdout",
     "output_type": "stream",
     "text": [
      "request_duration : 133.985995054245\n"
     ]
    },
    {
     "name": "stderr",
     "output_type": "stream",
     "text": [
      "Setting `pad_token_id` to `eos_token_id`:2 for open-end generation.\n"
     ]
    },
    {
     "name": "stdout",
     "output_type": "stream",
     "text": [
      "request_duration : 9.033880949020386\n"
     ]
    },
    {
     "name": "stderr",
     "output_type": "stream",
     "text": [
      "Setting `pad_token_id` to `eos_token_id`:2 for open-end generation.\n"
     ]
    },
    {
     "name": "stdout",
     "output_type": "stream",
     "text": [
      "request_duration : 41.549121618270874\n",
      "806\n"
     ]
    },
    {
     "name": "stderr",
     "output_type": "stream",
     "text": [
      "Setting `pad_token_id` to `eos_token_id`:2 for open-end generation.\n"
     ]
    },
    {
     "name": "stdout",
     "output_type": "stream",
     "text": [
      "request_duration : 8.923422574996948\n"
     ]
    },
    {
     "name": "stderr",
     "output_type": "stream",
     "text": [
      "Setting `pad_token_id` to `eos_token_id`:2 for open-end generation.\n"
     ]
    },
    {
     "name": "stdout",
     "output_type": "stream",
     "text": [
      "request_duration : 10.284962892532349\n"
     ]
    },
    {
     "name": "stderr",
     "output_type": "stream",
     "text": [
      "Setting `pad_token_id` to `eos_token_id`:2 for open-end generation.\n"
     ]
    },
    {
     "name": "stdout",
     "output_type": "stream",
     "text": [
      "request_duration : 20.36051893234253\n",
      "811\n"
     ]
    },
    {
     "name": "stderr",
     "output_type": "stream",
     "text": [
      "Setting `pad_token_id` to `eos_token_id`:2 for open-end generation.\n"
     ]
    },
    {
     "name": "stdout",
     "output_type": "stream",
     "text": [
      "request_duration : 6.7015039920806885\n"
     ]
    },
    {
     "name": "stderr",
     "output_type": "stream",
     "text": [
      "Setting `pad_token_id` to `eos_token_id`:2 for open-end generation.\n"
     ]
    },
    {
     "name": "stdout",
     "output_type": "stream",
     "text": [
      "request_duration : 10.545921564102173\n"
     ]
    },
    {
     "name": "stderr",
     "output_type": "stream",
     "text": [
      "Setting `pad_token_id` to `eos_token_id`:2 for open-end generation.\n"
     ]
    },
    {
     "name": "stdout",
     "output_type": "stream",
     "text": [
      "request_duration : 7.27017879486084\n",
      "814\n"
     ]
    },
    {
     "name": "stderr",
     "output_type": "stream",
     "text": [
      "Setting `pad_token_id` to `eos_token_id`:2 for open-end generation.\n"
     ]
    },
    {
     "name": "stdout",
     "output_type": "stream",
     "text": [
      "request_duration : 133.52015233039856\n"
     ]
    },
    {
     "name": "stderr",
     "output_type": "stream",
     "text": [
      "Setting `pad_token_id` to `eos_token_id`:2 for open-end generation.\n"
     ]
    },
    {
     "name": "stdout",
     "output_type": "stream",
     "text": [
      "request_duration : 26.52789545059204\n"
     ]
    },
    {
     "name": "stderr",
     "output_type": "stream",
     "text": [
      "Setting `pad_token_id` to `eos_token_id`:2 for open-end generation.\n"
     ]
    },
    {
     "name": "stdout",
     "output_type": "stream",
     "text": [
      "request_duration : 14.486971378326416\n",
      "824\n"
     ]
    },
    {
     "name": "stderr",
     "output_type": "stream",
     "text": [
      "Setting `pad_token_id` to `eos_token_id`:2 for open-end generation.\n"
     ]
    },
    {
     "name": "stdout",
     "output_type": "stream",
     "text": [
      "request_duration : 14.673708438873291\n"
     ]
    },
    {
     "name": "stderr",
     "output_type": "stream",
     "text": [
      "Setting `pad_token_id` to `eos_token_id`:2 for open-end generation.\n"
     ]
    },
    {
     "name": "stdout",
     "output_type": "stream",
     "text": [
      "request_duration : 47.27513098716736\n"
     ]
    },
    {
     "name": "stderr",
     "output_type": "stream",
     "text": [
      "Setting `pad_token_id` to `eos_token_id`:2 for open-end generation.\n"
     ]
    },
    {
     "name": "stdout",
     "output_type": "stream",
     "text": [
      "request_duration : 7.13067626953125\n",
      "830\n"
     ]
    },
    {
     "name": "stderr",
     "output_type": "stream",
     "text": [
      "Setting `pad_token_id` to `eos_token_id`:2 for open-end generation.\n"
     ]
    },
    {
     "name": "stdout",
     "output_type": "stream",
     "text": [
      "request_duration : 15.102182149887085\n"
     ]
    },
    {
     "name": "stderr",
     "output_type": "stream",
     "text": [
      "Setting `pad_token_id` to `eos_token_id`:2 for open-end generation.\n"
     ]
    },
    {
     "name": "stdout",
     "output_type": "stream",
     "text": [
      "request_duration : 10.383797407150269\n"
     ]
    },
    {
     "name": "stderr",
     "output_type": "stream",
     "text": [
      "Setting `pad_token_id` to `eos_token_id`:2 for open-end generation.\n"
     ]
    },
    {
     "name": "stdout",
     "output_type": "stream",
     "text": [
      "request_duration : 83.67656207084656\n",
      "837\n"
     ]
    },
    {
     "name": "stderr",
     "output_type": "stream",
     "text": [
      "Setting `pad_token_id` to `eos_token_id`:2 for open-end generation.\n"
     ]
    },
    {
     "name": "stdout",
     "output_type": "stream",
     "text": [
      "request_duration : 9.730384826660156\n"
     ]
    },
    {
     "name": "stderr",
     "output_type": "stream",
     "text": [
      "Setting `pad_token_id` to `eos_token_id`:2 for open-end generation.\n"
     ]
    },
    {
     "name": "stdout",
     "output_type": "stream",
     "text": [
      "request_duration : 7.283500909805298\n"
     ]
    },
    {
     "name": "stderr",
     "output_type": "stream",
     "text": [
      "Setting `pad_token_id` to `eos_token_id`:2 for open-end generation.\n"
     ]
    },
    {
     "name": "stdout",
     "output_type": "stream",
     "text": [
      "request_duration : 134.68881559371948\n",
      "840\n"
     ]
    },
    {
     "name": "stderr",
     "output_type": "stream",
     "text": [
      "Setting `pad_token_id` to `eos_token_id`:2 for open-end generation.\n"
     ]
    },
    {
     "name": "stdout",
     "output_type": "stream",
     "text": [
      "request_duration : 56.70736360549927\n"
     ]
    },
    {
     "name": "stderr",
     "output_type": "stream",
     "text": [
      "Setting `pad_token_id` to `eos_token_id`:2 for open-end generation.\n"
     ]
    },
    {
     "name": "stdout",
     "output_type": "stream",
     "text": [
      "request_duration : 13.922688722610474\n"
     ]
    },
    {
     "name": "stderr",
     "output_type": "stream",
     "text": [
      "Setting `pad_token_id` to `eos_token_id`:2 for open-end generation.\n"
     ]
    },
    {
     "name": "stdout",
     "output_type": "stream",
     "text": [
      "request_duration : 8.155527830123901\n",
      "853\n"
     ]
    },
    {
     "name": "stderr",
     "output_type": "stream",
     "text": [
      "Setting `pad_token_id` to `eos_token_id`:2 for open-end generation.\n"
     ]
    },
    {
     "name": "stdout",
     "output_type": "stream",
     "text": [
      "request_duration : 10.765702247619629\n"
     ]
    },
    {
     "name": "stderr",
     "output_type": "stream",
     "text": [
      "Setting `pad_token_id` to `eos_token_id`:2 for open-end generation.\n"
     ]
    },
    {
     "name": "stdout",
     "output_type": "stream",
     "text": [
      "request_duration : 6.454791069030762\n"
     ]
    },
    {
     "name": "stderr",
     "output_type": "stream",
     "text": [
      "Setting `pad_token_id` to `eos_token_id`:2 for open-end generation.\n"
     ]
    },
    {
     "name": "stdout",
     "output_type": "stream",
     "text": [
      "request_duration : 7.196898460388184\n",
      "854\n"
     ]
    }
   ],
   "source": [
    "corr_batch_inputs = generate_instruction_following_data(\"/workspace/self-instruction/seed_tasks.jsonl\", \"/workspace/self-instruction/test\", 8, 10000)"
   ]
  },
  {
   "cell_type": "code",
   "execution_count": null,
   "id": "5acbbab7-0780-4a8e-8bd2-9fd20a62fb71",
   "metadata": {},
   "outputs": [],
   "source": []
  },
  {
   "cell_type": "code",
   "execution_count": null,
   "id": "5a6e4e3e-d5ec-4dfc-8524-85070ad1b0e9",
   "metadata": {},
   "outputs": [],
   "source": []
  },
  {
   "cell_type": "code",
   "execution_count": null,
   "id": "aea0c13a-bfe3-41df-ba4b-a2b838f08a34",
   "metadata": {},
   "outputs": [],
   "source": []
  },
  {
   "cell_type": "code",
   "execution_count": null,
   "id": "b5709421-438d-416e-a526-6c59e65828d6",
   "metadata": {},
   "outputs": [],
   "source": []
  },
  {
   "cell_type": "code",
   "execution_count": 30,
   "id": "b3274c78-0054-44ea-a043-5d8c43658c0b",
   "metadata": {
    "scrolled": true
   },
   "outputs": [
    {
     "data": {
      "text/plain": [
       "['RPACA 설치 가이드',\n",
       " 'RPACA 사용법',\n",
       " 'Activity 이름이 Image로 끝날 경우 이미지 캡쳐하는 방법',\n",
       " 'Activity 이름이 XPath로 끝날 경우 xpath 값 구하는 방법',\n",
       " 'Activities 기능 설명',\n",
       " 'openBrowser',\n",
       " 'openCMD',\n",
       " 'getURL',\n",
       " 'inputBrowserByXPath',\n",
       " 'clickBrowserByXPath',\n",
       " 'inputBrowserByImage',\n",
       " 'clickBrowserByImage',\n",
       " 'clicks',\n",
       " 'hotkey',\n",
       " 'typingText',\n",
       " 'scrollToEnd',\n",
       " 'switchingTap',\n",
       " 'scrollSearchByImage',\n",
       " 'trycatch',\n",
       " 'closeBrowser',\n",
       " 'if',\n",
       " 'getText',\n",
       " 'httpRequest',\n",
       " 'graphqlClient',\n",
       " 'goTo',\n",
       " 'pythonCode',\n",
       " 'clipboardCopy',\n",
       " 'messageBox',\n",
       " 'checkElement',\n",
       " 'parsingVariable',\n",
       " 'initVal',\n",
       " 'selectByXPath',\n",
       " 'selectByImage',\n",
       " 'Vriable 사용법',\n",
       " '알파카에서 어떻게 데이터를 가져올 수 있나요?\\n',\n",
       " '알파카에서 어떻게 변수를 사용할 수 있나요?\\n',\n",
       " '알파카에서 어떻게 다른 서버에서 가져온 데이터를 저장할 수 있나요?\\n',\n",
       " '알파카에서 어떻게 다른 서버에서 가져온 데이터를 사용할 수 있나요?\\n',\n",
       " '알파카에서 어떻게 다른 서버에서 가져온 데이터를 사용하지 않고 사용하지 않을 수 있나요?\\n',\n",
       " '알파카에서 어떻게 다른 서버에서 가져온 데이터를 저장하지 않고 사용하지 않을 수 있나요?\\n',\n",
       " '알파카에서 어떻게 다른 서버에서 가져온 데이터를 사용하지 않고 사용하지 않을 수 있나요?\\n',\n",
       " '알파카에서 어떻게 다른 서버에서 가져온 데이터를 사용하지 않고 사용하지 않을 수 있나요?\\n',\n",
       " '알파카에서 어떻게 다른 서버에서 가져온 데이터를 사용하지 않고 사용하지 않을 수 있나요?\\n',\n",
       " '알파카에서 어떻게 다른 서버에서 가져온 데이터를 사용하지 않고 사용하지 않을 수 있나요?\\n',\n",
       " '알파카에서 어떻게 다른 서버에서 가져온 데이터를 사용하지 않고 사용하지 않을 수 있나요?\\n',\n",
       " '알파카에서 어떻게 다른 서버에서 가져온 데이터를 사용하지 않고 사용하지 않을 수 있나요?\\n',\n",
       " '알파카에서 어떻게 다른 서버에서 가져온 데이터를 사용하지 않고 사용하지 않을 수 있나요?\\n',\n",
       " '알파카에서 어떻게 다른 서버에서 가져온 데이터를 사용하지 않고 사용하지 않을 수 있나요?\\n',\n",
       " '알파카에서 어떻게 다른 서버에서 가져온 데이터를 사용하지 않고 사용하지 않을 수 있나요?\\n',\n",
       " '알파카에서 어떻게 다른 서버에서 가져온 데이터를 사용하지 않고 사용하지 않을 수 있나요?\\n',\n",
       " '알파카에서 어떻게 다른 서버에서 가져온 데이터를 사용하지 않고 사용하지 않을 수 있나요?\\n',\n",
       " '알파카에서 어떻게 다른 서버에서 가져온 데이터를 사용하지 않고 사용하지 않을 수 있나요?\\n',\n",
       " '알파카에서 어떻게 다른 서버에서 가져온 데이터를 사용하지 않고 사용하지 않을 수 있나요?\\n',\n",
       " '알파카에서 어떻게 다른 서버에서 가져온 데이터를 사용하지 않고 사용하지 않을 수 있나요?\\n',\n",
       " '알파카에서 어떻게 다른 서버에서 가져온 데이터를 사용하지 않고 사용하지 않을 수 있나요?\\n',\n",
       " '알파카에서 어떻게 다른 서버에서 가져온 데이터를 사용하지 않고 사용하지 않을 수 있나요?\\n',\n",
       " '알파카에서 어떻게 다른 서버에서 가져온 데이터를 사용하지 않고 사용하지 않을 수 있나요?\\n',\n",
       " '알파카에서 어떻게 다른 서버에서 가져온 데이터를 사용하지 않고 사용하지 않을 수 있나요?\\n',\n",
       " '알파카에서 어떻게 다른 서버에서 가져온 데이터를 사용하지 않고 사용하지 않을 수 있나요?\\n',\n",
       " '알파카에서 어떻게 다른 서버에서 가져온 데이터를 사용하지 않고 사용하지 않을 수 있나요?\\n',\n",
       " '알파카에서 어떻게 다른 서버에서 가져온 데이터를 사용하지 않고 사용하지 않을 수 있나요?\\n',\n",
       " '알파카에서 어떻게 다른 서버에서 가져온 데이터를 사용하지 않고 사용하지 않을 수 있나요?\\n',\n",
       " '알파카에서 어떻게 다른 서버에서 가져온 데이터를 사용하지 않고 사용하지 않을 수 있나요?\\n',\n",
       " '알파카에서 어떻게 다른 서버에서 가져온 데이터를 사용하지 않고 사용하지 않을 수 있나요?\\n',\n",
       " '알파카에서 어떻게 다른 서버에서 가져온 데이터를 사용하지 않고 사용하지 않을 수 있나요?\\n',\n",
       " '알파카에서 어떻게 다른 서버에서 가져온 데이터를 사용하지 않고 사용하지 않을 수 있나요?\\n',\n",
       " '알파카에서 어떻게 다른 서버에서 가져온 데이터를 사용하지 않고 사용하지 않을 수 있나요?\\n',\n",
       " '알파카에서 어떻게 다른 서버에서 가져온 데이터를 사용하지 않고 사용하지 않을 수 있나요?\\n',\n",
       " '알파카에서 어떻게 다른 서버에서 가져온 데이터를 사용하지 않고 사용하지 않을 수 있나요?\\n',\n",
       " '알파카에서 어떻게 다른 서버에서 가져온 데이터를 사용하지 않고 사용하지 않을 수 있나요?\\n',\n",
       " '알파카에서 어떻게 데이터를 가져올 수 있나요?\\n',\n",
       " '알파카에서 어떻게 변수를 사용할 수 있나요?\\n',\n",
       " '알파카에서 어떻게 다른 서버에서 가져온 데이터를 저장할 수 있나요?\\n',\n",
       " '알파카에서 어떻게 다른 서버에서 가져온 데이터를 사용할 수 있나요?\\n',\n",
       " '알파카에서 어떻게 다른 서버에서 가져온 데이터를 사용하지 않고 사용하지 않을 수 있나요?\\n',\n",
       " '알파카에서 어떻게 다른 서버에서 가져온 데이터를 저장하지 않고 사용하지 않을 수 있나요?\\n',\n",
       " '알파카에서 어떻게 다른 서버에서 가져온 데이터를 사용하지 않고 사용하지 않을 수 있나요?\\n',\n",
       " '알파카에서 어떻게 다른 서버에서 가져온 데이터를 사용하지 않고 사용하지 않을 수 있나요?\\n',\n",
       " '알파카에서 어떻게 다른 서버에서 가져온 데이터를 사용하지 않고 사용하지 않을 수 있나요?\\n',\n",
       " '알파카에서 어떻게 다른 서버에서 가져온 데이터를 사용하지 않고 사용하지 않을 수 있나요?\\n',\n",
       " '알파카에서 어떻게 다른 서버에서 가져온 데이터를 사용하지 않고 사용하지 않을 수 있나요?\\n',\n",
       " '알파카에서 어떻게 다른 서버에서 가져온 데이터를 사용하지 않고 사용하지 않을 수 있나요?\\n',\n",
       " '알파카에서 어떻게 다른 서버에서 가져온 데이터를 사용하지 않고 사용하지 않을 수 있나요?\\n',\n",
       " '알파카에서 어떻게 다른 서버에서 가져온 데이터를 사용하지 않고 사용하지 않을 수 있나요?\\n',\n",
       " '알파카에서 어떻게 다른 서버에서 가져온 데이터를 사용하지 않고 사용하지 않을 수 있나요?\\n',\n",
       " '알파카에서 어떻게 다른 서버에서 가져온 데이터를 사용하지 않고 사용하지 않을 수 있나요?\\n',\n",
       " '알파카에서 어떻게 다른 서버에서 가져온 데이터를 사용하지 않고 사용하지 않을 수 있나요?\\n',\n",
       " '알파카에서 어떻게 다른 서버에서 가져온 데이터를 사용하지 않고 사용하지 않을 수 있나요?\\n',\n",
       " '알파카에서 어떻게 다른 서버에서 가져온 데이터를 사용하지 않고 사용하지 않을 수 있나요?\\n',\n",
       " '알파카에서 어떻게 다른 서버에서 가져온 데이터를 사용하지 않고 사용하지 않을 수 있나요?\\n',\n",
       " '알파카에서 어떻게 다른 서버에서 가져온 데이터를 사용하지 않고 사용하지 않을 수 있나요?\\n',\n",
       " '알파카에서 어떻게 다른 서버에서 가져온 데이터를 사용하지 않고 사용하지 않을 수 있나요?\\n',\n",
       " '알파카에서 어떻게 다른 서버에서 가져온 데이터를 사용하지 않고 사용하지 않을 수 있나요?\\n',\n",
       " '알파카에서 어떻게 다른 서버에서 가져온 데이터를 사용하지 않고 사용하지 않을 수 있나요?\\n',\n",
       " '알파카에서 어떻게 다른 서버에서 가져온 데이터를 사용하지 않고 사용하지 않을 수 있나요?\\n',\n",
       " '알파카에서 어떻게 다른 서버에서 가져온 데이터를 사용하지 않고 사용하지 않을 수 있나요?\\n',\n",
       " '알파카에서 어떻게 다른 서버에서 가져온 데이터를 사용하지 않고 사용하지 않을 수 있나요?\\n',\n",
       " '알파카에서 어떻게 다른 서버에서 가져온 데이터를 사용하지 않고 사용하지 않을 수 있나요?\\n',\n",
       " '알파카에서 어떻게 다른 서버에서 가져온 데이터를 사용하지 않고 사용하지 않을 수 있나요?\\n',\n",
       " '알파카에서 어떻게 다른 서버에서 가져온 데이터를 사용하지 않고 사용하지 않을 수 있나요?\\n',\n",
       " '알파카에서 어떻게 다른 서버에서 가져온 데이터를 사용하지 않고 사용하지 않을 수 있나요?\\n',\n",
       " '알파카에서 어떻게 다른 서버에서 가져온 데이터를 사용하지 않고 사용하지 않을 수 있나요?\\n',\n",
       " '알파카에서 어떻게 다른 서버에서 가져온 데이터를 사용하지 않고 사용하지 않을 수 있나요?\\n',\n",
       " '알파카에서 어떻게 다른 서버에서 가져온 데이터를 사용하지 않고 사용하지 않을 수 있나요?\\n',\n",
       " '알파카에서 어떻게 다른 서버에서 가져온 데이터를 사용하지 않고 사용하지 않을 수 있나요?\\n',\n",
       " '알파카에서 어떻게 다른 서버에서 가져온 데이터를 사용하지 않고 사용하지 않을 수 있나요?\\n',\n",
       " '왜 이 프로그램을 사용하는 것이 중요한가요?\\n',\n",
       " '이 프로그램은 어떻게 작동하는가요?\\n',\n",
       " '이 프로그램은 어떤 종류의 작업을 자동화할 수 있나요?\\n',\n",
       " '이 프로그램은 어떻게 사용하는 것이 좋을까요?\\n',\n",
       " '이 프로그램은 어떻게 작동하는가요?\\n',\n",
       " '이 프로그램은 어떻게 작동하는가요?\\n',\n",
       " '이 프로그램은 어떻게 작동하는가요?\\n',\n",
       " '이 프로그램은 어떻게 작동하는가요?\\n',\n",
       " '이 프로그램은 어떻게 작동하는가요?\\n']"
      ]
     },
     "execution_count": 30,
     "metadata": {},
     "output_type": "execute_result"
    }
   ],
   "source": [
    "all_instructions"
   ]
  },
  {
   "cell_type": "code",
   "execution_count": 31,
   "id": "773a5307-4805-4f71-a9b7-afaa6e0adeee",
   "metadata": {},
   "outputs": [
    {
     "data": {
      "text/plain": [
       "['알파카에서 어떻게 데이터를 가져올 수 있나요?\\n',\n",
       " '알파카에서 어떻게 변수를 사용할 수 있나요?\\n',\n",
       " '알파카에서 어떻게 다른 서버에서 가져온 데이터를 저장할 수 있나요?\\n',\n",
       " '알파카에서 어떻게 다른 서버에서 가져온 데이터를 사용할 수 있나요?\\n',\n",
       " '알파카에서 어떻게 다른 서버에서 가져온 데이터를 사용하지 않고 사용하지 않을 수 있나요?\\n',\n",
       " '알파카에서 어떻게 다른 서버에서 가져온 데이터를 저장하지 않고 사용하지 않을 수 있나요?\\n',\n",
       " '알파카에서 어떻게 다른 서버에서 가져온 데이터를 사용하지 않고 사용하지 않을 수 있나요?\\n',\n",
       " '알파카에서 어떻게 다른 서버에서 가져온 데이터를 사용하지 않고 사용하지 않을 수 있나요?\\n',\n",
       " '알파카에서 어떻게 다른 서버에서 가져온 데이터를 사용하지 않고 사용하지 않을 수 있나요?\\n',\n",
       " '알파카에서 어떻게 다른 서버에서 가져온 데이터를 사용하지 않고 사용하지 않을 수 있나요?\\n',\n",
       " '알파카에서 어떻게 다른 서버에서 가져온 데이터를 사용하지 않고 사용하지 않을 수 있나요?\\n',\n",
       " '알파카에서 어떻게 다른 서버에서 가져온 데이터를 사용하지 않고 사용하지 않을 수 있나요?\\n',\n",
       " '알파카에서 어떻게 다른 서버에서 가져온 데이터를 사용하지 않고 사용하지 않을 수 있나요?\\n',\n",
       " '알파카에서 어떻게 다른 서버에서 가져온 데이터를 사용하지 않고 사용하지 않을 수 있나요?\\n',\n",
       " '알파카에서 어떻게 다른 서버에서 가져온 데이터를 사용하지 않고 사용하지 않을 수 있나요?\\n',\n",
       " '알파카에서 어떻게 다른 서버에서 가져온 데이터를 사용하지 않고 사용하지 않을 수 있나요?\\n',\n",
       " '알파카에서 어떻게 다른 서버에서 가져온 데이터를 사용하지 않고 사용하지 않을 수 있나요?\\n',\n",
       " '알파카에서 어떻게 다른 서버에서 가져온 데이터를 사용하지 않고 사용하지 않을 수 있나요?\\n',\n",
       " '알파카에서 어떻게 다른 서버에서 가져온 데이터를 사용하지 않고 사용하지 않을 수 있나요?\\n',\n",
       " '알파카에서 어떻게 다른 서버에서 가져온 데이터를 사용하지 않고 사용하지 않을 수 있나요?\\n',\n",
       " '알파카에서 어떻게 다른 서버에서 가져온 데이터를 사용하지 않고 사용하지 않을 수 있나요?\\n',\n",
       " '알파카에서 어떻게 다른 서버에서 가져온 데이터를 사용하지 않고 사용하지 않을 수 있나요?\\n',\n",
       " '알파카에서 어떻게 다른 서버에서 가져온 데이터를 사용하지 않고 사용하지 않을 수 있나요?\\n',\n",
       " '알파카에서 어떻게 다른 서버에서 가져온 데이터를 사용하지 않고 사용하지 않을 수 있나요?\\n',\n",
       " '알파카에서 어떻게 다른 서버에서 가져온 데이터를 사용하지 않고 사용하지 않을 수 있나요?\\n',\n",
       " '알파카에서 어떻게 다른 서버에서 가져온 데이터를 사용하지 않고 사용하지 않을 수 있나요?\\n',\n",
       " '알파카에서 어떻게 다른 서버에서 가져온 데이터를 사용하지 않고 사용하지 않을 수 있나요?\\n',\n",
       " '알파카에서 어떻게 다른 서버에서 가져온 데이터를 사용하지 않고 사용하지 않을 수 있나요?\\n',\n",
       " '알파카에서 어떻게 다른 서버에서 가져온 데이터를 사용하지 않고 사용하지 않을 수 있나요?\\n',\n",
       " '알파카에서 어떻게 다른 서버에서 가져온 데이터를 사용하지 않고 사용하지 않을 수 있나요?\\n',\n",
       " '알파카에서 어떻게 다른 서버에서 가져온 데이터를 사용하지 않고 사용하지 않을 수 있나요?\\n',\n",
       " '알파카에서 어떻게 다른 서버에서 가져온 데이터를 사용하지 않고 사용하지 않을 수 있나요?\\n',\n",
       " '알파카에서 어떻게 다른 서버에서 가져온 데이터를 사용하지 않고 사용하지 않을 수 있나요?\\n',\n",
       " '알파카에서 어떻게 다른 서버에서 가져온 데이터를 사용하지 않고 사용하지 않을 수 있나요?\\n',\n",
       " '알파카에서 어떻게 다른 서버에서 가져온 데이터를 사용하지 않고 사용하지 않을 수 있나요?\\n',\n",
       " '알파카에서 어떻게 다른 서버에서 가져온 데이터를 사용하지 않고 사용하지 않을 수 있나요?\\n',\n",
       " '알파카에서 어떻게 데이터를 가져올 수 있나요?\\n',\n",
       " '알파카에서 어떻게 변수를 사용할 수 있나요?\\n',\n",
       " '알파카에서 어떻게 다른 서버에서 가져온 데이터를 저장할 수 있나요?\\n',\n",
       " '알파카에서 어떻게 다른 서버에서 가져온 데이터를 사용할 수 있나요?\\n',\n",
       " '알파카에서 어떻게 다른 서버에서 가져온 데이터를 사용하지 않고 사용하지 않을 수 있나요?\\n',\n",
       " '알파카에서 어떻게 다른 서버에서 가져온 데이터를 저장하지 않고 사용하지 않을 수 있나요?\\n',\n",
       " '알파카에서 어떻게 다른 서버에서 가져온 데이터를 사용하지 않고 사용하지 않을 수 있나요?\\n',\n",
       " '알파카에서 어떻게 다른 서버에서 가져온 데이터를 사용하지 않고 사용하지 않을 수 있나요?\\n',\n",
       " '알파카에서 어떻게 다른 서버에서 가져온 데이터를 사용하지 않고 사용하지 않을 수 있나요?\\n',\n",
       " '알파카에서 어떻게 다른 서버에서 가져온 데이터를 사용하지 않고 사용하지 않을 수 있나요?\\n',\n",
       " '알파카에서 어떻게 다른 서버에서 가져온 데이터를 사용하지 않고 사용하지 않을 수 있나요?\\n',\n",
       " '알파카에서 어떻게 다른 서버에서 가져온 데이터를 사용하지 않고 사용하지 않을 수 있나요?\\n',\n",
       " '알파카에서 어떻게 다른 서버에서 가져온 데이터를 사용하지 않고 사용하지 않을 수 있나요?\\n',\n",
       " '알파카에서 어떻게 다른 서버에서 가져온 데이터를 사용하지 않고 사용하지 않을 수 있나요?\\n',\n",
       " '알파카에서 어떻게 다른 서버에서 가져온 데이터를 사용하지 않고 사용하지 않을 수 있나요?\\n',\n",
       " '알파카에서 어떻게 다른 서버에서 가져온 데이터를 사용하지 않고 사용하지 않을 수 있나요?\\n',\n",
       " '알파카에서 어떻게 다른 서버에서 가져온 데이터를 사용하지 않고 사용하지 않을 수 있나요?\\n',\n",
       " '알파카에서 어떻게 다른 서버에서 가져온 데이터를 사용하지 않고 사용하지 않을 수 있나요?\\n',\n",
       " '알파카에서 어떻게 다른 서버에서 가져온 데이터를 사용하지 않고 사용하지 않을 수 있나요?\\n',\n",
       " '알파카에서 어떻게 다른 서버에서 가져온 데이터를 사용하지 않고 사용하지 않을 수 있나요?\\n',\n",
       " '알파카에서 어떻게 다른 서버에서 가져온 데이터를 사용하지 않고 사용하지 않을 수 있나요?\\n',\n",
       " '알파카에서 어떻게 다른 서버에서 가져온 데이터를 사용하지 않고 사용하지 않을 수 있나요?\\n',\n",
       " '알파카에서 어떻게 다른 서버에서 가져온 데이터를 사용하지 않고 사용하지 않을 수 있나요?\\n',\n",
       " '알파카에서 어떻게 다른 서버에서 가져온 데이터를 사용하지 않고 사용하지 않을 수 있나요?\\n',\n",
       " '알파카에서 어떻게 다른 서버에서 가져온 데이터를 사용하지 않고 사용하지 않을 수 있나요?\\n',\n",
       " '알파카에서 어떻게 다른 서버에서 가져온 데이터를 사용하지 않고 사용하지 않을 수 있나요?\\n',\n",
       " '알파카에서 어떻게 다른 서버에서 가져온 데이터를 사용하지 않고 사용하지 않을 수 있나요?\\n',\n",
       " '알파카에서 어떻게 다른 서버에서 가져온 데이터를 사용하지 않고 사용하지 않을 수 있나요?\\n',\n",
       " '알파카에서 어떻게 다른 서버에서 가져온 데이터를 사용하지 않고 사용하지 않을 수 있나요?\\n',\n",
       " '알파카에서 어떻게 다른 서버에서 가져온 데이터를 사용하지 않고 사용하지 않을 수 있나요?\\n',\n",
       " '알파카에서 어떻게 다른 서버에서 가져온 데이터를 사용하지 않고 사용하지 않을 수 있나요?\\n',\n",
       " '알파카에서 어떻게 다른 서버에서 가져온 데이터를 사용하지 않고 사용하지 않을 수 있나요?\\n',\n",
       " '알파카에서 어떻게 다른 서버에서 가져온 데이터를 사용하지 않고 사용하지 않을 수 있나요?\\n',\n",
       " '알파카에서 어떻게 다른 서버에서 가져온 데이터를 사용하지 않고 사용하지 않을 수 있나요?\\n',\n",
       " '알파카에서 어떻게 다른 서버에서 가져온 데이터를 사용하지 않고 사용하지 않을 수 있나요?\\n',\n",
       " '알파카에서 어떻게 다른 서버에서 가져온 데이터를 사용하지 않고 사용하지 않을 수 있나요?\\n',\n",
       " '왜 이 프로그램을 사용하는 것이 중요한가요?\\n',\n",
       " '이 프로그램은 어떻게 작동하는가요?\\n',\n",
       " '이 프로그램은 어떤 종류의 작업을 자동화할 수 있나요?\\n',\n",
       " '이 프로그램은 어떻게 사용하는 것이 좋을까요?\\n',\n",
       " '이 프로그램은 어떻게 작동하는가요?\\n',\n",
       " '이 프로그램은 어떻게 작동하는가요?\\n',\n",
       " '이 프로그램은 어떻게 작동하는가요?\\n',\n",
       " '이 프로그램은 어떻게 작동하는가요?\\n',\n",
       " '이 프로그램은 어떻게 작동하는가요?\\n']"
      ]
     },
     "execution_count": 31,
     "metadata": {},
     "output_type": "execute_result"
    }
   ],
   "source": [
    "test_instructions = all_instructions[34:]\n",
    "test_instructions"
   ]
  },
  {
   "cell_type": "code",
   "execution_count": 32,
   "id": "aea31652-05e5-4d31-80e4-2f3ff53d5dc1",
   "metadata": {
    "scrolled": true
   },
   "outputs": [
    {
     "data": {
      "text/plain": [
       "[{'instruction': '알파카에서 어떻게 데이터를 가져올 수 있나요?\\n',\n",
       "  'input': '',\n",
       "  'output': '알파카에서 데이터를 가져오기 위해서는 graphql 쿼리를 사용해야 합니다. \\n\\n'},\n",
       " {'instruction': '알파카에서 어떻게 변수를 사용할 수 있나요?\\n',\n",
       "  'input': '',\n",
       "  'output': '알파카에서 변수를 사용하기 위해서는 graphql 쿼리에서 사용할 변수들을 입력해야 합니다. \\n\\n'},\n",
       " {'instruction': '알파카에서 어떻게 다른 서버에서 가져온 데이터를 저장할 수 있나요?\\n',\n",
       "  'input': '',\n",
       "  'output': '알파카에서 다른 서버에서 가져온 데이터를 저장하기 위해서는 resultSave 옵션을 true로 설정해야 합니다. \\n\\n'},\n",
       " {'instruction': '알파카에서 어떻게 다른 서버에서 가져온 데이터를 사용할 수 있나요?\\n',\n",
       "  'input': '',\n",
       "  'output': '알파카에서 다른 서버에서 가져온 데이터를 사용하기 위해서는 변수에 저장된 값을 사용해야 합니다. \\n\\n'},\n",
       " {'instruction': '알파카에서 어떻게 다른 서버에서 가져온 데이터를 사용하지 않고 사용하지 않을 수 있나요?\\n',\n",
       "  'input': '',\n",
       "  'output': '알파카에서 다른 서버에서 가져온 데이터를 사용하지 않기 위해서는 resultSave 옵션을 false로 설정해야 합니다. \\n\\n'},\n",
       " {'instruction': '알파카에서 어떻게 다른 서버에서 가져온 데이터를 저장하지 않고 사용하지 않을 수 있나요?\\n',\n",
       "  'input': '',\n",
       "  'output': '알파카에서 다른 서버에서 가져온 데이터를 저장하지 않고 사용하지 않기 위해서는 resultSave 옵션을 false로 설정해야 합니다. \\n\\n'},\n",
       " {'instruction': '알파카에서 어떻게 다른 서버에서 가져온 데이터를 사용하지 않고 사용하지 않을 수 있나요?\\n',\n",
       "  'input': '',\n",
       "  'output': '알파카에서 다른 서버에서 가져온 데이터를 사용하지 않기 위해서는 resultSave 옵션을 false로 설정해야 합니다. \\n\\n'},\n",
       " {'instruction': '알파카에서 어떻게 다른 서버에서 가져온 데이터를 사용하지 않고 사용하지 않을 수 있나요?\\n',\n",
       "  'input': '',\n",
       "  'output': '알파카에서 다른 서버에서 가져온 데이터를 사용하지 않기 위해서는 resultSave 옵션을 false로 설정해야 합니다. \\n\\n'},\n",
       " {'instruction': '알파카에서 어떻게 다른 서버에서 가져온 데이터를 사용하지 않고 사용하지 않을 수 있나요?\\n',\n",
       "  'input': '',\n",
       "  'output': '알파카에서 다른 서버에서 가져온 데이터를 사용하지 않기 위해서는 resultSave 옵션을 false로 설정해야 합니다. \\n\\n'},\n",
       " {'instruction': '알파카에서 어떻게 다른 서버에서 가져온 데이터를 사용하지 않고 사용하지 않을 수 있나요?\\n',\n",
       "  'input': '',\n",
       "  'output': '알파카에서 다른 서버에서 가져온 데이터를 사용하지 않기 위해서는 resultSave 옵션을 false로 설정해야 합니다. \\n\\n'},\n",
       " {'instruction': '알파카에서 어떻게 다른 서버에서 가져온 데이터를 사용하지 않고 사용하지 않을 수 있나요?\\n',\n",
       "  'input': '',\n",
       "  'output': '알파카에서 다른 서버에서 가져온 데이터를 사용하지 않기 위해서는 resultSave 옵션을 false로 설정해야 합니다. \\n\\n'},\n",
       " {'instruction': '알파카에서 어떻게 다른 서버에서 가져온 데이터를 사용하지 않고 사용하지 않을 수 있나요?\\n',\n",
       "  'input': '',\n",
       "  'output': '알파카에서 다른 서버에서 가져온 데이터를 사용하지 않기 위해서는 resultSave 옵션을 false로 설정해야 합니다. \\n\\n'},\n",
       " {'instruction': '알파카에서 어떻게 다른 서버에서 가져온 데이터를 사용하지 않고 사용하지 않을 수 있나요?\\n',\n",
       "  'input': '',\n",
       "  'output': '알파카에서 다른 서버에서 가져온 데이터를 사용하지 않기 위해서는 resultSave 옵션을 false로 설정해야 합니다. \\n\\n'},\n",
       " {'instruction': '알파카에서 어떻게 다른 서버에서 가져온 데이터를 사용하지 않고 사용하지 않을 수 있나요?\\n',\n",
       "  'input': '',\n",
       "  'output': '알파카에서 다른 서버에서 가져온 데이터를 사용하지 않기 위해서는 resultSave 옵션을 false로 설정해야 합니다. \\n\\n'},\n",
       " {'instruction': '알파카에서 어떻게 다른 서버에서 가져온 데이터를 사용하지 않고 사용하지 않을 수 있나요?\\n',\n",
       "  'input': '',\n",
       "  'output': '알파카에서 다른 서버에서 가져온 데이터를 사용하지 않기 위해서는 resultSave 옵션을 false로 설정해야 합니다. \\n\\n'},\n",
       " {'instruction': '알파카에서 어떻게 다른 서버에서 가져온 데이터를 사용하지 않고 사용하지 않을 수 있나요?\\n',\n",
       "  'input': '',\n",
       "  'output': '알파카에서 다른 서버에서 가져온 데이터를 사용하지 않기 위해서는 resultSave 옵션을 false로 설정해야 합니다. \\n\\n'},\n",
       " {'instruction': '알파카에서 어떻게 다른 서버에서 가져온 데이터를 사용하지 않고 사용하지 않을 수 있나요?\\n',\n",
       "  'input': '',\n",
       "  'output': '알파카에서 다른 서버에서 가져온 데이터를 사용하지 않기 위해서는 resultSave 옵션을 false로 설정해야 합니다. \\n\\n'},\n",
       " {'instruction': '알파카에서 어떻게 다른 서버에서 가져온 데이터를 사용하지 않고 사용하지 않을 수 있나요?\\n',\n",
       "  'input': '',\n",
       "  'output': '알파카에서 다른 서버에서 가져온 데이터를 사용하지 않기 위해서는 resultSave 옵션을 false로 설정해야 합니다. \\n\\n'},\n",
       " {'instruction': '알파카에서 어떻게 다른 서버에서 가져온 데이터를 사용하지 않고 사용하지 않을 수 있나요?\\n',\n",
       "  'input': '',\n",
       "  'output': '알파카에서 다른 서버에서 가져온 데이터를 사용하지 않기 위해서는 resultSave 옵션을 false로 설정해야 합니다. \\n\\n'},\n",
       " {'instruction': '알파카에서 어떻게 다른 서버에서 가져온 데이터를 사용하지 않고 사용하지 않을 수 있나요?\\n',\n",
       "  'input': '',\n",
       "  'output': '알파카에서 다른 서버에서 가져온 데이터를 사용하지 않기 위해서는 resultSave 옵션을 false로 설정해야 합니다. \\n\\n'},\n",
       " {'instruction': '알파카에서 어떻게 다른 서버에서 가져온 데이터를 사용하지 않고 사용하지 않을 수 있나요?\\n',\n",
       "  'input': '',\n",
       "  'output': '알파카에서 다른 서버에서 가져온 데이터를 사용하지 않기 위해서는 resultSave 옵션을 false로 설정해야 합니다. \\n\\n'},\n",
       " {'instruction': '알파카에서 어떻게 다른 서버에서 가져온 데이터를 사용하지 않고 사용하지 않을 수 있나요?\\n',\n",
       "  'input': '',\n",
       "  'output': '알파카에서 다른 서버에서 가져온 데이터를 사용하지 않기 위해서는 resultSave 옵션을 false로 설정해야 합니다. \\n\\n'},\n",
       " {'instruction': '알파카에서 어떻게 다른 서버에서 가져온 데이터를 사용하지 않고 사용하지 않을 수 있나요?\\n',\n",
       "  'input': '',\n",
       "  'output': '알파카에서 다른 서버에서 가져온 데이터를 사용하지 않기 위해서는 resultSave 옵션을 false로 설정해야 합니다. \\n\\n'},\n",
       " {'instruction': '알파카에서 어떻게 다른 서버에서 가져온 데이터를 사용하지 않고 사용하지 않을 수 있나요?\\n',\n",
       "  'input': '',\n",
       "  'output': '알파카에서 다른 서버에서 가져온 데이터를 사용하지 않기 위해서는 resultSave 옵션을 false로 설정해야 합니다. \\n\\n'},\n",
       " {'instruction': '알파카에서 어떻게 다른 서버에서 가져온 데이터를 사용하지 않고 사용하지 않을 수 있나요?\\n',\n",
       "  'input': '',\n",
       "  'output': '알파카에서 다른 서버에서 가져온 데이터를 사용하지 않기 위해서는 resultSave 옵션을 false로 설정해야 합니다. \\n\\n'},\n",
       " {'instruction': '알파카에서 어떻게 다른 서버에서 가져온 데이터를 사용하지 않고 사용하지 않을 수 있나요?\\n',\n",
       "  'input': '',\n",
       "  'output': '알파카에서 다른 서버에서 가져온 데이터를 사용하지 않기 위해서는 resultSave 옵션을 false로 설정해야 합니다. \\n\\n'},\n",
       " {'instruction': '알파카에서 어떻게 다른 서버에서 가져온 데이터를 사용하지 않고 사용하지 않을 수 있나요?\\n',\n",
       "  'input': '',\n",
       "  'output': '알파카에서 다른 서버에서 가져온 데이터를 사용하지 않기 위해서는 resultSave 옵션을 false로 설정해야 합니다. \\n\\n'},\n",
       " {'instruction': '알파카에서 어떻게 다른 서버에서 가져온 데이터를 사용하지 않고 사용하지 않을 수 있나요?\\n',\n",
       "  'input': '',\n",
       "  'output': '알파카에서 다른 서버에서 가져온 데이터를 사용하지 않기 위해서는 resultSave 옵션을 false로 설정해야 합니다. \\n\\n'},\n",
       " {'instruction': '알파카에서 어떻게 다른 서버에서 가져온 데이터를 사용하지 않고 사용하지 않을 수 있나요?\\n',\n",
       "  'input': '',\n",
       "  'output': '알파카에서 다른 서버에서 가져온 데이터를 사용하지 않기 위해서는 resultSave 옵션을 false로 설정해야 합니다. \\n\\n'},\n",
       " {'instruction': '알파카에서 어떻게 다른 서버에서 가져온 데이터를 사용하지 않고 사용하지 않을 수 있나요?\\n',\n",
       "  'input': '',\n",
       "  'output': '알파카에서 다른 서버에서 가져온 데이터를 사용하지 않기 위해서는 resultSave 옵션을 false로 설정해야 합니다. \\n\\n'},\n",
       " {'instruction': '알파카에서 어떻게 다른 서버에서 가져온 데이터를 사용하지 않고 사용하지 않을 수 있나요?\\n',\n",
       "  'input': '',\n",
       "  'output': '알파카에서 다른 서버에서 가져온 데이터를 사용하지 않기 위해서는 resultSave 옵션을 false로 설정해야 합니다. \\n\\n'},\n",
       " {'instruction': '알파카에서 어떻게 다른 서버에서 가져온 데이터를 사용하지 않고 사용하지 않을 수 있나요?\\n',\n",
       "  'input': '',\n",
       "  'output': '알파카에서 다른 서버에서 가져온 데이터를 사용하지 않기 위해서는 resultSave 옵션을 false로 설정해야 합니다. \\n\\n'},\n",
       " {'instruction': '알파카에서 어떻게 다른 서버에서 가져온 데이터를 사용하지 않고 사용하지 않을 수 있나요?\\n',\n",
       "  'input': '',\n",
       "  'output': '알파카에서 다른 서버에서 가져온 데이터를 사용하지 않기 위해서는 resultSave 옵션을 false로 설정해야 합니다. \\n\\n'},\n",
       " {'instruction': '알파카에서 어떻게 다른 서버에서 가져온 데이터를 사용하지 않고 사용하지 않을 수 있나요?\\n',\n",
       "  'input': '',\n",
       "  'output': '알파카에서 다른 서버에서 가져온 데이터를 사용하지 않기 위해서는 resultSave 옵션을 false로 설정해야 합니다. \\n\\n'},\n",
       " {'instruction': '알파카에서 어떻게 다른 서버에서 가져온 데이터를 사용하지 않고 사용하지 않을 수 있나요?\\n',\n",
       "  'input': '',\n",
       "  'output': '알파카에서 다른 서버에서 가져온 데이터를 사용하지 않기 위해서는 resultSave 옵션을 false로 설정해야 합니다. \\n\\n'},\n",
       " {'instruction': '알파카에서 어떻게 다른 서버에서 가져온 데이터를 사용하지 않고 사용하지 않을 수 있나요?\\n',\n",
       "  'input': '',\n",
       "  'output': '알파카에서 다른 서버에서 가져온 데이터를 사용하지 않기 위해서는 resultSave 옵션을 false로 설정해야 합니다. \\n\\n'},\n",
       " {'instruction': '왜 이 프로그램을 사용하는 것이 중요한가요?\\n',\n",
       "  'input': '',\n",
       "  'output': '이 프로그램은 사용자가 브라우저 내에서 특정 부분을 선택하고 해당 부분을 클릭하는 등의 작업을 자동화하는 데 사용됩니다. 이를 통해 사용자는 반복적이고 시간 소요가 많은 작업을 자동화하여 효율적으로 처리할 수 있습니다. 또한, 이 프로그램은 사용자가 직접 작업을 수행하는 것보다 더 정확하고 안정적인 작업을 수행할 수 있습니다. 따라서, 이 프로그램을 사용하면 사용자는 더 많은 시간을 다른 작업에 집중할 수 있습니다.\\n\\n'},\n",
       " {'instruction': '이 프로그램은 어떻게 작동하는가요?\\n',\n",
       "  'input': '',\n",
       "  'output': '이 프로그램은 사용자가 브라우저 내에서 특정 부분을 선택하고 해당 부분을 클릭하는 등의 작업을 자동화하는 데 사용됩니다. 사용자는 브라우저 내에서 특정 부분을 선택하고 해당 부분을 클릭하는 작업을 수행하는 데 사용할 수 있습니다. 이 프로그램은 사용자가 직접 작업을 수행하는 것보다 더 정확하고 안정적인 작업을 수행할 수 있습니다. 또한, 이 프로그램은 사용자가 반복적이고 시간 소요가 많은 작업을 자동화하여 효율적으로 처리할 수 있습니다.\\n\\n'},\n",
       " {'instruction': '이 프로그램은 어떤 종류의 작업을 자동화할 수 있나요?\\n',\n",
       "  'input': '',\n",
       "  'output': '이 프로그램은 브라우저 내에서 특정 부분을 선택하고 해당 부분을 클릭하는 등의 작업을 자동화할 수 있습니다. 이를 통해 사용자는 반복적이고 시간 소요가 많은 작업을 자동화하여 효율적으로 처리할 수 있습니다. 예를 들어, 이 프로그램은 웹 페이지에서 특정 부분을 클릭하거나 입력 값을 입력하는 등의 작업을 자동화할 수 있습니다.\\n\\n'},\n",
       " {'instruction': '이 프로그램은 어떻게 사용하는 것이 좋을까요?\\n',\n",
       "  'input': '',\n",
       "  'output': '이 프로그램은 사용자가 브라우저 내에서 특정 부분을 선택하고 해당 부분을 클릭하는 등의 작업을 자동화하는 데 사용됩니다. 사용자는 이 프로그램을 사용하여 반복적이고 시간 소요가 많은 작업을 자동화하여 효율적으로 처리할 수 있습니다. 이 프로그램을 사용하기 위해서는 사용자가 브라우저 내에서 특정 부분을 선택하고 해당 부분을 클릭하는 등의 작업을 수행하는 데 사용할 수 있습니다. 또한, 이 프로그램은 사용자가 직접 작업을 수행하는 것보다 더 정확하고 안정적인 작업을 수행할 수 있습니다.\\n\\n'},\n",
       " {'instruction': '이 프로그램은 어떻게 작동하는가요?\\n',\n",
       "  'input': '',\n",
       "  'output': '이 프로그램은 사용자가 브라우저 내에서 특정 부분을 선택하고 해당 부분을 클릭하는 등의 작업을 자동화하는 데 사용됩니다. 사용자는 브라우저 내에서 특정 부분을 선택하고 해당 부분을 클릭하는 작업을 수행하는 데 사용할 수 있습니다. 이 프로그램은 사용자가 직접 작업을 수행하는 것보다 더 정확하고 안정적인 작업을 수행할 수 있습니다. 또한, 이 프로그램은 사용자가 반복적이고 시간 소요가 많은 작업을 자동화하여 효율적으로 처리할 수 있습니다.\\n\\n'},\n",
       " {'instruction': '이 프로그램은 어떻게 작동하는가요?\\n',\n",
       "  'input': '',\n",
       "  'output': '이 프로그램은 사용자가 브라우저 내에서 특정 부분을 선택하고 해당 부분을 클릭하는 등의 작업을 자동화하는 데 사용됩니다. 사용자는 브라우저 내에서 특정 부분을 선택하고 해당 부분을 클릭하는 작업을 수행하는 데 사용할 수 있습니다. 이 프로그램은 사용자가 직접 작업을 수행하는 것보다 더 정확하고 안정적인 작업을 수행할 수 있습니다. 또한, 이 프로그램은 사용자가 반복적이고 시간 소요가 많은 작업을 자동화하여 효율적으로 처리할 수 있습니다.\\n\\n'},\n",
       " {'instruction': '이 프로그램은 어떻게 작동하는가요?\\n',\n",
       "  'input': '',\n",
       "  'output': '이 프로그램은 사용자가 브라우저 내에서 특정 부분을 선택하고 해당 부분을 클릭하는 등의 작업을 자동화하는 데 사용됩니다. 사용자는 브라우저 내에서 특정 부분을 선택하고 해당 부분을 클릭하는 작업을 수행하는 데 사용할 수 있습니다. 이 프로그램은 사용자가 직접 작업을 수행하는 것보다 더 정확하고 안정적인 작업을 수행할 수 있습니다. 또한, 이 프로그램은 사용자가 반복적이고 시간 소요가 많은 작업을 자동화하여 효율적으로 처리할 수 있습니다.\\n\\n'},\n",
       " {'instruction': '이 프로그램은 어떻게 작동하는가요?\\n',\n",
       "  'input': '',\n",
       "  'output': '이 프로그램은 사용자가 브라우저 내에서 특정 부분을 선택하고 해당 부분을 클릭하는 등의 작업을 자동화하는 데 사용됩니다. 사용자는 브라우저 내에서 특정 부분을 선택하고 해당 부분을 클릭하는 작업을 수행하는 데 사용할 수 있습니다. 이 프로그램은 사용자가 직접 작업을 수행하는 것보다 더 정확하고 안정적인 작업을 수행할 수 있습니다. 또한, 이 프로그램은 사용자가 반복적이고 시간 소요가 많은 작업을 자동화하여 효율적으로 처리할 수 있습니다.\\n\\n'},\n",
       " {'instruction': '이 프로그램은 어떻게 작동하는가요?\\n',\n",
       "  'input': '',\n",
       "  'output': '이 프로그램은 사용자가 브라우저 내에서 특정 부분을 선택하고 해당 부분을 클릭하는 등의 작업을 자동화하는 데 사용됩니다. 사용자는 브라우저 내에서 특정 부분을 선택하고 해당 부분을 클릭하는 작업을 수행하는 데 사용할 수 있습니다. 이 프로그램은 사용자가 직접 작업을 수행하는 것보다 더 정확하고 안정적인 작업을 수행할 수 있습니다. 또한, 이 프로그램은 사용자가 반복적이고 시간 소요가 많은 작업을 자동화하여 효율적으로 처리할 수 있습니다.'}]"
      ]
     },
     "execution_count": 32,
     "metadata": {},
     "output_type": "execute_result"
    }
   ],
   "source": [
    "batch_inputs"
   ]
  },
  {
   "cell_type": "code",
   "execution_count": 34,
   "id": "15dd9cb6-3482-4be7-a871-21497edf1b9d",
   "metadata": {},
   "outputs": [
    {
     "data": {
      "text/plain": [
       "[{'instruction': '알파카에서 어떻게 데이터를 가져올 수 있나요?\\n',\n",
       "  'input': '',\n",
       "  'output': '알파카에서 데이터를 가져오기 위해서는 graphql 쿼리를 사용해야 합니다. \\n\\n'},\n",
       " {'instruction': '알파카에서 어떻게 변수를 사용할 수 있나요?\\n',\n",
       "  'input': '',\n",
       "  'output': '알파카에서 변수를 사용하기 위해서는 graphql 쿼리에서 사용할 변수들을 입력해야 합니다. \\n\\n'},\n",
       " {'instruction': '알파카에서 어떻게 다른 서버에서 가져온 데이터를 저장할 수 있나요?\\n',\n",
       "  'input': '',\n",
       "  'output': '알파카에서 다른 서버에서 가져온 데이터를 저장하기 위해서는 resultSave 옵션을 true로 설정해야 합니다. \\n\\n'},\n",
       " {'instruction': '알파카에서 어떻게 다른 서버에서 가져온 데이터를 사용할 수 있나요?\\n',\n",
       "  'input': '',\n",
       "  'output': '알파카에서 다른 서버에서 가져온 데이터를 사용하기 위해서는 변수에 저장된 값을 사용해야 합니다. \\n\\n'},\n",
       " {'instruction': '알파카에서 어떻게 다른 서버에서 가져온 데이터를 사용하지 않고 사용하지 않을 수 있나요?\\n',\n",
       "  'input': '',\n",
       "  'output': '알파카에서 다른 서버에서 가져온 데이터를 사용하지 않기 위해서는 resultSave 옵션을 false로 설정해야 합니다. \\n\\n'},\n",
       " {'instruction': '알파카에서 어떻게 다른 서버에서 가져온 데이터를 저장하지 않고 사용하지 않을 수 있나요?\\n',\n",
       "  'input': '',\n",
       "  'output': '알파카에서 다른 서버에서 가져온 데이터를 저장하지 않고 사용하지 않기 위해서는 resultSave 옵션을 false로 설정해야 합니다. \\n\\n'},\n",
       " {'instruction': '왜 이 프로그램을 사용하는 것이 중요한가요?\\n',\n",
       "  'input': '',\n",
       "  'output': '이 프로그램은 사용자가 브라우저 내에서 특정 부분을 선택하고 해당 부분을 클릭하는 등의 작업을 자동화하는 데 사용됩니다. 이를 통해 사용자는 반복적이고 시간 소요가 많은 작업을 자동화하여 효율적으로 처리할 수 있습니다. 또한, 이 프로그램은 사용자가 직접 작업을 수행하는 것보다 더 정확하고 안정적인 작업을 수행할 수 있습니다. 따라서, 이 프로그램을 사용하면 사용자는 더 많은 시간을 다른 작업에 집중할 수 있습니다.\\n\\n'},\n",
       " {'instruction': '이 프로그램은 어떻게 작동하는가요?\\n',\n",
       "  'input': '',\n",
       "  'output': '이 프로그램은 사용자가 브라우저 내에서 특정 부분을 선택하고 해당 부분을 클릭하는 등의 작업을 자동화하는 데 사용됩니다. 사용자는 브라우저 내에서 특정 부분을 선택하고 해당 부분을 클릭하는 작업을 수행하는 데 사용할 수 있습니다. 이 프로그램은 사용자가 직접 작업을 수행하는 것보다 더 정확하고 안정적인 작업을 수행할 수 있습니다. 또한, 이 프로그램은 사용자가 반복적이고 시간 소요가 많은 작업을 자동화하여 효율적으로 처리할 수 있습니다.'},\n",
       " {'instruction': '이 프로그램은 어떤 종류의 작업을 자동화할 수 있나요?\\n',\n",
       "  'input': '',\n",
       "  'output': '이 프로그램은 브라우저 내에서 특정 부분을 선택하고 해당 부분을 클릭하는 등의 작업을 자동화할 수 있습니다. 이를 통해 사용자는 반복적이고 시간 소요가 많은 작업을 자동화하여 효율적으로 처리할 수 있습니다. 예를 들어, 이 프로그램은 웹 페이지에서 특정 부분을 클릭하거나 입력 값을 입력하는 등의 작업을 자동화할 수 있습니다.\\n\\n'},\n",
       " {'instruction': '이 프로그램은 어떻게 사용하는 것이 좋을까요?\\n',\n",
       "  'input': '',\n",
       "  'output': '이 프로그램은 사용자가 브라우저 내에서 특정 부분을 선택하고 해당 부분을 클릭하는 등의 작업을 자동화하는 데 사용됩니다. 사용자는 이 프로그램을 사용하여 반복적이고 시간 소요가 많은 작업을 자동화하여 효율적으로 처리할 수 있습니다. 이 프로그램을 사용하기 위해서는 사용자가 브라우저 내에서 특정 부분을 선택하고 해당 부분을 클릭하는 등의 작업을 수행하는 데 사용할 수 있습니다. 또한, 이 프로그램은 사용자가 직접 작업을 수행하는 것보다 더 정확하고 안정적인 작업을 수행할 수 있습니다.\\n\\n'}]"
      ]
     },
     "execution_count": 34,
     "metadata": {},
     "output_type": "execute_result"
    }
   ],
   "source": [
    "test_batch_inputs = list({v['instruction']:v for v in batch_inputs}.values())\n",
    "test_batch_inputs"
   ]
  },
  {
   "cell_type": "code",
   "execution_count": 35,
   "id": "2b681cff-e921-4d55-bccf-f98dbbf82fe6",
   "metadata": {},
   "outputs": [
    {
     "data": {
      "text/plain": [
       "10"
      ]
     },
     "execution_count": 35,
     "metadata": {},
     "output_type": "execute_result"
    }
   ],
   "source": [
    "len(test_batch_inputs)"
   ]
  },
  {
   "cell_type": "code",
   "execution_count": 67,
   "id": "01fa4bf3-5161-422c-9e03-0f7692bf4a1f",
   "metadata": {
    "scrolled": true
   },
   "outputs": [
    {
     "name": "stdout",
     "output_type": "stream",
     "text": [
      "알파카는 어떤 기능을 제공하나요?\n",
      "    ⇆ 알파카는 어떻게 사용할 수 있나요?\n",
      "   {'rouge-1': {'r': 0.2, 'p': 0.25, 'f': 0.22222221728395072}, 'rouge-2': {'r': 0.0, 'p': 0.0, 'f': 0.0}, 'rouge-l': {'r': 0.2, 'p': 0.25, 'f': 0.22222221728395072}}\n",
      "\n",
      "알파카는 어떤 기능을 제공하나요?\n",
      "    ⇆ 알파카는 어떻게 이미지 캡처를 수행할 수 있나요?\n",
      "   {'rouge-1': {'r': 0.14285714285714285, 'p': 0.25, 'f': 0.18181817719008275}, 'rouge-2': {'r': 0.0, 'p': 0.0, 'f': 0.0}, 'rouge-l': {'r': 0.14285714285714285, 'p': 0.25, 'f': 0.18181817719008275}}\n",
      "\n",
      "알파카는 어떤 기능을 제공하나요?\n",
      "    ⇆ 알파카는 어떻게 스크롤 검색을 수행할 수 있나요?\n",
      "   {'rouge-1': {'r': 0.14285714285714285, 'p': 0.25, 'f': 0.18181817719008275}, 'rouge-2': {'r': 0.0, 'p': 0.0, 'f': 0.0}, 'rouge-l': {'r': 0.14285714285714285, 'p': 0.25, 'f': 0.18181817719008275}}\n",
      "\n",
      "알파카는 어떤 기능을 제공하나요?\n",
      "    ⇆ 알파카는 어떻게 파이썬 코드를 실행할 수 있나요?\n",
      "   {'rouge-1': {'r': 0.14285714285714285, 'p': 0.25, 'f': 0.18181817719008275}, 'rouge-2': {'r': 0.0, 'p': 0.0, 'f': 0.0}, 'rouge-l': {'r': 0.14285714285714285, 'p': 0.25, 'f': 0.18181817719008275}}\n",
      "\n",
      "알파카는 어떤 기능을 제공하나요?\n",
      "    ⇆ 알파카는 어떻게 브라우저 상호작용을 수행할 수 있나요?\n",
      "   {'rouge-1': {'r': 0.14285714285714285, 'p': 0.25, 'f': 0.18181817719008275}, 'rouge-2': {'r': 0.0, 'p': 0.0, 'f': 0.0}, 'rouge-l': {'r': 0.14285714285714285, 'p': 0.25, 'f': 0.18181817719008275}}\n",
      "\n",
      "알파카는 어떤 기능을 제공하나요?\n",
      "    ⇆ 알파카는 어떻게 이미지 캡처를 기반으로 브라우저 상호작용을 수행할 수 있나요?\n",
      "   {'rouge-1': {'r': 0.1, 'p': 0.25, 'f': 0.14285713877551035}, 'rouge-2': {'r': 0.0, 'p': 0.0, 'f': 0.0}, 'rouge-l': {'r': 0.1, 'p': 0.25, 'f': 0.14285713877551035}}\n",
      "\n",
      "알파카는 어떤 기능을 제공하나요?\n",
      "    ⇆ 알파카는 어떻게 파이썬 코드를 실행하고 결과를 저장할 수 있나요?\n",
      "   {'rouge-1': {'r': 0.1111111111111111, 'p': 0.25, 'f': 0.15384614958579892}, 'rouge-2': {'r': 0.0, 'p': 0.0, 'f': 0.0}, 'rouge-l': {'r': 0.1111111111111111, 'p': 0.25, 'f': 0.15384614958579892}}\n",
      "\n",
      "알파카는 어떤 기능을 제공하나요?\n",
      "    ⇆ 알파카는 어떻게 브라우저 상호작용을 기반으로 파이썬 코드를 실행할 수 있나요?\n",
      "   {'rouge-1': {'r': 0.1, 'p': 0.25, 'f': 0.14285713877551035}, 'rouge-2': {'r': 0.0, 'p': 0.0, 'f': 0.0}, 'rouge-l': {'r': 0.1, 'p': 0.25, 'f': 0.14285713877551035}}\n",
      "\n",
      "알파카는 어떤 기능을 제공하나요?\n",
      "    ⇆ 알파카는 어떻게 다른 서버에서 데이터를 가져와 알파카에 저장할 수 있나요?\n",
      "   {'rouge-1': {'r': 0.1, 'p': 0.25, 'f': 0.14285713877551035}, 'rouge-2': {'r': 0.0, 'p': 0.0, 'f': 0.0}, 'rouge-l': {'r': 0.1, 'p': 0.25, 'f': 0.14285713877551035}}\n",
      "\n",
      "알파카는 어떤 기능을 제공하나요?\n",
      "    ⇆ 알파카는 어떤 기능을 제공하나요?\n",
      "   {'rouge-1': {'r': 1.0, 'p': 1.0, 'f': 0.999999995}, 'rouge-2': {'r': 1.0, 'p': 1.0, 'f': 0.999999995}, 'rouge-l': {'r': 1.0, 'p': 1.0, 'f': 0.999999995}}\n",
      "\n",
      "@-----------------------------\n",
      "알파카는 어떤 기능을 제공하나요?\n",
      "    ⇆ 알파카는 어떻게 사용할 수 있나요?\n",
      "   {'rouge-1': {'r': 0.2, 'p': 0.25, 'f': 0.22222221728395072}, 'rouge-2': {'r': 0.0, 'p': 0.0, 'f': 0.0}, 'rouge-l': {'r': 0.2, 'p': 0.25, 'f': 0.22222221728395072}}\n",
      "\n",
      "알파카는 어떤 기능을 제공하나요?\n",
      "    ⇆ 알파카는 어떻게 이미지 캡처를 수행할 수 있나요?\n",
      "   {'rouge-1': {'r': 0.14285714285714285, 'p': 0.25, 'f': 0.18181817719008275}, 'rouge-2': {'r': 0.0, 'p': 0.0, 'f': 0.0}, 'rouge-l': {'r': 0.14285714285714285, 'p': 0.25, 'f': 0.18181817719008275}}\n",
      "\n",
      "알파카는 어떤 기능을 제공하나요?\n",
      "    ⇆ 알파카는 어떻게 스크롤 검색을 수행할 수 있나요?\n",
      "   {'rouge-1': {'r': 0.14285714285714285, 'p': 0.25, 'f': 0.18181817719008275}, 'rouge-2': {'r': 0.0, 'p': 0.0, 'f': 0.0}, 'rouge-l': {'r': 0.14285714285714285, 'p': 0.25, 'f': 0.18181817719008275}}\n",
      "\n",
      "알파카는 어떤 기능을 제공하나요?\n",
      "    ⇆ 알파카는 어떻게 파이썬 코드를 실행할 수 있나요?\n",
      "   {'rouge-1': {'r': 0.14285714285714285, 'p': 0.25, 'f': 0.18181817719008275}, 'rouge-2': {'r': 0.0, 'p': 0.0, 'f': 0.0}, 'rouge-l': {'r': 0.14285714285714285, 'p': 0.25, 'f': 0.18181817719008275}}\n",
      "\n",
      "알파카는 어떤 기능을 제공하나요?\n",
      "    ⇆ 알파카는 어떻게 브라우저 상호작용을 수행할 수 있나요?\n",
      "   {'rouge-1': {'r': 0.14285714285714285, 'p': 0.25, 'f': 0.18181817719008275}, 'rouge-2': {'r': 0.0, 'p': 0.0, 'f': 0.0}, 'rouge-l': {'r': 0.14285714285714285, 'p': 0.25, 'f': 0.18181817719008275}}\n",
      "\n",
      "알파카는 어떤 기능을 제공하나요?\n",
      "    ⇆ 알파카는 어떻게 이미지 캡처를 기반으로 브라우저 상호작용을 수행할 수 있나요?\n",
      "   {'rouge-1': {'r': 0.1, 'p': 0.25, 'f': 0.14285713877551035}, 'rouge-2': {'r': 0.0, 'p': 0.0, 'f': 0.0}, 'rouge-l': {'r': 0.1, 'p': 0.25, 'f': 0.14285713877551035}}\n",
      "\n",
      "알파카는 어떤 기능을 제공하나요?\n",
      "    ⇆ 알파카는 어떻게 파이썬 코드를 실행하고 결과를 저장할 수 있나요?\n",
      "   {'rouge-1': {'r': 0.1111111111111111, 'p': 0.25, 'f': 0.15384614958579892}, 'rouge-2': {'r': 0.0, 'p': 0.0, 'f': 0.0}, 'rouge-l': {'r': 0.1111111111111111, 'p': 0.25, 'f': 0.15384614958579892}}\n",
      "\n",
      "알파카는 어떤 기능을 제공하나요?\n",
      "    ⇆ 알파카는 어떻게 브라우저 상호작용을 기반으로 파이썬 코드를 실행할 수 있나요?\n",
      "   {'rouge-1': {'r': 0.1, 'p': 0.25, 'f': 0.14285713877551035}, 'rouge-2': {'r': 0.0, 'p': 0.0, 'f': 0.0}, 'rouge-l': {'r': 0.1, 'p': 0.25, 'f': 0.14285713877551035}}\n",
      "\n",
      "알파카는 어떤 기능을 제공하나요?\n",
      "    ⇆ 알파카는 어떻게 다른 서버에서 데이터를 가져와 알파카에 저장할 수 있나요?\n",
      "   {'rouge-1': {'r': 0.1, 'p': 0.25, 'f': 0.14285713877551035}, 'rouge-2': {'r': 0.0, 'p': 0.0, 'f': 0.0}, 'rouge-l': {'r': 0.1, 'p': 0.25, 'f': 0.14285713877551035}}\n",
      "\n",
      "알파카는 어떻게 사용할 수 있나요?\n",
      "    ⇆ 알파카는 어떤 기능을 제공하나요?\n",
      "   {'rouge-1': {'r': 0.25, 'p': 0.2, 'f': 0.22222221728395072}, 'rouge-2': {'r': 0.0, 'p': 0.0, 'f': 0.0}, 'rouge-l': {'r': 0.25, 'p': 0.2, 'f': 0.22222221728395072}}\n",
      "\n",
      "알파카는 어떻게 사용할 수 있나요?\n",
      "    ⇆ 알파카는 어떻게 이미지 캡처를 수행할 수 있나요?\n",
      "   {'rouge-1': {'r': 0.5714285714285714, 'p': 0.8, 'f': 0.6666666618055556}, 'rouge-2': {'r': 0.3333333333333333, 'p': 0.5, 'f': 0.39999999520000007}, 'rouge-l': {'r': 0.5714285714285714, 'p': 0.8, 'f': 0.6666666618055556}}\n",
      "\n",
      "알파카는 어떻게 사용할 수 있나요?\n",
      "    ⇆ 알파카는 어떻게 스크롤 검색을 수행할 수 있나요?\n",
      "   {'rouge-1': {'r': 0.5714285714285714, 'p': 0.8, 'f': 0.6666666618055556}, 'rouge-2': {'r': 0.3333333333333333, 'p': 0.5, 'f': 0.39999999520000007}, 'rouge-l': {'r': 0.5714285714285714, 'p': 0.8, 'f': 0.6666666618055556}}\n",
      "\n",
      "알파카는 어떻게 사용할 수 있나요?\n",
      "    ⇆ 알파카는 어떻게 파이썬 코드를 실행할 수 있나요?\n",
      "   {'rouge-1': {'r': 0.5714285714285714, 'p': 0.8, 'f': 0.6666666618055556}, 'rouge-2': {'r': 0.3333333333333333, 'p': 0.5, 'f': 0.39999999520000007}, 'rouge-l': {'r': 0.5714285714285714, 'p': 0.8, 'f': 0.6666666618055556}}\n",
      "\n",
      "알파카는 어떻게 사용할 수 있나요?\n",
      "    ⇆ 알파카는 어떻게 브라우저 상호작용을 수행할 수 있나요?\n",
      "   {'rouge-1': {'r': 0.5714285714285714, 'p': 0.8, 'f': 0.6666666618055556}, 'rouge-2': {'r': 0.3333333333333333, 'p': 0.5, 'f': 0.39999999520000007}, 'rouge-l': {'r': 0.5714285714285714, 'p': 0.8, 'f': 0.6666666618055556}}\n",
      "\n",
      "알파카는 어떻게 사용할 수 있나요?\n",
      "    ⇆ 알파카는 어떻게 이미지 캡처를 기반으로 브라우저 상호작용을 수행할 수 있나요?\n",
      "   {'rouge-1': {'r': 0.4, 'p': 0.8, 'f': 0.533333328888889}, 'rouge-2': {'r': 0.2222222222222222, 'p': 0.5, 'f': 0.3076923034319527}, 'rouge-l': {'r': 0.4, 'p': 0.8, 'f': 0.533333328888889}}\n",
      "\n",
      "알파카는 어떻게 사용할 수 있나요?\n",
      "    ⇆ 알파카는 어떻게 파이썬 코드를 실행하고 결과를 저장할 수 있나요?\n",
      "   {'rouge-1': {'r': 0.4444444444444444, 'p': 0.8, 'f': 0.5714285668367348}, 'rouge-2': {'r': 0.25, 'p': 0.5, 'f': 0.33333332888888895}, 'rouge-l': {'r': 0.4444444444444444, 'p': 0.8, 'f': 0.5714285668367348}}\n",
      "\n",
      "알파카는 어떻게 사용할 수 있나요?\n",
      "    ⇆ 알파카는 어떻게 브라우저 상호작용을 기반으로 파이썬 코드를 실행할 수 있나요?\n",
      "   {'rouge-1': {'r': 0.4, 'p': 0.8, 'f': 0.533333328888889}, 'rouge-2': {'r': 0.2222222222222222, 'p': 0.5, 'f': 0.3076923034319527}, 'rouge-l': {'r': 0.4, 'p': 0.8, 'f': 0.533333328888889}}\n",
      "\n",
      "알파카는 어떻게 사용할 수 있나요?\n",
      "    ⇆ 알파카는 어떻게 다른 서버에서 데이터를 가져와 알파카에 저장할 수 있나요?\n",
      "   {'rouge-1': {'r': 0.4, 'p': 0.8, 'f': 0.533333328888889}, 'rouge-2': {'r': 0.2222222222222222, 'p': 0.5, 'f': 0.3076923034319527}, 'rouge-l': {'r': 0.4, 'p': 0.8, 'f': 0.533333328888889}}\n",
      "\n",
      "알파카는 어떻게 사용할 수 있나요?\n",
      "    ⇆ 알파카는 어떤 기능을 제공하나요?\n",
      "   {'rouge-1': {'r': 0.25, 'p': 0.2, 'f': 0.22222221728395072}, 'rouge-2': {'r': 0.0, 'p': 0.0, 'f': 0.0}, 'rouge-l': {'r': 0.25, 'p': 0.2, 'f': 0.22222221728395072}}\n",
      "\n",
      "알파카는 어떻게 사용할 수 있나요?\n",
      "    ⇆ 알파카는 어떻게 사용할 수 있나요?\n",
      "   {'rouge-1': {'r': 1.0, 'p': 1.0, 'f': 0.999999995}, 'rouge-2': {'r': 1.0, 'p': 1.0, 'f': 0.999999995}, 'rouge-l': {'r': 1.0, 'p': 1.0, 'f': 0.999999995}}\n",
      "\n",
      "@-----------------------------\n",
      "알파카는 어떻게 사용할 수 있나요?\n",
      "    ⇆ 알파카는 어떻게 이미지 캡처를 수행할 수 있나요?\n",
      "   {'rouge-1': {'r': 0.5714285714285714, 'p': 0.8, 'f': 0.6666666618055556}, 'rouge-2': {'r': 0.3333333333333333, 'p': 0.5, 'f': 0.39999999520000007}, 'rouge-l': {'r': 0.5714285714285714, 'p': 0.8, 'f': 0.6666666618055556}}\n",
      "\n",
      "알파카는 어떻게 사용할 수 있나요?\n",
      "    ⇆ 알파카는 어떻게 스크롤 검색을 수행할 수 있나요?\n",
      "   {'rouge-1': {'r': 0.5714285714285714, 'p': 0.8, 'f': 0.6666666618055556}, 'rouge-2': {'r': 0.3333333333333333, 'p': 0.5, 'f': 0.39999999520000007}, 'rouge-l': {'r': 0.5714285714285714, 'p': 0.8, 'f': 0.6666666618055556}}\n",
      "\n",
      "알파카는 어떻게 사용할 수 있나요?\n",
      "    ⇆ 알파카는 어떻게 파이썬 코드를 실행할 수 있나요?\n",
      "   {'rouge-1': {'r': 0.5714285714285714, 'p': 0.8, 'f': 0.6666666618055556}, 'rouge-2': {'r': 0.3333333333333333, 'p': 0.5, 'f': 0.39999999520000007}, 'rouge-l': {'r': 0.5714285714285714, 'p': 0.8, 'f': 0.6666666618055556}}\n",
      "\n",
      "알파카는 어떻게 사용할 수 있나요?\n",
      "    ⇆ 알파카는 어떻게 브라우저 상호작용을 수행할 수 있나요?\n",
      "   {'rouge-1': {'r': 0.5714285714285714, 'p': 0.8, 'f': 0.6666666618055556}, 'rouge-2': {'r': 0.3333333333333333, 'p': 0.5, 'f': 0.39999999520000007}, 'rouge-l': {'r': 0.5714285714285714, 'p': 0.8, 'f': 0.6666666618055556}}\n",
      "\n",
      "알파카는 어떻게 사용할 수 있나요?\n",
      "    ⇆ 알파카는 어떻게 이미지 캡처를 기반으로 브라우저 상호작용을 수행할 수 있나요?\n",
      "   {'rouge-1': {'r': 0.4, 'p': 0.8, 'f': 0.533333328888889}, 'rouge-2': {'r': 0.2222222222222222, 'p': 0.5, 'f': 0.3076923034319527}, 'rouge-l': {'r': 0.4, 'p': 0.8, 'f': 0.533333328888889}}\n",
      "\n",
      "알파카는 어떻게 사용할 수 있나요?\n",
      "    ⇆ 알파카는 어떻게 파이썬 코드를 실행하고 결과를 저장할 수 있나요?\n",
      "   {'rouge-1': {'r': 0.4444444444444444, 'p': 0.8, 'f': 0.5714285668367348}, 'rouge-2': {'r': 0.25, 'p': 0.5, 'f': 0.33333332888888895}, 'rouge-l': {'r': 0.4444444444444444, 'p': 0.8, 'f': 0.5714285668367348}}\n",
      "\n",
      "알파카는 어떻게 사용할 수 있나요?\n",
      "    ⇆ 알파카는 어떻게 브라우저 상호작용을 기반으로 파이썬 코드를 실행할 수 있나요?\n",
      "   {'rouge-1': {'r': 0.4, 'p': 0.8, 'f': 0.533333328888889}, 'rouge-2': {'r': 0.2222222222222222, 'p': 0.5, 'f': 0.3076923034319527}, 'rouge-l': {'r': 0.4, 'p': 0.8, 'f': 0.533333328888889}}\n",
      "\n",
      "알파카는 어떻게 사용할 수 있나요?\n",
      "    ⇆ 알파카는 어떻게 다른 서버에서 데이터를 가져와 알파카에 저장할 수 있나요?\n",
      "   {'rouge-1': {'r': 0.4, 'p': 0.8, 'f': 0.533333328888889}, 'rouge-2': {'r': 0.2222222222222222, 'p': 0.5, 'f': 0.3076923034319527}, 'rouge-l': {'r': 0.4, 'p': 0.8, 'f': 0.533333328888889}}\n",
      "\n",
      "알파카는 어떻게 이미지 캡처를 수행할 수 있나요?\n",
      "    ⇆ 알파카는 어떤 기능을 제공하나요?\n",
      "   {'rouge-1': {'r': 0.25, 'p': 0.14285714285714285, 'f': 0.18181817719008275}, 'rouge-2': {'r': 0.0, 'p': 0.0, 'f': 0.0}, 'rouge-l': {'r': 0.25, 'p': 0.14285714285714285, 'f': 0.18181817719008275}}\n",
      "\n",
      "알파카는 어떻게 이미지 캡처를 수행할 수 있나요?\n",
      "    ⇆ 알파카는 어떻게 사용할 수 있나요?\n",
      "   {'rouge-1': {'r': 0.8, 'p': 0.5714285714285714, 'f': 0.6666666618055556}, 'rouge-2': {'r': 0.5, 'p': 0.3333333333333333, 'f': 0.39999999520000007}, 'rouge-l': {'r': 0.8, 'p': 0.5714285714285714, 'f': 0.6666666618055556}}\n",
      "\n",
      "알파카는 어떻게 이미지 캡처를 수행할 수 있나요?\n",
      "    ⇆ 알파카는 어떻게 스크롤 검색을 수행할 수 있나요?\n",
      "   {'rouge-1': {'r': 0.7142857142857143, 'p': 0.7142857142857143, 'f': 0.7142857092857143}, 'rouge-2': {'r': 0.5, 'p': 0.5, 'f': 0.4999999950000001}, 'rouge-l': {'r': 0.7142857142857143, 'p': 0.7142857142857143, 'f': 0.7142857092857143}}\n",
      "\n",
      "알파카는 어떻게 이미지 캡처를 수행할 수 있나요?\n",
      "    ⇆ 알파카는 어떻게 파이썬 코드를 실행할 수 있나요?\n",
      "   {'rouge-1': {'r': 0.5714285714285714, 'p': 0.5714285714285714, 'f': 0.5714285664285715}, 'rouge-2': {'r': 0.3333333333333333, 'p': 0.3333333333333333, 'f': 0.3333333283333334}, 'rouge-l': {'r': 0.5714285714285714, 'p': 0.5714285714285714, 'f': 0.5714285664285715}}\n",
      "\n",
      "알파카는 어떻게 이미지 캡처를 수행할 수 있나요?\n",
      "    ⇆ 알파카는 어떻게 브라우저 상호작용을 수행할 수 있나요?\n",
      "   {'rouge-1': {'r': 0.7142857142857143, 'p': 0.7142857142857143, 'f': 0.7142857092857143}, 'rouge-2': {'r': 0.5, 'p': 0.5, 'f': 0.4999999950000001}, 'rouge-l': {'r': 0.7142857142857143, 'p': 0.7142857142857143, 'f': 0.7142857092857143}}\n",
      "\n",
      "알파카는 어떻게 이미지 캡처를 수행할 수 있나요?\n",
      "    ⇆ 알파카는 어떻게 이미지 캡처를 기반으로 브라우저 상호작용을 수행할 수 있나요?\n",
      "   {'rouge-1': {'r': 0.7, 'p': 1.0, 'f': 0.8235294069204152}, 'rouge-2': {'r': 0.5555555555555556, 'p': 0.8333333333333334, 'f': 0.6666666618666668}, 'rouge-l': {'r': 0.7, 'p': 1.0, 'f': 0.8235294069204152}}\n",
      "\n",
      "알파카는 어떻게 이미지 캡처를 수행할 수 있나요?\n",
      "    ⇆ 알파카는 어떻게 파이썬 코드를 실행하고 결과를 저장할 수 있나요?\n",
      "   {'rouge-1': {'r': 0.4444444444444444, 'p': 0.5714285714285714, 'f': 0.4999999950781251}, 'rouge-2': {'r': 0.25, 'p': 0.3333333333333333, 'f': 0.2857142808163266}, 'rouge-l': {'r': 0.4444444444444444, 'p': 0.5714285714285714, 'f': 0.4999999950781251}}\n",
      "\n",
      "알파카는 어떻게 이미지 캡처를 수행할 수 있나요?\n",
      "    ⇆ 알파카는 어떻게 브라우저 상호작용을 기반으로 파이썬 코드를 실행할 수 있나요?\n",
      "   {'rouge-1': {'r': 0.4, 'p': 0.5714285714285714, 'f': 0.470588230449827}, 'rouge-2': {'r': 0.2222222222222222, 'p': 0.3333333333333333, 'f': 0.2666666618666667}, 'rouge-l': {'r': 0.4, 'p': 0.5714285714285714, 'f': 0.470588230449827}}\n",
      "\n",
      "알파카는 어떻게 이미지 캡처를 수행할 수 있나요?\n",
      "    ⇆ 알파카는 어떻게 다른 서버에서 데이터를 가져와 알파카에 저장할 수 있나요?\n",
      "   {'rouge-1': {'r': 0.4, 'p': 0.5714285714285714, 'f': 0.470588230449827}, 'rouge-2': {'r': 0.2222222222222222, 'p': 0.3333333333333333, 'f': 0.2666666618666667}, 'rouge-l': {'r': 0.4, 'p': 0.5714285714285714, 'f': 0.470588230449827}}\n",
      "\n",
      "알파카는 어떻게 이미지 캡처를 수행할 수 있나요?\n",
      "    ⇆ 알파카는 어떤 기능을 제공하나요?\n",
      "   {'rouge-1': {'r': 0.25, 'p': 0.14285714285714285, 'f': 0.18181817719008275}, 'rouge-2': {'r': 0.0, 'p': 0.0, 'f': 0.0}, 'rouge-l': {'r': 0.25, 'p': 0.14285714285714285, 'f': 0.18181817719008275}}\n",
      "\n",
      "알파카는 어떻게 이미지 캡처를 수행할 수 있나요?\n",
      "    ⇆ 알파카는 어떻게 사용할 수 있나요?\n",
      "   {'rouge-1': {'r': 0.8, 'p': 0.5714285714285714, 'f': 0.6666666618055556}, 'rouge-2': {'r': 0.5, 'p': 0.3333333333333333, 'f': 0.39999999520000007}, 'rouge-l': {'r': 0.8, 'p': 0.5714285714285714, 'f': 0.6666666618055556}}\n",
      "\n",
      "알파카는 어떻게 이미지 캡처를 수행할 수 있나요?\n",
      "    ⇆ 알파카는 어떻게 이미지 캡처를 수행할 수 있나요?\n",
      "   {'rouge-1': {'r': 1.0, 'p': 1.0, 'f': 0.999999995}, 'rouge-2': {'r': 1.0, 'p': 1.0, 'f': 0.999999995}, 'rouge-l': {'r': 1.0, 'p': 1.0, 'f': 0.999999995}}\n",
      "\n",
      "@-----------------------------\n",
      "알파카는 어떻게 이미지 캡처를 수행할 수 있나요?\n",
      "    ⇆ 알파카는 어떻게 스크롤 검색을 수행할 수 있나요?\n",
      "   {'rouge-1': {'r': 0.7142857142857143, 'p': 0.7142857142857143, 'f': 0.7142857092857143}, 'rouge-2': {'r': 0.5, 'p': 0.5, 'f': 0.4999999950000001}, 'rouge-l': {'r': 0.7142857142857143, 'p': 0.7142857142857143, 'f': 0.7142857092857143}}\n",
      "\n",
      "알파카는 어떻게 이미지 캡처를 수행할 수 있나요?\n",
      "    ⇆ 알파카는 어떻게 파이썬 코드를 실행할 수 있나요?\n",
      "   {'rouge-1': {'r': 0.5714285714285714, 'p': 0.5714285714285714, 'f': 0.5714285664285715}, 'rouge-2': {'r': 0.3333333333333333, 'p': 0.3333333333333333, 'f': 0.3333333283333334}, 'rouge-l': {'r': 0.5714285714285714, 'p': 0.5714285714285714, 'f': 0.5714285664285715}}\n",
      "\n",
      "알파카는 어떻게 이미지 캡처를 수행할 수 있나요?\n",
      "    ⇆ 알파카는 어떻게 브라우저 상호작용을 수행할 수 있나요?\n",
      "   {'rouge-1': {'r': 0.7142857142857143, 'p': 0.7142857142857143, 'f': 0.7142857092857143}, 'rouge-2': {'r': 0.5, 'p': 0.5, 'f': 0.4999999950000001}, 'rouge-l': {'r': 0.7142857142857143, 'p': 0.7142857142857143, 'f': 0.7142857092857143}}\n",
      "\n",
      "알파카는 어떻게 이미지 캡처를 수행할 수 있나요?\n",
      "    ⇆ 알파카는 어떻게 이미지 캡처를 기반으로 브라우저 상호작용을 수행할 수 있나요?\n",
      "   {'rouge-1': {'r': 0.7, 'p': 1.0, 'f': 0.8235294069204152}, 'rouge-2': {'r': 0.5555555555555556, 'p': 0.8333333333333334, 'f': 0.6666666618666668}, 'rouge-l': {'r': 0.7, 'p': 1.0, 'f': 0.8235294069204152}}\n",
      "\n",
      "알파카는 어떻게 이미지 캡처를 수행할 수 있나요?\n",
      "    ⇆ 알파카는 어떻게 파이썬 코드를 실행하고 결과를 저장할 수 있나요?\n",
      "   {'rouge-1': {'r': 0.4444444444444444, 'p': 0.5714285714285714, 'f': 0.4999999950781251}, 'rouge-2': {'r': 0.25, 'p': 0.3333333333333333, 'f': 0.2857142808163266}, 'rouge-l': {'r': 0.4444444444444444, 'p': 0.5714285714285714, 'f': 0.4999999950781251}}\n",
      "\n",
      "알파카는 어떻게 이미지 캡처를 수행할 수 있나요?\n",
      "    ⇆ 알파카는 어떻게 브라우저 상호작용을 기반으로 파이썬 코드를 실행할 수 있나요?\n",
      "   {'rouge-1': {'r': 0.4, 'p': 0.5714285714285714, 'f': 0.470588230449827}, 'rouge-2': {'r': 0.2222222222222222, 'p': 0.3333333333333333, 'f': 0.2666666618666667}, 'rouge-l': {'r': 0.4, 'p': 0.5714285714285714, 'f': 0.470588230449827}}\n",
      "\n",
      "알파카는 어떻게 이미지 캡처를 수행할 수 있나요?\n",
      "    ⇆ 알파카는 어떻게 다른 서버에서 데이터를 가져와 알파카에 저장할 수 있나요?\n",
      "   {'rouge-1': {'r': 0.4, 'p': 0.5714285714285714, 'f': 0.470588230449827}, 'rouge-2': {'r': 0.2222222222222222, 'p': 0.3333333333333333, 'f': 0.2666666618666667}, 'rouge-l': {'r': 0.4, 'p': 0.5714285714285714, 'f': 0.470588230449827}}\n",
      "\n",
      "알파카는 어떻게 스크롤 검색을 수행할 수 있나요?\n",
      "    ⇆ 알파카는 어떤 기능을 제공하나요?\n",
      "   {'rouge-1': {'r': 0.25, 'p': 0.14285714285714285, 'f': 0.18181817719008275}, 'rouge-2': {'r': 0.0, 'p': 0.0, 'f': 0.0}, 'rouge-l': {'r': 0.25, 'p': 0.14285714285714285, 'f': 0.18181817719008275}}\n",
      "\n",
      "알파카는 어떻게 스크롤 검색을 수행할 수 있나요?\n",
      "    ⇆ 알파카는 어떻게 사용할 수 있나요?\n",
      "   {'rouge-1': {'r': 0.8, 'p': 0.5714285714285714, 'f': 0.6666666618055556}, 'rouge-2': {'r': 0.5, 'p': 0.3333333333333333, 'f': 0.39999999520000007}, 'rouge-l': {'r': 0.8, 'p': 0.5714285714285714, 'f': 0.6666666618055556}}\n",
      "\n",
      "알파카는 어떻게 스크롤 검색을 수행할 수 있나요?\n",
      "    ⇆ 알파카는 어떻게 이미지 캡처를 수행할 수 있나요?\n",
      "   {'rouge-1': {'r': 0.7142857142857143, 'p': 0.7142857142857143, 'f': 0.7142857092857143}, 'rouge-2': {'r': 0.5, 'p': 0.5, 'f': 0.4999999950000001}, 'rouge-l': {'r': 0.7142857142857143, 'p': 0.7142857142857143, 'f': 0.7142857092857143}}\n",
      "\n",
      "알파카는 어떻게 스크롤 검색을 수행할 수 있나요?\n",
      "    ⇆ 알파카는 어떻게 파이썬 코드를 실행할 수 있나요?\n",
      "   {'rouge-1': {'r': 0.5714285714285714, 'p': 0.5714285714285714, 'f': 0.5714285664285715}, 'rouge-2': {'r': 0.3333333333333333, 'p': 0.3333333333333333, 'f': 0.3333333283333334}, 'rouge-l': {'r': 0.5714285714285714, 'p': 0.5714285714285714, 'f': 0.5714285664285715}}\n",
      "\n",
      "알파카는 어떻게 스크롤 검색을 수행할 수 있나요?\n",
      "    ⇆ 알파카는 어떻게 브라우저 상호작용을 수행할 수 있나요?\n",
      "   {'rouge-1': {'r': 0.7142857142857143, 'p': 0.7142857142857143, 'f': 0.7142857092857143}, 'rouge-2': {'r': 0.5, 'p': 0.5, 'f': 0.4999999950000001}, 'rouge-l': {'r': 0.7142857142857143, 'p': 0.7142857142857143, 'f': 0.7142857092857143}}\n",
      "\n",
      "알파카는 어떻게 스크롤 검색을 수행할 수 있나요?\n",
      "    ⇆ 알파카는 어떻게 이미지 캡처를 기반으로 브라우저 상호작용을 수행할 수 있나요?\n",
      "   {'rouge-1': {'r': 0.5, 'p': 0.7142857142857143, 'f': 0.5882352892733564}, 'rouge-2': {'r': 0.3333333333333333, 'p': 0.5, 'f': 0.39999999520000007}, 'rouge-l': {'r': 0.5, 'p': 0.7142857142857143, 'f': 0.5882352892733564}}\n",
      "\n",
      "알파카는 어떻게 스크롤 검색을 수행할 수 있나요?\n",
      "    ⇆ 알파카는 어떻게 파이썬 코드를 실행하고 결과를 저장할 수 있나요?\n",
      "   {'rouge-1': {'r': 0.4444444444444444, 'p': 0.5714285714285714, 'f': 0.4999999950781251}, 'rouge-2': {'r': 0.25, 'p': 0.3333333333333333, 'f': 0.2857142808163266}, 'rouge-l': {'r': 0.4444444444444444, 'p': 0.5714285714285714, 'f': 0.4999999950781251}}\n",
      "\n",
      "알파카는 어떻게 스크롤 검색을 수행할 수 있나요?\n",
      "    ⇆ 알파카는 어떻게 브라우저 상호작용을 기반으로 파이썬 코드를 실행할 수 있나요?\n",
      "   {'rouge-1': {'r': 0.4, 'p': 0.5714285714285714, 'f': 0.470588230449827}, 'rouge-2': {'r': 0.2222222222222222, 'p': 0.3333333333333333, 'f': 0.2666666618666667}, 'rouge-l': {'r': 0.4, 'p': 0.5714285714285714, 'f': 0.470588230449827}}\n",
      "\n",
      "알파카는 어떻게 스크롤 검색을 수행할 수 있나요?\n",
      "    ⇆ 알파카는 어떻게 다른 서버에서 데이터를 가져와 알파카에 저장할 수 있나요?\n",
      "   {'rouge-1': {'r': 0.4, 'p': 0.5714285714285714, 'f': 0.470588230449827}, 'rouge-2': {'r': 0.2222222222222222, 'p': 0.3333333333333333, 'f': 0.2666666618666667}, 'rouge-l': {'r': 0.4, 'p': 0.5714285714285714, 'f': 0.470588230449827}}\n",
      "\n",
      "알파카는 어떻게 스크롤 검색을 수행할 수 있나요?\n",
      "    ⇆ 알파카는 어떤 기능을 제공하나요?\n",
      "   {'rouge-1': {'r': 0.25, 'p': 0.14285714285714285, 'f': 0.18181817719008275}, 'rouge-2': {'r': 0.0, 'p': 0.0, 'f': 0.0}, 'rouge-l': {'r': 0.25, 'p': 0.14285714285714285, 'f': 0.18181817719008275}}\n",
      "\n",
      "알파카는 어떻게 스크롤 검색을 수행할 수 있나요?\n",
      "    ⇆ 알파카는 어떻게 사용할 수 있나요?\n",
      "   {'rouge-1': {'r': 0.8, 'p': 0.5714285714285714, 'f': 0.6666666618055556}, 'rouge-2': {'r': 0.5, 'p': 0.3333333333333333, 'f': 0.39999999520000007}, 'rouge-l': {'r': 0.8, 'p': 0.5714285714285714, 'f': 0.6666666618055556}}\n",
      "\n",
      "알파카는 어떻게 스크롤 검색을 수행할 수 있나요?\n",
      "    ⇆ 알파카는 어떻게 이미지 캡처를 수행할 수 있나요?\n",
      "   {'rouge-1': {'r': 0.7142857142857143, 'p': 0.7142857142857143, 'f': 0.7142857092857143}, 'rouge-2': {'r': 0.5, 'p': 0.5, 'f': 0.4999999950000001}, 'rouge-l': {'r': 0.7142857142857143, 'p': 0.7142857142857143, 'f': 0.7142857092857143}}\n",
      "\n",
      "알파카는 어떻게 스크롤 검색을 수행할 수 있나요?\n",
      "    ⇆ 알파카는 어떻게 스크롤 검색을 수행할 수 있나요?\n",
      "   {'rouge-1': {'r': 1.0, 'p': 1.0, 'f': 0.999999995}, 'rouge-2': {'r': 1.0, 'p': 1.0, 'f': 0.999999995}, 'rouge-l': {'r': 1.0, 'p': 1.0, 'f': 0.999999995}}\n",
      "\n",
      "@-----------------------------\n",
      "알파카는 어떻게 스크롤 검색을 수행할 수 있나요?\n",
      "    ⇆ 알파카는 어떻게 파이썬 코드를 실행할 수 있나요?\n",
      "   {'rouge-1': {'r': 0.5714285714285714, 'p': 0.5714285714285714, 'f': 0.5714285664285715}, 'rouge-2': {'r': 0.3333333333333333, 'p': 0.3333333333333333, 'f': 0.3333333283333334}, 'rouge-l': {'r': 0.5714285714285714, 'p': 0.5714285714285714, 'f': 0.5714285664285715}}\n",
      "\n",
      "알파카는 어떻게 스크롤 검색을 수행할 수 있나요?\n",
      "    ⇆ 알파카는 어떻게 브라우저 상호작용을 수행할 수 있나요?\n",
      "   {'rouge-1': {'r': 0.7142857142857143, 'p': 0.7142857142857143, 'f': 0.7142857092857143}, 'rouge-2': {'r': 0.5, 'p': 0.5, 'f': 0.4999999950000001}, 'rouge-l': {'r': 0.7142857142857143, 'p': 0.7142857142857143, 'f': 0.7142857092857143}}\n",
      "\n",
      "알파카는 어떻게 스크롤 검색을 수행할 수 있나요?\n",
      "    ⇆ 알파카는 어떻게 이미지 캡처를 기반으로 브라우저 상호작용을 수행할 수 있나요?\n",
      "   {'rouge-1': {'r': 0.5, 'p': 0.7142857142857143, 'f': 0.5882352892733564}, 'rouge-2': {'r': 0.3333333333333333, 'p': 0.5, 'f': 0.39999999520000007}, 'rouge-l': {'r': 0.5, 'p': 0.7142857142857143, 'f': 0.5882352892733564}}\n",
      "\n",
      "알파카는 어떻게 스크롤 검색을 수행할 수 있나요?\n",
      "    ⇆ 알파카는 어떻게 파이썬 코드를 실행하고 결과를 저장할 수 있나요?\n",
      "   {'rouge-1': {'r': 0.4444444444444444, 'p': 0.5714285714285714, 'f': 0.4999999950781251}, 'rouge-2': {'r': 0.25, 'p': 0.3333333333333333, 'f': 0.2857142808163266}, 'rouge-l': {'r': 0.4444444444444444, 'p': 0.5714285714285714, 'f': 0.4999999950781251}}\n",
      "\n",
      "알파카는 어떻게 스크롤 검색을 수행할 수 있나요?\n",
      "    ⇆ 알파카는 어떻게 브라우저 상호작용을 기반으로 파이썬 코드를 실행할 수 있나요?\n",
      "   {'rouge-1': {'r': 0.4, 'p': 0.5714285714285714, 'f': 0.470588230449827}, 'rouge-2': {'r': 0.2222222222222222, 'p': 0.3333333333333333, 'f': 0.2666666618666667}, 'rouge-l': {'r': 0.4, 'p': 0.5714285714285714, 'f': 0.470588230449827}}\n",
      "\n",
      "알파카는 어떻게 스크롤 검색을 수행할 수 있나요?\n",
      "    ⇆ 알파카는 어떻게 다른 서버에서 데이터를 가져와 알파카에 저장할 수 있나요?\n",
      "   {'rouge-1': {'r': 0.4, 'p': 0.5714285714285714, 'f': 0.470588230449827}, 'rouge-2': {'r': 0.2222222222222222, 'p': 0.3333333333333333, 'f': 0.2666666618666667}, 'rouge-l': {'r': 0.4, 'p': 0.5714285714285714, 'f': 0.470588230449827}}\n",
      "\n",
      "알파카는 어떻게 파이썬 코드를 실행할 수 있나요?\n",
      "    ⇆ 알파카는 어떤 기능을 제공하나요?\n",
      "   {'rouge-1': {'r': 0.25, 'p': 0.14285714285714285, 'f': 0.18181817719008275}, 'rouge-2': {'r': 0.0, 'p': 0.0, 'f': 0.0}, 'rouge-l': {'r': 0.25, 'p': 0.14285714285714285, 'f': 0.18181817719008275}}\n",
      "\n",
      "알파카는 어떻게 파이썬 코드를 실행할 수 있나요?\n",
      "    ⇆ 알파카는 어떻게 사용할 수 있나요?\n",
      "   {'rouge-1': {'r': 0.8, 'p': 0.5714285714285714, 'f': 0.6666666618055556}, 'rouge-2': {'r': 0.5, 'p': 0.3333333333333333, 'f': 0.39999999520000007}, 'rouge-l': {'r': 0.8, 'p': 0.5714285714285714, 'f': 0.6666666618055556}}\n",
      "\n",
      "알파카는 어떻게 파이썬 코드를 실행할 수 있나요?\n",
      "    ⇆ 알파카는 어떻게 이미지 캡처를 수행할 수 있나요?\n",
      "   {'rouge-1': {'r': 0.5714285714285714, 'p': 0.5714285714285714, 'f': 0.5714285664285715}, 'rouge-2': {'r': 0.3333333333333333, 'p': 0.3333333333333333, 'f': 0.3333333283333334}, 'rouge-l': {'r': 0.5714285714285714, 'p': 0.5714285714285714, 'f': 0.5714285664285715}}\n",
      "\n",
      "알파카는 어떻게 파이썬 코드를 실행할 수 있나요?\n",
      "    ⇆ 알파카는 어떻게 스크롤 검색을 수행할 수 있나요?\n",
      "   {'rouge-1': {'r': 0.5714285714285714, 'p': 0.5714285714285714, 'f': 0.5714285664285715}, 'rouge-2': {'r': 0.3333333333333333, 'p': 0.3333333333333333, 'f': 0.3333333283333334}, 'rouge-l': {'r': 0.5714285714285714, 'p': 0.5714285714285714, 'f': 0.5714285664285715}}\n",
      "\n",
      "알파카는 어떻게 파이썬 코드를 실행할 수 있나요?\n",
      "    ⇆ 알파카는 어떻게 브라우저 상호작용을 수행할 수 있나요?\n",
      "   {'rouge-1': {'r': 0.5714285714285714, 'p': 0.5714285714285714, 'f': 0.5714285664285715}, 'rouge-2': {'r': 0.3333333333333333, 'p': 0.3333333333333333, 'f': 0.3333333283333334}, 'rouge-l': {'r': 0.5714285714285714, 'p': 0.5714285714285714, 'f': 0.5714285664285715}}\n",
      "\n",
      "알파카는 어떻게 파이썬 코드를 실행할 수 있나요?\n",
      "    ⇆ 알파카는 어떻게 이미지 캡처를 기반으로 브라우저 상호작용을 수행할 수 있나요?\n",
      "   {'rouge-1': {'r': 0.4, 'p': 0.5714285714285714, 'f': 0.470588230449827}, 'rouge-2': {'r': 0.2222222222222222, 'p': 0.3333333333333333, 'f': 0.2666666618666667}, 'rouge-l': {'r': 0.4, 'p': 0.5714285714285714, 'f': 0.470588230449827}}\n",
      "\n",
      "알파카는 어떻게 파이썬 코드를 실행할 수 있나요?\n",
      "    ⇆ 알파카는 어떻게 파이썬 코드를 실행하고 결과를 저장할 수 있나요?\n",
      "   {'rouge-1': {'r': 0.6666666666666666, 'p': 0.8571428571428571, 'f': 0.7499999950781251}, 'rouge-2': {'r': 0.5, 'p': 0.6666666666666666, 'f': 0.5714285665306124}, 'rouge-l': {'r': 0.6666666666666666, 'p': 0.8571428571428571, 'f': 0.7499999950781251}}\n",
      "\n",
      "알파카는 어떻게 파이썬 코드를 실행할 수 있나요?\n",
      "    ⇆ 알파카는 어떻게 브라우저 상호작용을 기반으로 파이썬 코드를 실행할 수 있나요?\n",
      "   {'rouge-1': {'r': 0.7, 'p': 1.0, 'f': 0.8235294069204152}, 'rouge-2': {'r': 0.5555555555555556, 'p': 0.8333333333333334, 'f': 0.6666666618666668}, 'rouge-l': {'r': 0.7, 'p': 1.0, 'f': 0.8235294069204152}}\n",
      "\n",
      "알파카는 어떻게 파이썬 코드를 실행할 수 있나요?\n",
      "    ⇆ 알파카는 어떻게 다른 서버에서 데이터를 가져와 알파카에 저장할 수 있나요?\n",
      "   {'rouge-1': {'r': 0.4, 'p': 0.5714285714285714, 'f': 0.470588230449827}, 'rouge-2': {'r': 0.2222222222222222, 'p': 0.3333333333333333, 'f': 0.2666666618666667}, 'rouge-l': {'r': 0.4, 'p': 0.5714285714285714, 'f': 0.470588230449827}}\n",
      "\n",
      "알파카는 어떻게 파이썬 코드를 실행할 수 있나요?\n",
      "    ⇆ 알파카는 어떤 기능을 제공하나요?\n",
      "   {'rouge-1': {'r': 0.25, 'p': 0.14285714285714285, 'f': 0.18181817719008275}, 'rouge-2': {'r': 0.0, 'p': 0.0, 'f': 0.0}, 'rouge-l': {'r': 0.25, 'p': 0.14285714285714285, 'f': 0.18181817719008275}}\n",
      "\n",
      "알파카는 어떻게 파이썬 코드를 실행할 수 있나요?\n",
      "    ⇆ 알파카는 어떻게 사용할 수 있나요?\n",
      "   {'rouge-1': {'r': 0.8, 'p': 0.5714285714285714, 'f': 0.6666666618055556}, 'rouge-2': {'r': 0.5, 'p': 0.3333333333333333, 'f': 0.39999999520000007}, 'rouge-l': {'r': 0.8, 'p': 0.5714285714285714, 'f': 0.6666666618055556}}\n",
      "\n",
      "알파카는 어떻게 파이썬 코드를 실행할 수 있나요?\n",
      "    ⇆ 알파카는 어떻게 이미지 캡처를 수행할 수 있나요?\n",
      "   {'rouge-1': {'r': 0.5714285714285714, 'p': 0.5714285714285714, 'f': 0.5714285664285715}, 'rouge-2': {'r': 0.3333333333333333, 'p': 0.3333333333333333, 'f': 0.3333333283333334}, 'rouge-l': {'r': 0.5714285714285714, 'p': 0.5714285714285714, 'f': 0.5714285664285715}}\n",
      "\n",
      "알파카는 어떻게 파이썬 코드를 실행할 수 있나요?\n",
      "    ⇆ 알파카는 어떻게 스크롤 검색을 수행할 수 있나요?\n",
      "   {'rouge-1': {'r': 0.5714285714285714, 'p': 0.5714285714285714, 'f': 0.5714285664285715}, 'rouge-2': {'r': 0.3333333333333333, 'p': 0.3333333333333333, 'f': 0.3333333283333334}, 'rouge-l': {'r': 0.5714285714285714, 'p': 0.5714285714285714, 'f': 0.5714285664285715}}\n",
      "\n",
      "알파카는 어떻게 파이썬 코드를 실행할 수 있나요?\n",
      "    ⇆ 알파카는 어떻게 파이썬 코드를 실행할 수 있나요?\n",
      "   {'rouge-1': {'r': 1.0, 'p': 1.0, 'f': 0.999999995}, 'rouge-2': {'r': 1.0, 'p': 1.0, 'f': 0.999999995}, 'rouge-l': {'r': 1.0, 'p': 1.0, 'f': 0.999999995}}\n",
      "\n",
      "@-----------------------------\n",
      "알파카는 어떻게 파이썬 코드를 실행할 수 있나요?\n",
      "    ⇆ 알파카는 어떻게 브라우저 상호작용을 수행할 수 있나요?\n",
      "   {'rouge-1': {'r': 0.5714285714285714, 'p': 0.5714285714285714, 'f': 0.5714285664285715}, 'rouge-2': {'r': 0.3333333333333333, 'p': 0.3333333333333333, 'f': 0.3333333283333334}, 'rouge-l': {'r': 0.5714285714285714, 'p': 0.5714285714285714, 'f': 0.5714285664285715}}\n",
      "\n",
      "알파카는 어떻게 파이썬 코드를 실행할 수 있나요?\n",
      "    ⇆ 알파카는 어떻게 이미지 캡처를 기반으로 브라우저 상호작용을 수행할 수 있나요?\n",
      "   {'rouge-1': {'r': 0.4, 'p': 0.5714285714285714, 'f': 0.470588230449827}, 'rouge-2': {'r': 0.2222222222222222, 'p': 0.3333333333333333, 'f': 0.2666666618666667}, 'rouge-l': {'r': 0.4, 'p': 0.5714285714285714, 'f': 0.470588230449827}}\n",
      "\n",
      "알파카는 어떻게 파이썬 코드를 실행할 수 있나요?\n",
      "    ⇆ 알파카는 어떻게 파이썬 코드를 실행하고 결과를 저장할 수 있나요?\n",
      "   {'rouge-1': {'r': 0.6666666666666666, 'p': 0.8571428571428571, 'f': 0.7499999950781251}, 'rouge-2': {'r': 0.5, 'p': 0.6666666666666666, 'f': 0.5714285665306124}, 'rouge-l': {'r': 0.6666666666666666, 'p': 0.8571428571428571, 'f': 0.7499999950781251}}\n",
      "\n",
      "알파카는 어떻게 파이썬 코드를 실행할 수 있나요?\n",
      "    ⇆ 알파카는 어떻게 브라우저 상호작용을 기반으로 파이썬 코드를 실행할 수 있나요?\n",
      "   {'rouge-1': {'r': 0.7, 'p': 1.0, 'f': 0.8235294069204152}, 'rouge-2': {'r': 0.5555555555555556, 'p': 0.8333333333333334, 'f': 0.6666666618666668}, 'rouge-l': {'r': 0.7, 'p': 1.0, 'f': 0.8235294069204152}}\n",
      "\n",
      "알파카는 어떻게 파이썬 코드를 실행할 수 있나요?\n",
      "    ⇆ 알파카는 어떻게 다른 서버에서 데이터를 가져와 알파카에 저장할 수 있나요?\n",
      "   {'rouge-1': {'r': 0.4, 'p': 0.5714285714285714, 'f': 0.470588230449827}, 'rouge-2': {'r': 0.2222222222222222, 'p': 0.3333333333333333, 'f': 0.2666666618666667}, 'rouge-l': {'r': 0.4, 'p': 0.5714285714285714, 'f': 0.470588230449827}}\n",
      "\n",
      "알파카는 어떻게 브라우저 상호작용을 수행할 수 있나요?\n",
      "    ⇆ 알파카는 어떤 기능을 제공하나요?\n",
      "   {'rouge-1': {'r': 0.25, 'p': 0.14285714285714285, 'f': 0.18181817719008275}, 'rouge-2': {'r': 0.0, 'p': 0.0, 'f': 0.0}, 'rouge-l': {'r': 0.25, 'p': 0.14285714285714285, 'f': 0.18181817719008275}}\n",
      "\n",
      "알파카는 어떻게 브라우저 상호작용을 수행할 수 있나요?\n",
      "    ⇆ 알파카는 어떻게 사용할 수 있나요?\n",
      "   {'rouge-1': {'r': 0.8, 'p': 0.5714285714285714, 'f': 0.6666666618055556}, 'rouge-2': {'r': 0.5, 'p': 0.3333333333333333, 'f': 0.39999999520000007}, 'rouge-l': {'r': 0.8, 'p': 0.5714285714285714, 'f': 0.6666666618055556}}\n",
      "\n",
      "알파카는 어떻게 브라우저 상호작용을 수행할 수 있나요?\n",
      "    ⇆ 알파카는 어떻게 이미지 캡처를 수행할 수 있나요?\n",
      "   {'rouge-1': {'r': 0.7142857142857143, 'p': 0.7142857142857143, 'f': 0.7142857092857143}, 'rouge-2': {'r': 0.5, 'p': 0.5, 'f': 0.4999999950000001}, 'rouge-l': {'r': 0.7142857142857143, 'p': 0.7142857142857143, 'f': 0.7142857092857143}}\n",
      "\n",
      "알파카는 어떻게 브라우저 상호작용을 수행할 수 있나요?\n",
      "    ⇆ 알파카는 어떻게 스크롤 검색을 수행할 수 있나요?\n",
      "   {'rouge-1': {'r': 0.7142857142857143, 'p': 0.7142857142857143, 'f': 0.7142857092857143}, 'rouge-2': {'r': 0.5, 'p': 0.5, 'f': 0.4999999950000001}, 'rouge-l': {'r': 0.7142857142857143, 'p': 0.7142857142857143, 'f': 0.7142857092857143}}\n",
      "\n",
      "알파카는 어떻게 브라우저 상호작용을 수행할 수 있나요?\n",
      "    ⇆ 알파카는 어떻게 파이썬 코드를 실행할 수 있나요?\n",
      "   {'rouge-1': {'r': 0.5714285714285714, 'p': 0.5714285714285714, 'f': 0.5714285664285715}, 'rouge-2': {'r': 0.3333333333333333, 'p': 0.3333333333333333, 'f': 0.3333333283333334}, 'rouge-l': {'r': 0.5714285714285714, 'p': 0.5714285714285714, 'f': 0.5714285664285715}}\n",
      "\n",
      "알파카는 어떻게 브라우저 상호작용을 수행할 수 있나요?\n",
      "    ⇆ 알파카는 어떻게 이미지 캡처를 기반으로 브라우저 상호작용을 수행할 수 있나요?\n",
      "   {'rouge-1': {'r': 0.7, 'p': 1.0, 'f': 0.8235294069204152}, 'rouge-2': {'r': 0.5555555555555556, 'p': 0.8333333333333334, 'f': 0.6666666618666668}, 'rouge-l': {'r': 0.7, 'p': 1.0, 'f': 0.8235294069204152}}\n",
      "\n",
      "알파카는 어떻게 브라우저 상호작용을 수행할 수 있나요?\n",
      "    ⇆ 알파카는 어떻게 파이썬 코드를 실행하고 결과를 저장할 수 있나요?\n",
      "   {'rouge-1': {'r': 0.4444444444444444, 'p': 0.5714285714285714, 'f': 0.4999999950781251}, 'rouge-2': {'r': 0.25, 'p': 0.3333333333333333, 'f': 0.2857142808163266}, 'rouge-l': {'r': 0.4444444444444444, 'p': 0.5714285714285714, 'f': 0.4999999950781251}}\n",
      "\n",
      "알파카는 어떻게 브라우저 상호작용을 수행할 수 있나요?\n",
      "    ⇆ 알파카는 어떻게 브라우저 상호작용을 기반으로 파이썬 코드를 실행할 수 있나요?\n",
      "   {'rouge-1': {'r': 0.6, 'p': 0.8571428571428571, 'f': 0.7058823480968859}, 'rouge-2': {'r': 0.4444444444444444, 'p': 0.6666666666666666, 'f': 0.5333333285333334}, 'rouge-l': {'r': 0.6, 'p': 0.8571428571428571, 'f': 0.7058823480968859}}\n",
      "\n",
      "알파카는 어떻게 브라우저 상호작용을 수행할 수 있나요?\n",
      "    ⇆ 알파카는 어떻게 다른 서버에서 데이터를 가져와 알파카에 저장할 수 있나요?\n",
      "   {'rouge-1': {'r': 0.4, 'p': 0.5714285714285714, 'f': 0.470588230449827}, 'rouge-2': {'r': 0.2222222222222222, 'p': 0.3333333333333333, 'f': 0.2666666618666667}, 'rouge-l': {'r': 0.4, 'p': 0.5714285714285714, 'f': 0.470588230449827}}\n",
      "\n",
      "알파카는 어떻게 브라우저 상호작용을 수행할 수 있나요?\n",
      "    ⇆ 알파카는 어떤 기능을 제공하나요?\n",
      "   {'rouge-1': {'r': 0.25, 'p': 0.14285714285714285, 'f': 0.18181817719008275}, 'rouge-2': {'r': 0.0, 'p': 0.0, 'f': 0.0}, 'rouge-l': {'r': 0.25, 'p': 0.14285714285714285, 'f': 0.18181817719008275}}\n",
      "\n",
      "알파카는 어떻게 브라우저 상호작용을 수행할 수 있나요?\n",
      "    ⇆ 알파카는 어떻게 사용할 수 있나요?\n",
      "   {'rouge-1': {'r': 0.8, 'p': 0.5714285714285714, 'f': 0.6666666618055556}, 'rouge-2': {'r': 0.5, 'p': 0.3333333333333333, 'f': 0.39999999520000007}, 'rouge-l': {'r': 0.8, 'p': 0.5714285714285714, 'f': 0.6666666618055556}}\n",
      "\n",
      "알파카는 어떻게 브라우저 상호작용을 수행할 수 있나요?\n",
      "    ⇆ 알파카는 어떻게 이미지 캡처를 수행할 수 있나요?\n",
      "   {'rouge-1': {'r': 0.7142857142857143, 'p': 0.7142857142857143, 'f': 0.7142857092857143}, 'rouge-2': {'r': 0.5, 'p': 0.5, 'f': 0.4999999950000001}, 'rouge-l': {'r': 0.7142857142857143, 'p': 0.7142857142857143, 'f': 0.7142857092857143}}\n",
      "\n",
      "알파카는 어떻게 브라우저 상호작용을 수행할 수 있나요?\n",
      "    ⇆ 알파카는 어떻게 스크롤 검색을 수행할 수 있나요?\n",
      "   {'rouge-1': {'r': 0.7142857142857143, 'p': 0.7142857142857143, 'f': 0.7142857092857143}, 'rouge-2': {'r': 0.5, 'p': 0.5, 'f': 0.4999999950000001}, 'rouge-l': {'r': 0.7142857142857143, 'p': 0.7142857142857143, 'f': 0.7142857092857143}}\n",
      "\n",
      "알파카는 어떻게 브라우저 상호작용을 수행할 수 있나요?\n",
      "    ⇆ 알파카는 어떻게 파이썬 코드를 실행할 수 있나요?\n",
      "   {'rouge-1': {'r': 0.5714285714285714, 'p': 0.5714285714285714, 'f': 0.5714285664285715}, 'rouge-2': {'r': 0.3333333333333333, 'p': 0.3333333333333333, 'f': 0.3333333283333334}, 'rouge-l': {'r': 0.5714285714285714, 'p': 0.5714285714285714, 'f': 0.5714285664285715}}\n",
      "\n",
      "알파카는 어떻게 브라우저 상호작용을 수행할 수 있나요?\n",
      "    ⇆ 알파카는 어떻게 브라우저 상호작용을 수행할 수 있나요?\n",
      "   {'rouge-1': {'r': 1.0, 'p': 1.0, 'f': 0.999999995}, 'rouge-2': {'r': 1.0, 'p': 1.0, 'f': 0.999999995}, 'rouge-l': {'r': 1.0, 'p': 1.0, 'f': 0.999999995}}\n",
      "\n",
      "@-----------------------------\n",
      "알파카는 어떻게 브라우저 상호작용을 수행할 수 있나요?\n",
      "    ⇆ 알파카는 어떻게 이미지 캡처를 기반으로 브라우저 상호작용을 수행할 수 있나요?\n",
      "   {'rouge-1': {'r': 0.7, 'p': 1.0, 'f': 0.8235294069204152}, 'rouge-2': {'r': 0.5555555555555556, 'p': 0.8333333333333334, 'f': 0.6666666618666668}, 'rouge-l': {'r': 0.7, 'p': 1.0, 'f': 0.8235294069204152}}\n",
      "\n",
      "알파카는 어떻게 브라우저 상호작용을 수행할 수 있나요?\n",
      "    ⇆ 알파카는 어떻게 파이썬 코드를 실행하고 결과를 저장할 수 있나요?\n",
      "   {'rouge-1': {'r': 0.4444444444444444, 'p': 0.5714285714285714, 'f': 0.4999999950781251}, 'rouge-2': {'r': 0.25, 'p': 0.3333333333333333, 'f': 0.2857142808163266}, 'rouge-l': {'r': 0.4444444444444444, 'p': 0.5714285714285714, 'f': 0.4999999950781251}}\n",
      "\n",
      "알파카는 어떻게 브라우저 상호작용을 수행할 수 있나요?\n",
      "    ⇆ 알파카는 어떻게 브라우저 상호작용을 기반으로 파이썬 코드를 실행할 수 있나요?\n",
      "   {'rouge-1': {'r': 0.6, 'p': 0.8571428571428571, 'f': 0.7058823480968859}, 'rouge-2': {'r': 0.4444444444444444, 'p': 0.6666666666666666, 'f': 0.5333333285333334}, 'rouge-l': {'r': 0.6, 'p': 0.8571428571428571, 'f': 0.7058823480968859}}\n",
      "\n",
      "알파카는 어떻게 브라우저 상호작용을 수행할 수 있나요?\n",
      "    ⇆ 알파카는 어떻게 다른 서버에서 데이터를 가져와 알파카에 저장할 수 있나요?\n",
      "   {'rouge-1': {'r': 0.4, 'p': 0.5714285714285714, 'f': 0.470588230449827}, 'rouge-2': {'r': 0.2222222222222222, 'p': 0.3333333333333333, 'f': 0.2666666618666667}, 'rouge-l': {'r': 0.4, 'p': 0.5714285714285714, 'f': 0.470588230449827}}\n",
      "\n",
      "알파카는 어떻게 이미지 캡처를 기반으로 브라우저 상호작용을 수행할 수 있나요?\n",
      "    ⇆ 알파카는 어떤 기능을 제공하나요?\n",
      "   {'rouge-1': {'r': 0.25, 'p': 0.1, 'f': 0.14285713877551035}, 'rouge-2': {'r': 0.0, 'p': 0.0, 'f': 0.0}, 'rouge-l': {'r': 0.25, 'p': 0.1, 'f': 0.14285713877551035}}\n",
      "\n",
      "알파카는 어떻게 이미지 캡처를 기반으로 브라우저 상호작용을 수행할 수 있나요?\n",
      "    ⇆ 알파카는 어떻게 사용할 수 있나요?\n",
      "   {'rouge-1': {'r': 0.8, 'p': 0.4, 'f': 0.533333328888889}, 'rouge-2': {'r': 0.5, 'p': 0.2222222222222222, 'f': 0.3076923034319527}, 'rouge-l': {'r': 0.8, 'p': 0.4, 'f': 0.533333328888889}}\n",
      "\n",
      "알파카는 어떻게 이미지 캡처를 기반으로 브라우저 상호작용을 수행할 수 있나요?\n",
      "    ⇆ 알파카는 어떻게 이미지 캡처를 수행할 수 있나요?\n",
      "   {'rouge-1': {'r': 1.0, 'p': 0.7, 'f': 0.8235294069204152}, 'rouge-2': {'r': 0.8333333333333334, 'p': 0.5555555555555556, 'f': 0.6666666618666668}, 'rouge-l': {'r': 1.0, 'p': 0.7, 'f': 0.8235294069204152}}\n",
      "\n",
      "@-----------------------------\n",
      "알파카는 어떻게 이미지 캡처를 기반으로 브라우저 상호작용을 수행할 수 있나요?\n",
      "    ⇆ 알파카는 어떻게 스크롤 검색을 수행할 수 있나요?\n",
      "   {'rouge-1': {'r': 0.7142857142857143, 'p': 0.5, 'f': 0.5882352892733564}, 'rouge-2': {'r': 0.5, 'p': 0.3333333333333333, 'f': 0.39999999520000007}, 'rouge-l': {'r': 0.7142857142857143, 'p': 0.5, 'f': 0.5882352892733564}}\n",
      "\n",
      "알파카는 어떻게 이미지 캡처를 기반으로 브라우저 상호작용을 수행할 수 있나요?\n",
      "    ⇆ 알파카는 어떻게 파이썬 코드를 실행할 수 있나요?\n",
      "   {'rouge-1': {'r': 0.5714285714285714, 'p': 0.4, 'f': 0.470588230449827}, 'rouge-2': {'r': 0.3333333333333333, 'p': 0.2222222222222222, 'f': 0.2666666618666667}, 'rouge-l': {'r': 0.5714285714285714, 'p': 0.4, 'f': 0.470588230449827}}\n",
      "\n",
      "알파카는 어떻게 이미지 캡처를 기반으로 브라우저 상호작용을 수행할 수 있나요?\n",
      "    ⇆ 알파카는 어떻게 브라우저 상호작용을 수행할 수 있나요?\n",
      "   {'rouge-1': {'r': 1.0, 'p': 0.7, 'f': 0.8235294069204152}, 'rouge-2': {'r': 0.8333333333333334, 'p': 0.5555555555555556, 'f': 0.6666666618666668}, 'rouge-l': {'r': 1.0, 'p': 0.7, 'f': 0.8235294069204152}}\n",
      "\n",
      "@-----------------------------\n",
      "알파카는 어떻게 이미지 캡처를 기반으로 브라우저 상호작용을 수행할 수 있나요?\n",
      "    ⇆ 알파카는 어떻게 파이썬 코드를 실행하고 결과를 저장할 수 있나요?\n",
      "   {'rouge-1': {'r': 0.4444444444444444, 'p': 0.4, 'f': 0.42105262659279785}, 'rouge-2': {'r': 0.25, 'p': 0.2222222222222222, 'f': 0.23529411266435996}, 'rouge-l': {'r': 0.4444444444444444, 'p': 0.4, 'f': 0.42105262659279785}}\n",
      "\n",
      "알파카는 어떻게 이미지 캡처를 기반으로 브라우저 상호작용을 수행할 수 있나요?\n",
      "    ⇆ 알파카는 어떻게 브라우저 상호작용을 기반으로 파이썬 코드를 실행할 수 있나요?\n",
      "   {'rouge-1': {'r': 0.7, 'p': 0.7, 'f': 0.699999995}, 'rouge-2': {'r': 0.3333333333333333, 'p': 0.3333333333333333, 'f': 0.3333333283333334}, 'rouge-l': {'r': 0.6, 'p': 0.6, 'f': 0.5999999950000001}}\n",
      "\n",
      "알파카는 어떻게 이미지 캡처를 기반으로 브라우저 상호작용을 수행할 수 있나요?\n",
      "    ⇆ 알파카는 어떻게 다른 서버에서 데이터를 가져와 알파카에 저장할 수 있나요?\n",
      "   {'rouge-1': {'r': 0.4, 'p': 0.4, 'f': 0.3999999950000001}, 'rouge-2': {'r': 0.2222222222222222, 'p': 0.2222222222222222, 'f': 0.22222221722222232}, 'rouge-l': {'r': 0.4, 'p': 0.4, 'f': 0.3999999950000001}}\n",
      "\n",
      "알파카는 어떻게 이미지 캡처를 기반으로 브라우저 상호작용을 수행할 수 있나요?\n",
      "    ⇆ 알파카는 어떤 기능을 제공하나요?\n",
      "   {'rouge-1': {'r': 0.25, 'p': 0.1, 'f': 0.14285713877551035}, 'rouge-2': {'r': 0.0, 'p': 0.0, 'f': 0.0}, 'rouge-l': {'r': 0.25, 'p': 0.1, 'f': 0.14285713877551035}}\n",
      "\n",
      "알파카는 어떻게 이미지 캡처를 기반으로 브라우저 상호작용을 수행할 수 있나요?\n",
      "    ⇆ 알파카는 어떻게 사용할 수 있나요?\n",
      "   {'rouge-1': {'r': 0.8, 'p': 0.4, 'f': 0.533333328888889}, 'rouge-2': {'r': 0.5, 'p': 0.2222222222222222, 'f': 0.3076923034319527}, 'rouge-l': {'r': 0.8, 'p': 0.4, 'f': 0.533333328888889}}\n",
      "\n",
      "알파카는 어떻게 이미지 캡처를 기반으로 브라우저 상호작용을 수행할 수 있나요?\n",
      "    ⇆ 알파카는 어떻게 이미지 캡처를 수행할 수 있나요?\n",
      "   {'rouge-1': {'r': 1.0, 'p': 0.7, 'f': 0.8235294069204152}, 'rouge-2': {'r': 0.8333333333333334, 'p': 0.5555555555555556, 'f': 0.6666666618666668}, 'rouge-l': {'r': 1.0, 'p': 0.7, 'f': 0.8235294069204152}}\n",
      "\n",
      "@-----------------------------\n",
      "알파카는 어떻게 이미지 캡처를 기반으로 브라우저 상호작용을 수행할 수 있나요?\n",
      "    ⇆ 알파카는 어떻게 스크롤 검색을 수행할 수 있나요?\n",
      "   {'rouge-1': {'r': 0.7142857142857143, 'p': 0.5, 'f': 0.5882352892733564}, 'rouge-2': {'r': 0.5, 'p': 0.3333333333333333, 'f': 0.39999999520000007}, 'rouge-l': {'r': 0.7142857142857143, 'p': 0.5, 'f': 0.5882352892733564}}\n",
      "\n",
      "알파카는 어떻게 이미지 캡처를 기반으로 브라우저 상호작용을 수행할 수 있나요?\n",
      "    ⇆ 알파카는 어떻게 파이썬 코드를 실행할 수 있나요?\n",
      "   {'rouge-1': {'r': 0.5714285714285714, 'p': 0.4, 'f': 0.470588230449827}, 'rouge-2': {'r': 0.3333333333333333, 'p': 0.2222222222222222, 'f': 0.2666666618666667}, 'rouge-l': {'r': 0.5714285714285714, 'p': 0.4, 'f': 0.470588230449827}}\n",
      "\n",
      "알파카는 어떻게 이미지 캡처를 기반으로 브라우저 상호작용을 수행할 수 있나요?\n",
      "    ⇆ 알파카는 어떻게 브라우저 상호작용을 수행할 수 있나요?\n",
      "   {'rouge-1': {'r': 1.0, 'p': 0.7, 'f': 0.8235294069204152}, 'rouge-2': {'r': 0.8333333333333334, 'p': 0.5555555555555556, 'f': 0.6666666618666668}, 'rouge-l': {'r': 1.0, 'p': 0.7, 'f': 0.8235294069204152}}\n",
      "\n",
      "@-----------------------------\n",
      "알파카는 어떻게 이미지 캡처를 기반으로 브라우저 상호작용을 수행할 수 있나요?\n",
      "    ⇆ 알파카는 어떻게 이미지 캡처를 기반으로 브라우저 상호작용을 수행할 수 있나요?\n",
      "   {'rouge-1': {'r': 1.0, 'p': 1.0, 'f': 0.999999995}, 'rouge-2': {'r': 1.0, 'p': 1.0, 'f': 0.999999995}, 'rouge-l': {'r': 1.0, 'p': 1.0, 'f': 0.999999995}}\n",
      "\n",
      "@-----------------------------\n",
      "알파카는 어떻게 이미지 캡처를 기반으로 브라우저 상호작용을 수행할 수 있나요?\n",
      "    ⇆ 알파카는 어떻게 파이썬 코드를 실행하고 결과를 저장할 수 있나요?\n",
      "   {'rouge-1': {'r': 0.4444444444444444, 'p': 0.4, 'f': 0.42105262659279785}, 'rouge-2': {'r': 0.25, 'p': 0.2222222222222222, 'f': 0.23529411266435996}, 'rouge-l': {'r': 0.4444444444444444, 'p': 0.4, 'f': 0.42105262659279785}}\n",
      "\n",
      "알파카는 어떻게 이미지 캡처를 기반으로 브라우저 상호작용을 수행할 수 있나요?\n",
      "    ⇆ 알파카는 어떻게 브라우저 상호작용을 기반으로 파이썬 코드를 실행할 수 있나요?\n",
      "   {'rouge-1': {'r': 0.7, 'p': 0.7, 'f': 0.699999995}, 'rouge-2': {'r': 0.3333333333333333, 'p': 0.3333333333333333, 'f': 0.3333333283333334}, 'rouge-l': {'r': 0.6, 'p': 0.6, 'f': 0.5999999950000001}}\n",
      "\n",
      "알파카는 어떻게 이미지 캡처를 기반으로 브라우저 상호작용을 수행할 수 있나요?\n",
      "    ⇆ 알파카는 어떻게 다른 서버에서 데이터를 가져와 알파카에 저장할 수 있나요?\n",
      "   {'rouge-1': {'r': 0.4, 'p': 0.4, 'f': 0.3999999950000001}, 'rouge-2': {'r': 0.2222222222222222, 'p': 0.2222222222222222, 'f': 0.22222221722222232}, 'rouge-l': {'r': 0.4, 'p': 0.4, 'f': 0.3999999950000001}}\n",
      "\n",
      "알파카는 어떻게 파이썬 코드를 실행하고 결과를 저장할 수 있나요?\n",
      "    ⇆ 알파카는 어떤 기능을 제공하나요?\n",
      "   {'rouge-1': {'r': 0.25, 'p': 0.1111111111111111, 'f': 0.15384614958579892}, 'rouge-2': {'r': 0.0, 'p': 0.0, 'f': 0.0}, 'rouge-l': {'r': 0.25, 'p': 0.1111111111111111, 'f': 0.15384614958579892}}\n",
      "\n",
      "알파카는 어떻게 파이썬 코드를 실행하고 결과를 저장할 수 있나요?\n",
      "    ⇆ 알파카는 어떻게 사용할 수 있나요?\n",
      "   {'rouge-1': {'r': 0.8, 'p': 0.4444444444444444, 'f': 0.5714285668367348}, 'rouge-2': {'r': 0.5, 'p': 0.25, 'f': 0.33333332888888895}, 'rouge-l': {'r': 0.8, 'p': 0.4444444444444444, 'f': 0.5714285668367348}}\n",
      "\n",
      "알파카는 어떻게 파이썬 코드를 실행하고 결과를 저장할 수 있나요?\n",
      "    ⇆ 알파카는 어떻게 이미지 캡처를 수행할 수 있나요?\n",
      "   {'rouge-1': {'r': 0.5714285714285714, 'p': 0.4444444444444444, 'f': 0.4999999950781251}, 'rouge-2': {'r': 0.3333333333333333, 'p': 0.25, 'f': 0.2857142808163266}, 'rouge-l': {'r': 0.5714285714285714, 'p': 0.4444444444444444, 'f': 0.4999999950781251}}\n",
      "\n",
      "알파카는 어떻게 파이썬 코드를 실행하고 결과를 저장할 수 있나요?\n",
      "    ⇆ 알파카는 어떻게 스크롤 검색을 수행할 수 있나요?\n",
      "   {'rouge-1': {'r': 0.5714285714285714, 'p': 0.4444444444444444, 'f': 0.4999999950781251}, 'rouge-2': {'r': 0.3333333333333333, 'p': 0.25, 'f': 0.2857142808163266}, 'rouge-l': {'r': 0.5714285714285714, 'p': 0.4444444444444444, 'f': 0.4999999950781251}}\n",
      "\n",
      "알파카는 어떻게 파이썬 코드를 실행하고 결과를 저장할 수 있나요?\n",
      "    ⇆ 알파카는 어떻게 파이썬 코드를 실행할 수 있나요?\n",
      "   {'rouge-1': {'r': 0.8571428571428571, 'p': 0.6666666666666666, 'f': 0.7499999950781251}, 'rouge-2': {'r': 0.6666666666666666, 'p': 0.5, 'f': 0.5714285665306124}, 'rouge-l': {'r': 0.8571428571428571, 'p': 0.6666666666666666, 'f': 0.7499999950781251}}\n",
      "\n",
      "알파카는 어떻게 파이썬 코드를 실행하고 결과를 저장할 수 있나요?\n",
      "    ⇆ 알파카는 어떻게 브라우저 상호작용을 수행할 수 있나요?\n",
      "   {'rouge-1': {'r': 0.5714285714285714, 'p': 0.4444444444444444, 'f': 0.4999999950781251}, 'rouge-2': {'r': 0.3333333333333333, 'p': 0.25, 'f': 0.2857142808163266}, 'rouge-l': {'r': 0.5714285714285714, 'p': 0.4444444444444444, 'f': 0.4999999950781251}}\n",
      "\n",
      "알파카는 어떻게 파이썬 코드를 실행하고 결과를 저장할 수 있나요?\n",
      "    ⇆ 알파카는 어떻게 이미지 캡처를 기반으로 브라우저 상호작용을 수행할 수 있나요?\n",
      "   {'rouge-1': {'r': 0.4, 'p': 0.4444444444444444, 'f': 0.42105262659279785}, 'rouge-2': {'r': 0.2222222222222222, 'p': 0.25, 'f': 0.23529411266435996}, 'rouge-l': {'r': 0.4, 'p': 0.4444444444444444, 'f': 0.42105262659279785}}\n",
      "\n",
      "알파카는 어떻게 파이썬 코드를 실행하고 결과를 저장할 수 있나요?\n",
      "    ⇆ 알파카는 어떻게 브라우저 상호작용을 기반으로 파이썬 코드를 실행할 수 있나요?\n",
      "   {'rouge-1': {'r': 0.6, 'p': 0.6666666666666666, 'f': 0.6315789423822715}, 'rouge-2': {'r': 0.3333333333333333, 'p': 0.375, 'f': 0.35294117148788934}, 'rouge-l': {'r': 0.6, 'p': 0.6666666666666666, 'f': 0.6315789423822715}}\n",
      "\n",
      "알파카는 어떻게 파이썬 코드를 실행하고 결과를 저장할 수 있나요?\n",
      "    ⇆ 알파카는 어떻게 다른 서버에서 데이터를 가져와 알파카에 저장할 수 있나요?\n",
      "   {'rouge-1': {'r': 0.5, 'p': 0.5555555555555556, 'f': 0.5263157844875347}, 'rouge-2': {'r': 0.3333333333333333, 'p': 0.375, 'f': 0.35294117148788934}, 'rouge-l': {'r': 0.5, 'p': 0.5555555555555556, 'f': 0.5263157844875347}}\n",
      "\n",
      "알파카는 어떻게 파이썬 코드를 실행하고 결과를 저장할 수 있나요?\n",
      "    ⇆ 알파카는 어떤 기능을 제공하나요?\n",
      "   {'rouge-1': {'r': 0.25, 'p': 0.1111111111111111, 'f': 0.15384614958579892}, 'rouge-2': {'r': 0.0, 'p': 0.0, 'f': 0.0}, 'rouge-l': {'r': 0.25, 'p': 0.1111111111111111, 'f': 0.15384614958579892}}\n",
      "\n",
      "알파카는 어떻게 파이썬 코드를 실행하고 결과를 저장할 수 있나요?\n",
      "    ⇆ 알파카는 어떻게 사용할 수 있나요?\n",
      "   {'rouge-1': {'r': 0.8, 'p': 0.4444444444444444, 'f': 0.5714285668367348}, 'rouge-2': {'r': 0.5, 'p': 0.25, 'f': 0.33333332888888895}, 'rouge-l': {'r': 0.8, 'p': 0.4444444444444444, 'f': 0.5714285668367348}}\n",
      "\n",
      "알파카는 어떻게 파이썬 코드를 실행하고 결과를 저장할 수 있나요?\n",
      "    ⇆ 알파카는 어떻게 이미지 캡처를 수행할 수 있나요?\n",
      "   {'rouge-1': {'r': 0.5714285714285714, 'p': 0.4444444444444444, 'f': 0.4999999950781251}, 'rouge-2': {'r': 0.3333333333333333, 'p': 0.25, 'f': 0.2857142808163266}, 'rouge-l': {'r': 0.5714285714285714, 'p': 0.4444444444444444, 'f': 0.4999999950781251}}\n",
      "\n",
      "알파카는 어떻게 파이썬 코드를 실행하고 결과를 저장할 수 있나요?\n",
      "    ⇆ 알파카는 어떻게 스크롤 검색을 수행할 수 있나요?\n",
      "   {'rouge-1': {'r': 0.5714285714285714, 'p': 0.4444444444444444, 'f': 0.4999999950781251}, 'rouge-2': {'r': 0.3333333333333333, 'p': 0.25, 'f': 0.2857142808163266}, 'rouge-l': {'r': 0.5714285714285714, 'p': 0.4444444444444444, 'f': 0.4999999950781251}}\n",
      "\n",
      "알파카는 어떻게 파이썬 코드를 실행하고 결과를 저장할 수 있나요?\n",
      "    ⇆ 알파카는 어떻게 파이썬 코드를 실행할 수 있나요?\n",
      "   {'rouge-1': {'r': 0.8571428571428571, 'p': 0.6666666666666666, 'f': 0.7499999950781251}, 'rouge-2': {'r': 0.6666666666666666, 'p': 0.5, 'f': 0.5714285665306124}, 'rouge-l': {'r': 0.8571428571428571, 'p': 0.6666666666666666, 'f': 0.7499999950781251}}\n",
      "\n",
      "알파카는 어떻게 파이썬 코드를 실행하고 결과를 저장할 수 있나요?\n",
      "    ⇆ 알파카는 어떻게 브라우저 상호작용을 수행할 수 있나요?\n",
      "   {'rouge-1': {'r': 0.5714285714285714, 'p': 0.4444444444444444, 'f': 0.4999999950781251}, 'rouge-2': {'r': 0.3333333333333333, 'p': 0.25, 'f': 0.2857142808163266}, 'rouge-l': {'r': 0.5714285714285714, 'p': 0.4444444444444444, 'f': 0.4999999950781251}}\n",
      "\n",
      "알파카는 어떻게 파이썬 코드를 실행하고 결과를 저장할 수 있나요?\n",
      "    ⇆ 알파카는 어떻게 이미지 캡처를 기반으로 브라우저 상호작용을 수행할 수 있나요?\n",
      "   {'rouge-1': {'r': 0.4, 'p': 0.4444444444444444, 'f': 0.42105262659279785}, 'rouge-2': {'r': 0.2222222222222222, 'p': 0.25, 'f': 0.23529411266435996}, 'rouge-l': {'r': 0.4, 'p': 0.4444444444444444, 'f': 0.42105262659279785}}\n",
      "\n",
      "알파카는 어떻게 파이썬 코드를 실행하고 결과를 저장할 수 있나요?\n",
      "    ⇆ 알파카는 어떻게 파이썬 코드를 실행하고 결과를 저장할 수 있나요?\n",
      "   {'rouge-1': {'r': 1.0, 'p': 1.0, 'f': 0.999999995}, 'rouge-2': {'r': 1.0, 'p': 1.0, 'f': 0.999999995}, 'rouge-l': {'r': 1.0, 'p': 1.0, 'f': 0.999999995}}\n",
      "\n",
      "@-----------------------------\n",
      "알파카는 어떻게 파이썬 코드를 실행하고 결과를 저장할 수 있나요?\n",
      "    ⇆ 알파카는 어떻게 브라우저 상호작용을 기반으로 파이썬 코드를 실행할 수 있나요?\n",
      "   {'rouge-1': {'r': 0.6, 'p': 0.6666666666666666, 'f': 0.6315789423822715}, 'rouge-2': {'r': 0.3333333333333333, 'p': 0.375, 'f': 0.35294117148788934}, 'rouge-l': {'r': 0.6, 'p': 0.6666666666666666, 'f': 0.6315789423822715}}\n",
      "\n",
      "알파카는 어떻게 파이썬 코드를 실행하고 결과를 저장할 수 있나요?\n",
      "    ⇆ 알파카는 어떻게 다른 서버에서 데이터를 가져와 알파카에 저장할 수 있나요?\n",
      "   {'rouge-1': {'r': 0.5, 'p': 0.5555555555555556, 'f': 0.5263157844875347}, 'rouge-2': {'r': 0.3333333333333333, 'p': 0.375, 'f': 0.35294117148788934}, 'rouge-l': {'r': 0.5, 'p': 0.5555555555555556, 'f': 0.5263157844875347}}\n",
      "\n",
      "알파카는 어떻게 브라우저 상호작용을 기반으로 파이썬 코드를 실행할 수 있나요?\n",
      "    ⇆ 알파카는 어떤 기능을 제공하나요?\n",
      "   {'rouge-1': {'r': 0.25, 'p': 0.1, 'f': 0.14285713877551035}, 'rouge-2': {'r': 0.0, 'p': 0.0, 'f': 0.0}, 'rouge-l': {'r': 0.25, 'p': 0.1, 'f': 0.14285713877551035}}\n",
      "\n",
      "알파카는 어떻게 브라우저 상호작용을 기반으로 파이썬 코드를 실행할 수 있나요?\n",
      "    ⇆ 알파카는 어떻게 사용할 수 있나요?\n",
      "   {'rouge-1': {'r': 0.8, 'p': 0.4, 'f': 0.533333328888889}, 'rouge-2': {'r': 0.5, 'p': 0.2222222222222222, 'f': 0.3076923034319527}, 'rouge-l': {'r': 0.8, 'p': 0.4, 'f': 0.533333328888889}}\n",
      "\n",
      "알파카는 어떻게 브라우저 상호작용을 기반으로 파이썬 코드를 실행할 수 있나요?\n",
      "    ⇆ 알파카는 어떻게 이미지 캡처를 수행할 수 있나요?\n",
      "   {'rouge-1': {'r': 0.5714285714285714, 'p': 0.4, 'f': 0.470588230449827}, 'rouge-2': {'r': 0.3333333333333333, 'p': 0.2222222222222222, 'f': 0.2666666618666667}, 'rouge-l': {'r': 0.5714285714285714, 'p': 0.4, 'f': 0.470588230449827}}\n",
      "\n",
      "알파카는 어떻게 브라우저 상호작용을 기반으로 파이썬 코드를 실행할 수 있나요?\n",
      "    ⇆ 알파카는 어떻게 스크롤 검색을 수행할 수 있나요?\n",
      "   {'rouge-1': {'r': 0.5714285714285714, 'p': 0.4, 'f': 0.470588230449827}, 'rouge-2': {'r': 0.3333333333333333, 'p': 0.2222222222222222, 'f': 0.2666666618666667}, 'rouge-l': {'r': 0.5714285714285714, 'p': 0.4, 'f': 0.470588230449827}}\n",
      "\n",
      "알파카는 어떻게 브라우저 상호작용을 기반으로 파이썬 코드를 실행할 수 있나요?\n",
      "    ⇆ 알파카는 어떻게 파이썬 코드를 실행할 수 있나요?\n",
      "   {'rouge-1': {'r': 1.0, 'p': 0.7, 'f': 0.8235294069204152}, 'rouge-2': {'r': 0.8333333333333334, 'p': 0.5555555555555556, 'f': 0.6666666618666668}, 'rouge-l': {'r': 1.0, 'p': 0.7, 'f': 0.8235294069204152}}\n",
      "\n",
      "@-----------------------------\n",
      "알파카는 어떻게 브라우저 상호작용을 기반으로 파이썬 코드를 실행할 수 있나요?\n",
      "    ⇆ 알파카는 어떻게 브라우저 상호작용을 수행할 수 있나요?\n",
      "   {'rouge-1': {'r': 0.8571428571428571, 'p': 0.6, 'f': 0.7058823480968859}, 'rouge-2': {'r': 0.6666666666666666, 'p': 0.4444444444444444, 'f': 0.5333333285333334}, 'rouge-l': {'r': 0.8571428571428571, 'p': 0.6, 'f': 0.7058823480968859}}\n",
      "\n",
      "알파카는 어떻게 브라우저 상호작용을 기반으로 파이썬 코드를 실행할 수 있나요?\n",
      "    ⇆ 알파카는 어떻게 이미지 캡처를 기반으로 브라우저 상호작용을 수행할 수 있나요?\n",
      "   {'rouge-1': {'r': 0.7, 'p': 0.7, 'f': 0.699999995}, 'rouge-2': {'r': 0.3333333333333333, 'p': 0.3333333333333333, 'f': 0.3333333283333334}, 'rouge-l': {'r': 0.6, 'p': 0.6, 'f': 0.5999999950000001}}\n",
      "\n",
      "알파카는 어떻게 브라우저 상호작용을 기반으로 파이썬 코드를 실행할 수 있나요?\n",
      "    ⇆ 알파카는 어떻게 파이썬 코드를 실행하고 결과를 저장할 수 있나요?\n",
      "   {'rouge-1': {'r': 0.6666666666666666, 'p': 0.6, 'f': 0.6315789423822715}, 'rouge-2': {'r': 0.375, 'p': 0.3333333333333333, 'f': 0.35294117148788934}, 'rouge-l': {'r': 0.6666666666666666, 'p': 0.6, 'f': 0.6315789423822715}}\n",
      "\n",
      "알파카는 어떻게 브라우저 상호작용을 기반으로 파이썬 코드를 실행할 수 있나요?\n",
      "    ⇆ 알파카는 어떻게 다른 서버에서 데이터를 가져와 알파카에 저장할 수 있나요?\n",
      "   {'rouge-1': {'r': 0.4, 'p': 0.4, 'f': 0.3999999950000001}, 'rouge-2': {'r': 0.2222222222222222, 'p': 0.2222222222222222, 'f': 0.22222221722222232}, 'rouge-l': {'r': 0.4, 'p': 0.4, 'f': 0.3999999950000001}}\n",
      "\n",
      "알파카는 어떻게 브라우저 상호작용을 기반으로 파이썬 코드를 실행할 수 있나요?\n",
      "    ⇆ 알파카는 어떤 기능을 제공하나요?\n",
      "   {'rouge-1': {'r': 0.25, 'p': 0.1, 'f': 0.14285713877551035}, 'rouge-2': {'r': 0.0, 'p': 0.0, 'f': 0.0}, 'rouge-l': {'r': 0.25, 'p': 0.1, 'f': 0.14285713877551035}}\n",
      "\n",
      "알파카는 어떻게 브라우저 상호작용을 기반으로 파이썬 코드를 실행할 수 있나요?\n",
      "    ⇆ 알파카는 어떻게 사용할 수 있나요?\n",
      "   {'rouge-1': {'r': 0.8, 'p': 0.4, 'f': 0.533333328888889}, 'rouge-2': {'r': 0.5, 'p': 0.2222222222222222, 'f': 0.3076923034319527}, 'rouge-l': {'r': 0.8, 'p': 0.4, 'f': 0.533333328888889}}\n",
      "\n",
      "알파카는 어떻게 브라우저 상호작용을 기반으로 파이썬 코드를 실행할 수 있나요?\n",
      "    ⇆ 알파카는 어떻게 이미지 캡처를 수행할 수 있나요?\n",
      "   {'rouge-1': {'r': 0.5714285714285714, 'p': 0.4, 'f': 0.470588230449827}, 'rouge-2': {'r': 0.3333333333333333, 'p': 0.2222222222222222, 'f': 0.2666666618666667}, 'rouge-l': {'r': 0.5714285714285714, 'p': 0.4, 'f': 0.470588230449827}}\n",
      "\n",
      "알파카는 어떻게 브라우저 상호작용을 기반으로 파이썬 코드를 실행할 수 있나요?\n",
      "    ⇆ 알파카는 어떻게 스크롤 검색을 수행할 수 있나요?\n",
      "   {'rouge-1': {'r': 0.5714285714285714, 'p': 0.4, 'f': 0.470588230449827}, 'rouge-2': {'r': 0.3333333333333333, 'p': 0.2222222222222222, 'f': 0.2666666618666667}, 'rouge-l': {'r': 0.5714285714285714, 'p': 0.4, 'f': 0.470588230449827}}\n",
      "\n",
      "알파카는 어떻게 브라우저 상호작용을 기반으로 파이썬 코드를 실행할 수 있나요?\n",
      "    ⇆ 알파카는 어떻게 파이썬 코드를 실행할 수 있나요?\n",
      "   {'rouge-1': {'r': 1.0, 'p': 0.7, 'f': 0.8235294069204152}, 'rouge-2': {'r': 0.8333333333333334, 'p': 0.5555555555555556, 'f': 0.6666666618666668}, 'rouge-l': {'r': 1.0, 'p': 0.7, 'f': 0.8235294069204152}}\n",
      "\n",
      "@-----------------------------\n",
      "알파카는 어떻게 브라우저 상호작용을 기반으로 파이썬 코드를 실행할 수 있나요?\n",
      "    ⇆ 알파카는 어떻게 브라우저 상호작용을 수행할 수 있나요?\n",
      "   {'rouge-1': {'r': 0.8571428571428571, 'p': 0.6, 'f': 0.7058823480968859}, 'rouge-2': {'r': 0.6666666666666666, 'p': 0.4444444444444444, 'f': 0.5333333285333334}, 'rouge-l': {'r': 0.8571428571428571, 'p': 0.6, 'f': 0.7058823480968859}}\n",
      "\n",
      "알파카는 어떻게 브라우저 상호작용을 기반으로 파이썬 코드를 실행할 수 있나요?\n",
      "    ⇆ 알파카는 어떻게 이미지 캡처를 기반으로 브라우저 상호작용을 수행할 수 있나요?\n",
      "   {'rouge-1': {'r': 0.7, 'p': 0.7, 'f': 0.699999995}, 'rouge-2': {'r': 0.3333333333333333, 'p': 0.3333333333333333, 'f': 0.3333333283333334}, 'rouge-l': {'r': 0.6, 'p': 0.6, 'f': 0.5999999950000001}}\n",
      "\n",
      "알파카는 어떻게 브라우저 상호작용을 기반으로 파이썬 코드를 실행할 수 있나요?\n",
      "    ⇆ 알파카는 어떻게 파이썬 코드를 실행하고 결과를 저장할 수 있나요?\n",
      "   {'rouge-1': {'r': 0.6666666666666666, 'p': 0.6, 'f': 0.6315789423822715}, 'rouge-2': {'r': 0.375, 'p': 0.3333333333333333, 'f': 0.35294117148788934}, 'rouge-l': {'r': 0.6666666666666666, 'p': 0.6, 'f': 0.6315789423822715}}\n",
      "\n",
      "알파카는 어떻게 브라우저 상호작용을 기반으로 파이썬 코드를 실행할 수 있나요?\n",
      "    ⇆ 알파카는 어떻게 브라우저 상호작용을 기반으로 파이썬 코드를 실행할 수 있나요?\n",
      "   {'rouge-1': {'r': 1.0, 'p': 1.0, 'f': 0.999999995}, 'rouge-2': {'r': 1.0, 'p': 1.0, 'f': 0.999999995}, 'rouge-l': {'r': 1.0, 'p': 1.0, 'f': 0.999999995}}\n",
      "\n",
      "@-----------------------------\n",
      "알파카는 어떻게 브라우저 상호작용을 기반으로 파이썬 코드를 실행할 수 있나요?\n",
      "    ⇆ 알파카는 어떻게 다른 서버에서 데이터를 가져와 알파카에 저장할 수 있나요?\n",
      "   {'rouge-1': {'r': 0.4, 'p': 0.4, 'f': 0.3999999950000001}, 'rouge-2': {'r': 0.2222222222222222, 'p': 0.2222222222222222, 'f': 0.22222221722222232}, 'rouge-l': {'r': 0.4, 'p': 0.4, 'f': 0.3999999950000001}}\n",
      "\n",
      "알파카는 어떻게 다른 서버에서 데이터를 가져와 알파카에 저장할 수 있나요?\n",
      "    ⇆ 알파카는 어떤 기능을 제공하나요?\n",
      "   {'rouge-1': {'r': 0.25, 'p': 0.1, 'f': 0.14285713877551035}, 'rouge-2': {'r': 0.0, 'p': 0.0, 'f': 0.0}, 'rouge-l': {'r': 0.25, 'p': 0.1, 'f': 0.14285713877551035}}\n",
      "\n",
      "알파카는 어떻게 다른 서버에서 데이터를 가져와 알파카에 저장할 수 있나요?\n",
      "    ⇆ 알파카는 어떻게 사용할 수 있나요?\n",
      "   {'rouge-1': {'r': 0.8, 'p': 0.4, 'f': 0.533333328888889}, 'rouge-2': {'r': 0.5, 'p': 0.2222222222222222, 'f': 0.3076923034319527}, 'rouge-l': {'r': 0.8, 'p': 0.4, 'f': 0.533333328888889}}\n",
      "\n",
      "알파카는 어떻게 다른 서버에서 데이터를 가져와 알파카에 저장할 수 있나요?\n",
      "    ⇆ 알파카는 어떻게 이미지 캡처를 수행할 수 있나요?\n",
      "   {'rouge-1': {'r': 0.5714285714285714, 'p': 0.4, 'f': 0.470588230449827}, 'rouge-2': {'r': 0.3333333333333333, 'p': 0.2222222222222222, 'f': 0.2666666618666667}, 'rouge-l': {'r': 0.5714285714285714, 'p': 0.4, 'f': 0.470588230449827}}\n",
      "\n",
      "알파카는 어떻게 다른 서버에서 데이터를 가져와 알파카에 저장할 수 있나요?\n",
      "    ⇆ 알파카는 어떻게 스크롤 검색을 수행할 수 있나요?\n",
      "   {'rouge-1': {'r': 0.5714285714285714, 'p': 0.4, 'f': 0.470588230449827}, 'rouge-2': {'r': 0.3333333333333333, 'p': 0.2222222222222222, 'f': 0.2666666618666667}, 'rouge-l': {'r': 0.5714285714285714, 'p': 0.4, 'f': 0.470588230449827}}\n",
      "\n",
      "알파카는 어떻게 다른 서버에서 데이터를 가져와 알파카에 저장할 수 있나요?\n",
      "    ⇆ 알파카는 어떻게 파이썬 코드를 실행할 수 있나요?\n",
      "   {'rouge-1': {'r': 0.5714285714285714, 'p': 0.4, 'f': 0.470588230449827}, 'rouge-2': {'r': 0.3333333333333333, 'p': 0.2222222222222222, 'f': 0.2666666618666667}, 'rouge-l': {'r': 0.5714285714285714, 'p': 0.4, 'f': 0.470588230449827}}\n",
      "\n",
      "알파카는 어떻게 다른 서버에서 데이터를 가져와 알파카에 저장할 수 있나요?\n",
      "    ⇆ 알파카는 어떻게 브라우저 상호작용을 수행할 수 있나요?\n",
      "   {'rouge-1': {'r': 0.5714285714285714, 'p': 0.4, 'f': 0.470588230449827}, 'rouge-2': {'r': 0.3333333333333333, 'p': 0.2222222222222222, 'f': 0.2666666618666667}, 'rouge-l': {'r': 0.5714285714285714, 'p': 0.4, 'f': 0.470588230449827}}\n",
      "\n",
      "알파카는 어떻게 다른 서버에서 데이터를 가져와 알파카에 저장할 수 있나요?\n",
      "    ⇆ 알파카는 어떻게 이미지 캡처를 기반으로 브라우저 상호작용을 수행할 수 있나요?\n",
      "   {'rouge-1': {'r': 0.4, 'p': 0.4, 'f': 0.3999999950000001}, 'rouge-2': {'r': 0.2222222222222222, 'p': 0.2222222222222222, 'f': 0.22222221722222232}, 'rouge-l': {'r': 0.4, 'p': 0.4, 'f': 0.3999999950000001}}\n",
      "\n",
      "알파카는 어떻게 다른 서버에서 데이터를 가져와 알파카에 저장할 수 있나요?\n",
      "    ⇆ 알파카는 어떻게 파이썬 코드를 실행하고 결과를 저장할 수 있나요?\n",
      "   {'rouge-1': {'r': 0.5555555555555556, 'p': 0.5, 'f': 0.5263157844875347}, 'rouge-2': {'r': 0.375, 'p': 0.3333333333333333, 'f': 0.35294117148788934}, 'rouge-l': {'r': 0.5555555555555556, 'p': 0.5, 'f': 0.5263157844875347}}\n",
      "\n",
      "알파카는 어떻게 다른 서버에서 데이터를 가져와 알파카에 저장할 수 있나요?\n",
      "    ⇆ 알파카는 어떻게 브라우저 상호작용을 기반으로 파이썬 코드를 실행할 수 있나요?\n",
      "   {'rouge-1': {'r': 0.4, 'p': 0.4, 'f': 0.3999999950000001}, 'rouge-2': {'r': 0.2222222222222222, 'p': 0.2222222222222222, 'f': 0.22222221722222232}, 'rouge-l': {'r': 0.4, 'p': 0.4, 'f': 0.3999999950000001}}\n",
      "\n",
      "알파카는 어떻게 다른 서버에서 데이터를 가져와 알파카에 저장할 수 있나요?\n",
      "    ⇆ 알파카는 어떤 기능을 제공하나요?\n",
      "   {'rouge-1': {'r': 0.25, 'p': 0.1, 'f': 0.14285713877551035}, 'rouge-2': {'r': 0.0, 'p': 0.0, 'f': 0.0}, 'rouge-l': {'r': 0.25, 'p': 0.1, 'f': 0.14285713877551035}}\n",
      "\n",
      "알파카는 어떻게 다른 서버에서 데이터를 가져와 알파카에 저장할 수 있나요?\n",
      "    ⇆ 알파카는 어떻게 사용할 수 있나요?\n",
      "   {'rouge-1': {'r': 0.8, 'p': 0.4, 'f': 0.533333328888889}, 'rouge-2': {'r': 0.5, 'p': 0.2222222222222222, 'f': 0.3076923034319527}, 'rouge-l': {'r': 0.8, 'p': 0.4, 'f': 0.533333328888889}}\n",
      "\n",
      "알파카는 어떻게 다른 서버에서 데이터를 가져와 알파카에 저장할 수 있나요?\n",
      "    ⇆ 알파카는 어떻게 이미지 캡처를 수행할 수 있나요?\n",
      "   {'rouge-1': {'r': 0.5714285714285714, 'p': 0.4, 'f': 0.470588230449827}, 'rouge-2': {'r': 0.3333333333333333, 'p': 0.2222222222222222, 'f': 0.2666666618666667}, 'rouge-l': {'r': 0.5714285714285714, 'p': 0.4, 'f': 0.470588230449827}}\n",
      "\n",
      "알파카는 어떻게 다른 서버에서 데이터를 가져와 알파카에 저장할 수 있나요?\n",
      "    ⇆ 알파카는 어떻게 스크롤 검색을 수행할 수 있나요?\n",
      "   {'rouge-1': {'r': 0.5714285714285714, 'p': 0.4, 'f': 0.470588230449827}, 'rouge-2': {'r': 0.3333333333333333, 'p': 0.2222222222222222, 'f': 0.2666666618666667}, 'rouge-l': {'r': 0.5714285714285714, 'p': 0.4, 'f': 0.470588230449827}}\n",
      "\n",
      "알파카는 어떻게 다른 서버에서 데이터를 가져와 알파카에 저장할 수 있나요?\n",
      "    ⇆ 알파카는 어떻게 파이썬 코드를 실행할 수 있나요?\n",
      "   {'rouge-1': {'r': 0.5714285714285714, 'p': 0.4, 'f': 0.470588230449827}, 'rouge-2': {'r': 0.3333333333333333, 'p': 0.2222222222222222, 'f': 0.2666666618666667}, 'rouge-l': {'r': 0.5714285714285714, 'p': 0.4, 'f': 0.470588230449827}}\n",
      "\n",
      "알파카는 어떻게 다른 서버에서 데이터를 가져와 알파카에 저장할 수 있나요?\n",
      "    ⇆ 알파카는 어떻게 브라우저 상호작용을 수행할 수 있나요?\n",
      "   {'rouge-1': {'r': 0.5714285714285714, 'p': 0.4, 'f': 0.470588230449827}, 'rouge-2': {'r': 0.3333333333333333, 'p': 0.2222222222222222, 'f': 0.2666666618666667}, 'rouge-l': {'r': 0.5714285714285714, 'p': 0.4, 'f': 0.470588230449827}}\n",
      "\n",
      "알파카는 어떻게 다른 서버에서 데이터를 가져와 알파카에 저장할 수 있나요?\n",
      "    ⇆ 알파카는 어떻게 이미지 캡처를 기반으로 브라우저 상호작용을 수행할 수 있나요?\n",
      "   {'rouge-1': {'r': 0.4, 'p': 0.4, 'f': 0.3999999950000001}, 'rouge-2': {'r': 0.2222222222222222, 'p': 0.2222222222222222, 'f': 0.22222221722222232}, 'rouge-l': {'r': 0.4, 'p': 0.4, 'f': 0.3999999950000001}}\n",
      "\n",
      "알파카는 어떻게 다른 서버에서 데이터를 가져와 알파카에 저장할 수 있나요?\n",
      "    ⇆ 알파카는 어떻게 파이썬 코드를 실행하고 결과를 저장할 수 있나요?\n",
      "   {'rouge-1': {'r': 0.5555555555555556, 'p': 0.5, 'f': 0.5263157844875347}, 'rouge-2': {'r': 0.375, 'p': 0.3333333333333333, 'f': 0.35294117148788934}, 'rouge-l': {'r': 0.5555555555555556, 'p': 0.5, 'f': 0.5263157844875347}}\n",
      "\n",
      "알파카는 어떻게 다른 서버에서 데이터를 가져와 알파카에 저장할 수 있나요?\n",
      "    ⇆ 알파카는 어떻게 브라우저 상호작용을 기반으로 파이썬 코드를 실행할 수 있나요?\n",
      "   {'rouge-1': {'r': 0.4, 'p': 0.4, 'f': 0.3999999950000001}, 'rouge-2': {'r': 0.2222222222222222, 'p': 0.2222222222222222, 'f': 0.22222221722222232}, 'rouge-l': {'r': 0.4, 'p': 0.4, 'f': 0.3999999950000001}}\n",
      "\n",
      "알파카는 어떻게 다른 서버에서 데이터를 가져와 알파카에 저장할 수 있나요?\n",
      "    ⇆ 알파카는 어떻게 다른 서버에서 데이터를 가져와 알파카에 저장할 수 있나요?\n",
      "   {'rouge-1': {'r': 1.0, 'p': 1.0, 'f': 0.999999995}, 'rouge-2': {'r': 1.0, 'p': 1.0, 'f': 0.999999995}, 'rouge-l': {'r': 1.0, 'p': 1.0, 'f': 0.999999995}}\n",
      "\n",
      "@-----------------------------\n",
      "알파카는 어떤 기능을 제공하나요?\n",
      "    ⇆ 알파카는 어떤 기능을 제공하나요?\n",
      "   {'rouge-1': {'r': 1.0, 'p': 1.0, 'f': 0.999999995}, 'rouge-2': {'r': 1.0, 'p': 1.0, 'f': 0.999999995}, 'rouge-l': {'r': 1.0, 'p': 1.0, 'f': 0.999999995}}\n",
      "\n",
      "@-----------------------------\n",
      "알파카는 어떤 기능을 제공하나요?\n",
      "    ⇆ 알파카는 어떻게 사용할 수 있나요?\n",
      "   {'rouge-1': {'r': 0.2, 'p': 0.25, 'f': 0.22222221728395072}, 'rouge-2': {'r': 0.0, 'p': 0.0, 'f': 0.0}, 'rouge-l': {'r': 0.2, 'p': 0.25, 'f': 0.22222221728395072}}\n",
      "\n",
      "알파카는 어떤 기능을 제공하나요?\n",
      "    ⇆ 알파카는 어떻게 이미지 캡처를 수행할 수 있나요?\n",
      "   {'rouge-1': {'r': 0.14285714285714285, 'p': 0.25, 'f': 0.18181817719008275}, 'rouge-2': {'r': 0.0, 'p': 0.0, 'f': 0.0}, 'rouge-l': {'r': 0.14285714285714285, 'p': 0.25, 'f': 0.18181817719008275}}\n",
      "\n",
      "알파카는 어떤 기능을 제공하나요?\n",
      "    ⇆ 알파카는 어떻게 스크롤 검색을 수행할 수 있나요?\n",
      "   {'rouge-1': {'r': 0.14285714285714285, 'p': 0.25, 'f': 0.18181817719008275}, 'rouge-2': {'r': 0.0, 'p': 0.0, 'f': 0.0}, 'rouge-l': {'r': 0.14285714285714285, 'p': 0.25, 'f': 0.18181817719008275}}\n",
      "\n",
      "알파카는 어떤 기능을 제공하나요?\n",
      "    ⇆ 알파카는 어떻게 파이썬 코드를 실행할 수 있나요?\n",
      "   {'rouge-1': {'r': 0.14285714285714285, 'p': 0.25, 'f': 0.18181817719008275}, 'rouge-2': {'r': 0.0, 'p': 0.0, 'f': 0.0}, 'rouge-l': {'r': 0.14285714285714285, 'p': 0.25, 'f': 0.18181817719008275}}\n",
      "\n",
      "알파카는 어떤 기능을 제공하나요?\n",
      "    ⇆ 알파카는 어떻게 브라우저 상호작용을 수행할 수 있나요?\n",
      "   {'rouge-1': {'r': 0.14285714285714285, 'p': 0.25, 'f': 0.18181817719008275}, 'rouge-2': {'r': 0.0, 'p': 0.0, 'f': 0.0}, 'rouge-l': {'r': 0.14285714285714285, 'p': 0.25, 'f': 0.18181817719008275}}\n",
      "\n",
      "알파카는 어떤 기능을 제공하나요?\n",
      "    ⇆ 알파카는 어떻게 이미지 캡처를 기반으로 브라우저 상호작용을 수행할 수 있나요?\n",
      "   {'rouge-1': {'r': 0.1, 'p': 0.25, 'f': 0.14285713877551035}, 'rouge-2': {'r': 0.0, 'p': 0.0, 'f': 0.0}, 'rouge-l': {'r': 0.1, 'p': 0.25, 'f': 0.14285713877551035}}\n",
      "\n",
      "알파카는 어떤 기능을 제공하나요?\n",
      "    ⇆ 알파카는 어떻게 파이썬 코드를 실행하고 결과를 저장할 수 있나요?\n",
      "   {'rouge-1': {'r': 0.1111111111111111, 'p': 0.25, 'f': 0.15384614958579892}, 'rouge-2': {'r': 0.0, 'p': 0.0, 'f': 0.0}, 'rouge-l': {'r': 0.1111111111111111, 'p': 0.25, 'f': 0.15384614958579892}}\n",
      "\n",
      "알파카는 어떤 기능을 제공하나요?\n",
      "    ⇆ 알파카는 어떻게 브라우저 상호작용을 기반으로 파이썬 코드를 실행할 수 있나요?\n",
      "   {'rouge-1': {'r': 0.1, 'p': 0.25, 'f': 0.14285713877551035}, 'rouge-2': {'r': 0.0, 'p': 0.0, 'f': 0.0}, 'rouge-l': {'r': 0.1, 'p': 0.25, 'f': 0.14285713877551035}}\n",
      "\n",
      "알파카는 어떤 기능을 제공하나요?\n",
      "    ⇆ 알파카는 어떻게 다른 서버에서 데이터를 가져와 알파카에 저장할 수 있나요?\n",
      "   {'rouge-1': {'r': 0.1, 'p': 0.25, 'f': 0.14285713877551035}, 'rouge-2': {'r': 0.0, 'p': 0.0, 'f': 0.0}, 'rouge-l': {'r': 0.1, 'p': 0.25, 'f': 0.14285713877551035}}\n",
      "\n",
      "알파카는 어떤 기능을 제공하나요?\n",
      "    ⇆ 알파카는 어떻게 사용할 수 있나요?\n",
      "   {'rouge-1': {'r': 0.2, 'p': 0.25, 'f': 0.22222221728395072}, 'rouge-2': {'r': 0.0, 'p': 0.0, 'f': 0.0}, 'rouge-l': {'r': 0.2, 'p': 0.25, 'f': 0.22222221728395072}}\n",
      "\n",
      "알파카는 어떤 기능을 제공하나요?\n",
      "    ⇆ 알파카는 어떻게 이미지 캡처를 수행할 수 있나요?\n",
      "   {'rouge-1': {'r': 0.14285714285714285, 'p': 0.25, 'f': 0.18181817719008275}, 'rouge-2': {'r': 0.0, 'p': 0.0, 'f': 0.0}, 'rouge-l': {'r': 0.14285714285714285, 'p': 0.25, 'f': 0.18181817719008275}}\n",
      "\n",
      "알파카는 어떤 기능을 제공하나요?\n",
      "    ⇆ 알파카는 어떻게 스크롤 검색을 수행할 수 있나요?\n",
      "   {'rouge-1': {'r': 0.14285714285714285, 'p': 0.25, 'f': 0.18181817719008275}, 'rouge-2': {'r': 0.0, 'p': 0.0, 'f': 0.0}, 'rouge-l': {'r': 0.14285714285714285, 'p': 0.25, 'f': 0.18181817719008275}}\n",
      "\n",
      "알파카는 어떤 기능을 제공하나요?\n",
      "    ⇆ 알파카는 어떻게 파이썬 코드를 실행할 수 있나요?\n",
      "   {'rouge-1': {'r': 0.14285714285714285, 'p': 0.25, 'f': 0.18181817719008275}, 'rouge-2': {'r': 0.0, 'p': 0.0, 'f': 0.0}, 'rouge-l': {'r': 0.14285714285714285, 'p': 0.25, 'f': 0.18181817719008275}}\n",
      "\n",
      "알파카는 어떤 기능을 제공하나요?\n",
      "    ⇆ 알파카는 어떻게 브라우저 상호작용을 수행할 수 있나요?\n",
      "   {'rouge-1': {'r': 0.14285714285714285, 'p': 0.25, 'f': 0.18181817719008275}, 'rouge-2': {'r': 0.0, 'p': 0.0, 'f': 0.0}, 'rouge-l': {'r': 0.14285714285714285, 'p': 0.25, 'f': 0.18181817719008275}}\n",
      "\n",
      "알파카는 어떤 기능을 제공하나요?\n",
      "    ⇆ 알파카는 어떻게 이미지 캡처를 기반으로 브라우저 상호작용을 수행할 수 있나요?\n",
      "   {'rouge-1': {'r': 0.1, 'p': 0.25, 'f': 0.14285713877551035}, 'rouge-2': {'r': 0.0, 'p': 0.0, 'f': 0.0}, 'rouge-l': {'r': 0.1, 'p': 0.25, 'f': 0.14285713877551035}}\n",
      "\n",
      "알파카는 어떤 기능을 제공하나요?\n",
      "    ⇆ 알파카는 어떻게 파이썬 코드를 실행하고 결과를 저장할 수 있나요?\n",
      "   {'rouge-1': {'r': 0.1111111111111111, 'p': 0.25, 'f': 0.15384614958579892}, 'rouge-2': {'r': 0.0, 'p': 0.0, 'f': 0.0}, 'rouge-l': {'r': 0.1111111111111111, 'p': 0.25, 'f': 0.15384614958579892}}\n",
      "\n",
      "알파카는 어떤 기능을 제공하나요?\n",
      "    ⇆ 알파카는 어떻게 브라우저 상호작용을 기반으로 파이썬 코드를 실행할 수 있나요?\n",
      "   {'rouge-1': {'r': 0.1, 'p': 0.25, 'f': 0.14285713877551035}, 'rouge-2': {'r': 0.0, 'p': 0.0, 'f': 0.0}, 'rouge-l': {'r': 0.1, 'p': 0.25, 'f': 0.14285713877551035}}\n",
      "\n",
      "알파카는 어떤 기능을 제공하나요?\n",
      "    ⇆ 알파카는 어떻게 다른 서버에서 데이터를 가져와 알파카에 저장할 수 있나요?\n",
      "   {'rouge-1': {'r': 0.1, 'p': 0.25, 'f': 0.14285713877551035}, 'rouge-2': {'r': 0.0, 'p': 0.0, 'f': 0.0}, 'rouge-l': {'r': 0.1, 'p': 0.25, 'f': 0.14285713877551035}}\n",
      "\n",
      "알파카는 어떻게 사용할 수 있나요?\n",
      "    ⇆ 알파카는 어떤 기능을 제공하나요?\n",
      "   {'rouge-1': {'r': 0.25, 'p': 0.2, 'f': 0.22222221728395072}, 'rouge-2': {'r': 0.0, 'p': 0.0, 'f': 0.0}, 'rouge-l': {'r': 0.25, 'p': 0.2, 'f': 0.22222221728395072}}\n",
      "\n",
      "알파카는 어떻게 사용할 수 있나요?\n",
      "    ⇆ 알파카는 어떻게 사용할 수 있나요?\n",
      "   {'rouge-1': {'r': 1.0, 'p': 1.0, 'f': 0.999999995}, 'rouge-2': {'r': 1.0, 'p': 1.0, 'f': 0.999999995}, 'rouge-l': {'r': 1.0, 'p': 1.0, 'f': 0.999999995}}\n",
      "\n",
      "@-----------------------------\n",
      "알파카는 어떻게 사용할 수 있나요?\n",
      "    ⇆ 알파카는 어떻게 이미지 캡처를 수행할 수 있나요?\n",
      "   {'rouge-1': {'r': 0.5714285714285714, 'p': 0.8, 'f': 0.6666666618055556}, 'rouge-2': {'r': 0.3333333333333333, 'p': 0.5, 'f': 0.39999999520000007}, 'rouge-l': {'r': 0.5714285714285714, 'p': 0.8, 'f': 0.6666666618055556}}\n",
      "\n",
      "알파카는 어떻게 사용할 수 있나요?\n",
      "    ⇆ 알파카는 어떻게 스크롤 검색을 수행할 수 있나요?\n",
      "   {'rouge-1': {'r': 0.5714285714285714, 'p': 0.8, 'f': 0.6666666618055556}, 'rouge-2': {'r': 0.3333333333333333, 'p': 0.5, 'f': 0.39999999520000007}, 'rouge-l': {'r': 0.5714285714285714, 'p': 0.8, 'f': 0.6666666618055556}}\n",
      "\n",
      "알파카는 어떻게 사용할 수 있나요?\n",
      "    ⇆ 알파카는 어떻게 파이썬 코드를 실행할 수 있나요?\n",
      "   {'rouge-1': {'r': 0.5714285714285714, 'p': 0.8, 'f': 0.6666666618055556}, 'rouge-2': {'r': 0.3333333333333333, 'p': 0.5, 'f': 0.39999999520000007}, 'rouge-l': {'r': 0.5714285714285714, 'p': 0.8, 'f': 0.6666666618055556}}\n",
      "\n",
      "알파카는 어떻게 사용할 수 있나요?\n",
      "    ⇆ 알파카는 어떻게 브라우저 상호작용을 수행할 수 있나요?\n",
      "   {'rouge-1': {'r': 0.5714285714285714, 'p': 0.8, 'f': 0.6666666618055556}, 'rouge-2': {'r': 0.3333333333333333, 'p': 0.5, 'f': 0.39999999520000007}, 'rouge-l': {'r': 0.5714285714285714, 'p': 0.8, 'f': 0.6666666618055556}}\n",
      "\n",
      "알파카는 어떻게 사용할 수 있나요?\n",
      "    ⇆ 알파카는 어떻게 이미지 캡처를 기반으로 브라우저 상호작용을 수행할 수 있나요?\n",
      "   {'rouge-1': {'r': 0.4, 'p': 0.8, 'f': 0.533333328888889}, 'rouge-2': {'r': 0.2222222222222222, 'p': 0.5, 'f': 0.3076923034319527}, 'rouge-l': {'r': 0.4, 'p': 0.8, 'f': 0.533333328888889}}\n",
      "\n",
      "알파카는 어떻게 사용할 수 있나요?\n",
      "    ⇆ 알파카는 어떻게 파이썬 코드를 실행하고 결과를 저장할 수 있나요?\n",
      "   {'rouge-1': {'r': 0.4444444444444444, 'p': 0.8, 'f': 0.5714285668367348}, 'rouge-2': {'r': 0.25, 'p': 0.5, 'f': 0.33333332888888895}, 'rouge-l': {'r': 0.4444444444444444, 'p': 0.8, 'f': 0.5714285668367348}}\n",
      "\n",
      "알파카는 어떻게 사용할 수 있나요?\n",
      "    ⇆ 알파카는 어떻게 브라우저 상호작용을 기반으로 파이썬 코드를 실행할 수 있나요?\n",
      "   {'rouge-1': {'r': 0.4, 'p': 0.8, 'f': 0.533333328888889}, 'rouge-2': {'r': 0.2222222222222222, 'p': 0.5, 'f': 0.3076923034319527}, 'rouge-l': {'r': 0.4, 'p': 0.8, 'f': 0.533333328888889}}\n",
      "\n",
      "알파카는 어떻게 사용할 수 있나요?\n",
      "    ⇆ 알파카는 어떻게 다른 서버에서 데이터를 가져와 알파카에 저장할 수 있나요?\n",
      "   {'rouge-1': {'r': 0.4, 'p': 0.8, 'f': 0.533333328888889}, 'rouge-2': {'r': 0.2222222222222222, 'p': 0.5, 'f': 0.3076923034319527}, 'rouge-l': {'r': 0.4, 'p': 0.8, 'f': 0.533333328888889}}\n",
      "\n",
      "알파카는 어떻게 사용할 수 있나요?\n",
      "    ⇆ 알파카는 어떤 기능을 제공하나요?\n",
      "   {'rouge-1': {'r': 0.25, 'p': 0.2, 'f': 0.22222221728395072}, 'rouge-2': {'r': 0.0, 'p': 0.0, 'f': 0.0}, 'rouge-l': {'r': 0.25, 'p': 0.2, 'f': 0.22222221728395072}}\n",
      "\n",
      "알파카는 어떻게 사용할 수 있나요?\n",
      "    ⇆ 알파카는 어떻게 이미지 캡처를 수행할 수 있나요?\n",
      "   {'rouge-1': {'r': 0.5714285714285714, 'p': 0.8, 'f': 0.6666666618055556}, 'rouge-2': {'r': 0.3333333333333333, 'p': 0.5, 'f': 0.39999999520000007}, 'rouge-l': {'r': 0.5714285714285714, 'p': 0.8, 'f': 0.6666666618055556}}\n",
      "\n",
      "알파카는 어떻게 사용할 수 있나요?\n",
      "    ⇆ 알파카는 어떻게 스크롤 검색을 수행할 수 있나요?\n",
      "   {'rouge-1': {'r': 0.5714285714285714, 'p': 0.8, 'f': 0.6666666618055556}, 'rouge-2': {'r': 0.3333333333333333, 'p': 0.5, 'f': 0.39999999520000007}, 'rouge-l': {'r': 0.5714285714285714, 'p': 0.8, 'f': 0.6666666618055556}}\n",
      "\n",
      "알파카는 어떻게 사용할 수 있나요?\n",
      "    ⇆ 알파카는 어떻게 파이썬 코드를 실행할 수 있나요?\n",
      "   {'rouge-1': {'r': 0.5714285714285714, 'p': 0.8, 'f': 0.6666666618055556}, 'rouge-2': {'r': 0.3333333333333333, 'p': 0.5, 'f': 0.39999999520000007}, 'rouge-l': {'r': 0.5714285714285714, 'p': 0.8, 'f': 0.6666666618055556}}\n",
      "\n",
      "알파카는 어떻게 사용할 수 있나요?\n",
      "    ⇆ 알파카는 어떻게 브라우저 상호작용을 수행할 수 있나요?\n",
      "   {'rouge-1': {'r': 0.5714285714285714, 'p': 0.8, 'f': 0.6666666618055556}, 'rouge-2': {'r': 0.3333333333333333, 'p': 0.5, 'f': 0.39999999520000007}, 'rouge-l': {'r': 0.5714285714285714, 'p': 0.8, 'f': 0.6666666618055556}}\n",
      "\n",
      "알파카는 어떻게 사용할 수 있나요?\n",
      "    ⇆ 알파카는 어떻게 이미지 캡처를 기반으로 브라우저 상호작용을 수행할 수 있나요?\n",
      "   {'rouge-1': {'r': 0.4, 'p': 0.8, 'f': 0.533333328888889}, 'rouge-2': {'r': 0.2222222222222222, 'p': 0.5, 'f': 0.3076923034319527}, 'rouge-l': {'r': 0.4, 'p': 0.8, 'f': 0.533333328888889}}\n",
      "\n",
      "알파카는 어떻게 사용할 수 있나요?\n",
      "    ⇆ 알파카는 어떻게 파이썬 코드를 실행하고 결과를 저장할 수 있나요?\n",
      "   {'rouge-1': {'r': 0.4444444444444444, 'p': 0.8, 'f': 0.5714285668367348}, 'rouge-2': {'r': 0.25, 'p': 0.5, 'f': 0.33333332888888895}, 'rouge-l': {'r': 0.4444444444444444, 'p': 0.8, 'f': 0.5714285668367348}}\n",
      "\n",
      "알파카는 어떻게 사용할 수 있나요?\n",
      "    ⇆ 알파카는 어떻게 브라우저 상호작용을 기반으로 파이썬 코드를 실행할 수 있나요?\n",
      "   {'rouge-1': {'r': 0.4, 'p': 0.8, 'f': 0.533333328888889}, 'rouge-2': {'r': 0.2222222222222222, 'p': 0.5, 'f': 0.3076923034319527}, 'rouge-l': {'r': 0.4, 'p': 0.8, 'f': 0.533333328888889}}\n",
      "\n",
      "알파카는 어떻게 사용할 수 있나요?\n",
      "    ⇆ 알파카는 어떻게 다른 서버에서 데이터를 가져와 알파카에 저장할 수 있나요?\n",
      "   {'rouge-1': {'r': 0.4, 'p': 0.8, 'f': 0.533333328888889}, 'rouge-2': {'r': 0.2222222222222222, 'p': 0.5, 'f': 0.3076923034319527}, 'rouge-l': {'r': 0.4, 'p': 0.8, 'f': 0.533333328888889}}\n",
      "\n",
      "알파카는 어떻게 이미지 캡처를 수행할 수 있나요?\n",
      "    ⇆ 알파카는 어떤 기능을 제공하나요?\n",
      "   {'rouge-1': {'r': 0.25, 'p': 0.14285714285714285, 'f': 0.18181817719008275}, 'rouge-2': {'r': 0.0, 'p': 0.0, 'f': 0.0}, 'rouge-l': {'r': 0.25, 'p': 0.14285714285714285, 'f': 0.18181817719008275}}\n",
      "\n",
      "알파카는 어떻게 이미지 캡처를 수행할 수 있나요?\n",
      "    ⇆ 알파카는 어떻게 사용할 수 있나요?\n",
      "   {'rouge-1': {'r': 0.8, 'p': 0.5714285714285714, 'f': 0.6666666618055556}, 'rouge-2': {'r': 0.5, 'p': 0.3333333333333333, 'f': 0.39999999520000007}, 'rouge-l': {'r': 0.8, 'p': 0.5714285714285714, 'f': 0.6666666618055556}}\n",
      "\n",
      "알파카는 어떻게 이미지 캡처를 수행할 수 있나요?\n",
      "    ⇆ 알파카는 어떻게 이미지 캡처를 수행할 수 있나요?\n",
      "   {'rouge-1': {'r': 1.0, 'p': 1.0, 'f': 0.999999995}, 'rouge-2': {'r': 1.0, 'p': 1.0, 'f': 0.999999995}, 'rouge-l': {'r': 1.0, 'p': 1.0, 'f': 0.999999995}}\n",
      "\n",
      "@-----------------------------\n",
      "알파카는 어떻게 이미지 캡처를 수행할 수 있나요?\n",
      "    ⇆ 알파카는 어떻게 스크롤 검색을 수행할 수 있나요?\n",
      "   {'rouge-1': {'r': 0.7142857142857143, 'p': 0.7142857142857143, 'f': 0.7142857092857143}, 'rouge-2': {'r': 0.5, 'p': 0.5, 'f': 0.4999999950000001}, 'rouge-l': {'r': 0.7142857142857143, 'p': 0.7142857142857143, 'f': 0.7142857092857143}}\n",
      "\n",
      "알파카는 어떻게 이미지 캡처를 수행할 수 있나요?\n",
      "    ⇆ 알파카는 어떻게 파이썬 코드를 실행할 수 있나요?\n",
      "   {'rouge-1': {'r': 0.5714285714285714, 'p': 0.5714285714285714, 'f': 0.5714285664285715}, 'rouge-2': {'r': 0.3333333333333333, 'p': 0.3333333333333333, 'f': 0.3333333283333334}, 'rouge-l': {'r': 0.5714285714285714, 'p': 0.5714285714285714, 'f': 0.5714285664285715}}\n",
      "\n",
      "알파카는 어떻게 이미지 캡처를 수행할 수 있나요?\n",
      "    ⇆ 알파카는 어떻게 브라우저 상호작용을 수행할 수 있나요?\n",
      "   {'rouge-1': {'r': 0.7142857142857143, 'p': 0.7142857142857143, 'f': 0.7142857092857143}, 'rouge-2': {'r': 0.5, 'p': 0.5, 'f': 0.4999999950000001}, 'rouge-l': {'r': 0.7142857142857143, 'p': 0.7142857142857143, 'f': 0.7142857092857143}}\n",
      "\n",
      "알파카는 어떻게 이미지 캡처를 수행할 수 있나요?\n",
      "    ⇆ 알파카는 어떻게 이미지 캡처를 기반으로 브라우저 상호작용을 수행할 수 있나요?\n",
      "   {'rouge-1': {'r': 0.7, 'p': 1.0, 'f': 0.8235294069204152}, 'rouge-2': {'r': 0.5555555555555556, 'p': 0.8333333333333334, 'f': 0.6666666618666668}, 'rouge-l': {'r': 0.7, 'p': 1.0, 'f': 0.8235294069204152}}\n",
      "\n",
      "알파카는 어떻게 이미지 캡처를 수행할 수 있나요?\n",
      "    ⇆ 알파카는 어떻게 파이썬 코드를 실행하고 결과를 저장할 수 있나요?\n",
      "   {'rouge-1': {'r': 0.4444444444444444, 'p': 0.5714285714285714, 'f': 0.4999999950781251}, 'rouge-2': {'r': 0.25, 'p': 0.3333333333333333, 'f': 0.2857142808163266}, 'rouge-l': {'r': 0.4444444444444444, 'p': 0.5714285714285714, 'f': 0.4999999950781251}}\n",
      "\n",
      "알파카는 어떻게 이미지 캡처를 수행할 수 있나요?\n",
      "    ⇆ 알파카는 어떻게 브라우저 상호작용을 기반으로 파이썬 코드를 실행할 수 있나요?\n",
      "   {'rouge-1': {'r': 0.4, 'p': 0.5714285714285714, 'f': 0.470588230449827}, 'rouge-2': {'r': 0.2222222222222222, 'p': 0.3333333333333333, 'f': 0.2666666618666667}, 'rouge-l': {'r': 0.4, 'p': 0.5714285714285714, 'f': 0.470588230449827}}\n",
      "\n",
      "알파카는 어떻게 이미지 캡처를 수행할 수 있나요?\n",
      "    ⇆ 알파카는 어떻게 다른 서버에서 데이터를 가져와 알파카에 저장할 수 있나요?\n",
      "   {'rouge-1': {'r': 0.4, 'p': 0.5714285714285714, 'f': 0.470588230449827}, 'rouge-2': {'r': 0.2222222222222222, 'p': 0.3333333333333333, 'f': 0.2666666618666667}, 'rouge-l': {'r': 0.4, 'p': 0.5714285714285714, 'f': 0.470588230449827}}\n",
      "\n",
      "알파카는 어떻게 이미지 캡처를 수행할 수 있나요?\n",
      "    ⇆ 알파카는 어떤 기능을 제공하나요?\n",
      "   {'rouge-1': {'r': 0.25, 'p': 0.14285714285714285, 'f': 0.18181817719008275}, 'rouge-2': {'r': 0.0, 'p': 0.0, 'f': 0.0}, 'rouge-l': {'r': 0.25, 'p': 0.14285714285714285, 'f': 0.18181817719008275}}\n",
      "\n",
      "알파카는 어떻게 이미지 캡처를 수행할 수 있나요?\n",
      "    ⇆ 알파카는 어떻게 사용할 수 있나요?\n",
      "   {'rouge-1': {'r': 0.8, 'p': 0.5714285714285714, 'f': 0.6666666618055556}, 'rouge-2': {'r': 0.5, 'p': 0.3333333333333333, 'f': 0.39999999520000007}, 'rouge-l': {'r': 0.8, 'p': 0.5714285714285714, 'f': 0.6666666618055556}}\n",
      "\n",
      "알파카는 어떻게 이미지 캡처를 수행할 수 있나요?\n",
      "    ⇆ 알파카는 어떻게 스크롤 검색을 수행할 수 있나요?\n",
      "   {'rouge-1': {'r': 0.7142857142857143, 'p': 0.7142857142857143, 'f': 0.7142857092857143}, 'rouge-2': {'r': 0.5, 'p': 0.5, 'f': 0.4999999950000001}, 'rouge-l': {'r': 0.7142857142857143, 'p': 0.7142857142857143, 'f': 0.7142857092857143}}\n",
      "\n",
      "알파카는 어떻게 이미지 캡처를 수행할 수 있나요?\n",
      "    ⇆ 알파카는 어떻게 파이썬 코드를 실행할 수 있나요?\n",
      "   {'rouge-1': {'r': 0.5714285714285714, 'p': 0.5714285714285714, 'f': 0.5714285664285715}, 'rouge-2': {'r': 0.3333333333333333, 'p': 0.3333333333333333, 'f': 0.3333333283333334}, 'rouge-l': {'r': 0.5714285714285714, 'p': 0.5714285714285714, 'f': 0.5714285664285715}}\n",
      "\n",
      "알파카는 어떻게 이미지 캡처를 수행할 수 있나요?\n",
      "    ⇆ 알파카는 어떻게 브라우저 상호작용을 수행할 수 있나요?\n",
      "   {'rouge-1': {'r': 0.7142857142857143, 'p': 0.7142857142857143, 'f': 0.7142857092857143}, 'rouge-2': {'r': 0.5, 'p': 0.5, 'f': 0.4999999950000001}, 'rouge-l': {'r': 0.7142857142857143, 'p': 0.7142857142857143, 'f': 0.7142857092857143}}\n",
      "\n",
      "알파카는 어떻게 이미지 캡처를 수행할 수 있나요?\n",
      "    ⇆ 알파카는 어떻게 이미지 캡처를 기반으로 브라우저 상호작용을 수행할 수 있나요?\n",
      "   {'rouge-1': {'r': 0.7, 'p': 1.0, 'f': 0.8235294069204152}, 'rouge-2': {'r': 0.5555555555555556, 'p': 0.8333333333333334, 'f': 0.6666666618666668}, 'rouge-l': {'r': 0.7, 'p': 1.0, 'f': 0.8235294069204152}}\n",
      "\n",
      "알파카는 어떻게 이미지 캡처를 수행할 수 있나요?\n",
      "    ⇆ 알파카는 어떻게 파이썬 코드를 실행하고 결과를 저장할 수 있나요?\n",
      "   {'rouge-1': {'r': 0.4444444444444444, 'p': 0.5714285714285714, 'f': 0.4999999950781251}, 'rouge-2': {'r': 0.25, 'p': 0.3333333333333333, 'f': 0.2857142808163266}, 'rouge-l': {'r': 0.4444444444444444, 'p': 0.5714285714285714, 'f': 0.4999999950781251}}\n",
      "\n",
      "알파카는 어떻게 이미지 캡처를 수행할 수 있나요?\n",
      "    ⇆ 알파카는 어떻게 브라우저 상호작용을 기반으로 파이썬 코드를 실행할 수 있나요?\n",
      "   {'rouge-1': {'r': 0.4, 'p': 0.5714285714285714, 'f': 0.470588230449827}, 'rouge-2': {'r': 0.2222222222222222, 'p': 0.3333333333333333, 'f': 0.2666666618666667}, 'rouge-l': {'r': 0.4, 'p': 0.5714285714285714, 'f': 0.470588230449827}}\n",
      "\n",
      "알파카는 어떻게 이미지 캡처를 수행할 수 있나요?\n",
      "    ⇆ 알파카는 어떻게 다른 서버에서 데이터를 가져와 알파카에 저장할 수 있나요?\n",
      "   {'rouge-1': {'r': 0.4, 'p': 0.5714285714285714, 'f': 0.470588230449827}, 'rouge-2': {'r': 0.2222222222222222, 'p': 0.3333333333333333, 'f': 0.2666666618666667}, 'rouge-l': {'r': 0.4, 'p': 0.5714285714285714, 'f': 0.470588230449827}}\n",
      "\n",
      "알파카는 어떻게 스크롤 검색을 수행할 수 있나요?\n",
      "    ⇆ 알파카는 어떤 기능을 제공하나요?\n",
      "   {'rouge-1': {'r': 0.25, 'p': 0.14285714285714285, 'f': 0.18181817719008275}, 'rouge-2': {'r': 0.0, 'p': 0.0, 'f': 0.0}, 'rouge-l': {'r': 0.25, 'p': 0.14285714285714285, 'f': 0.18181817719008275}}\n",
      "\n",
      "알파카는 어떻게 스크롤 검색을 수행할 수 있나요?\n",
      "    ⇆ 알파카는 어떻게 사용할 수 있나요?\n",
      "   {'rouge-1': {'r': 0.8, 'p': 0.5714285714285714, 'f': 0.6666666618055556}, 'rouge-2': {'r': 0.5, 'p': 0.3333333333333333, 'f': 0.39999999520000007}, 'rouge-l': {'r': 0.8, 'p': 0.5714285714285714, 'f': 0.6666666618055556}}\n",
      "\n",
      "알파카는 어떻게 스크롤 검색을 수행할 수 있나요?\n",
      "    ⇆ 알파카는 어떻게 이미지 캡처를 수행할 수 있나요?\n",
      "   {'rouge-1': {'r': 0.7142857142857143, 'p': 0.7142857142857143, 'f': 0.7142857092857143}, 'rouge-2': {'r': 0.5, 'p': 0.5, 'f': 0.4999999950000001}, 'rouge-l': {'r': 0.7142857142857143, 'p': 0.7142857142857143, 'f': 0.7142857092857143}}\n",
      "\n",
      "알파카는 어떻게 스크롤 검색을 수행할 수 있나요?\n",
      "    ⇆ 알파카는 어떻게 스크롤 검색을 수행할 수 있나요?\n",
      "   {'rouge-1': {'r': 1.0, 'p': 1.0, 'f': 0.999999995}, 'rouge-2': {'r': 1.0, 'p': 1.0, 'f': 0.999999995}, 'rouge-l': {'r': 1.0, 'p': 1.0, 'f': 0.999999995}}\n",
      "\n",
      "@-----------------------------\n",
      "알파카는 어떻게 스크롤 검색을 수행할 수 있나요?\n",
      "    ⇆ 알파카는 어떻게 파이썬 코드를 실행할 수 있나요?\n",
      "   {'rouge-1': {'r': 0.5714285714285714, 'p': 0.5714285714285714, 'f': 0.5714285664285715}, 'rouge-2': {'r': 0.3333333333333333, 'p': 0.3333333333333333, 'f': 0.3333333283333334}, 'rouge-l': {'r': 0.5714285714285714, 'p': 0.5714285714285714, 'f': 0.5714285664285715}}\n",
      "\n",
      "알파카는 어떻게 스크롤 검색을 수행할 수 있나요?\n",
      "    ⇆ 알파카는 어떻게 브라우저 상호작용을 수행할 수 있나요?\n",
      "   {'rouge-1': {'r': 0.7142857142857143, 'p': 0.7142857142857143, 'f': 0.7142857092857143}, 'rouge-2': {'r': 0.5, 'p': 0.5, 'f': 0.4999999950000001}, 'rouge-l': {'r': 0.7142857142857143, 'p': 0.7142857142857143, 'f': 0.7142857092857143}}\n",
      "\n",
      "알파카는 어떻게 스크롤 검색을 수행할 수 있나요?\n",
      "    ⇆ 알파카는 어떻게 이미지 캡처를 기반으로 브라우저 상호작용을 수행할 수 있나요?\n",
      "   {'rouge-1': {'r': 0.5, 'p': 0.7142857142857143, 'f': 0.5882352892733564}, 'rouge-2': {'r': 0.3333333333333333, 'p': 0.5, 'f': 0.39999999520000007}, 'rouge-l': {'r': 0.5, 'p': 0.7142857142857143, 'f': 0.5882352892733564}}\n",
      "\n",
      "알파카는 어떻게 스크롤 검색을 수행할 수 있나요?\n",
      "    ⇆ 알파카는 어떻게 파이썬 코드를 실행하고 결과를 저장할 수 있나요?\n",
      "   {'rouge-1': {'r': 0.4444444444444444, 'p': 0.5714285714285714, 'f': 0.4999999950781251}, 'rouge-2': {'r': 0.25, 'p': 0.3333333333333333, 'f': 0.2857142808163266}, 'rouge-l': {'r': 0.4444444444444444, 'p': 0.5714285714285714, 'f': 0.4999999950781251}}\n",
      "\n",
      "알파카는 어떻게 스크롤 검색을 수행할 수 있나요?\n",
      "    ⇆ 알파카는 어떻게 브라우저 상호작용을 기반으로 파이썬 코드를 실행할 수 있나요?\n",
      "   {'rouge-1': {'r': 0.4, 'p': 0.5714285714285714, 'f': 0.470588230449827}, 'rouge-2': {'r': 0.2222222222222222, 'p': 0.3333333333333333, 'f': 0.2666666618666667}, 'rouge-l': {'r': 0.4, 'p': 0.5714285714285714, 'f': 0.470588230449827}}\n",
      "\n",
      "알파카는 어떻게 스크롤 검색을 수행할 수 있나요?\n",
      "    ⇆ 알파카는 어떻게 다른 서버에서 데이터를 가져와 알파카에 저장할 수 있나요?\n",
      "   {'rouge-1': {'r': 0.4, 'p': 0.5714285714285714, 'f': 0.470588230449827}, 'rouge-2': {'r': 0.2222222222222222, 'p': 0.3333333333333333, 'f': 0.2666666618666667}, 'rouge-l': {'r': 0.4, 'p': 0.5714285714285714, 'f': 0.470588230449827}}\n",
      "\n",
      "알파카는 어떻게 스크롤 검색을 수행할 수 있나요?\n",
      "    ⇆ 알파카는 어떤 기능을 제공하나요?\n",
      "   {'rouge-1': {'r': 0.25, 'p': 0.14285714285714285, 'f': 0.18181817719008275}, 'rouge-2': {'r': 0.0, 'p': 0.0, 'f': 0.0}, 'rouge-l': {'r': 0.25, 'p': 0.14285714285714285, 'f': 0.18181817719008275}}\n",
      "\n",
      "알파카는 어떻게 스크롤 검색을 수행할 수 있나요?\n",
      "    ⇆ 알파카는 어떻게 사용할 수 있나요?\n",
      "   {'rouge-1': {'r': 0.8, 'p': 0.5714285714285714, 'f': 0.6666666618055556}, 'rouge-2': {'r': 0.5, 'p': 0.3333333333333333, 'f': 0.39999999520000007}, 'rouge-l': {'r': 0.8, 'p': 0.5714285714285714, 'f': 0.6666666618055556}}\n",
      "\n",
      "알파카는 어떻게 스크롤 검색을 수행할 수 있나요?\n",
      "    ⇆ 알파카는 어떻게 이미지 캡처를 수행할 수 있나요?\n",
      "   {'rouge-1': {'r': 0.7142857142857143, 'p': 0.7142857142857143, 'f': 0.7142857092857143}, 'rouge-2': {'r': 0.5, 'p': 0.5, 'f': 0.4999999950000001}, 'rouge-l': {'r': 0.7142857142857143, 'p': 0.7142857142857143, 'f': 0.7142857092857143}}\n",
      "\n",
      "알파카는 어떻게 스크롤 검색을 수행할 수 있나요?\n",
      "    ⇆ 알파카는 어떻게 파이썬 코드를 실행할 수 있나요?\n",
      "   {'rouge-1': {'r': 0.5714285714285714, 'p': 0.5714285714285714, 'f': 0.5714285664285715}, 'rouge-2': {'r': 0.3333333333333333, 'p': 0.3333333333333333, 'f': 0.3333333283333334}, 'rouge-l': {'r': 0.5714285714285714, 'p': 0.5714285714285714, 'f': 0.5714285664285715}}\n",
      "\n",
      "알파카는 어떻게 스크롤 검색을 수행할 수 있나요?\n",
      "    ⇆ 알파카는 어떻게 브라우저 상호작용을 수행할 수 있나요?\n",
      "   {'rouge-1': {'r': 0.7142857142857143, 'p': 0.7142857142857143, 'f': 0.7142857092857143}, 'rouge-2': {'r': 0.5, 'p': 0.5, 'f': 0.4999999950000001}, 'rouge-l': {'r': 0.7142857142857143, 'p': 0.7142857142857143, 'f': 0.7142857092857143}}\n",
      "\n",
      "알파카는 어떻게 스크롤 검색을 수행할 수 있나요?\n",
      "    ⇆ 알파카는 어떻게 이미지 캡처를 기반으로 브라우저 상호작용을 수행할 수 있나요?\n",
      "   {'rouge-1': {'r': 0.5, 'p': 0.7142857142857143, 'f': 0.5882352892733564}, 'rouge-2': {'r': 0.3333333333333333, 'p': 0.5, 'f': 0.39999999520000007}, 'rouge-l': {'r': 0.5, 'p': 0.7142857142857143, 'f': 0.5882352892733564}}\n",
      "\n",
      "알파카는 어떻게 스크롤 검색을 수행할 수 있나요?\n",
      "    ⇆ 알파카는 어떻게 파이썬 코드를 실행하고 결과를 저장할 수 있나요?\n",
      "   {'rouge-1': {'r': 0.4444444444444444, 'p': 0.5714285714285714, 'f': 0.4999999950781251}, 'rouge-2': {'r': 0.25, 'p': 0.3333333333333333, 'f': 0.2857142808163266}, 'rouge-l': {'r': 0.4444444444444444, 'p': 0.5714285714285714, 'f': 0.4999999950781251}}\n",
      "\n",
      "알파카는 어떻게 스크롤 검색을 수행할 수 있나요?\n",
      "    ⇆ 알파카는 어떻게 브라우저 상호작용을 기반으로 파이썬 코드를 실행할 수 있나요?\n",
      "   {'rouge-1': {'r': 0.4, 'p': 0.5714285714285714, 'f': 0.470588230449827}, 'rouge-2': {'r': 0.2222222222222222, 'p': 0.3333333333333333, 'f': 0.2666666618666667}, 'rouge-l': {'r': 0.4, 'p': 0.5714285714285714, 'f': 0.470588230449827}}\n",
      "\n",
      "알파카는 어떻게 스크롤 검색을 수행할 수 있나요?\n",
      "    ⇆ 알파카는 어떻게 다른 서버에서 데이터를 가져와 알파카에 저장할 수 있나요?\n",
      "   {'rouge-1': {'r': 0.4, 'p': 0.5714285714285714, 'f': 0.470588230449827}, 'rouge-2': {'r': 0.2222222222222222, 'p': 0.3333333333333333, 'f': 0.2666666618666667}, 'rouge-l': {'r': 0.4, 'p': 0.5714285714285714, 'f': 0.470588230449827}}\n",
      "\n",
      "알파카는 어떻게 파이썬 코드를 실행할 수 있나요?\n",
      "    ⇆ 알파카는 어떤 기능을 제공하나요?\n",
      "   {'rouge-1': {'r': 0.25, 'p': 0.14285714285714285, 'f': 0.18181817719008275}, 'rouge-2': {'r': 0.0, 'p': 0.0, 'f': 0.0}, 'rouge-l': {'r': 0.25, 'p': 0.14285714285714285, 'f': 0.18181817719008275}}\n",
      "\n",
      "알파카는 어떻게 파이썬 코드를 실행할 수 있나요?\n",
      "    ⇆ 알파카는 어떻게 사용할 수 있나요?\n",
      "   {'rouge-1': {'r': 0.8, 'p': 0.5714285714285714, 'f': 0.6666666618055556}, 'rouge-2': {'r': 0.5, 'p': 0.3333333333333333, 'f': 0.39999999520000007}, 'rouge-l': {'r': 0.8, 'p': 0.5714285714285714, 'f': 0.6666666618055556}}\n",
      "\n",
      "알파카는 어떻게 파이썬 코드를 실행할 수 있나요?\n",
      "    ⇆ 알파카는 어떻게 이미지 캡처를 수행할 수 있나요?\n",
      "   {'rouge-1': {'r': 0.5714285714285714, 'p': 0.5714285714285714, 'f': 0.5714285664285715}, 'rouge-2': {'r': 0.3333333333333333, 'p': 0.3333333333333333, 'f': 0.3333333283333334}, 'rouge-l': {'r': 0.5714285714285714, 'p': 0.5714285714285714, 'f': 0.5714285664285715}}\n",
      "\n",
      "알파카는 어떻게 파이썬 코드를 실행할 수 있나요?\n",
      "    ⇆ 알파카는 어떻게 스크롤 검색을 수행할 수 있나요?\n",
      "   {'rouge-1': {'r': 0.5714285714285714, 'p': 0.5714285714285714, 'f': 0.5714285664285715}, 'rouge-2': {'r': 0.3333333333333333, 'p': 0.3333333333333333, 'f': 0.3333333283333334}, 'rouge-l': {'r': 0.5714285714285714, 'p': 0.5714285714285714, 'f': 0.5714285664285715}}\n",
      "\n",
      "알파카는 어떻게 파이썬 코드를 실행할 수 있나요?\n",
      "    ⇆ 알파카는 어떻게 파이썬 코드를 실행할 수 있나요?\n",
      "   {'rouge-1': {'r': 1.0, 'p': 1.0, 'f': 0.999999995}, 'rouge-2': {'r': 1.0, 'p': 1.0, 'f': 0.999999995}, 'rouge-l': {'r': 1.0, 'p': 1.0, 'f': 0.999999995}}\n",
      "\n",
      "@-----------------------------\n",
      "알파카는 어떻게 파이썬 코드를 실행할 수 있나요?\n",
      "    ⇆ 알파카는 어떻게 브라우저 상호작용을 수행할 수 있나요?\n",
      "   {'rouge-1': {'r': 0.5714285714285714, 'p': 0.5714285714285714, 'f': 0.5714285664285715}, 'rouge-2': {'r': 0.3333333333333333, 'p': 0.3333333333333333, 'f': 0.3333333283333334}, 'rouge-l': {'r': 0.5714285714285714, 'p': 0.5714285714285714, 'f': 0.5714285664285715}}\n",
      "\n",
      "알파카는 어떻게 파이썬 코드를 실행할 수 있나요?\n",
      "    ⇆ 알파카는 어떻게 이미지 캡처를 기반으로 브라우저 상호작용을 수행할 수 있나요?\n",
      "   {'rouge-1': {'r': 0.4, 'p': 0.5714285714285714, 'f': 0.470588230449827}, 'rouge-2': {'r': 0.2222222222222222, 'p': 0.3333333333333333, 'f': 0.2666666618666667}, 'rouge-l': {'r': 0.4, 'p': 0.5714285714285714, 'f': 0.470588230449827}}\n",
      "\n",
      "알파카는 어떻게 파이썬 코드를 실행할 수 있나요?\n",
      "    ⇆ 알파카는 어떻게 파이썬 코드를 실행하고 결과를 저장할 수 있나요?\n",
      "   {'rouge-1': {'r': 0.6666666666666666, 'p': 0.8571428571428571, 'f': 0.7499999950781251}, 'rouge-2': {'r': 0.5, 'p': 0.6666666666666666, 'f': 0.5714285665306124}, 'rouge-l': {'r': 0.6666666666666666, 'p': 0.8571428571428571, 'f': 0.7499999950781251}}\n",
      "\n",
      "알파카는 어떻게 파이썬 코드를 실행할 수 있나요?\n",
      "    ⇆ 알파카는 어떻게 브라우저 상호작용을 기반으로 파이썬 코드를 실행할 수 있나요?\n",
      "   {'rouge-1': {'r': 0.7, 'p': 1.0, 'f': 0.8235294069204152}, 'rouge-2': {'r': 0.5555555555555556, 'p': 0.8333333333333334, 'f': 0.6666666618666668}, 'rouge-l': {'r': 0.7, 'p': 1.0, 'f': 0.8235294069204152}}\n",
      "\n",
      "알파카는 어떻게 파이썬 코드를 실행할 수 있나요?\n",
      "    ⇆ 알파카는 어떻게 다른 서버에서 데이터를 가져와 알파카에 저장할 수 있나요?\n",
      "   {'rouge-1': {'r': 0.4, 'p': 0.5714285714285714, 'f': 0.470588230449827}, 'rouge-2': {'r': 0.2222222222222222, 'p': 0.3333333333333333, 'f': 0.2666666618666667}, 'rouge-l': {'r': 0.4, 'p': 0.5714285714285714, 'f': 0.470588230449827}}\n",
      "\n",
      "알파카는 어떻게 파이썬 코드를 실행할 수 있나요?\n",
      "    ⇆ 알파카는 어떤 기능을 제공하나요?\n",
      "   {'rouge-1': {'r': 0.25, 'p': 0.14285714285714285, 'f': 0.18181817719008275}, 'rouge-2': {'r': 0.0, 'p': 0.0, 'f': 0.0}, 'rouge-l': {'r': 0.25, 'p': 0.14285714285714285, 'f': 0.18181817719008275}}\n",
      "\n",
      "알파카는 어떻게 파이썬 코드를 실행할 수 있나요?\n",
      "    ⇆ 알파카는 어떻게 사용할 수 있나요?\n",
      "   {'rouge-1': {'r': 0.8, 'p': 0.5714285714285714, 'f': 0.6666666618055556}, 'rouge-2': {'r': 0.5, 'p': 0.3333333333333333, 'f': 0.39999999520000007}, 'rouge-l': {'r': 0.8, 'p': 0.5714285714285714, 'f': 0.6666666618055556}}\n",
      "\n",
      "알파카는 어떻게 파이썬 코드를 실행할 수 있나요?\n",
      "    ⇆ 알파카는 어떻게 이미지 캡처를 수행할 수 있나요?\n",
      "   {'rouge-1': {'r': 0.5714285714285714, 'p': 0.5714285714285714, 'f': 0.5714285664285715}, 'rouge-2': {'r': 0.3333333333333333, 'p': 0.3333333333333333, 'f': 0.3333333283333334}, 'rouge-l': {'r': 0.5714285714285714, 'p': 0.5714285714285714, 'f': 0.5714285664285715}}\n",
      "\n",
      "알파카는 어떻게 파이썬 코드를 실행할 수 있나요?\n",
      "    ⇆ 알파카는 어떻게 스크롤 검색을 수행할 수 있나요?\n",
      "   {'rouge-1': {'r': 0.5714285714285714, 'p': 0.5714285714285714, 'f': 0.5714285664285715}, 'rouge-2': {'r': 0.3333333333333333, 'p': 0.3333333333333333, 'f': 0.3333333283333334}, 'rouge-l': {'r': 0.5714285714285714, 'p': 0.5714285714285714, 'f': 0.5714285664285715}}\n",
      "\n",
      "알파카는 어떻게 파이썬 코드를 실행할 수 있나요?\n",
      "    ⇆ 알파카는 어떻게 브라우저 상호작용을 수행할 수 있나요?\n",
      "   {'rouge-1': {'r': 0.5714285714285714, 'p': 0.5714285714285714, 'f': 0.5714285664285715}, 'rouge-2': {'r': 0.3333333333333333, 'p': 0.3333333333333333, 'f': 0.3333333283333334}, 'rouge-l': {'r': 0.5714285714285714, 'p': 0.5714285714285714, 'f': 0.5714285664285715}}\n",
      "\n",
      "알파카는 어떻게 파이썬 코드를 실행할 수 있나요?\n",
      "    ⇆ 알파카는 어떻게 이미지 캡처를 기반으로 브라우저 상호작용을 수행할 수 있나요?\n",
      "   {'rouge-1': {'r': 0.4, 'p': 0.5714285714285714, 'f': 0.470588230449827}, 'rouge-2': {'r': 0.2222222222222222, 'p': 0.3333333333333333, 'f': 0.2666666618666667}, 'rouge-l': {'r': 0.4, 'p': 0.5714285714285714, 'f': 0.470588230449827}}\n",
      "\n",
      "알파카는 어떻게 파이썬 코드를 실행할 수 있나요?\n",
      "    ⇆ 알파카는 어떻게 파이썬 코드를 실행하고 결과를 저장할 수 있나요?\n",
      "   {'rouge-1': {'r': 0.6666666666666666, 'p': 0.8571428571428571, 'f': 0.7499999950781251}, 'rouge-2': {'r': 0.5, 'p': 0.6666666666666666, 'f': 0.5714285665306124}, 'rouge-l': {'r': 0.6666666666666666, 'p': 0.8571428571428571, 'f': 0.7499999950781251}}\n",
      "\n",
      "알파카는 어떻게 파이썬 코드를 실행할 수 있나요?\n",
      "    ⇆ 알파카는 어떻게 브라우저 상호작용을 기반으로 파이썬 코드를 실행할 수 있나요?\n",
      "   {'rouge-1': {'r': 0.7, 'p': 1.0, 'f': 0.8235294069204152}, 'rouge-2': {'r': 0.5555555555555556, 'p': 0.8333333333333334, 'f': 0.6666666618666668}, 'rouge-l': {'r': 0.7, 'p': 1.0, 'f': 0.8235294069204152}}\n",
      "\n",
      "알파카는 어떻게 파이썬 코드를 실행할 수 있나요?\n",
      "    ⇆ 알파카는 어떻게 다른 서버에서 데이터를 가져와 알파카에 저장할 수 있나요?\n",
      "   {'rouge-1': {'r': 0.4, 'p': 0.5714285714285714, 'f': 0.470588230449827}, 'rouge-2': {'r': 0.2222222222222222, 'p': 0.3333333333333333, 'f': 0.2666666618666667}, 'rouge-l': {'r': 0.4, 'p': 0.5714285714285714, 'f': 0.470588230449827}}\n",
      "\n",
      "알파카는 어떻게 브라우저 상호작용을 수행할 수 있나요?\n",
      "    ⇆ 알파카는 어떤 기능을 제공하나요?\n",
      "   {'rouge-1': {'r': 0.25, 'p': 0.14285714285714285, 'f': 0.18181817719008275}, 'rouge-2': {'r': 0.0, 'p': 0.0, 'f': 0.0}, 'rouge-l': {'r': 0.25, 'p': 0.14285714285714285, 'f': 0.18181817719008275}}\n",
      "\n",
      "알파카는 어떻게 브라우저 상호작용을 수행할 수 있나요?\n",
      "    ⇆ 알파카는 어떻게 사용할 수 있나요?\n",
      "   {'rouge-1': {'r': 0.8, 'p': 0.5714285714285714, 'f': 0.6666666618055556}, 'rouge-2': {'r': 0.5, 'p': 0.3333333333333333, 'f': 0.39999999520000007}, 'rouge-l': {'r': 0.8, 'p': 0.5714285714285714, 'f': 0.6666666618055556}}\n",
      "\n",
      "알파카는 어떻게 브라우저 상호작용을 수행할 수 있나요?\n",
      "    ⇆ 알파카는 어떻게 이미지 캡처를 수행할 수 있나요?\n",
      "   {'rouge-1': {'r': 0.7142857142857143, 'p': 0.7142857142857143, 'f': 0.7142857092857143}, 'rouge-2': {'r': 0.5, 'p': 0.5, 'f': 0.4999999950000001}, 'rouge-l': {'r': 0.7142857142857143, 'p': 0.7142857142857143, 'f': 0.7142857092857143}}\n",
      "\n",
      "알파카는 어떻게 브라우저 상호작용을 수행할 수 있나요?\n",
      "    ⇆ 알파카는 어떻게 스크롤 검색을 수행할 수 있나요?\n",
      "   {'rouge-1': {'r': 0.7142857142857143, 'p': 0.7142857142857143, 'f': 0.7142857092857143}, 'rouge-2': {'r': 0.5, 'p': 0.5, 'f': 0.4999999950000001}, 'rouge-l': {'r': 0.7142857142857143, 'p': 0.7142857142857143, 'f': 0.7142857092857143}}\n",
      "\n",
      "알파카는 어떻게 브라우저 상호작용을 수행할 수 있나요?\n",
      "    ⇆ 알파카는 어떻게 파이썬 코드를 실행할 수 있나요?\n",
      "   {'rouge-1': {'r': 0.5714285714285714, 'p': 0.5714285714285714, 'f': 0.5714285664285715}, 'rouge-2': {'r': 0.3333333333333333, 'p': 0.3333333333333333, 'f': 0.3333333283333334}, 'rouge-l': {'r': 0.5714285714285714, 'p': 0.5714285714285714, 'f': 0.5714285664285715}}\n",
      "\n",
      "알파카는 어떻게 브라우저 상호작용을 수행할 수 있나요?\n",
      "    ⇆ 알파카는 어떻게 브라우저 상호작용을 수행할 수 있나요?\n",
      "   {'rouge-1': {'r': 1.0, 'p': 1.0, 'f': 0.999999995}, 'rouge-2': {'r': 1.0, 'p': 1.0, 'f': 0.999999995}, 'rouge-l': {'r': 1.0, 'p': 1.0, 'f': 0.999999995}}\n",
      "\n",
      "@-----------------------------\n",
      "알파카는 어떻게 브라우저 상호작용을 수행할 수 있나요?\n",
      "    ⇆ 알파카는 어떻게 이미지 캡처를 기반으로 브라우저 상호작용을 수행할 수 있나요?\n",
      "   {'rouge-1': {'r': 0.7, 'p': 1.0, 'f': 0.8235294069204152}, 'rouge-2': {'r': 0.5555555555555556, 'p': 0.8333333333333334, 'f': 0.6666666618666668}, 'rouge-l': {'r': 0.7, 'p': 1.0, 'f': 0.8235294069204152}}\n",
      "\n",
      "알파카는 어떻게 브라우저 상호작용을 수행할 수 있나요?\n",
      "    ⇆ 알파카는 어떻게 파이썬 코드를 실행하고 결과를 저장할 수 있나요?\n",
      "   {'rouge-1': {'r': 0.4444444444444444, 'p': 0.5714285714285714, 'f': 0.4999999950781251}, 'rouge-2': {'r': 0.25, 'p': 0.3333333333333333, 'f': 0.2857142808163266}, 'rouge-l': {'r': 0.4444444444444444, 'p': 0.5714285714285714, 'f': 0.4999999950781251}}\n",
      "\n",
      "알파카는 어떻게 브라우저 상호작용을 수행할 수 있나요?\n",
      "    ⇆ 알파카는 어떻게 브라우저 상호작용을 기반으로 파이썬 코드를 실행할 수 있나요?\n",
      "   {'rouge-1': {'r': 0.6, 'p': 0.8571428571428571, 'f': 0.7058823480968859}, 'rouge-2': {'r': 0.4444444444444444, 'p': 0.6666666666666666, 'f': 0.5333333285333334}, 'rouge-l': {'r': 0.6, 'p': 0.8571428571428571, 'f': 0.7058823480968859}}\n",
      "\n",
      "알파카는 어떻게 브라우저 상호작용을 수행할 수 있나요?\n",
      "    ⇆ 알파카는 어떻게 다른 서버에서 데이터를 가져와 알파카에 저장할 수 있나요?\n",
      "   {'rouge-1': {'r': 0.4, 'p': 0.5714285714285714, 'f': 0.470588230449827}, 'rouge-2': {'r': 0.2222222222222222, 'p': 0.3333333333333333, 'f': 0.2666666618666667}, 'rouge-l': {'r': 0.4, 'p': 0.5714285714285714, 'f': 0.470588230449827}}\n",
      "\n",
      "알파카는 어떻게 브라우저 상호작용을 수행할 수 있나요?\n",
      "    ⇆ 알파카는 어떤 기능을 제공하나요?\n",
      "   {'rouge-1': {'r': 0.25, 'p': 0.14285714285714285, 'f': 0.18181817719008275}, 'rouge-2': {'r': 0.0, 'p': 0.0, 'f': 0.0}, 'rouge-l': {'r': 0.25, 'p': 0.14285714285714285, 'f': 0.18181817719008275}}\n",
      "\n",
      "알파카는 어떻게 브라우저 상호작용을 수행할 수 있나요?\n",
      "    ⇆ 알파카는 어떻게 사용할 수 있나요?\n",
      "   {'rouge-1': {'r': 0.8, 'p': 0.5714285714285714, 'f': 0.6666666618055556}, 'rouge-2': {'r': 0.5, 'p': 0.3333333333333333, 'f': 0.39999999520000007}, 'rouge-l': {'r': 0.8, 'p': 0.5714285714285714, 'f': 0.6666666618055556}}\n",
      "\n",
      "알파카는 어떻게 브라우저 상호작용을 수행할 수 있나요?\n",
      "    ⇆ 알파카는 어떻게 이미지 캡처를 수행할 수 있나요?\n",
      "   {'rouge-1': {'r': 0.7142857142857143, 'p': 0.7142857142857143, 'f': 0.7142857092857143}, 'rouge-2': {'r': 0.5, 'p': 0.5, 'f': 0.4999999950000001}, 'rouge-l': {'r': 0.7142857142857143, 'p': 0.7142857142857143, 'f': 0.7142857092857143}}\n",
      "\n",
      "알파카는 어떻게 브라우저 상호작용을 수행할 수 있나요?\n",
      "    ⇆ 알파카는 어떻게 스크롤 검색을 수행할 수 있나요?\n",
      "   {'rouge-1': {'r': 0.7142857142857143, 'p': 0.7142857142857143, 'f': 0.7142857092857143}, 'rouge-2': {'r': 0.5, 'p': 0.5, 'f': 0.4999999950000001}, 'rouge-l': {'r': 0.7142857142857143, 'p': 0.7142857142857143, 'f': 0.7142857092857143}}\n",
      "\n",
      "알파카는 어떻게 브라우저 상호작용을 수행할 수 있나요?\n",
      "    ⇆ 알파카는 어떻게 파이썬 코드를 실행할 수 있나요?\n",
      "   {'rouge-1': {'r': 0.5714285714285714, 'p': 0.5714285714285714, 'f': 0.5714285664285715}, 'rouge-2': {'r': 0.3333333333333333, 'p': 0.3333333333333333, 'f': 0.3333333283333334}, 'rouge-l': {'r': 0.5714285714285714, 'p': 0.5714285714285714, 'f': 0.5714285664285715}}\n",
      "\n",
      "알파카는 어떻게 브라우저 상호작용을 수행할 수 있나요?\n",
      "    ⇆ 알파카는 어떻게 이미지 캡처를 기반으로 브라우저 상호작용을 수행할 수 있나요?\n",
      "   {'rouge-1': {'r': 0.7, 'p': 1.0, 'f': 0.8235294069204152}, 'rouge-2': {'r': 0.5555555555555556, 'p': 0.8333333333333334, 'f': 0.6666666618666668}, 'rouge-l': {'r': 0.7, 'p': 1.0, 'f': 0.8235294069204152}}\n",
      "\n",
      "알파카는 어떻게 브라우저 상호작용을 수행할 수 있나요?\n",
      "    ⇆ 알파카는 어떻게 파이썬 코드를 실행하고 결과를 저장할 수 있나요?\n",
      "   {'rouge-1': {'r': 0.4444444444444444, 'p': 0.5714285714285714, 'f': 0.4999999950781251}, 'rouge-2': {'r': 0.25, 'p': 0.3333333333333333, 'f': 0.2857142808163266}, 'rouge-l': {'r': 0.4444444444444444, 'p': 0.5714285714285714, 'f': 0.4999999950781251}}\n",
      "\n",
      "알파카는 어떻게 브라우저 상호작용을 수행할 수 있나요?\n",
      "    ⇆ 알파카는 어떻게 브라우저 상호작용을 기반으로 파이썬 코드를 실행할 수 있나요?\n",
      "   {'rouge-1': {'r': 0.6, 'p': 0.8571428571428571, 'f': 0.7058823480968859}, 'rouge-2': {'r': 0.4444444444444444, 'p': 0.6666666666666666, 'f': 0.5333333285333334}, 'rouge-l': {'r': 0.6, 'p': 0.8571428571428571, 'f': 0.7058823480968859}}\n",
      "\n",
      "알파카는 어떻게 브라우저 상호작용을 수행할 수 있나요?\n",
      "    ⇆ 알파카는 어떻게 다른 서버에서 데이터를 가져와 알파카에 저장할 수 있나요?\n",
      "   {'rouge-1': {'r': 0.4, 'p': 0.5714285714285714, 'f': 0.470588230449827}, 'rouge-2': {'r': 0.2222222222222222, 'p': 0.3333333333333333, 'f': 0.2666666618666667}, 'rouge-l': {'r': 0.4, 'p': 0.5714285714285714, 'f': 0.470588230449827}}\n",
      "\n",
      "알파카는 어떻게 이미지 캡처를 기반으로 브라우저 상호작용을 수행할 수 있나요?\n",
      "    ⇆ 알파카는 어떤 기능을 제공하나요?\n",
      "   {'rouge-1': {'r': 0.25, 'p': 0.1, 'f': 0.14285713877551035}, 'rouge-2': {'r': 0.0, 'p': 0.0, 'f': 0.0}, 'rouge-l': {'r': 0.25, 'p': 0.1, 'f': 0.14285713877551035}}\n",
      "\n",
      "알파카는 어떻게 이미지 캡처를 기반으로 브라우저 상호작용을 수행할 수 있나요?\n",
      "    ⇆ 알파카는 어떻게 사용할 수 있나요?\n",
      "   {'rouge-1': {'r': 0.8, 'p': 0.4, 'f': 0.533333328888889}, 'rouge-2': {'r': 0.5, 'p': 0.2222222222222222, 'f': 0.3076923034319527}, 'rouge-l': {'r': 0.8, 'p': 0.4, 'f': 0.533333328888889}}\n",
      "\n",
      "알파카는 어떻게 이미지 캡처를 기반으로 브라우저 상호작용을 수행할 수 있나요?\n",
      "    ⇆ 알파카는 어떻게 이미지 캡처를 수행할 수 있나요?\n",
      "   {'rouge-1': {'r': 1.0, 'p': 0.7, 'f': 0.8235294069204152}, 'rouge-2': {'r': 0.8333333333333334, 'p': 0.5555555555555556, 'f': 0.6666666618666668}, 'rouge-l': {'r': 1.0, 'p': 0.7, 'f': 0.8235294069204152}}\n",
      "\n",
      "@-----------------------------\n",
      "알파카는 어떻게 이미지 캡처를 기반으로 브라우저 상호작용을 수행할 수 있나요?\n",
      "    ⇆ 알파카는 어떻게 스크롤 검색을 수행할 수 있나요?\n",
      "   {'rouge-1': {'r': 0.7142857142857143, 'p': 0.5, 'f': 0.5882352892733564}, 'rouge-2': {'r': 0.5, 'p': 0.3333333333333333, 'f': 0.39999999520000007}, 'rouge-l': {'r': 0.7142857142857143, 'p': 0.5, 'f': 0.5882352892733564}}\n",
      "\n",
      "알파카는 어떻게 이미지 캡처를 기반으로 브라우저 상호작용을 수행할 수 있나요?\n",
      "    ⇆ 알파카는 어떻게 파이썬 코드를 실행할 수 있나요?\n",
      "   {'rouge-1': {'r': 0.5714285714285714, 'p': 0.4, 'f': 0.470588230449827}, 'rouge-2': {'r': 0.3333333333333333, 'p': 0.2222222222222222, 'f': 0.2666666618666667}, 'rouge-l': {'r': 0.5714285714285714, 'p': 0.4, 'f': 0.470588230449827}}\n",
      "\n",
      "알파카는 어떻게 이미지 캡처를 기반으로 브라우저 상호작용을 수행할 수 있나요?\n",
      "    ⇆ 알파카는 어떻게 브라우저 상호작용을 수행할 수 있나요?\n",
      "   {'rouge-1': {'r': 1.0, 'p': 0.7, 'f': 0.8235294069204152}, 'rouge-2': {'r': 0.8333333333333334, 'p': 0.5555555555555556, 'f': 0.6666666618666668}, 'rouge-l': {'r': 1.0, 'p': 0.7, 'f': 0.8235294069204152}}\n",
      "\n",
      "@-----------------------------\n",
      "알파카는 어떻게 이미지 캡처를 기반으로 브라우저 상호작용을 수행할 수 있나요?\n",
      "    ⇆ 알파카는 어떻게 이미지 캡처를 기반으로 브라우저 상호작용을 수행할 수 있나요?\n",
      "   {'rouge-1': {'r': 1.0, 'p': 1.0, 'f': 0.999999995}, 'rouge-2': {'r': 1.0, 'p': 1.0, 'f': 0.999999995}, 'rouge-l': {'r': 1.0, 'p': 1.0, 'f': 0.999999995}}\n",
      "\n",
      "@-----------------------------\n",
      "알파카는 어떻게 이미지 캡처를 기반으로 브라우저 상호작용을 수행할 수 있나요?\n",
      "    ⇆ 알파카는 어떻게 파이썬 코드를 실행하고 결과를 저장할 수 있나요?\n",
      "   {'rouge-1': {'r': 0.4444444444444444, 'p': 0.4, 'f': 0.42105262659279785}, 'rouge-2': {'r': 0.25, 'p': 0.2222222222222222, 'f': 0.23529411266435996}, 'rouge-l': {'r': 0.4444444444444444, 'p': 0.4, 'f': 0.42105262659279785}}\n",
      "\n",
      "알파카는 어떻게 이미지 캡처를 기반으로 브라우저 상호작용을 수행할 수 있나요?\n",
      "    ⇆ 알파카는 어떻게 브라우저 상호작용을 기반으로 파이썬 코드를 실행할 수 있나요?\n",
      "   {'rouge-1': {'r': 0.7, 'p': 0.7, 'f': 0.699999995}, 'rouge-2': {'r': 0.3333333333333333, 'p': 0.3333333333333333, 'f': 0.3333333283333334}, 'rouge-l': {'r': 0.6, 'p': 0.6, 'f': 0.5999999950000001}}\n",
      "\n",
      "알파카는 어떻게 이미지 캡처를 기반으로 브라우저 상호작용을 수행할 수 있나요?\n",
      "    ⇆ 알파카는 어떻게 다른 서버에서 데이터를 가져와 알파카에 저장할 수 있나요?\n",
      "   {'rouge-1': {'r': 0.4, 'p': 0.4, 'f': 0.3999999950000001}, 'rouge-2': {'r': 0.2222222222222222, 'p': 0.2222222222222222, 'f': 0.22222221722222232}, 'rouge-l': {'r': 0.4, 'p': 0.4, 'f': 0.3999999950000001}}\n",
      "\n",
      "알파카는 어떻게 이미지 캡처를 기반으로 브라우저 상호작용을 수행할 수 있나요?\n",
      "    ⇆ 알파카는 어떤 기능을 제공하나요?\n",
      "   {'rouge-1': {'r': 0.25, 'p': 0.1, 'f': 0.14285713877551035}, 'rouge-2': {'r': 0.0, 'p': 0.0, 'f': 0.0}, 'rouge-l': {'r': 0.25, 'p': 0.1, 'f': 0.14285713877551035}}\n",
      "\n",
      "알파카는 어떻게 이미지 캡처를 기반으로 브라우저 상호작용을 수행할 수 있나요?\n",
      "    ⇆ 알파카는 어떻게 사용할 수 있나요?\n",
      "   {'rouge-1': {'r': 0.8, 'p': 0.4, 'f': 0.533333328888889}, 'rouge-2': {'r': 0.5, 'p': 0.2222222222222222, 'f': 0.3076923034319527}, 'rouge-l': {'r': 0.8, 'p': 0.4, 'f': 0.533333328888889}}\n",
      "\n",
      "알파카는 어떻게 이미지 캡처를 기반으로 브라우저 상호작용을 수행할 수 있나요?\n",
      "    ⇆ 알파카는 어떻게 이미지 캡처를 수행할 수 있나요?\n",
      "   {'rouge-1': {'r': 1.0, 'p': 0.7, 'f': 0.8235294069204152}, 'rouge-2': {'r': 0.8333333333333334, 'p': 0.5555555555555556, 'f': 0.6666666618666668}, 'rouge-l': {'r': 1.0, 'p': 0.7, 'f': 0.8235294069204152}}\n",
      "\n",
      "@-----------------------------\n",
      "알파카는 어떻게 이미지 캡처를 기반으로 브라우저 상호작용을 수행할 수 있나요?\n",
      "    ⇆ 알파카는 어떻게 스크롤 검색을 수행할 수 있나요?\n",
      "   {'rouge-1': {'r': 0.7142857142857143, 'p': 0.5, 'f': 0.5882352892733564}, 'rouge-2': {'r': 0.5, 'p': 0.3333333333333333, 'f': 0.39999999520000007}, 'rouge-l': {'r': 0.7142857142857143, 'p': 0.5, 'f': 0.5882352892733564}}\n",
      "\n",
      "알파카는 어떻게 이미지 캡처를 기반으로 브라우저 상호작용을 수행할 수 있나요?\n",
      "    ⇆ 알파카는 어떻게 파이썬 코드를 실행할 수 있나요?\n",
      "   {'rouge-1': {'r': 0.5714285714285714, 'p': 0.4, 'f': 0.470588230449827}, 'rouge-2': {'r': 0.3333333333333333, 'p': 0.2222222222222222, 'f': 0.2666666618666667}, 'rouge-l': {'r': 0.5714285714285714, 'p': 0.4, 'f': 0.470588230449827}}\n",
      "\n",
      "알파카는 어떻게 이미지 캡처를 기반으로 브라우저 상호작용을 수행할 수 있나요?\n",
      "    ⇆ 알파카는 어떻게 브라우저 상호작용을 수행할 수 있나요?\n",
      "   {'rouge-1': {'r': 1.0, 'p': 0.7, 'f': 0.8235294069204152}, 'rouge-2': {'r': 0.8333333333333334, 'p': 0.5555555555555556, 'f': 0.6666666618666668}, 'rouge-l': {'r': 1.0, 'p': 0.7, 'f': 0.8235294069204152}}\n",
      "\n",
      "@-----------------------------\n",
      "알파카는 어떻게 이미지 캡처를 기반으로 브라우저 상호작용을 수행할 수 있나요?\n",
      "    ⇆ 알파카는 어떻게 파이썬 코드를 실행하고 결과를 저장할 수 있나요?\n",
      "   {'rouge-1': {'r': 0.4444444444444444, 'p': 0.4, 'f': 0.42105262659279785}, 'rouge-2': {'r': 0.25, 'p': 0.2222222222222222, 'f': 0.23529411266435996}, 'rouge-l': {'r': 0.4444444444444444, 'p': 0.4, 'f': 0.42105262659279785}}\n",
      "\n",
      "알파카는 어떻게 이미지 캡처를 기반으로 브라우저 상호작용을 수행할 수 있나요?\n",
      "    ⇆ 알파카는 어떻게 브라우저 상호작용을 기반으로 파이썬 코드를 실행할 수 있나요?\n",
      "   {'rouge-1': {'r': 0.7, 'p': 0.7, 'f': 0.699999995}, 'rouge-2': {'r': 0.3333333333333333, 'p': 0.3333333333333333, 'f': 0.3333333283333334}, 'rouge-l': {'r': 0.6, 'p': 0.6, 'f': 0.5999999950000001}}\n",
      "\n",
      "알파카는 어떻게 이미지 캡처를 기반으로 브라우저 상호작용을 수행할 수 있나요?\n",
      "    ⇆ 알파카는 어떻게 다른 서버에서 데이터를 가져와 알파카에 저장할 수 있나요?\n",
      "   {'rouge-1': {'r': 0.4, 'p': 0.4, 'f': 0.3999999950000001}, 'rouge-2': {'r': 0.2222222222222222, 'p': 0.2222222222222222, 'f': 0.22222221722222232}, 'rouge-l': {'r': 0.4, 'p': 0.4, 'f': 0.3999999950000001}}\n",
      "\n",
      "알파카는 어떻게 파이썬 코드를 실행하고 결과를 저장할 수 있나요?\n",
      "    ⇆ 알파카는 어떤 기능을 제공하나요?\n",
      "   {'rouge-1': {'r': 0.25, 'p': 0.1111111111111111, 'f': 0.15384614958579892}, 'rouge-2': {'r': 0.0, 'p': 0.0, 'f': 0.0}, 'rouge-l': {'r': 0.25, 'p': 0.1111111111111111, 'f': 0.15384614958579892}}\n",
      "\n",
      "알파카는 어떻게 파이썬 코드를 실행하고 결과를 저장할 수 있나요?\n",
      "    ⇆ 알파카는 어떻게 사용할 수 있나요?\n",
      "   {'rouge-1': {'r': 0.8, 'p': 0.4444444444444444, 'f': 0.5714285668367348}, 'rouge-2': {'r': 0.5, 'p': 0.25, 'f': 0.33333332888888895}, 'rouge-l': {'r': 0.8, 'p': 0.4444444444444444, 'f': 0.5714285668367348}}\n",
      "\n",
      "알파카는 어떻게 파이썬 코드를 실행하고 결과를 저장할 수 있나요?\n",
      "    ⇆ 알파카는 어떻게 이미지 캡처를 수행할 수 있나요?\n",
      "   {'rouge-1': {'r': 0.5714285714285714, 'p': 0.4444444444444444, 'f': 0.4999999950781251}, 'rouge-2': {'r': 0.3333333333333333, 'p': 0.25, 'f': 0.2857142808163266}, 'rouge-l': {'r': 0.5714285714285714, 'p': 0.4444444444444444, 'f': 0.4999999950781251}}\n",
      "\n",
      "알파카는 어떻게 파이썬 코드를 실행하고 결과를 저장할 수 있나요?\n",
      "    ⇆ 알파카는 어떻게 스크롤 검색을 수행할 수 있나요?\n",
      "   {'rouge-1': {'r': 0.5714285714285714, 'p': 0.4444444444444444, 'f': 0.4999999950781251}, 'rouge-2': {'r': 0.3333333333333333, 'p': 0.25, 'f': 0.2857142808163266}, 'rouge-l': {'r': 0.5714285714285714, 'p': 0.4444444444444444, 'f': 0.4999999950781251}}\n",
      "\n",
      "알파카는 어떻게 파이썬 코드를 실행하고 결과를 저장할 수 있나요?\n",
      "    ⇆ 알파카는 어떻게 파이썬 코드를 실행할 수 있나요?\n",
      "   {'rouge-1': {'r': 0.8571428571428571, 'p': 0.6666666666666666, 'f': 0.7499999950781251}, 'rouge-2': {'r': 0.6666666666666666, 'p': 0.5, 'f': 0.5714285665306124}, 'rouge-l': {'r': 0.8571428571428571, 'p': 0.6666666666666666, 'f': 0.7499999950781251}}\n",
      "\n",
      "알파카는 어떻게 파이썬 코드를 실행하고 결과를 저장할 수 있나요?\n",
      "    ⇆ 알파카는 어떻게 브라우저 상호작용을 수행할 수 있나요?\n",
      "   {'rouge-1': {'r': 0.5714285714285714, 'p': 0.4444444444444444, 'f': 0.4999999950781251}, 'rouge-2': {'r': 0.3333333333333333, 'p': 0.25, 'f': 0.2857142808163266}, 'rouge-l': {'r': 0.5714285714285714, 'p': 0.4444444444444444, 'f': 0.4999999950781251}}\n",
      "\n",
      "알파카는 어떻게 파이썬 코드를 실행하고 결과를 저장할 수 있나요?\n",
      "    ⇆ 알파카는 어떻게 이미지 캡처를 기반으로 브라우저 상호작용을 수행할 수 있나요?\n",
      "   {'rouge-1': {'r': 0.4, 'p': 0.4444444444444444, 'f': 0.42105262659279785}, 'rouge-2': {'r': 0.2222222222222222, 'p': 0.25, 'f': 0.23529411266435996}, 'rouge-l': {'r': 0.4, 'p': 0.4444444444444444, 'f': 0.42105262659279785}}\n",
      "\n",
      "알파카는 어떻게 파이썬 코드를 실행하고 결과를 저장할 수 있나요?\n",
      "    ⇆ 알파카는 어떻게 파이썬 코드를 실행하고 결과를 저장할 수 있나요?\n",
      "   {'rouge-1': {'r': 1.0, 'p': 1.0, 'f': 0.999999995}, 'rouge-2': {'r': 1.0, 'p': 1.0, 'f': 0.999999995}, 'rouge-l': {'r': 1.0, 'p': 1.0, 'f': 0.999999995}}\n",
      "\n",
      "@-----------------------------\n",
      "알파카는 어떻게 파이썬 코드를 실행하고 결과를 저장할 수 있나요?\n",
      "    ⇆ 알파카는 어떻게 브라우저 상호작용을 기반으로 파이썬 코드를 실행할 수 있나요?\n",
      "   {'rouge-1': {'r': 0.6, 'p': 0.6666666666666666, 'f': 0.6315789423822715}, 'rouge-2': {'r': 0.3333333333333333, 'p': 0.375, 'f': 0.35294117148788934}, 'rouge-l': {'r': 0.6, 'p': 0.6666666666666666, 'f': 0.6315789423822715}}\n",
      "\n",
      "알파카는 어떻게 파이썬 코드를 실행하고 결과를 저장할 수 있나요?\n",
      "    ⇆ 알파카는 어떻게 다른 서버에서 데이터를 가져와 알파카에 저장할 수 있나요?\n",
      "   {'rouge-1': {'r': 0.5, 'p': 0.5555555555555556, 'f': 0.5263157844875347}, 'rouge-2': {'r': 0.3333333333333333, 'p': 0.375, 'f': 0.35294117148788934}, 'rouge-l': {'r': 0.5, 'p': 0.5555555555555556, 'f': 0.5263157844875347}}\n",
      "\n",
      "알파카는 어떻게 파이썬 코드를 실행하고 결과를 저장할 수 있나요?\n",
      "    ⇆ 알파카는 어떤 기능을 제공하나요?\n",
      "   {'rouge-1': {'r': 0.25, 'p': 0.1111111111111111, 'f': 0.15384614958579892}, 'rouge-2': {'r': 0.0, 'p': 0.0, 'f': 0.0}, 'rouge-l': {'r': 0.25, 'p': 0.1111111111111111, 'f': 0.15384614958579892}}\n",
      "\n",
      "알파카는 어떻게 파이썬 코드를 실행하고 결과를 저장할 수 있나요?\n",
      "    ⇆ 알파카는 어떻게 사용할 수 있나요?\n",
      "   {'rouge-1': {'r': 0.8, 'p': 0.4444444444444444, 'f': 0.5714285668367348}, 'rouge-2': {'r': 0.5, 'p': 0.25, 'f': 0.33333332888888895}, 'rouge-l': {'r': 0.8, 'p': 0.4444444444444444, 'f': 0.5714285668367348}}\n",
      "\n",
      "알파카는 어떻게 파이썬 코드를 실행하고 결과를 저장할 수 있나요?\n",
      "    ⇆ 알파카는 어떻게 이미지 캡처를 수행할 수 있나요?\n",
      "   {'rouge-1': {'r': 0.5714285714285714, 'p': 0.4444444444444444, 'f': 0.4999999950781251}, 'rouge-2': {'r': 0.3333333333333333, 'p': 0.25, 'f': 0.2857142808163266}, 'rouge-l': {'r': 0.5714285714285714, 'p': 0.4444444444444444, 'f': 0.4999999950781251}}\n",
      "\n",
      "알파카는 어떻게 파이썬 코드를 실행하고 결과를 저장할 수 있나요?\n",
      "    ⇆ 알파카는 어떻게 스크롤 검색을 수행할 수 있나요?\n",
      "   {'rouge-1': {'r': 0.5714285714285714, 'p': 0.4444444444444444, 'f': 0.4999999950781251}, 'rouge-2': {'r': 0.3333333333333333, 'p': 0.25, 'f': 0.2857142808163266}, 'rouge-l': {'r': 0.5714285714285714, 'p': 0.4444444444444444, 'f': 0.4999999950781251}}\n",
      "\n",
      "알파카는 어떻게 파이썬 코드를 실행하고 결과를 저장할 수 있나요?\n",
      "    ⇆ 알파카는 어떻게 파이썬 코드를 실행할 수 있나요?\n",
      "   {'rouge-1': {'r': 0.8571428571428571, 'p': 0.6666666666666666, 'f': 0.7499999950781251}, 'rouge-2': {'r': 0.6666666666666666, 'p': 0.5, 'f': 0.5714285665306124}, 'rouge-l': {'r': 0.8571428571428571, 'p': 0.6666666666666666, 'f': 0.7499999950781251}}\n",
      "\n",
      "알파카는 어떻게 파이썬 코드를 실행하고 결과를 저장할 수 있나요?\n",
      "    ⇆ 알파카는 어떻게 브라우저 상호작용을 수행할 수 있나요?\n",
      "   {'rouge-1': {'r': 0.5714285714285714, 'p': 0.4444444444444444, 'f': 0.4999999950781251}, 'rouge-2': {'r': 0.3333333333333333, 'p': 0.25, 'f': 0.2857142808163266}, 'rouge-l': {'r': 0.5714285714285714, 'p': 0.4444444444444444, 'f': 0.4999999950781251}}\n",
      "\n",
      "알파카는 어떻게 파이썬 코드를 실행하고 결과를 저장할 수 있나요?\n",
      "    ⇆ 알파카는 어떻게 이미지 캡처를 기반으로 브라우저 상호작용을 수행할 수 있나요?\n",
      "   {'rouge-1': {'r': 0.4, 'p': 0.4444444444444444, 'f': 0.42105262659279785}, 'rouge-2': {'r': 0.2222222222222222, 'p': 0.25, 'f': 0.23529411266435996}, 'rouge-l': {'r': 0.4, 'p': 0.4444444444444444, 'f': 0.42105262659279785}}\n",
      "\n",
      "알파카는 어떻게 파이썬 코드를 실행하고 결과를 저장할 수 있나요?\n",
      "    ⇆ 알파카는 어떻게 브라우저 상호작용을 기반으로 파이썬 코드를 실행할 수 있나요?\n",
      "   {'rouge-1': {'r': 0.6, 'p': 0.6666666666666666, 'f': 0.6315789423822715}, 'rouge-2': {'r': 0.3333333333333333, 'p': 0.375, 'f': 0.35294117148788934}, 'rouge-l': {'r': 0.6, 'p': 0.6666666666666666, 'f': 0.6315789423822715}}\n",
      "\n",
      "알파카는 어떻게 파이썬 코드를 실행하고 결과를 저장할 수 있나요?\n",
      "    ⇆ 알파카는 어떻게 다른 서버에서 데이터를 가져와 알파카에 저장할 수 있나요?\n",
      "   {'rouge-1': {'r': 0.5, 'p': 0.5555555555555556, 'f': 0.5263157844875347}, 'rouge-2': {'r': 0.3333333333333333, 'p': 0.375, 'f': 0.35294117148788934}, 'rouge-l': {'r': 0.5, 'p': 0.5555555555555556, 'f': 0.5263157844875347}}\n",
      "\n",
      "알파카는 어떻게 브라우저 상호작용을 기반으로 파이썬 코드를 실행할 수 있나요?\n",
      "    ⇆ 알파카는 어떤 기능을 제공하나요?\n",
      "   {'rouge-1': {'r': 0.25, 'p': 0.1, 'f': 0.14285713877551035}, 'rouge-2': {'r': 0.0, 'p': 0.0, 'f': 0.0}, 'rouge-l': {'r': 0.25, 'p': 0.1, 'f': 0.14285713877551035}}\n",
      "\n",
      "알파카는 어떻게 브라우저 상호작용을 기반으로 파이썬 코드를 실행할 수 있나요?\n",
      "    ⇆ 알파카는 어떻게 사용할 수 있나요?\n",
      "   {'rouge-1': {'r': 0.8, 'p': 0.4, 'f': 0.533333328888889}, 'rouge-2': {'r': 0.5, 'p': 0.2222222222222222, 'f': 0.3076923034319527}, 'rouge-l': {'r': 0.8, 'p': 0.4, 'f': 0.533333328888889}}\n",
      "\n",
      "알파카는 어떻게 브라우저 상호작용을 기반으로 파이썬 코드를 실행할 수 있나요?\n",
      "    ⇆ 알파카는 어떻게 이미지 캡처를 수행할 수 있나요?\n",
      "   {'rouge-1': {'r': 0.5714285714285714, 'p': 0.4, 'f': 0.470588230449827}, 'rouge-2': {'r': 0.3333333333333333, 'p': 0.2222222222222222, 'f': 0.2666666618666667}, 'rouge-l': {'r': 0.5714285714285714, 'p': 0.4, 'f': 0.470588230449827}}\n",
      "\n",
      "알파카는 어떻게 브라우저 상호작용을 기반으로 파이썬 코드를 실행할 수 있나요?\n",
      "    ⇆ 알파카는 어떻게 스크롤 검색을 수행할 수 있나요?\n",
      "   {'rouge-1': {'r': 0.5714285714285714, 'p': 0.4, 'f': 0.470588230449827}, 'rouge-2': {'r': 0.3333333333333333, 'p': 0.2222222222222222, 'f': 0.2666666618666667}, 'rouge-l': {'r': 0.5714285714285714, 'p': 0.4, 'f': 0.470588230449827}}\n",
      "\n",
      "알파카는 어떻게 브라우저 상호작용을 기반으로 파이썬 코드를 실행할 수 있나요?\n",
      "    ⇆ 알파카는 어떻게 파이썬 코드를 실행할 수 있나요?\n",
      "   {'rouge-1': {'r': 1.0, 'p': 0.7, 'f': 0.8235294069204152}, 'rouge-2': {'r': 0.8333333333333334, 'p': 0.5555555555555556, 'f': 0.6666666618666668}, 'rouge-l': {'r': 1.0, 'p': 0.7, 'f': 0.8235294069204152}}\n",
      "\n",
      "@-----------------------------\n",
      "알파카는 어떻게 브라우저 상호작용을 기반으로 파이썬 코드를 실행할 수 있나요?\n",
      "    ⇆ 알파카는 어떻게 브라우저 상호작용을 수행할 수 있나요?\n",
      "   {'rouge-1': {'r': 0.8571428571428571, 'p': 0.6, 'f': 0.7058823480968859}, 'rouge-2': {'r': 0.6666666666666666, 'p': 0.4444444444444444, 'f': 0.5333333285333334}, 'rouge-l': {'r': 0.8571428571428571, 'p': 0.6, 'f': 0.7058823480968859}}\n",
      "\n",
      "알파카는 어떻게 브라우저 상호작용을 기반으로 파이썬 코드를 실행할 수 있나요?\n",
      "    ⇆ 알파카는 어떻게 이미지 캡처를 기반으로 브라우저 상호작용을 수행할 수 있나요?\n",
      "   {'rouge-1': {'r': 0.7, 'p': 0.7, 'f': 0.699999995}, 'rouge-2': {'r': 0.3333333333333333, 'p': 0.3333333333333333, 'f': 0.3333333283333334}, 'rouge-l': {'r': 0.6, 'p': 0.6, 'f': 0.5999999950000001}}\n",
      "\n",
      "알파카는 어떻게 브라우저 상호작용을 기반으로 파이썬 코드를 실행할 수 있나요?\n",
      "    ⇆ 알파카는 어떻게 파이썬 코드를 실행하고 결과를 저장할 수 있나요?\n",
      "   {'rouge-1': {'r': 0.6666666666666666, 'p': 0.6, 'f': 0.6315789423822715}, 'rouge-2': {'r': 0.375, 'p': 0.3333333333333333, 'f': 0.35294117148788934}, 'rouge-l': {'r': 0.6666666666666666, 'p': 0.6, 'f': 0.6315789423822715}}\n",
      "\n",
      "알파카는 어떻게 브라우저 상호작용을 기반으로 파이썬 코드를 실행할 수 있나요?\n",
      "    ⇆ 알파카는 어떻게 브라우저 상호작용을 기반으로 파이썬 코드를 실행할 수 있나요?\n",
      "   {'rouge-1': {'r': 1.0, 'p': 1.0, 'f': 0.999999995}, 'rouge-2': {'r': 1.0, 'p': 1.0, 'f': 0.999999995}, 'rouge-l': {'r': 1.0, 'p': 1.0, 'f': 0.999999995}}\n",
      "\n",
      "@-----------------------------\n",
      "알파카는 어떻게 브라우저 상호작용을 기반으로 파이썬 코드를 실행할 수 있나요?\n",
      "    ⇆ 알파카는 어떻게 다른 서버에서 데이터를 가져와 알파카에 저장할 수 있나요?\n",
      "   {'rouge-1': {'r': 0.4, 'p': 0.4, 'f': 0.3999999950000001}, 'rouge-2': {'r': 0.2222222222222222, 'p': 0.2222222222222222, 'f': 0.22222221722222232}, 'rouge-l': {'r': 0.4, 'p': 0.4, 'f': 0.3999999950000001}}\n",
      "\n",
      "알파카는 어떻게 브라우저 상호작용을 기반으로 파이썬 코드를 실행할 수 있나요?\n",
      "    ⇆ 알파카는 어떤 기능을 제공하나요?\n",
      "   {'rouge-1': {'r': 0.25, 'p': 0.1, 'f': 0.14285713877551035}, 'rouge-2': {'r': 0.0, 'p': 0.0, 'f': 0.0}, 'rouge-l': {'r': 0.25, 'p': 0.1, 'f': 0.14285713877551035}}\n",
      "\n",
      "알파카는 어떻게 브라우저 상호작용을 기반으로 파이썬 코드를 실행할 수 있나요?\n",
      "    ⇆ 알파카는 어떻게 사용할 수 있나요?\n",
      "   {'rouge-1': {'r': 0.8, 'p': 0.4, 'f': 0.533333328888889}, 'rouge-2': {'r': 0.5, 'p': 0.2222222222222222, 'f': 0.3076923034319527}, 'rouge-l': {'r': 0.8, 'p': 0.4, 'f': 0.533333328888889}}\n",
      "\n",
      "알파카는 어떻게 브라우저 상호작용을 기반으로 파이썬 코드를 실행할 수 있나요?\n",
      "    ⇆ 알파카는 어떻게 이미지 캡처를 수행할 수 있나요?\n",
      "   {'rouge-1': {'r': 0.5714285714285714, 'p': 0.4, 'f': 0.470588230449827}, 'rouge-2': {'r': 0.3333333333333333, 'p': 0.2222222222222222, 'f': 0.2666666618666667}, 'rouge-l': {'r': 0.5714285714285714, 'p': 0.4, 'f': 0.470588230449827}}\n",
      "\n",
      "알파카는 어떻게 브라우저 상호작용을 기반으로 파이썬 코드를 실행할 수 있나요?\n",
      "    ⇆ 알파카는 어떻게 스크롤 검색을 수행할 수 있나요?\n",
      "   {'rouge-1': {'r': 0.5714285714285714, 'p': 0.4, 'f': 0.470588230449827}, 'rouge-2': {'r': 0.3333333333333333, 'p': 0.2222222222222222, 'f': 0.2666666618666667}, 'rouge-l': {'r': 0.5714285714285714, 'p': 0.4, 'f': 0.470588230449827}}\n",
      "\n",
      "알파카는 어떻게 브라우저 상호작용을 기반으로 파이썬 코드를 실행할 수 있나요?\n",
      "    ⇆ 알파카는 어떻게 파이썬 코드를 실행할 수 있나요?\n",
      "   {'rouge-1': {'r': 1.0, 'p': 0.7, 'f': 0.8235294069204152}, 'rouge-2': {'r': 0.8333333333333334, 'p': 0.5555555555555556, 'f': 0.6666666618666668}, 'rouge-l': {'r': 1.0, 'p': 0.7, 'f': 0.8235294069204152}}\n",
      "\n",
      "@-----------------------------\n",
      "알파카는 어떻게 브라우저 상호작용을 기반으로 파이썬 코드를 실행할 수 있나요?\n",
      "    ⇆ 알파카는 어떻게 브라우저 상호작용을 수행할 수 있나요?\n",
      "   {'rouge-1': {'r': 0.8571428571428571, 'p': 0.6, 'f': 0.7058823480968859}, 'rouge-2': {'r': 0.6666666666666666, 'p': 0.4444444444444444, 'f': 0.5333333285333334}, 'rouge-l': {'r': 0.8571428571428571, 'p': 0.6, 'f': 0.7058823480968859}}\n",
      "\n",
      "알파카는 어떻게 브라우저 상호작용을 기반으로 파이썬 코드를 실행할 수 있나요?\n",
      "    ⇆ 알파카는 어떻게 이미지 캡처를 기반으로 브라우저 상호작용을 수행할 수 있나요?\n",
      "   {'rouge-1': {'r': 0.7, 'p': 0.7, 'f': 0.699999995}, 'rouge-2': {'r': 0.3333333333333333, 'p': 0.3333333333333333, 'f': 0.3333333283333334}, 'rouge-l': {'r': 0.6, 'p': 0.6, 'f': 0.5999999950000001}}\n",
      "\n",
      "알파카는 어떻게 브라우저 상호작용을 기반으로 파이썬 코드를 실행할 수 있나요?\n",
      "    ⇆ 알파카는 어떻게 파이썬 코드를 실행하고 결과를 저장할 수 있나요?\n",
      "   {'rouge-1': {'r': 0.6666666666666666, 'p': 0.6, 'f': 0.6315789423822715}, 'rouge-2': {'r': 0.375, 'p': 0.3333333333333333, 'f': 0.35294117148788934}, 'rouge-l': {'r': 0.6666666666666666, 'p': 0.6, 'f': 0.6315789423822715}}\n",
      "\n",
      "알파카는 어떻게 브라우저 상호작용을 기반으로 파이썬 코드를 실행할 수 있나요?\n",
      "    ⇆ 알파카는 어떻게 다른 서버에서 데이터를 가져와 알파카에 저장할 수 있나요?\n",
      "   {'rouge-1': {'r': 0.4, 'p': 0.4, 'f': 0.3999999950000001}, 'rouge-2': {'r': 0.2222222222222222, 'p': 0.2222222222222222, 'f': 0.22222221722222232}, 'rouge-l': {'r': 0.4, 'p': 0.4, 'f': 0.3999999950000001}}\n",
      "\n",
      "알파카는 어떻게 다른 서버에서 데이터를 가져와 알파카에 저장할 수 있나요?\n",
      "    ⇆ 알파카는 어떤 기능을 제공하나요?\n",
      "   {'rouge-1': {'r': 0.25, 'p': 0.1, 'f': 0.14285713877551035}, 'rouge-2': {'r': 0.0, 'p': 0.0, 'f': 0.0}, 'rouge-l': {'r': 0.25, 'p': 0.1, 'f': 0.14285713877551035}}\n",
      "\n",
      "알파카는 어떻게 다른 서버에서 데이터를 가져와 알파카에 저장할 수 있나요?\n",
      "    ⇆ 알파카는 어떻게 사용할 수 있나요?\n",
      "   {'rouge-1': {'r': 0.8, 'p': 0.4, 'f': 0.533333328888889}, 'rouge-2': {'r': 0.5, 'p': 0.2222222222222222, 'f': 0.3076923034319527}, 'rouge-l': {'r': 0.8, 'p': 0.4, 'f': 0.533333328888889}}\n",
      "\n",
      "알파카는 어떻게 다른 서버에서 데이터를 가져와 알파카에 저장할 수 있나요?\n",
      "    ⇆ 알파카는 어떻게 이미지 캡처를 수행할 수 있나요?\n",
      "   {'rouge-1': {'r': 0.5714285714285714, 'p': 0.4, 'f': 0.470588230449827}, 'rouge-2': {'r': 0.3333333333333333, 'p': 0.2222222222222222, 'f': 0.2666666618666667}, 'rouge-l': {'r': 0.5714285714285714, 'p': 0.4, 'f': 0.470588230449827}}\n",
      "\n",
      "알파카는 어떻게 다른 서버에서 데이터를 가져와 알파카에 저장할 수 있나요?\n",
      "    ⇆ 알파카는 어떻게 스크롤 검색을 수행할 수 있나요?\n",
      "   {'rouge-1': {'r': 0.5714285714285714, 'p': 0.4, 'f': 0.470588230449827}, 'rouge-2': {'r': 0.3333333333333333, 'p': 0.2222222222222222, 'f': 0.2666666618666667}, 'rouge-l': {'r': 0.5714285714285714, 'p': 0.4, 'f': 0.470588230449827}}\n",
      "\n",
      "알파카는 어떻게 다른 서버에서 데이터를 가져와 알파카에 저장할 수 있나요?\n",
      "    ⇆ 알파카는 어떻게 파이썬 코드를 실행할 수 있나요?\n",
      "   {'rouge-1': {'r': 0.5714285714285714, 'p': 0.4, 'f': 0.470588230449827}, 'rouge-2': {'r': 0.3333333333333333, 'p': 0.2222222222222222, 'f': 0.2666666618666667}, 'rouge-l': {'r': 0.5714285714285714, 'p': 0.4, 'f': 0.470588230449827}}\n",
      "\n",
      "알파카는 어떻게 다른 서버에서 데이터를 가져와 알파카에 저장할 수 있나요?\n",
      "    ⇆ 알파카는 어떻게 브라우저 상호작용을 수행할 수 있나요?\n",
      "   {'rouge-1': {'r': 0.5714285714285714, 'p': 0.4, 'f': 0.470588230449827}, 'rouge-2': {'r': 0.3333333333333333, 'p': 0.2222222222222222, 'f': 0.2666666618666667}, 'rouge-l': {'r': 0.5714285714285714, 'p': 0.4, 'f': 0.470588230449827}}\n",
      "\n",
      "알파카는 어떻게 다른 서버에서 데이터를 가져와 알파카에 저장할 수 있나요?\n",
      "    ⇆ 알파카는 어떻게 이미지 캡처를 기반으로 브라우저 상호작용을 수행할 수 있나요?\n",
      "   {'rouge-1': {'r': 0.4, 'p': 0.4, 'f': 0.3999999950000001}, 'rouge-2': {'r': 0.2222222222222222, 'p': 0.2222222222222222, 'f': 0.22222221722222232}, 'rouge-l': {'r': 0.4, 'p': 0.4, 'f': 0.3999999950000001}}\n",
      "\n",
      "알파카는 어떻게 다른 서버에서 데이터를 가져와 알파카에 저장할 수 있나요?\n",
      "    ⇆ 알파카는 어떻게 파이썬 코드를 실행하고 결과를 저장할 수 있나요?\n",
      "   {'rouge-1': {'r': 0.5555555555555556, 'p': 0.5, 'f': 0.5263157844875347}, 'rouge-2': {'r': 0.375, 'p': 0.3333333333333333, 'f': 0.35294117148788934}, 'rouge-l': {'r': 0.5555555555555556, 'p': 0.5, 'f': 0.5263157844875347}}\n",
      "\n",
      "알파카는 어떻게 다른 서버에서 데이터를 가져와 알파카에 저장할 수 있나요?\n",
      "    ⇆ 알파카는 어떻게 브라우저 상호작용을 기반으로 파이썬 코드를 실행할 수 있나요?\n",
      "   {'rouge-1': {'r': 0.4, 'p': 0.4, 'f': 0.3999999950000001}, 'rouge-2': {'r': 0.2222222222222222, 'p': 0.2222222222222222, 'f': 0.22222221722222232}, 'rouge-l': {'r': 0.4, 'p': 0.4, 'f': 0.3999999950000001}}\n",
      "\n",
      "알파카는 어떻게 다른 서버에서 데이터를 가져와 알파카에 저장할 수 있나요?\n",
      "    ⇆ 알파카는 어떻게 다른 서버에서 데이터를 가져와 알파카에 저장할 수 있나요?\n",
      "   {'rouge-1': {'r': 1.0, 'p': 1.0, 'f': 0.999999995}, 'rouge-2': {'r': 1.0, 'p': 1.0, 'f': 0.999999995}, 'rouge-l': {'r': 1.0, 'p': 1.0, 'f': 0.999999995}}\n",
      "\n",
      "@-----------------------------\n",
      "알파카는 어떻게 다른 서버에서 데이터를 가져와 알파카에 저장할 수 있나요?\n",
      "    ⇆ 알파카는 어떤 기능을 제공하나요?\n",
      "   {'rouge-1': {'r': 0.25, 'p': 0.1, 'f': 0.14285713877551035}, 'rouge-2': {'r': 0.0, 'p': 0.0, 'f': 0.0}, 'rouge-l': {'r': 0.25, 'p': 0.1, 'f': 0.14285713877551035}}\n",
      "\n",
      "알파카는 어떻게 다른 서버에서 데이터를 가져와 알파카에 저장할 수 있나요?\n",
      "    ⇆ 알파카는 어떻게 사용할 수 있나요?\n",
      "   {'rouge-1': {'r': 0.8, 'p': 0.4, 'f': 0.533333328888889}, 'rouge-2': {'r': 0.5, 'p': 0.2222222222222222, 'f': 0.3076923034319527}, 'rouge-l': {'r': 0.8, 'p': 0.4, 'f': 0.533333328888889}}\n",
      "\n",
      "알파카는 어떻게 다른 서버에서 데이터를 가져와 알파카에 저장할 수 있나요?\n",
      "    ⇆ 알파카는 어떻게 이미지 캡처를 수행할 수 있나요?\n",
      "   {'rouge-1': {'r': 0.5714285714285714, 'p': 0.4, 'f': 0.470588230449827}, 'rouge-2': {'r': 0.3333333333333333, 'p': 0.2222222222222222, 'f': 0.2666666618666667}, 'rouge-l': {'r': 0.5714285714285714, 'p': 0.4, 'f': 0.470588230449827}}\n",
      "\n",
      "알파카는 어떻게 다른 서버에서 데이터를 가져와 알파카에 저장할 수 있나요?\n",
      "    ⇆ 알파카는 어떻게 스크롤 검색을 수행할 수 있나요?\n",
      "   {'rouge-1': {'r': 0.5714285714285714, 'p': 0.4, 'f': 0.470588230449827}, 'rouge-2': {'r': 0.3333333333333333, 'p': 0.2222222222222222, 'f': 0.2666666618666667}, 'rouge-l': {'r': 0.5714285714285714, 'p': 0.4, 'f': 0.470588230449827}}\n",
      "\n",
      "알파카는 어떻게 다른 서버에서 데이터를 가져와 알파카에 저장할 수 있나요?\n",
      "    ⇆ 알파카는 어떻게 파이썬 코드를 실행할 수 있나요?\n",
      "   {'rouge-1': {'r': 0.5714285714285714, 'p': 0.4, 'f': 0.470588230449827}, 'rouge-2': {'r': 0.3333333333333333, 'p': 0.2222222222222222, 'f': 0.2666666618666667}, 'rouge-l': {'r': 0.5714285714285714, 'p': 0.4, 'f': 0.470588230449827}}\n",
      "\n",
      "알파카는 어떻게 다른 서버에서 데이터를 가져와 알파카에 저장할 수 있나요?\n",
      "    ⇆ 알파카는 어떻게 브라우저 상호작용을 수행할 수 있나요?\n",
      "   {'rouge-1': {'r': 0.5714285714285714, 'p': 0.4, 'f': 0.470588230449827}, 'rouge-2': {'r': 0.3333333333333333, 'p': 0.2222222222222222, 'f': 0.2666666618666667}, 'rouge-l': {'r': 0.5714285714285714, 'p': 0.4, 'f': 0.470588230449827}}\n",
      "\n",
      "알파카는 어떻게 다른 서버에서 데이터를 가져와 알파카에 저장할 수 있나요?\n",
      "    ⇆ 알파카는 어떻게 이미지 캡처를 기반으로 브라우저 상호작용을 수행할 수 있나요?\n",
      "   {'rouge-1': {'r': 0.4, 'p': 0.4, 'f': 0.3999999950000001}, 'rouge-2': {'r': 0.2222222222222222, 'p': 0.2222222222222222, 'f': 0.22222221722222232}, 'rouge-l': {'r': 0.4, 'p': 0.4, 'f': 0.3999999950000001}}\n",
      "\n",
      "알파카는 어떻게 다른 서버에서 데이터를 가져와 알파카에 저장할 수 있나요?\n",
      "    ⇆ 알파카는 어떻게 파이썬 코드를 실행하고 결과를 저장할 수 있나요?\n",
      "   {'rouge-1': {'r': 0.5555555555555556, 'p': 0.5, 'f': 0.5263157844875347}, 'rouge-2': {'r': 0.375, 'p': 0.3333333333333333, 'f': 0.35294117148788934}, 'rouge-l': {'r': 0.5555555555555556, 'p': 0.5, 'f': 0.5263157844875347}}\n",
      "\n",
      "알파카는 어떻게 다른 서버에서 데이터를 가져와 알파카에 저장할 수 있나요?\n",
      "    ⇆ 알파카는 어떻게 브라우저 상호작용을 기반으로 파이썬 코드를 실행할 수 있나요?\n",
      "   {'rouge-1': {'r': 0.4, 'p': 0.4, 'f': 0.3999999950000001}, 'rouge-2': {'r': 0.2222222222222222, 'p': 0.2222222222222222, 'f': 0.22222221722222232}, 'rouge-l': {'r': 0.4, 'p': 0.4, 'f': 0.3999999950000001}}\n",
      "\n"
     ]
    },
    {
     "data": {
      "text/plain": [
       "['알파카는 어떤 기능을 제공하나요?\\n   ',\n",
       " '알파카는 어떻게 사용할 수 있나요?\\n   ',\n",
       " '알파카는 어떻게 이미지 캡처를 수행할 수 있나요?\\n   ',\n",
       " '알파카는 어떻게 스크롤 검색을 수행할 수 있나요?\\n   ',\n",
       " '알파카는 어떻게 파이썬 코드를 실행할 수 있나요?\\n   ',\n",
       " '알파카는 어떻게 브라우저 상호작용을 수행할 수 있나요?\\n   ',\n",
       " '알파카는 어떻게 이미지 캡처를 수행할 수 있나요?\\n   ',\n",
       " '알파카는 어떻게 브라우저 상호작용을 수행할 수 있나요?\\n   ',\n",
       " '알파카는 어떻게 이미지 캡처를 수행할 수 있나요?\\n   ',\n",
       " '알파카는 어떻게 브라우저 상호작용을 수행할 수 있나요?\\n   ',\n",
       " '알파카는 어떻게 이미지 캡처를 기반으로 브라우저 상호작용을 수행할 수 있나요?\\n   ',\n",
       " '알파카는 어떻게 파이썬 코드를 실행하고 결과를 저장할 수 있나요?\\n   ',\n",
       " '알파카는 어떻게 파이썬 코드를 실행할 수 있나요?\\n   ',\n",
       " '알파카는 어떻게 파이썬 코드를 실행할 수 있나요?\\n   ',\n",
       " '알파카는 어떻게 브라우저 상호작용을 기반으로 파이썬 코드를 실행할 수 있나요?\\n   ',\n",
       " '알파카는 어떻게 다른 서버에서 데이터를 가져와 알파카에 저장할 수 있나요?\\n   ',\n",
       " '알파카는 어떤 기능을 제공하나요?\\n   ',\n",
       " '알파카는 어떻게 사용할 수 있나요?\\n   ',\n",
       " '알파카는 어떻게 이미지 캡처를 수행할 수 있나요?\\n   ',\n",
       " '알파카는 어떻게 스크롤 검색을 수행할 수 있나요?\\n   ',\n",
       " '알파카는 어떻게 파이썬 코드를 실행할 수 있나요?\\n   ',\n",
       " '알파카는 어떻게 브라우저 상호작용을 수행할 수 있나요?\\n   ',\n",
       " '알파카는 어떻게 이미지 캡처를 수행할 수 있나요?\\n   ',\n",
       " '알파카는 어떻게 브라우저 상호작용을 수행할 수 있나요?\\n   ',\n",
       " '알파카는 어떻게 이미지 캡처를 기반으로 브라우저 상호작용을 수행할 수 있나요?\\n   ',\n",
       " '알파카는 어떻게 이미지 캡처를 수행할 수 있나요?\\n   ',\n",
       " '알파카는 어떻게 브라우저 상호작용을 수행할 수 있나요?\\n   ',\n",
       " '알파카는 어떻게 파이썬 코드를 실행하고 결과를 저장할 수 있나요?\\n   ',\n",
       " '알파카는 어떻게 파이썬 코드를 실행할 수 있나요?\\n   ',\n",
       " '알파카는 어떻게 브라우저 상호작용을 기반으로 파이썬 코드를 실행할 수 있나요?\\n   ',\n",
       " '알파카는 어떻게 파이썬 코드를 실행할 수 있나요?\\n   ',\n",
       " '알파카는 어떻게 다른 서버에서 데이터를 가져와 알파카에 저장할 수 있나요?\\n   ']"
      ]
     },
     "execution_count": 67,
     "metadata": {},
     "output_type": "execute_result"
    }
   ],
   "source": [
    "instruction = []\n",
    "for i in range(len(test_instructions)) : \n",
    "    for j in range(len(test_instructions)) :\n",
    "        if j == i :\n",
    "            continue\n",
    "        else :\n",
    "            test = rouge.get_scores(test_instructions[i], test_instructions[j], avg=True)\n",
    "            print(f'{test_instructions[i]} ⇆ {test_instructions[j]}{test}\\n')\n",
    "            \n",
    "            if test['rouge-1']['r'] > 0.9 :\n",
    "                print('@-----------------------------')\n",
    "                instruction.append(test_instructions[j])\n",
    "            else :\n",
    "                continue\n",
    "\n",
    "instruction"
   ]
  },
  {
   "cell_type": "code",
   "execution_count": 24,
   "id": "7c80f9ec-098c-460f-a743-0b2f452e9690",
   "metadata": {},
   "outputs": [
    {
     "ename": "NameError",
     "evalue": "name 'instruction' is not defined",
     "output_type": "error",
     "traceback": [
      "\u001b[0;31m---------------------------------------------------------------------------\u001b[0m",
      "\u001b[0;31mNameError\u001b[0m                                 Traceback (most recent call last)",
      "Cell \u001b[0;32mIn[24], line 1\u001b[0m\n\u001b[0;32m----> 1\u001b[0m instruction_set_list \u001b[38;5;241m=\u001b[39m \u001b[38;5;28mlist\u001b[39m(\u001b[38;5;28mset\u001b[39m(\u001b[43minstruction\u001b[49m))\n",
      "\u001b[0;31mNameError\u001b[0m: name 'instruction' is not defined"
     ]
    }
   ],
   "source": [
    "instruction_set_list = list(set(instruction))"
   ]
  },
  {
   "cell_type": "code",
   "execution_count": 23,
   "id": "fd1b673b-dd79-48d0-bb57-cc8ae654dd6a",
   "metadata": {},
   "outputs": [
    {
     "ename": "NameError",
     "evalue": "name 'instruction_set_list' is not defined",
     "output_type": "error",
     "traceback": [
      "\u001b[0;31m---------------------------------------------------------------------------\u001b[0m",
      "\u001b[0;31mNameError\u001b[0m                                 Traceback (most recent call last)",
      "Cell \u001b[0;32mIn[23], line 1\u001b[0m\n\u001b[0;32m----> 1\u001b[0m \u001b[43minstruction_set_list\u001b[49m\n",
      "\u001b[0;31mNameError\u001b[0m: name 'instruction_set_list' is not defined"
     ]
    }
   ],
   "source": [
    "instruction_set_list"
   ]
  },
  {
   "cell_type": "code",
   "execution_count": 88,
   "id": "71f0158d-ba70-43e5-87c1-d01f84151438",
   "metadata": {},
   "outputs": [],
   "source": [
    "copy_batch_inputs = batch_inputs"
   ]
  },
  {
   "cell_type": "code",
   "execution_count": 89,
   "id": "ec26c96b-42fa-464d-b5dd-6e3dd7eec5dd",
   "metadata": {},
   "outputs": [
    {
     "data": {
      "text/plain": [
       "1"
      ]
     },
     "execution_count": 89,
     "metadata": {},
     "output_type": "execute_result"
    }
   ],
   "source": [
    "len(copy_batch_inputs)"
   ]
  },
  {
   "cell_type": "code",
   "execution_count": 85,
   "id": "c53309ef-c14c-4c78-b2c2-befe854d0559",
   "metadata": {},
   "outputs": [
    {
     "name": "stdout",
     "output_type": "stream",
     "text": [
      "\n",
      "[{'instruction': '알파카에 저장하는 파이썬 코드를 실행하는 방법은 무엇인가요?\\n', 'input': '', 'output': '알파카에 저장하는 파이썬 코드를 실행하기 위해서는 먼저 알파카에 파이썬 코드를 저장해야 합니다. 그 후, 알파카에서 파이썬 코드를 실행하기 위해서는 알파카 내에서 파이썬 코드를 실행하는 명령어를 사용해야 합니다. 알파카에서 파이썬 코드를 실행하는 방법은 다양하지만, 일반적으로는 명령어 창에서 파이썬 코드를 입력하고 실행하는 방법이 있습니다. 이때, 파이썬 코드를 실행하기 위해서는 알파카에서 사용할 수 있는 파이썬 인터프리터를 사용해야 합니다. 알파카에서 파이썬 인터프리터를 사용하기 위해서는 알파카 내에서 파이썬 인터프리터를 설치해야 합니다. 설치한 파이썬 인터프리터를 사용하여 파이썬 코드를 실행하면 알파카에서 파이썬 코드를 실행할 수 있습니다.'}]\n"
     ]
    }
   ],
   "source": [
    "for i in instruction_set_list :\n",
    "    for j in copy_batch_inputs :\n",
    "        if j['instruction'] == i :\n",
    "            copy_batch_inputs.remove(j)\n",
    "            # copy_batch_inputs.pop(f'{i}')\n",
    "\n",
    "print()\n",
    "print(copy_batch_inputs)"
   ]
  },
  {
   "cell_type": "code",
   "execution_count": 90,
   "id": "90bde7a1-2b1f-416b-8d61-186695cba1a2",
   "metadata": {},
   "outputs": [
    {
     "data": {
      "text/plain": [
       "[{'instruction': '알파카에 저장하는 파이썬 코드를 실행하는 방법은 무엇인가요?\\n',\n",
       "  'input': '',\n",
       "  'output': '알파카에 저장하는 파이썬 코드를 실행하기 위해서는 먼저 알파카에 파이썬 코드를 저장해야 합니다. 그 후, 알파카에서 파이썬 코드를 실행하기 위해서는 알파카 내에서 파이썬 코드를 실행하는 명령어를 사용해야 합니다. 알파카에서 파이썬 코드를 실행하는 방법은 다양하지만, 일반적으로는 명령어 창에서 파이썬 코드를 입력하고 실행하는 방법이 있습니다. 이때, 파이썬 코드를 실행하기 위해서는 알파카에서 사용할 수 있는 파이썬 인터프리터를 사용해야 합니다. 알파카에서 파이썬 인터프리터를 사용하기 위해서는 알파카 내에서 파이썬 인터프리터를 설치해야 합니다. 설치한 파이썬 인터프리터를 사용하여 파이썬 코드를 실행하면 알파카에서 파이썬 코드를 실행할 수 있습니다.'}]"
      ]
     },
     "execution_count": 90,
     "metadata": {},
     "output_type": "execute_result"
    }
   ],
   "source": [
    "copy_batch_inputs"
   ]
  },
  {
   "cell_type": "code",
   "execution_count": null,
   "id": "4541aeab-6088-4021-a0f1-38515814faee",
   "metadata": {},
   "outputs": [],
   "source": []
  },
  {
   "cell_type": "code",
   "execution_count": null,
   "id": "06b912c7-353d-40d0-b274-4fcc26e3a06d",
   "metadata": {},
   "outputs": [],
   "source": []
  },
  {
   "cell_type": "code",
   "execution_count": 21,
   "id": "17da88e6-71ab-44c8-b843-1cb90c1f1fcb",
   "metadata": {},
   "outputs": [
    {
     "name": "stderr",
     "output_type": "stream",
     "text": [
      "huggingface/tokenizers: The current process just got forked, after parallelism has already been used. Disabling parallelism to avoid deadlocks...\n",
      "To disable this warning, you can either:\n",
      "\t- Avoid using `tokenizers` before the fork if possible\n",
      "\t- Explicitly set the environment variable TOKENIZERS_PARALLELISM=(true | false)\n"
     ]
    },
    {
     "name": "stdout",
     "output_type": "stream",
     "text": [
      "Collecting Rouge\n",
      "  Downloading rouge-1.0.1-py3-none-any.whl (13 kB)\n",
      "Requirement already satisfied: six in /usr/lib/python3/dist-packages (from Rouge) (1.16.0)\n",
      "Installing collected packages: Rouge\n",
      "Successfully installed Rouge-1.0.1\n",
      "\u001b[33mWARNING: Running pip as the 'root' user can result in broken permissions and conflicting behaviour with the system package manager. It is recommended to use a virtual environment instead: https://pip.pypa.io/warnings/venv\u001b[0m\u001b[33m\n",
      "\u001b[0m\n",
      "\u001b[1m[\u001b[0m\u001b[34;49mnotice\u001b[0m\u001b[1;39;49m]\u001b[0m\u001b[39;49m A new release of pip is available: \u001b[0m\u001b[31;49m23.3.1\u001b[0m\u001b[39;49m -> \u001b[0m\u001b[32;49m23.3.2\u001b[0m\n",
      "\u001b[1m[\u001b[0m\u001b[34;49mnotice\u001b[0m\u001b[1;39;49m]\u001b[0m\u001b[39;49m To update, run: \u001b[0m\u001b[32;49mpython -m pip install --upgrade pip\u001b[0m\n"
     ]
    }
   ],
   "source": [
    "!pip install Rouge"
   ]
  },
  {
   "cell_type": "code",
   "execution_count": 38,
   "id": "8ad91d46-fc01-49e5-bff9-992c1b9d4b3c",
   "metadata": {},
   "outputs": [
    {
     "name": "stdout",
     "output_type": "stream",
     "text": [
      "먼저 어떤 종류의 데이터를 사용하여 알파카 명령어를 학습시킬까요?\n",
      " ⇆ RPACA 설치 가이드 : \n",
      "{'rouge-1': {'r': 0.0, 'p': 0.0, 'f': 0.0}, 'rouge-2': {'r': 0.0, 'p': 0.0, 'f': 0.0}, 'rouge-l': {'r': 0.0, 'p': 0.0, 'f': 0.0}}\n",
      "\n",
      "먼저 어떤 종류의 데이터를 사용하여 알파카 명령어를 학습시킬까요?\n",
      " ⇆ 알파카 명령어를 어떻게 사용해야 하나요?\n",
      " : \n",
      "{'rouge-1': {'r': 0.4, 'p': 0.25, 'f': 0.3076923029585799}, 'rouge-2': {'r': 0.25, 'p': 0.14285714285714285, 'f': 0.18181817719008275}, 'rouge-l': {'r': 0.4, 'p': 0.25, 'f': 0.3076923029585799}}\n",
      "\n",
      "먼저 어떤 종류의 데이터를 사용하여 알파카 명령어를 학습시킬까요?\n",
      " ⇆ Vriable 사용법 : \n",
      "{'rouge-1': {'r': 0.0, 'p': 0.0, 'f': 0.0}, 'rouge-2': {'r': 0.0, 'p': 0.0, 'f': 0.0}, 'rouge-l': {'r': 0.0, 'p': 0.0, 'f': 0.0}}\n",
      "\n",
      "먼저 어떤 종류의 데이터를 사용하여 알파카 명령어를 학습시킬까요?\n",
      " ⇆ Vriable 사용법 : \n",
      "{'rouge-1': {'r': 0.0, 'p': 0.0, 'f': 0.0}, 'rouge-2': {'r': 0.0, 'p': 0.0, 'f': 0.0}, 'rouge-l': {'r': 0.0, 'p': 0.0, 'f': 0.0}}\n",
      "\n",
      "RPACA 설치 가이드 ⇆ 먼저 어떤 종류의 데이터를 사용하여 알파카 명령어를 학습시킬까요?\n",
      " : \n",
      "{'rouge-1': {'r': 0.0, 'p': 0.0, 'f': 0.0}, 'rouge-2': {'r': 0.0, 'p': 0.0, 'f': 0.0}, 'rouge-l': {'r': 0.0, 'p': 0.0, 'f': 0.0}}\n",
      "\n",
      "RPACA 설치 가이드 ⇆ 알파카 명령어를 어떻게 사용해야 하나요?\n",
      " : \n",
      "{'rouge-1': {'r': 0.0, 'p': 0.0, 'f': 0.0}, 'rouge-2': {'r': 0.0, 'p': 0.0, 'f': 0.0}, 'rouge-l': {'r': 0.0, 'p': 0.0, 'f': 0.0}}\n",
      "\n",
      "RPACA 설치 가이드 ⇆ Vriable 사용법 : \n",
      "{'rouge-1': {'r': 0.0, 'p': 0.0, 'f': 0.0}, 'rouge-2': {'r': 0.0, 'p': 0.0, 'f': 0.0}, 'rouge-l': {'r': 0.0, 'p': 0.0, 'f': 0.0}}\n",
      "\n",
      "RPACA 설치 가이드 ⇆ Vriable 사용법 : \n",
      "{'rouge-1': {'r': 0.0, 'p': 0.0, 'f': 0.0}, 'rouge-2': {'r': 0.0, 'p': 0.0, 'f': 0.0}, 'rouge-l': {'r': 0.0, 'p': 0.0, 'f': 0.0}}\n",
      "\n",
      "알파카 명령어를 어떻게 사용해야 하나요?\n",
      " ⇆ 먼저 어떤 종류의 데이터를 사용하여 알파카 명령어를 학습시킬까요?\n",
      " : \n",
      "{'rouge-1': {'r': 0.25, 'p': 0.4, 'f': 0.3076923029585799}, 'rouge-2': {'r': 0.14285714285714285, 'p': 0.25, 'f': 0.18181817719008275}, 'rouge-l': {'r': 0.25, 'p': 0.4, 'f': 0.3076923029585799}}\n",
      "\n",
      "알파카 명령어를 어떻게 사용해야 하나요?\n",
      " ⇆ RPACA 설치 가이드 : \n",
      "{'rouge-1': {'r': 0.0, 'p': 0.0, 'f': 0.0}, 'rouge-2': {'r': 0.0, 'p': 0.0, 'f': 0.0}, 'rouge-l': {'r': 0.0, 'p': 0.0, 'f': 0.0}}\n",
      "\n",
      "알파카 명령어를 어떻게 사용해야 하나요?\n",
      " ⇆ Vriable 사용법 : \n",
      "{'rouge-1': {'r': 0.0, 'p': 0.0, 'f': 0.0}, 'rouge-2': {'r': 0.0, 'p': 0.0, 'f': 0.0}, 'rouge-l': {'r': 0.0, 'p': 0.0, 'f': 0.0}}\n",
      "\n",
      "알파카 명령어를 어떻게 사용해야 하나요?\n",
      " ⇆ Vriable 사용법 : \n",
      "{'rouge-1': {'r': 0.0, 'p': 0.0, 'f': 0.0}, 'rouge-2': {'r': 0.0, 'p': 0.0, 'f': 0.0}, 'rouge-l': {'r': 0.0, 'p': 0.0, 'f': 0.0}}\n",
      "\n",
      "Vriable 사용법 ⇆ 먼저 어떤 종류의 데이터를 사용하여 알파카 명령어를 학습시킬까요?\n",
      " : \n",
      "{'rouge-1': {'r': 0.0, 'p': 0.0, 'f': 0.0}, 'rouge-2': {'r': 0.0, 'p': 0.0, 'f': 0.0}, 'rouge-l': {'r': 0.0, 'p': 0.0, 'f': 0.0}}\n",
      "\n",
      "Vriable 사용법 ⇆ RPACA 설치 가이드 : \n",
      "{'rouge-1': {'r': 0.0, 'p': 0.0, 'f': 0.0}, 'rouge-2': {'r': 0.0, 'p': 0.0, 'f': 0.0}, 'rouge-l': {'r': 0.0, 'p': 0.0, 'f': 0.0}}\n",
      "\n",
      "Vriable 사용법 ⇆ 알파카 명령어를 어떻게 사용해야 하나요?\n",
      " : \n",
      "{'rouge-1': {'r': 0.0, 'p': 0.0, 'f': 0.0}, 'rouge-2': {'r': 0.0, 'p': 0.0, 'f': 0.0}, 'rouge-l': {'r': 0.0, 'p': 0.0, 'f': 0.0}}\n",
      "\n",
      "Vriable 사용법 ⇆ Vriable 사용법 : \n",
      "{'rouge-1': {'r': 1.0, 'p': 1.0, 'f': 0.999999995}, 'rouge-2': {'r': 1.0, 'p': 1.0, 'f': 0.999999995}, 'rouge-l': {'r': 1.0, 'p': 1.0, 'f': 0.999999995}}\n",
      "\n",
      "----------------------\n",
      "Vriable 사용법 ⇆ 먼저 어떤 종류의 데이터를 사용하여 알파카 명령어를 학습시킬까요?\n",
      " : \n",
      "{'rouge-1': {'r': 0.0, 'p': 0.0, 'f': 0.0}, 'rouge-2': {'r': 0.0, 'p': 0.0, 'f': 0.0}, 'rouge-l': {'r': 0.0, 'p': 0.0, 'f': 0.0}}\n",
      "\n",
      "Vriable 사용법 ⇆ RPACA 설치 가이드 : \n",
      "{'rouge-1': {'r': 0.0, 'p': 0.0, 'f': 0.0}, 'rouge-2': {'r': 0.0, 'p': 0.0, 'f': 0.0}, 'rouge-l': {'r': 0.0, 'p': 0.0, 'f': 0.0}}\n",
      "\n",
      "Vriable 사용법 ⇆ 알파카 명령어를 어떻게 사용해야 하나요?\n",
      " : \n",
      "{'rouge-1': {'r': 0.0, 'p': 0.0, 'f': 0.0}, 'rouge-2': {'r': 0.0, 'p': 0.0, 'f': 0.0}, 'rouge-l': {'r': 0.0, 'p': 0.0, 'f': 0.0}}\n",
      "\n",
      "Vriable 사용법 ⇆ Vriable 사용법 : \n",
      "{'rouge-1': {'r': 1.0, 'p': 1.0, 'f': 0.999999995}, 'rouge-2': {'r': 1.0, 'p': 1.0, 'f': 0.999999995}, 'rouge-l': {'r': 1.0, 'p': 1.0, 'f': 0.999999995}}\n",
      "\n",
      "----------------------\n"
     ]
    }
   ],
   "source": [
    "from rouge import Rouge\n",
    "\n",
    "model_out = ['먼저 어떤 종류의 데이터를 사용하여 알파카 명령어를 학습시킬까요?\\n',\n",
    "            'RPACA 설치 가이드', '알파카 명령어를 어떻게 사용해야 하나요?\\n', 'Vriable 사용법', 'Vriable 사용법']\n",
    "rouge = Rouge()\n",
    "\n",
    "for i in range(len(model_out)) : \n",
    "    for j in range(len(model_out)) :\n",
    "        if j == i :\n",
    "            continue\n",
    "        else :\n",
    "            test = rouge.get_scores(model_out[i], model_out[j], avg=True)\n",
    "            print(f'{model_out[i]} ⇆ {model_out[j]} : \\n{test}\\n')\n",
    "            \n",
    "            if test['rouge-1']['r'] >= 0.9 :\n",
    "                print('----------------------')\n",
    "            else :\n",
    "                continue"
   ]
  },
  {
   "cell_type": "code",
   "execution_count": null,
   "id": "f46850e9-2b2e-428e-be62-7ab02d4e79a0",
   "metadata": {
    "jupyter": {
     "source_hidden": true
    }
   },
   "outputs": [],
   "source": [
    "%%time\n",
    "from transformers import TextStreamer\n",
    "from threading import Thread\n",
    "from PyPDF2 import PdfReader\n",
    "\n",
    "\n",
    "# def read(file_path) :\n",
    "#     reader = PdfReader(file_path)\n",
    "#     pages = reader.pages\n",
    "#     system_prompt = \"\"\n",
    "#     for page in pages:\n",
    "#         sub = page.extract_text()\n",
    "#         system_prompt += sub\n",
    "\n",
    "# 문서읽기\n",
    "def read(file_path) : \n",
    "    with open(file_path, \"r\") as f:\n",
    "    while True:\n",
    "        line = f.readline()\n",
    "        if not line:\n",
    "            break\n",
    "        system_prompt += line.strip()\n",
    "\n",
    "    return system_prompt\n",
    "\n",
    "# QnA 뽑기\n",
    "def stream(user_prompt, system_prompt):\n",
    "    runtimeFlag = \"cuda:0\"\n",
    "    system_prompt = f\"\"\"{system_prompt}\"\"\"\n",
    "    B_INST, E_INST = \"[INST]\", \"[/INST]\"\n",
    "    prompt = f\"{system_prompt}{B_INST}{user_prompt.strip()}\\n{E_INST}\"\n",
    "    inputs = tokenizer([prompt], return_tensors=\"pt\").to(runtimeFlag)\n",
    "    \n",
    "    # 1\n",
    "    streamer = TextStreamer(tokenizer, skip_prompt=True, skip_special_tokens=True)\n",
    "    output = model.generate(**inputs, streamer=streamer, max_new_tokens=4096, use_cache=True)\n",
    "    return_output = tokenizer.batch_decode(output, skip_special_tokens=True)[0]\n",
    "\n",
    "    return return_output\n",
    "\n",
    "\n",
    "\n",
    "# 문서작성? or json? or csv? 뭐가 더 다루기 편할까\n",
    "# 일단 json으로?\n",
    "def qna_json() :\n",
    "    \n",
    "\n",
    "# 반복\n",
    "def iter() :\n",
    "    try :\n",
    "        while(True):\n",
    "            \n",
    "    except Exception as e :\n",
    "        print(\"main Exception: {0}\".format(e))\n",
    "\n",
    "\n",
    "\n",
    "\n",
    "\n",
    "\n",
    "\n",
    "\n",
    "\n",
    "#start(파일명, prompt 개수)\n",
    "def start(file_path, cnt, ):\n",
    "    read()\n",
    "    try:\n",
    "        while(True):\n",
    "\n",
    "    except Exception as e:\n",
    "        print(\"main Exception: {0}\".format(e))\n",
    "\n",
    "\n",
    "\n",
    "# if __name__==\"__main__\":\n",
    "#     main()"
   ]
  }
 ],
 "metadata": {
  "kernelspec": {
   "display_name": "Python 3 (ipykernel)",
   "language": "python",
   "name": "python3"
  },
  "language_info": {
   "codemirror_mode": {
    "name": "ipython",
    "version": 3
   },
   "file_extension": ".py",
   "mimetype": "text/x-python",
   "name": "python",
   "nbconvert_exporter": "python",
   "pygments_lexer": "ipython3",
   "version": "3.10.12"
  }
 },
 "nbformat": 4,
 "nbformat_minor": 5
}
